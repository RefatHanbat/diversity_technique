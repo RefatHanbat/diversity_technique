{
 "cells": [
  {
   "cell_type": "code",
   "execution_count": 152,
   "id": "11f92250",
   "metadata": {},
   "outputs": [],
   "source": [
    "import numpy as np\n",
    "import matplotlib.pyplot as plt"
   ]
  },
  {
   "cell_type": "code",
   "execution_count": 153,
   "id": "b90452da",
   "metadata": {},
   "outputs": [],
   "source": [
    "N  = 1000000"
   ]
  },
  {
   "cell_type": "code",
   "execution_count": 154,
   "id": "708057f5",
   "metadata": {},
   "outputs": [],
   "source": [
    "ip = np.random.randn(N) > 0.5"
   ]
  },
  {
   "cell_type": "code",
   "execution_count": 155,
   "id": "216406bd",
   "metadata": {},
   "outputs": [],
   "source": [
    "s  = 2 * ip - 1"
   ]
  },
  {
   "cell_type": "code",
   "execution_count": 156,
   "id": "a6349922",
   "metadata": {},
   "outputs": [],
   "source": [
    "eb_no_db = np.arange(0,25)\n",
    "eb_no_db = np.array(eb_no_db)"
   ]
  },
  {
   "cell_type": "code",
   "execution_count": 157,
   "id": "b42c0c08",
   "metadata": {},
   "outputs": [],
   "source": [
    "total_error = np.zeros(len(eb_no_db))"
   ]
  },
  {
   "cell_type": "code",
   "execution_count": 158,
   "id": "37e641c1",
   "metadata": {},
   "outputs": [],
   "source": [
    "# h0 = (1/np.sqrt(2)) * (np.random.randn(N) +1j *  np.random.randn(N))\n",
    "    \n",
    "# h1 = (1/np.sqrt(2)) * (np.random.randn(N) + 1j * np.random.randn(N))\n",
    "    \n",
    "# n0 = (1/np.sqrt(2)) * (np.random.randn(N) + 1j * np.random.randn(N))\n",
    "    \n",
    "# n1 = (1/np.sqrt(2)) * (np.random.randn(N) + 1j * np.random.randn(N))"
   ]
  },
  {
   "cell_type": "code",
   "execution_count": 159,
   "id": "c8270404",
   "metadata": {},
   "outputs": [],
   "source": [
    "for ii in range(len(eb_no_db)):\n",
    "    \n",
    "    nErr = 0\n",
    "    \n",
    "    h0 = (1/np.sqrt(2)) * (np.random.randn(N) +1j *  np.random.randn(N))\n",
    "    \n",
    "    h1 = (1/np.sqrt(2)) * (np.random.randn(N) + 1j * np.random.randn(N))\n",
    "    \n",
    "    n0 = (1/np.sqrt(2)) * (np.random.randn(N) + 1j * np.random.randn(N))\n",
    "    \n",
    "    n1 = (1/np.sqrt(2)) * (np.random.randn(N) + 1j * np.random.randn(N))\n",
    "    \n",
    "    r0 = h0 * s + 10 ** (-eb_no_db[ii] / 20) * n0\n",
    "    \n",
    "    r1 = h1 * s + 10 ** (-eb_no_db[ii] / 20) * n1\n",
    "    \n",
    "    s_tilde = np.conj(h0) * r0 + np.conj(h1) * r1\n",
    "    \n",
    "    #normalization\n",
    "    \n",
    "    s_tilde = s_tilde / (np.abs(h0)**2 + np.abs(h1)**2)\n",
    "    \n",
    "    #bpsk demodulation\n",
    "    \n",
    "    received_bits_s = np.real(s_tilde) >= 0\n",
    "    \n",
    "    nErr = np.sum(received_bits_s != ip)\n",
    "    \n",
    "    total_error[ii] = nErr\n",
    "         \n",
    "        \n",
    "\n",
    "        \n",
    "\n",
    "  "
   ]
  },
  {
   "cell_type": "code",
   "execution_count": 160,
   "id": "d1253d04",
   "metadata": {},
   "outputs": [],
   "source": [
    "ber = total_error / N"
   ]
  },
  {
   "cell_type": "code",
   "execution_count": 161,
   "id": "132c69b5",
   "metadata": {},
   "outputs": [
    {
     "name": "stdout",
     "output_type": "stream",
     "text": [
      "[5.7751e-02 4.3931e-02 3.2616e-02 2.3700e-02 1.6905e-02 1.1847e-02\n",
      " 8.1830e-03 5.5130e-03 3.7200e-03 2.4630e-03 1.6100e-03 1.0470e-03\n",
      " 6.7600e-04 4.5800e-04 2.8900e-04 1.8800e-04 1.0900e-04 5.8000e-05\n",
      " 2.6000e-05 1.3000e-05 1.0000e-05 7.0000e-06 6.0000e-06 3.0000e-06\n",
      " 1.0000e-06]\n"
     ]
    }
   ],
   "source": [
    "print(ber)"
   ]
  },
  {
   "cell_type": "code",
   "execution_count": 162,
   "id": "e15019d1",
   "metadata": {},
   "outputs": [
    {
     "data": {
      "image/png": "[encoded data removed]",
      "text/plain": [
       "<Figure size 432x288 with 1 Axes>"
      ]
     },
     "metadata": {
      "needs_background": "light"
     },
     "output_type": "display_data"
    }
   ],
   "source": [
    "plt.figure()\n",
    "plt.semilogy(eb_no_db, ber, 'ks-', linewidth=2)\n",
    "plt.xlabel('SNR (dB)')\n",
    "plt.ylabel('Bit Error Rate (BER)')\n",
    "plt.title('BER vs. SNR in BPSK modulation with Alamouti STBC')\n",
    "plt.grid(True)\n",
    "plt.show()"
   ]
  },
  {
   "cell_type": "code",
   "execution_count": 235,
   "id": "ed06d895",
   "metadata": {},
   "outputs": [],
   "source": [
    "N = 1000000"
   ]
  },
  {
   "cell_type": "code",
   "execution_count": 236,
   "id": "9e28f375",
   "metadata": {},
   "outputs": [],
   "source": [
    "ip = np.random.randn(N) > 0.5"
   ]
  },
  {
   "cell_type": "code",
   "execution_count": 237,
   "id": "7763395c",
   "metadata": {},
   "outputs": [],
   "source": [
    "s  = 2 * ip - 1\n",
    "s = np.array(s)"
   ]
  },
  {
   "cell_type": "code",
   "execution_count": 238,
   "id": "620cced5",
   "metadata": {},
   "outputs": [],
   "source": [
    "eb_no_db = np.arange(0,25)\n",
    "eb_no_db = np.array(eb_no_db)"
   ]
  },
  {
   "cell_type": "code",
   "execution_count": 239,
   "id": "f2696885",
   "metadata": {},
   "outputs": [],
   "source": [
    "total_error = np.zeros(len(eb_no_db))"
   ]
  },
  {
   "cell_type": "code",
   "execution_count": 240,
   "id": "816dcc65",
   "metadata": {},
   "outputs": [],
   "source": [
    "# h0 = (1/np.sqrt(2)) * (np.random.randn(N) + 1j * (np.random.randn(N)))"
   ]
  },
  {
   "cell_type": "code",
   "execution_count": 241,
   "id": "0631a7a8",
   "metadata": {},
   "outputs": [],
   "source": [
    "# h1 = (1/np.sqrt(2)) * (np.random.randn(N) + 1j * (np.random.randn(N)))"
   ]
  },
  {
   "cell_type": "code",
   "execution_count": 242,
   "id": "3d3c3b9d",
   "metadata": {},
   "outputs": [],
   "source": [
    "# h2 = (1/np.sqrt(2)) * (np.random.randn(N) + 1j * (np.random.randn(N)))"
   ]
  },
  {
   "cell_type": "code",
   "execution_count": 243,
   "id": "25b9e6f1",
   "metadata": {},
   "outputs": [],
   "source": [
    "# h3 = (1/np.sqrt(2)) * (np.random.randn(N) + 1j * (np.random.randn(N)))"
   ]
  },
  {
   "cell_type": "code",
   "execution_count": 244,
   "id": "4663ea40",
   "metadata": {},
   "outputs": [],
   "source": [
    "# n0 = (1/np.sqrt(2)) * (np.random.randn(N) + 1j * (np.random.randn(N)))"
   ]
  },
  {
   "cell_type": "code",
   "execution_count": 245,
   "id": "384c8fcb",
   "metadata": {},
   "outputs": [],
   "source": [
    "# n1 = (1/np.sqrt(2)) * (np.random.randn(N) + 1j * (np.random.randn(N)))"
   ]
  },
  {
   "cell_type": "code",
   "execution_count": 246,
   "id": "73f5047f",
   "metadata": {},
   "outputs": [],
   "source": [
    "# n2 = (1/np.sqrt(2)) * (np.random.randn(N) + 1j * (np.random.randn(N)))"
   ]
  },
  {
   "cell_type": "code",
   "execution_count": 247,
   "id": "f6412501",
   "metadata": {},
   "outputs": [],
   "source": [
    "# n3 = (1/np.sqrt(2)) * (np.random.randn(N) + 1j * (np.random.randn(N)))"
   ]
  },
  {
   "cell_type": "code",
   "execution_count": 248,
   "id": "a08c3dc5",
   "metadata": {},
   "outputs": [],
   "source": [
    "for ii in range(len(eb_no_db)):\n",
    "    \n",
    "    h0 = (1/np.sqrt(2)) * (np.random.randn(N) + 1j * (np.random.randn(N)))\n",
    "    \n",
    "    h1 = (1/np.sqrt(2)) * (np.random.randn(N) + 1j * (np.random.randn(N)))\n",
    "    \n",
    "    h2 = (1/np.sqrt(2)) * (np.random.randn(N) + 1j * (np.random.randn(N)))\n",
    "    \n",
    "    h3 = (1/np.sqrt(2)) * (np.random.randn(N) + 1j * (np.random.randn(N)))\n",
    "    \n",
    "    n0 = (1/np.sqrt(2)) * (np.random.randn(N) + 1j * (np.random.randn(N)))\n",
    "    \n",
    "    n1 = (1/np.sqrt(2)) * (np.random.randn(N) + 1j * (np.random.randn(N)))\n",
    "    \n",
    "    n2 = (1/np.sqrt(2)) * (np.random.randn(N) + 1j * (np.random.randn(N)))\n",
    "    \n",
    "    n3 = (1/np.sqrt(2)) * (np.random.randn(N) + 1j * (np.random.randn(N)))\n",
    "    \n",
    "    \n",
    "    r0 = h0 * s + 10 ** (-eb_no_db[ii] / 20) * n0\n",
    "    \n",
    "    r1 = h1 * s + 10 ** (-eb_no_db[ii] / 20) * n1\n",
    "    \n",
    "    r2 = h2 * s + 10 ** (-eb_no_db[ii] / 20) * n2\n",
    "    \n",
    "    r3 = h3 * s + 10 ** (-eb_no_db[ii] / 20) * n3\n",
    "    \n",
    "    #combining scheme\n",
    "    \n",
    "    s_tilde = np.conj(h0) * r0 + np.conj(h1) * r1 + np.conj(h2) * r2 + np.conj(h3) * r3\n",
    "    \n",
    "    #normalization\n",
    "    \n",
    "    s_tilde = s_tilde / (np.abs(h0)**2 + np.abs(h1)**2 + np.abs(h2)**2 + np.abs(h3)**2)\n",
    "    \n",
    "    received_bits = np.real(s_tilde) >= 0 \n",
    "    \n",
    "    nErr = np.sum(received_bits != ip)\n",
    "    \n",
    "    total_error[ii] =  nErr\n",
    "    \n",
    "   \n",
    "    "
   ]
  },
  {
   "cell_type": "code",
   "execution_count": 249,
   "id": "0c1b5d7e",
   "metadata": {},
   "outputs": [],
   "source": [
    "ber = total_error / N"
   ]
  },
  {
   "cell_type": "code",
   "execution_count": 250,
   "id": "ee823723",
   "metadata": {},
   "outputs": [
    {
     "name": "stdout",
     "output_type": "stream",
     "text": [
      "[1.0987e-02 6.5440e-03 3.8130e-03 2.0200e-03 1.0640e-03 5.2600e-04\n",
      " 2.2700e-04 9.9000e-05 4.0000e-05 2.1000e-05 1.0000e-05 3.0000e-06\n",
      " 2.0000e-06 1.0000e-06 1.0000e-06 0.0000e+00 0.0000e+00 0.0000e+00\n",
      " 0.0000e+00 0.0000e+00 0.0000e+00 0.0000e+00 0.0000e+00 0.0000e+00\n",
      " 0.0000e+00]\n"
     ]
    }
   ],
   "source": [
    "print(ber)"
   ]
  },
  {
   "cell_type": "code",
   "execution_count": 251,
   "id": "8fdfa426",
   "metadata": {},
   "outputs": [
    {
     "data": {
      "image/png": "[encoded data removed]",
      "text/plain": [
       "<Figure size 432x288 with 1 Axes>"
      ]
     },
     "metadata": {
      "needs_background": "light"
     },
     "output_type": "display_data"
    }
   ],
   "source": [
    "plt.figure()\n",
    "plt.semilogy(eb_no_db, ber, 'ks-', linewidth=2)\n",
    "plt.xlabel('SNR (dB)')\n",
    "plt.ylabel('Bit Error Rate (BER)')\n",
    "plt.title('BER vs. SNR in BPSK modulation with Alamouti STBC')\n",
    "plt.grid(True)\n",
    "plt.show()"
   ]
  },
  {
   "cell_type": "code",
   "execution_count": null,
   "id": "0044914c",
   "metadata": {},
   "outputs": [],
   "source": []
  },
  {
   "cell_type": "code",
   "execution_count": null,
   "id": "8738b101",
   "metadata": {},
   "outputs": [],
   "source": []
  }
 ],
 "metadata": {
  "kernelspec": {
   "display_name": "Python 3 (ipykernel)",
   "language": "python",
   "name": "python3"
  },
  "language_info": {
   "codemirror_mode": {
    "name": "ipython",
    "version": 3
   },
   "file_extension": ".py",
   "mimetype": "text/x-python",
   "name": "python",
   "nbconvert_exporter": "python",
   "pygments_lexer": "ipython3",
   "version": "3.9.12"
  }
 },
 "nbformat": 4,
 "nbformat_minor": 5
}
