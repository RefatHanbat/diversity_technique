{
 "cells": [
  {
   "cell_type": "code",
   "execution_count": 35,
   "id": "f947464c",
   "metadata": {},
   "outputs": [],
   "source": [
    "N = 1000000"
   ]
  },
  {
   "cell_type": "code",
   "execution_count": 36,
   "id": "02542320",
   "metadata": {},
   "outputs": [],
   "source": [
    "import numpy as np"
   ]
  },
  {
   "cell_type": "code",
   "execution_count": 37,
   "id": "0272c230",
   "metadata": {},
   "outputs": [],
   "source": [
    "import matplotlib.pyplot as plt"
   ]
  },
  {
   "cell_type": "code",
   "execution_count": 38,
   "id": "fe3b5161",
   "metadata": {},
   "outputs": [],
   "source": [
    "ip = np.random.randn(N)> 0.5"
   ]
  },
  {
   "cell_type": "code",
   "execution_count": 39,
   "id": "8828abf6",
   "metadata": {},
   "outputs": [],
   "source": [
    "s = 2 * ip - 1"
   ]
  },
  {
   "cell_type": "code",
   "execution_count": 40,
   "id": "5b6b4dd7",
   "metadata": {},
   "outputs": [],
   "source": [
    "s = np.array(s)"
   ]
  },
  {
   "cell_type": "code",
   "execution_count": 41,
   "id": "ae5c0f67",
   "metadata": {},
   "outputs": [],
   "source": [
    "eb_no_db = np.arange(0,25)"
   ]
  },
  {
   "cell_type": "code",
   "execution_count": 42,
   "id": "3b6e2cbf",
   "metadata": {},
   "outputs": [],
   "source": [
    "sim_ber_2Rx = np.zeros(len(eb_no_db))"
   ]
  },
  {
   "cell_type": "code",
   "execution_count": 43,
   "id": "5ba32de0",
   "metadata": {},
   "outputs": [
    {
     "name": "stdout",
     "output_type": "stream",
     "text": [
      "[3.5729e-02 2.4057e-02 1.5532e-02 9.5570e-03 5.5400e-03 3.1950e-03\n",
      " 1.6890e-03 8.8900e-04 4.3400e-04 2.0800e-04 8.4000e-05 4.7000e-05\n",
      " 1.2000e-05 6.0000e-06 5.0000e-06 1.0000e-06 1.0000e-06 1.0000e-06\n",
      " 0.0000e+00 0.0000e+00 0.0000e+00 0.0000e+00 0.0000e+00 0.0000e+00\n",
      " 0.0000e+00]\n"
     ]
    }
   ],
   "source": [
    "for jj in range(len(eb_no_db)):\n",
    "    \n",
    "    total_error = 0\n",
    "    \n",
    "    for ii in range(N//2):\n",
    "        \n",
    "        h0 = (1/np.sqrt(2)) * (np.random.randn() + 1j * np.random.randn())\n",
    "        \n",
    "        h1 = (1/np.sqrt(2)) * (np.random.randn() + 1j * np.random.randn())\n",
    "        \n",
    "        h2 = (1/np.sqrt(2)) * (np.random.randn() + 1j * np.random.randn())\n",
    "        \n",
    "        h3 = (1/np.sqrt(2)) * (np.random.randn() + 1j * np.random.randn())\n",
    "        \n",
    "        n0 = (1/np.sqrt(2)) * (np.random.randn() + 1j * np.random.randn()) \n",
    "        \n",
    "        n1 = (1/np.sqrt(2)) * (np.random.randn() + 1j * np.random.randn())\n",
    "        \n",
    "        n2 = (1/np.sqrt(2)) * (np.random.randn() + 1j * np.random.randn()) \n",
    "        \n",
    "        n3 = (1/np.sqrt(2)) * (np.random.randn() + 1j * np.random.randn())\n",
    "        \n",
    "        s0 = s[2 * ii]\n",
    "        \n",
    "        s1 = s[2 * ii + 1]\n",
    "        \n",
    "        r0 = h0 * (1/np.sqrt(2)) * s0 + h1 * (1/np.sqrt(2)) * s1 + n0 * 10 ** (-eb_no_db[jj] / 20)\n",
    "        \n",
    "        r1 = - h0 * (1/np.sqrt(2)) * np.conj(s1)  + h1 * np.conj(s0) + n1 * 10 ** (-eb_no_db[jj] / 20)\n",
    "        \n",
    "        r2 = h2 * (1/np.sqrt(2)) * s0 + h3 * (1/np.sqrt(2)) * s1 + n2 * 10 ** (-eb_no_db[jj] / 20)\n",
    "        \n",
    "        r3 = -h2 * (1/np.sqrt(2)) * np.conj(s1) + h3 * (1/np.sqrt(2)) * np.conj(s0) + n3 * 10 ** (-eb_no_db[jj] / 20)\n",
    "        \n",
    "        s0_tilde = np.conj(h0) * r0 + h1 * np.conj(r1) + np.conj(h2) * r2 + h3 * np.conj(r3)\n",
    "        \n",
    "        s1_tilde = np.conj(h1) * r0 - h0 * np.conj(r1) + np.conj(h3) * r2 - h2 * np.conj(r3)\n",
    "        \n",
    "        s0_tilde = s0_tilde / (np.abs(h0) ** 2 + np.abs(h1) ** 2 + np.abs(h2) ** 2 + np.abs(h3) ** 2)\n",
    "        \n",
    "        s1_tilde = s1_tilde / (np.abs(h0) ** 2 + np.abs(h1) ** 2 + np.abs(h2) ** 2 + np.abs(h3) ** 2)\n",
    "        \n",
    "        received_bit_s0 = np.real(s0_tilde) >= 0\n",
    "        \n",
    "        received_bit_s1 = np.real(s1_tilde) >= 0\n",
    "        \n",
    "        nErr1 = np.sum(received_bit_s0 != ip[2 * ii])\n",
    "        \n",
    "        total_error = total_error + nErr1\n",
    "        \n",
    "        nErr2 = np.sum(received_bit_s1 != ip[2 * ii + 1])\n",
    "        \n",
    "        total_error = total_error + nErr2\n",
    "        \n",
    "    sim_ber_2Rx[jj] = total_error / N \n",
    "    \n",
    "\n",
    "        \n",
    "        \n",
    "        \n",
    "        \n",
    "    "
   ]
  },
  {
   "cell_type": "code",
   "execution_count": 44,
   "id": "a49c6037",
   "metadata": {},
   "outputs": [
    {
     "data": {
      "text/plain": [
       "<matplotlib.legend.Legend at 0x1c7eaead850>"
      ]
     },
     "execution_count": 44,
     "metadata": {},
     "output_type": "execute_result"
    },
    {
     "data": {
      "image/png": "[encoded data removed]",
      "text/plain": [
       "<Figure size 432x288 with 1 Axes>"
      ]
     },
     "metadata": {
      "needs_background": "light"
     },
     "output_type": "display_data"
    }
   ],
   "source": [
    "plt.figure()\n",
    "plt.semilogy(eb_no_db, simBer, 'b-', linewidth=2, label='simulated (nTx=2 nRx=2)')\n",
    "plt.axis([0, 25, 1e-5, 0.5])\n",
    "\n",
    "plt.grid(True)\n",
    "\n",
    "plt.legend()"
   ]
  },
  {
   "cell_type": "code",
   "execution_count": null,
   "id": "16e3d1fa",
   "metadata": {},
   "outputs": [],
   "source": []
  }
 ],
 "metadata": {
  "kernelspec": {
   "display_name": "Python 3 (ipykernel)",
   "language": "python",
   "name": "python3"
  },
  "language_info": {
   "codemirror_mode": {
    "name": "ipython",
    "version": 3
   },
   "file_extension": ".py",
   "mimetype": "text/x-python",
   "name": "python",
   "nbconvert_exporter": "python",
   "pygments_lexer": "ipython3",
   "version": "3.9.12"
  }
 },
 "nbformat": 4,
 "nbformat_minor": 5
}
