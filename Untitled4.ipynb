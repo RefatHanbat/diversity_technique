{
 "cells": [
  {
   "cell_type": "code",
   "execution_count": 1,
   "id": "75f15a8e",
   "metadata": {},
   "outputs": [],
   "source": [
    "import numpy as np\n",
    "import matplotlib.pyplot as plt"
   ]
  },
  {
   "cell_type": "code",
   "execution_count": 28,
   "id": "98c3f51b",
   "metadata": {},
   "outputs": [],
   "source": [
    "N = 10"
   ]
  },
  {
   "cell_type": "code",
   "execution_count": 38,
   "id": "7a6a94da",
   "metadata": {},
   "outputs": [],
   "source": [
    "ip = np.random.randn(N) > 0.5\n",
    "ip = np.array(ip)"
   ]
  },
  {
   "cell_type": "code",
   "execution_count": 39,
   "id": "97893a9d",
   "metadata": {},
   "outputs": [
    {
     "name": "stdout",
     "output_type": "stream",
     "text": [
      "[ 1  1 -1 -1 -1 -1 -1 -1 -1 -1]\n"
     ]
    }
   ],
   "source": [
    "s = 2 * ip - 1\n",
    "s = np.array(s)\n",
    "print(s)"
   ]
  },
  {
   "cell_type": "code",
   "execution_count": 40,
   "id": "11b478f1",
   "metadata": {},
   "outputs": [
    {
     "name": "stdout",
     "output_type": "stream",
     "text": [
      "Result using np.dot:\n",
      "[[19 22]\n",
      " [43 50]]\n",
      "\n",
      "Result using np.matmul:\n",
      "[[19 22]\n",
      " [43 50]]\n"
     ]
    }
   ],
   "source": [
    "import numpy as np\n",
    "\n",
    "A = np.array([[1, 2], [3, 4]])\n",
    "B = np.array([[5, 6], [7, 8]])\n",
    "\n",
    "# Using np.dot\n",
    "result_dot = np.dot(A, B)\n",
    "\n",
    "# Using np.matmul\n",
    "result_matmul = np.matmul(A, B)\n",
    "\n",
    "print(\"Result using np.dot:\")\n",
    "print(result_dot)\n",
    "\n",
    "print(\"\\nResult using np.matmul:\")\n",
    "print(result_matmul)"
   ]
  },
  {
   "cell_type": "code",
   "execution_count": 41,
   "id": "e2ca56cf",
   "metadata": {},
   "outputs": [
    {
     "name": "stdout",
     "output_type": "stream",
     "text": [
      "Is A_inverse the inverse of A? False\n"
     ]
    }
   ],
   "source": [
    "import numpy as np\n",
    "\n",
    "# Define your matrices\n",
    "A = np.array([[3.9939113, -2.89279736 - 2.02733726j],\n",
    "              [-2.89279736 + 2.02733726j, 4.64930785]])\n",
    "\n",
    "A_inverse = np.array([[0.76336417, 0.47496486 + 0.33286603j],\n",
    "                      [0.47496486 - 0.33286603j, 0.65575541]])\n",
    "\n",
    "# Check if A_inverse is the inverse of A\n",
    "result = np.allclose(np.matmul(A, A_inverse), np.eye(2))\n",
    "\n",
    "print(\"Is A_inverse the inverse of A?\", result)\n"
   ]
  },
  {
   "cell_type": "code",
   "execution_count": 42,
   "id": "18ab485f",
   "metadata": {},
   "outputs": [
    {
     "name": "stdout",
     "output_type": "stream",
     "text": [
      "Is A_inverse the inverse of A? False\n"
     ]
    }
   ],
   "source": [
    "import numpy as np\n",
    "\n",
    "# Define your matrices\n",
    "A = np.array([[0.4732204, 0.4166028 + 0.13444833j],\n",
    "              [0.4166028 - 0.13444833j, 0.62438894]])\n",
    "\n",
    "A_inverse = np.array([[6.01302876, -4.01199384 - 1.29477257j],\n",
    "                      [-4.01199384 + 1.29477257j, 4.55723615]])\n",
    "\n",
    "# Check if A_inverse is the inverse of A\n",
    "result = np.allclose(np.matmul(A, A_inverse), np.eye(2))\n",
    "\n",
    "print(\"Is A_inverse the inverse of A?\", result)\n"
   ]
  },
  {
   "cell_type": "code",
   "execution_count": 43,
   "id": "fb8dca87",
   "metadata": {},
   "outputs": [
    {
     "name": "stdout",
     "output_type": "stream",
     "text": [
      "Is A_inverse the inverse of A? False\n"
     ]
    }
   ],
   "source": [
    "import numpy as np\n",
    "\n",
    "# Define your matrices\n",
    "A = np.array([[0.68596927, 0.21312063 - 0.1807341j],\n",
    "              [0.21312063 + 0.1807341j, 0.42788409]])\n",
    "\n",
    "A_inverse = np.array([[1.98618513, -0.98927968 + 0.838945396j],\n",
    "                      [-0.98927968 - 0.838945396j, 3.18418468]])\n",
    "\n",
    "# Check if A_inverse is the inverse of A\n",
    "result = np.allclose(np.matmul(A, A_inverse), np.eye(2))\n",
    "\n",
    "print(\"Is A_inverse the inverse of A?\", result)\n"
   ]
  },
  {
   "cell_type": "code",
   "execution_count": 44,
   "id": "ea397f91",
   "metadata": {},
   "outputs": [
    {
     "name": "stdout",
     "output_type": "stream",
     "text": [
      "Is the matrix invertible? True\n"
     ]
    }
   ],
   "source": [
    "import numpy as np\n",
    "\n",
    "# Define your matrix\n",
    "A = np.array([[0.68596927, 0.21312063 - 0.1807341j],\n",
    "              [0.21312063 + 0.1807341j, 0.42788409]])\n",
    "\n",
    "# Calculate the determinant\n",
    "det_A = np.linalg.det(A)\n",
    "\n",
    "# Check if the determinant is non-zero (with a tolerance)\n",
    "is_invertible = not np.isclose(det_A, 0.0)\n",
    "\n",
    "print(\"Is the matrix invertible?\", is_invertible)\n"
   ]
  },
  {
   "cell_type": "code",
   "execution_count": 45,
   "id": "fff2fe56",
   "metadata": {},
   "outputs": [
    {
     "name": "stdout",
     "output_type": "stream",
     "text": [
      "Inverse matrix:\n",
      "[[ 1.98618509+4.04618353e-17j -0.98927964+8.38945366e-01j]\n",
      " [-0.98927964-8.38945366e-01j  3.18418461+7.03536649e-17j]]\n"
     ]
    }
   ],
   "source": [
    "import numpy as np\n",
    "\n",
    "# Define your matrix\n",
    "A = np.array([[0.68596927, 0.21312063 - 0.1807341j],\n",
    "              [0.21312063 + 0.1807341j, 0.42788409]])\n",
    "\n",
    "# Calculate the inverse of the matrix\n",
    "A_inverse = np.linalg.inv(A)\n",
    "\n",
    "print(\"Inverse matrix:\")\n",
    "print(A_inverse)\n"
   ]
  },
  {
   "cell_type": "code",
   "execution_count": 46,
   "id": "a34ea72a",
   "metadata": {},
   "outputs": [
    {
     "name": "stdout",
     "output_type": "stream",
     "text": [
      "Is A_inverse accurate? True\n"
     ]
    }
   ],
   "source": [
    "import numpy as np\n",
    "\n",
    "# Define your original matrix\n",
    "A = np.array([[0.68596927, 0.21312063 - 0.1807341j],\n",
    "              [0.21312063 + 0.1807341j, 0.42788409]])\n",
    "\n",
    "# Define the inverse matrix you obtained\n",
    "A_inverse = np.array([[1.98618509, -0.98927964 + 0.838945366j],\n",
    "                      [-0.98927964 - 0.838945366j, 3.18418461]])\n",
    "\n",
    "# Check if A * A_inverse is approximately the identity matrix\n",
    "result = np.allclose(np.matmul(A, A_inverse), np.eye(2))\n",
    "\n",
    "print(\"Is A_inverse accurate?\", result)\n"
   ]
  },
  {
   "cell_type": "code",
   "execution_count": 47,
   "id": "929dcaa8",
   "metadata": {},
   "outputs": [
    {
     "name": "stdout",
     "output_type": "stream",
     "text": [
      "[0.177 0.145 0.148 0.107 0.081 0.071 0.05  0.048 0.04  0.013 0.016 0.012\n",
      " 0.011 0.016 0.011 0.005 0.005 0.008 0.002 0.004 0.003 0.004 0.001 0.\n",
      " 0.001 0.001 0.    0.    0.    0.   ]\n"
     ]
    },
    {
     "data": {
      "image/png": "[encoded data removed]",
      "text/plain": [
       "<Figure size 432x288 with 1 Axes>"
      ]
     },
     "metadata": {
      "needs_background": "light"
     },
     "output_type": "display_data"
    }
   ],
   "source": [
    "# Importing necessary libraries\n",
    "import numpy as np\n",
    "import matplotlib.pyplot as plt\n",
    "\n",
    "# Setting up parameters\n",
    "N = 1000  # Total number of bits\n",
    "ip = np.random.randn(N) > 0.5  # Generating random bit stream\n",
    "ip = np.array(ip)  # Converting to an array for iteration convenience\n",
    "s = 2 * ip - 1  # BPSK modulation: mapping bits to modulation symbols (-1 and 1)\n",
    "s = np.array(s)  # Converting to an array for iteration convenience\n",
    "\n",
    "# Signal-to-noise ratio values\n",
    "eb_no_db = np.arange(30)\n",
    "bit_error_rate = np.zeros(len(eb_no_db))  # Array to store bit error rates at different SNR values\n",
    "\n",
    "# Zero Forcing equalization function\n",
    "def Zero_Forcing():\n",
    "    for jj in range(len(eb_no_db)):  # Iterate over different SNR values\n",
    "        nErr = 0  # Initialize the count of errors for each SNR\n",
    "        received_bits_list = []  # Store received bits after equalization for comparison with input bits\n",
    "\n",
    "        for ii in range(N // 2):  # Iterate over half the total number of bits since two bits are sent simultaneously\n",
    "            # Generate channel coefficients\n",
    "            h11 = (1 / np.sqrt(2)) * (np.random.rand() + 1j * np.random.rand())\n",
    "            h12 = (1 / np.sqrt(2)) * (np.random.rand() + 1j * np.random.rand())\n",
    "            h21 = (1 / np.sqrt(2)) * (np.random.rand() + 1j * np.random.rand())\n",
    "            h22 = (1 / np.sqrt(2)) * (np.random.rand() + 1j * np.random.rand())\n",
    "\n",
    "            # Generate noise values\n",
    "            n1 = (1 / np.sqrt(2)) * (np.random.rand() + 1j * np.random.rand())\n",
    "            n2 = (1 / np.sqrt(2)) * (np.random.rand() + 1j * np.random.rand())\n",
    "\n",
    "            # Select bits to send\n",
    "            x1 = s[2 * ii]  # Sending x1, x3, x5, ...\n",
    "            x2 = s[2 * ii + 1]  # Sending x2, x4, x6, x8, ...\n",
    "\n",
    "            # Create the channel matrix H and noise vector n\n",
    "            H = np.array([[h11, h12], [h21, h22]])  # Channel matrix\n",
    "            n = np.array([[n1], [n2]])  # Noise vector\n",
    "            x = np.array([[x1], [x2]])  # Input bits vector\n",
    "\n",
    "            # Calculate received signal y = Hx + n * scaling factor for SNR\n",
    "            Hx = np.matmul(H, x)\n",
    "            y = Hx + n * (10 ** (-eb_no_db[jj] / 20))\n",
    "\n",
    "            # Forming the Zero Forcing equalization matrix W = inv(H^H*H)*H^H\n",
    "            H_conjugate = np.conjugate(H)  # Conjugate of H (channel matrix)\n",
    "            H_Hermitian = np.transpose(H_conjugate)  # Hermitian of H (channel matrix)\n",
    "            H_Hermitian_H = np.matmul(H_Hermitian, H)  # Hermitian of H multiplied by H\n",
    "\n",
    "            # Calculate the inverse of (Hermitian of H multiplied by H)\n",
    "            H_inverse = np.linalg.inv(H_Hermitian_H)\n",
    "\n",
    "            # Calculate the Zero Forcing equalization matrix W\n",
    "            W = np.matmul(H_inverse, H_Hermitian)\n",
    "\n",
    "            # Decode the received signal using Zero Forcing equalization\n",
    "            x_hat = np.matmul(W, y)\n",
    "            received_bits = np.real(x_hat > 0)  # Hard decoding\n",
    "\n",
    "            # Extract individual bits from the received bits matrix\n",
    "            m = received_bits[0, 0]\n",
    "            n = received_bits[1, 0]\n",
    "\n",
    "            # Append the received bits to the list\n",
    "            received_bits_list.append(m)\n",
    "            received_bits_list.append(n)\n",
    "\n",
    "        # Count the number of bit errors for the current SNR\n",
    "        nErr = np.sum(ip != received_bits_list)\n",
    "\n",
    "        # Calculate and store the bit error rate for the current SNR\n",
    "        bit_error_rate[jj] = nErr / N\n",
    "\n",
    "    return bit_error_rate\n",
    "\n",
    "\n",
    "# Run the Zero Forcing function and plot the results\n",
    "result = Zero_Forcing()\n",
    "print(result)\n",
    "plt.figure()\n",
    "plt.plot(eb_no_db, result, 'mo-', linewidth=2, label='nTx=2 nRx=2 (Zero Forcing)')\n",
    "plt.grid(True)\n",
    "plt.legend()\n",
    "plt.xlabel('Eb/No, dB')\n",
    "plt.ylabel('Bit Error Rate')\n",
    "plt.title('BER for BPSK modulation with Zero Forcing equalization')\n",
    "plt.show()\n"
   ]
  },
  {
   "cell_type": "code",
   "execution_count": 48,
   "id": "2106545f",
   "metadata": {},
   "outputs": [
    {
     "data": {
      "image/png": "[encoded data removed]",
      "text/plain": [
       "<Figure size 432x288 with 1 Axes>"
      ]
     },
     "metadata": {
      "needs_background": "light"
     },
     "output_type": "display_data"
    },
    {
     "name": "stdout",
     "output_type": "stream",
     "text": [
      "[0.127 0.113 0.128 0.098 0.09  0.062 0.051 0.043 0.03  0.026 0.016 0.031\n",
      " 0.018 0.009 0.008 0.008 0.006 0.003 0.002 0.003 0.001 0.001 0.002 0.002\n",
      " 0.001 0.    0.002 0.    0.    0.   ]\n"
     ]
    }
   ],
   "source": [
    "import numpy as np\n",
    "import matplotlib.pyplot as plt\n",
    "\n",
    "N = 1000  # Total bits\n",
    "ip = np.random.randn(N) > 0.5  # Generate random bit\n",
    "ip = np.array(ip)  # Convert into an array for iteration\n",
    "s = 2 * ip - 1  # BPSK modulation\n",
    "s = np.array(s)  # Convert into an array for iteration\n",
    "\n",
    "eb_no_db = np.arange(30)  # Signal to noise ratio\n",
    "bit_error_rate = np.zeros(len(eb_no_db))  # Declare zeros array to store error rate\n",
    "\n",
    "def Zero_Forcing():\n",
    "    for jj in range(len(eb_no_db)):\n",
    "        nErr = 0  # Initialize the number of errors to zero\n",
    "        received_bits_list = []  # Initialize received_bits_list for each jj iteration\n",
    "\n",
    "        for ii in range(N//2):\n",
    "            # Generate channel matrix H and noise vector n\n",
    "            H = (1 / np.sqrt(2)) *(np.random.randn(2, 2) + 1j * np.random.randn(2, 2))\n",
    "            n = (1 / np.sqrt(2)) * (np.random.randn(2, 1) + 1j * np.random.randn(2, 1))\n",
    "\n",
    "            # Generate bits vector x\n",
    "            x = s[2 * ii: 2 * ii + 2].reshape(2, 1)\n",
    "\n",
    "            # Multiply channel and bits\n",
    "            Hx = np.matmul(H, x)\n",
    "\n",
    "            # Composite receive signal with scaling factor snr\n",
    "            y = Hx + n * (10 ** (-eb_no_db[jj] / 20))\n",
    "\n",
    "            # Forming the Zero Forcing equalization matrix W = inv(H^H*H)*H^H\n",
    "            H_conjugate = np.conjugate(H)\n",
    "            H_Hermitian = np.transpose(H_conjugate)\n",
    "            H_Hermitian_H = np.matmul(H_Hermitian, H)\n",
    "            H_inverse = np.linalg.inv(H_Hermitian_H)\n",
    "            W = np.matmul(H_inverse, H_Hermitian)\n",
    "            x_hat = np.matmul(W, y)\n",
    "\n",
    "            # Received bits\n",
    "            received_bits = np.real(x_hat > 0)\n",
    "            received_bits_list.extend(received_bits.ravel())\n",
    "\n",
    "        # Compare received bits with input bits\n",
    "        nErr = np.sum(ip != received_bits_list)\n",
    "        bit_error_rate[jj] = nErr / N\n",
    "\n",
    "    return bit_error_rate\n",
    "\n",
    "# Run the simulation\n",
    "result = Zero_Forcing()\n",
    "\n",
    "# Plot the results\n",
    "plt.figure()\n",
    "plt.plot(eb_no_db, result, 'mo-', linewidth=2, label='nTx=2 nRx=2 (zero_forcing)')\n",
    "plt.grid(True)\n",
    "plt.legend()\n",
    "plt.xlabel('Eb/No, dB')\n",
    "plt.ylabel('Bit Error Rate')\n",
    "plt.title('BER for BPSK modulation with zero_forcing_algorithm')\n",
    "plt.show()\n",
    "\n",
    "print(result)\n"
   ]
  },
  {
   "cell_type": "code",
   "execution_count": null,
   "id": "430362ba",
   "metadata": {},
   "outputs": [],
   "source": []
  },
  {
   "cell_type": "code",
   "execution_count": null,
   "id": "c2f1ae36",
   "metadata": {},
   "outputs": [],
   "source": []
  }
 ],
 "metadata": {
  "kernelspec": {
   "display_name": "Python 3 (ipykernel)",
   "language": "python",
   "name": "python3"
  },
  "language_info": {
   "codemirror_mode": {
    "name": "ipython",
    "version": 3
   },
   "file_extension": ".py",
   "mimetype": "text/x-python",
   "name": "python",
   "nbconvert_exporter": "python",
   "pygments_lexer": "ipython3",
   "version": "3.9.12"
  }
 },
 "nbformat": 4,
 "nbformat_minor": 5
}
