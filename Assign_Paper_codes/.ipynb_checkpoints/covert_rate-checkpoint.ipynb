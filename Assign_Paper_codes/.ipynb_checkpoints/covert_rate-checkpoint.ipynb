{
 "cells": [
  {
   "cell_type": "code",
   "execution_count": 1,
   "id": "c2db882d",
   "metadata": {},
   "outputs": [],
   "source": [
    "import numpy as np\n",
    "import matplotlib.pyplot as plt"
   ]
  },
  {
   "cell_type": "code",
   "execution_count": 2,
   "id": "69d1bae4",
   "metadata": {},
   "outputs": [],
   "source": [
    "N = 1000"
   ]
  },
  {
   "cell_type": "code",
   "execution_count": 3,
   "id": "91b52809",
   "metadata": {},
   "outputs": [],
   "source": [
    "ip = np.random.randn(N) > 0"
   ]
  },
  {
   "cell_type": "code",
   "execution_count": 4,
   "id": "fbabc79d",
   "metadata": {},
   "outputs": [],
   "source": [
    "s = 2 * ip - 1"
   ]
  },
  {
   "cell_type": "code",
   "execution_count": 5,
   "id": "1f17c4ef",
   "metadata": {},
   "outputs": [],
   "source": [
    "sigma_square_R = 10**(-160/ 10)\n"
   ]
  },
  {
   "cell_type": "code",
   "execution_count": 6,
   "id": "0c42bebc",
   "metadata": {},
   "outputs": [],
   "source": [
    "PD = np.arange(0,50)"
   ]
  },
  {
   "cell_type": "code",
   "execution_count": 7,
   "id": "278b67de",
   "metadata": {},
   "outputs": [],
   "source": [
    "L_DR = (10**-3) * (np.sqrt(np.square(100)+np.square(100)) / 1)**3.5\n"
   ]
  },
  {
   "cell_type": "code",
   "execution_count": 8,
   "id": "6e75e81b",
   "metadata": {},
   "outputs": [],
   "source": [
    "covert_capacity = np.zeros(len(PD))"
   ]
  },
  {
   "cell_type": "code",
   "execution_count": 9,
   "id": "6a42781b",
   "metadata": {},
   "outputs": [],
   "source": [
    "def calculate_capacity(power_destination,H_DR):\n",
    "    \n",
    "    total_capacity = 0\n",
    "    \n",
    "    \n",
    "    \n",
    "    for ii in range(N):\n",
    "        \n",
    "        capacity = np.log2(1 + np.divide(np.abs(H_DR) * power_destination,sigma_square_R))\n",
    "        \n",
    "        total_capacity = total_capacity + capacity\n",
    "        \n",
    "    return total_capacity\n",
    "        \n",
    "        \n",
    "    "
   ]
  },
  {
   "cell_type": "code",
   "execution_count": 10,
   "id": "fd7fda31",
   "metadata": {},
   "outputs": [],
   "source": [
    "def covert_rate():\n",
    "    \n",
    "    for jj in range(len(PD)):\n",
    "\n",
    "        H_DR = L_DR * (1/np.sqrt(2)) * (np.random.randn()+1j * np.random.randn())\n",
    "\n",
    "        power_destination = 10**(PD[jj] / 10)\n",
    "\n",
    "        capacity = calculate_capacity(power_destination,H_DR)\n",
    "        \n",
    "        capacity = capacity / N\n",
    "        \n",
    "        covert_capacity[jj] = capacity\n",
    "        \n",
    "    return covert_capacity\n",
    "        \n",
    "        "
   ]
  },
  {
   "cell_type": "code",
   "execution_count": 11,
   "id": "302e0f8d",
   "metadata": {},
   "outputs": [
    {
     "data": {
      "text/plain": [
       "array([67.33811444, 68.31785986, 68.5212496 , 69.05059768, 69.41300249,\n",
       "       70.48566449, 70.37984794, 70.95985741, 71.37765444, 68.34162124,\n",
       "       70.30514077, 69.37082505, 71.54373578, 72.92028457, 71.77878661,\n",
       "       73.44201588, 74.62975954, 73.6661466 , 74.01867673, 73.67664938,\n",
       "       74.60109265, 74.56251071, 72.79469203, 76.37990825, 76.59790126,\n",
       "       73.49662987, 76.67911522, 77.43738867, 75.37899252, 77.26261191,\n",
       "       77.49860758, 77.92627929, 79.3138327 , 78.0849107 , 78.67816225,\n",
       "       80.34839063, 80.37247086, 78.85153382, 82.40536171, 80.58449816,\n",
       "       82.02252346, 82.78899563, 81.50988909, 82.53350712, 83.33760731,\n",
       "       81.3300954 , 84.3783378 , 83.95270823, 84.40294422, 82.0083306 ])"
      ]
     },
     "execution_count": 11,
     "metadata": {},
     "output_type": "execute_result"
    }
   ],
   "source": [
    "covert_rate()"
   ]
  },
  {
   "cell_type": "code",
   "execution_count": null,
   "id": "ae249cea",
   "metadata": {},
   "outputs": [],
   "source": []
  }
 ],
 "metadata": {
  "kernelspec": {
   "display_name": "Python 3 (ipykernel)",
   "language": "python",
   "name": "python3"
  },
  "language_info": {
   "codemirror_mode": {
    "name": "ipython",
    "version": 3
   },
   "file_extension": ".py",
   "mimetype": "text/x-python",
   "name": "python",
   "nbconvert_exporter": "python",
   "pygments_lexer": "ipython3",
   "version": "3.9.12"
  }
 },
 "nbformat": 4,
 "nbformat_minor": 5
}
