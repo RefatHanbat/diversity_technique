{
 "cells": [
  {
   "cell_type": "code",
   "execution_count": 1,
   "id": "c2db882d",
   "metadata": {},
   "outputs": [],
   "source": [
    "import numpy as np\n",
    "import matplotlib.pyplot as plt"
   ]
  },
  {
   "cell_type": "code",
   "execution_count": 2,
   "id": "69d1bae4",
   "metadata": {},
   "outputs": [],
   "source": [
    "N = 1000"
   ]
  },
  {
   "cell_type": "code",
   "execution_count": 3,
   "id": "91b52809",
   "metadata": {},
   "outputs": [],
   "source": [
    "ip = np.random.randn(N) > 0"
   ]
  },
  {
   "cell_type": "code",
   "execution_count": 4,
   "id": "fbabc79d",
   "metadata": {},
   "outputs": [],
   "source": [
    "s = 2 * ip - 1"
   ]
  },
  {
   "cell_type": "code",
   "execution_count": 5,
   "id": "0c42bebc",
   "metadata": {},
   "outputs": [],
   "source": [
    "PS_dB = np.arange(start = 0,stop = 50, step = 5)"
   ]
  },
  {
   "cell_type": "code",
   "execution_count": 6,
   "id": "c9300bdf",
   "metadata": {},
   "outputs": [],
   "source": [
    "optimal_covert_rate = np.zeros(len(PS_dB))"
   ]
  },
  {
   "cell_type": "code",
   "execution_count": 7,
   "id": "278b67de",
   "metadata": {},
   "outputs": [],
   "source": [
    "r_p = 0.1\n",
    "\n",
    "beta = -3.5\n",
    "\n",
    "epsilon = 0.45\n",
    "\n",
    "BW = 20 * 10**6\n",
    "\n",
    "PS = 10**(23/ 10) / (10**3)\n",
    "\n",
    "sigma_square_R = 10**(-160/10) / (10**3) * BW\n",
    "\n",
    "sigma_square_D = 10**(-160/10) / (10**3) * BW\n",
    "\n",
    "sigma_square_bar_w = 10**(-160/10) / (10**3) * BW\n",
    "\n",
    "sigma_square_SI = 10**(-160/10) / (10**3) * BW\n",
    "\n",
    "zeta = 10**(5/10)\n",
    "\n",
    "\n",
    "PL_DR = (1/10**3) * (np.sqrt(np.square(100)+np.square(100)) / 1)**beta\n",
    "\n",
    "PL_SR = (1/10**3) * (np.sqrt(np.square(100) + np.square(100))/1)**beta\n",
    "\n",
    "PL_SD = (1/10**3) * (np.sqrt(np.square(200) + np.square(0))/1)**beta\n",
    "\n",
    "PL_DW = (1/10**3) * (np.sqrt(np.square(100)+np.square(100)))\n",
    "\n",
    "PL_DD = sigma_square_SI\n"
   ]
  },
  {
   "cell_type": "code",
   "execution_count": 8,
   "id": "6e75e81b",
   "metadata": {},
   "outputs": [],
   "source": [
    "covert_capacity = np.zeros(len(PS_dB))\n"
   ]
  },
  {
   "cell_type": "code",
   "execution_count": 9,
   "id": "46cce2db",
   "metadata": {},
   "outputs": [],
   "source": [
    "def minimum_PD(h_DR,h_SR,h_SD,h_DW,h_DD,PS):\n",
    "    \n",
    "    min_value = []\n",
    "    \n",
    "    PR = (1/np.abs(h_DR)**2) * ((np.abs(h_SR)**2 * PS) /(2**r_p-1) - sigma_square_R )\n",
    "    \n",
    "    min_value.append(PR)\n",
    "    \n",
    "    PD = (1/np.abs(h_DD)**2) * ((np.abs(h_SD)**2 * PS)/(2**r_p - 1)-sigma_square_D)\n",
    "    \n",
    "    min_value.append(PD)\n",
    "    \n",
    "    dep = (zeta**(1-4 * epsilon) - (1/zeta))* (sigma_square_bar_w / np.abs(h_DW)**2)\n",
    "    \n",
    "    \n",
    "    min_value.append(dep)\n",
    "    \n",
    "    PD = min(min_value)\n",
    "    \n",
    "    return PD\n",
    "    \n",
    "    \n",
    "    "
   ]
  },
  {
   "cell_type": "code",
   "execution_count": 10,
   "id": "6a42781b",
   "metadata": {},
   "outputs": [],
   "source": [
    "def covert_rate():\n",
    "    \n",
    "    for jj in range(len(PS_dB)):\n",
    "        \n",
    "        PS = 10**(PS_dB[jj])/10 / (10**3)\n",
    "        \n",
    "        total_capacity = 0\n",
    "\n",
    "        for ii in range(N):\n",
    "            \n",
    "            h_DR = np.sqrt(PL_DR) * (1/np.sqrt(2)) * (np.random.randn() + 1j * np.random.randn())\n",
    "\n",
    "            h_SR = np.sqrt(PL_SR) * (1/np.sqrt(2)) * (np.random.randn() + 1j * np.random.randn())\n",
    "\n",
    "            h_SD = np.sqrt(PL_SD) * (1/np.sqrt(2)) * (np.random.randn() + 1j * np.random.randn())\n",
    "\n",
    "            h_DW = np.sqrt(PL_DW) * (1/np.sqrt(2)) * (np.random.randn() + 1j * np.random.randn())\n",
    "\n",
    "            h_DD_tilde = np.sqrt(PL_DD) * (1/np.sqrt(2)) * (np.random.randn() + 1j * np.random.randn())\n",
    "\n",
    "            PD = minimum_PD(h_DR,h_SR,h_SD,h_DW,h_DD_tilde,PS)\n",
    "            \n",
    "            c = np.log2(1 + (np.abs(h_DR)**2 * PD)/(sigma_square_R))\n",
    "            \n",
    "            total_capacity = total_capacity + c\n",
    "            \n",
    "        optimal_covert_rate[jj] = total_capacity / N\n",
    "        \n",
    "    return optimal_covert_rate\n",
    "        \n",
    "    "
   ]
  },
  {
   "cell_type": "code",
   "execution_count": 11,
   "id": "302e0f8d",
   "metadata": {},
   "outputs": [
    {
     "name": "stderr",
     "output_type": "stream",
     "text": [
      "C:\\Users\\Public\\Documents\\ESTsoft\\CreatorTemp\\ipykernel_22192\\2527531760.py:23: RuntimeWarning: invalid value encountered in log2\n",
      "  c = np.log2(1 + (np.abs(h_DR)**2 * PD)/(sigma_square_R))\n",
      "C:\\Users\\Public\\Documents\\ESTsoft\\CreatorTemp\\ipykernel_22192\\2527531760.py:23: RuntimeWarning: divide by zero encountered in log2\n",
      "  c = np.log2(1 + (np.abs(h_DR)**2 * PD)/(sigma_square_R))\n"
     ]
    },
    {
     "name": "stdout",
     "output_type": "stream",
     "text": [
      "[           nan            nan 2.36062831e-10            nan\n",
      " 1.85076233e-10 1.93179179e-10 2.26465140e-10            nan\n",
      "            nan            nan]\n"
     ]
    },
    {
     "data": {
      "image/png": "[encoded data removed]",
      "text/plain": [
       "<Figure size 432x288 with 1 Axes>"
      ]
     },
     "metadata": {
      "needs_background": "light"
     },
     "output_type": "display_data"
    }
   ],
   "source": [
    "optimal_rate = covert_rate()\n",
    "print(optimal_rate)\n",
    "plt.figure()\n",
    "\n",
    "plt.plot(PS_dB, optimal_rate, 'ms-', linewidth=2, markersize=8, label='optimal covert rate')\n",
    "\n",
    "plt.grid(True)\n",
    "\n",
    "plt.legend()\n",
    "\n",
    "plt.xlabel('Eb/No, dB')\n",
    "\n",
    "plt.ylabel('Average Capacity')\n",
    "\n",
    "plt.title('SNR-dB')\n",
    "\n",
    "plt.show()"
   ]
  },
  {
   "cell_type": "code",
   "execution_count": null,
   "id": "ae249cea",
   "metadata": {},
   "outputs": [],
   "source": []
  },
  {
   "cell_type": "code",
   "execution_count": null,
   "id": "528416a8",
   "metadata": {},
   "outputs": [],
   "source": []
  }
 ],
 "metadata": {
  "kernelspec": {
   "display_name": "Python 3 (ipykernel)",
   "language": "python",
   "name": "python3"
  },
  "language_info": {
   "codemirror_mode": {
    "name": "ipython",
    "version": 3
   },
   "file_extension": ".py",
   "mimetype": "text/x-python",
   "name": "python",
   "nbconvert_exporter": "python",
   "pygments_lexer": "ipython3",
   "version": "3.9.12"
  }
 },
 "nbformat": 4,
 "nbformat_minor": 5
}
