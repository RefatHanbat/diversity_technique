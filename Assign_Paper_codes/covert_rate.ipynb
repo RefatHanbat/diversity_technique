{
 "cells": [
  {
   "cell_type": "code",
   "execution_count": 1,
   "id": "c2db882d",
   "metadata": {},
   "outputs": [],
   "source": [
    "import numpy as np\n",
    "import matplotlib.pyplot as plt"
   ]
  },
  {
   "cell_type": "code",
   "execution_count": 2,
   "id": "69d1bae4",
   "metadata": {},
   "outputs": [],
   "source": [
    "N = 1000"
   ]
  },
  {
   "cell_type": "code",
   "execution_count": 3,
   "id": "91b52809",
   "metadata": {},
   "outputs": [],
   "source": [
    "ip = np.random.randn(N) > 0"
   ]
  },
  {
   "cell_type": "code",
   "execution_count": 4,
   "id": "fbabc79d",
   "metadata": {},
   "outputs": [],
   "source": [
    "s = 2 * ip - 1"
   ]
  },
  {
   "cell_type": "code",
   "execution_count": 5,
   "id": "1f17c4ef",
   "metadata": {},
   "outputs": [],
   "source": [
    "sigma_square_R = 10**(-160/ 10)\n"
   ]
  },
  {
   "cell_type": "code",
   "execution_count": 6,
   "id": "0c42bebc",
   "metadata": {},
   "outputs": [],
   "source": [
    "PS = np.arange(0,50)"
   ]
  },
  {
   "cell_type": "code",
   "execution_count": 7,
   "id": "278b67de",
   "metadata": {},
   "outputs": [],
   "source": [
    "L_DR = (10**-3) * (np.sqrt(np.square(100)+np.square(100)) / 1)**-3.5\n"
   ]
  },
  {
   "cell_type": "code",
   "execution_count": 8,
   "id": "6e75e81b",
   "metadata": {},
   "outputs": [],
   "source": [
    "covert_capacity = np.zeros(len(PD))"
   ]
  },
  {
   "cell_type": "code",
   "execution_count": null,
   "id": "46cce2db",
   "metadata": {},
   "outputs": [],
   "source": [
    "def minimum_PD():\n",
    "    "
   ]
  },
  {
   "cell_type": "code",
   "execution_count": 9,
   "id": "6a42781b",
   "metadata": {},
   "outputs": [],
   "source": [
    "def calculate_capacity(power_destination,H_DR_Square):\n",
    "    \n",
    "    total_capacity = 0\n",
    "    \n",
    "    min_PD = minimum_PD()\n",
    "    \n",
    "    for ii in range(N):\n",
    "        \n",
    "        capacity = np.log2(1 + np.divide(H_DR_Square * min_PD,sigma_square_R))\n",
    "        \n",
    "        total_capacity = total_capacity + capacity\n",
    "        \n",
    "    return total_capacity\n",
    "        \n",
    "        \n",
    "    "
   ]
  },
  {
   "cell_type": "code",
   "execution_count": 10,
   "id": "fd7fda31",
   "metadata": {},
   "outputs": [],
   "source": [
    "def covert_rate():\n",
    "    \n",
    "    for jj in range(len(PD)):\n",
    "\n",
    "        H_DR_Square = L_DR *np.abs((1/np.sqrt(2)) * (np.random.randn()+1j * np.random.randn()))\n",
    "\n",
    "        power_destination = 10**(PS[jj] / 10)\n",
    "\n",
    "        capacity = calculate_capacity(power_destination,H_DR_Square)\n",
    "        \n",
    "        capacity = capacity / N\n",
    "        \n",
    "        covert_capacity[jj] = capacity\n",
    "        \n",
    "    return covert_capacity\n",
    "        \n",
    "        "
   ]
  },
  {
   "cell_type": "code",
   "execution_count": 11,
   "id": "302e0f8d",
   "metadata": {},
   "outputs": [
    {
     "data": {
      "text/plain": [
       "array([17.90284728, 18.58361612, 19.59034315, 17.91504766, 19.14430961,\n",
       "       20.66420222, 20.3301169 , 20.06880588, 19.56816791, 20.99681904,\n",
       "       22.55912773, 22.40007088, 20.63548952, 22.83089071, 22.91414178,\n",
       "       22.63237059, 22.8752155 , 22.99672641, 24.31156642, 24.79460137,\n",
       "       24.41073686, 25.54580906, 25.21386398, 25.28703535, 25.38767628,\n",
       "       26.71359981, 25.61810538, 27.40692882, 27.47594342, 27.37760824,\n",
       "       28.03691772, 28.18920511, 27.87417207, 29.95041408, 28.3545096 ,\n",
       "       27.47808157, 30.06437048, 27.98538922, 29.01834908, 31.26167841,\n",
       "       31.62012301, 31.79179496, 32.11806807, 30.8099446 , 32.79433216,\n",
       "       32.7150376 , 33.59676595, 34.59451969, 34.3795603 , 34.77987373])"
      ]
     },
     "execution_count": 11,
     "metadata": {},
     "output_type": "execute_result"
    }
   ],
   "source": [
    "covert_rate()"
   ]
  },
  {
   "cell_type": "code",
   "execution_count": null,
   "id": "ae249cea",
   "metadata": {},
   "outputs": [],
   "source": []
  }
 ],
 "metadata": {
  "kernelspec": {
   "display_name": "Python 3 (ipykernel)",
   "language": "python",
   "name": "python3"
  },
  "language_info": {
   "codemirror_mode": {
    "name": "ipython",
    "version": 3
   },
   "file_extension": ".py",
   "mimetype": "text/x-python",
   "name": "python",
   "nbconvert_exporter": "python",
   "pygments_lexer": "ipython3",
   "version": "3.9.12"
  }
 },
 "nbformat": 4,
 "nbformat_minor": 5
}
