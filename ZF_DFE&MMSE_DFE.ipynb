{
 "cells": [
  {
   "cell_type": "code",
   "execution_count": 1,
   "id": "64fc61fa",
   "metadata": {},
   "outputs": [],
   "source": [
    "import numpy as np\n",
    "import matplotlib.pyplot as plt"
   ]
  },
  {
   "cell_type": "code",
   "execution_count": 2,
   "id": "c4205682",
   "metadata": {},
   "outputs": [],
   "source": [
    "N = 10**6"
   ]
  },
  {
   "cell_type": "code",
   "execution_count": 3,
   "id": "be56f38d",
   "metadata": {},
   "outputs": [],
   "source": [
    "ip = np.random.randn(N) > 0"
   ]
  },
  {
   "cell_type": "code",
   "execution_count": 4,
   "id": "4b627f3e",
   "metadata": {},
   "outputs": [],
   "source": [
    "s = 2 * ip - 1"
   ]
  },
  {
   "cell_type": "code",
   "execution_count": 5,
   "id": "ea6be203",
   "metadata": {},
   "outputs": [],
   "source": [
    "eb_no_db = np.arange(5,30)"
   ]
  },
  {
   "cell_type": "code",
   "execution_count": 6,
   "id": "6d8d712e",
   "metadata": {},
   "outputs": [],
   "source": [
    "bit_error_ZF_DFE = np.zeros(len(eb_no_db))\n",
    "bit_error_MMSE_DFE = np.zeros(len(eb_no_db))"
   ]
  },
  {
   "cell_type": "code",
   "execution_count": null,
   "id": "51028e70",
   "metadata": {},
   "outputs": [],
   "source": [
    "def ZF_DFE():\n",
    "    \n",
    "    for jj in range(len(eb_no_db)):\n",
    "        \n",
    "        nErr = 0\n",
    "        \n",
    "        equalize_bits = []\n",
    "        \n",
    "        for ii in range(N//2):\n",
    "            \n",
    "            h11 = (1/np.sqrt(2)) * (np.random.randn()+1j * np.random.randn())\n",
    "            \n",
    "            h12 = (1/np.sqrt(2)) * (np.random.randn()+1j * np.random.randn())\n",
    "            \n",
    "            h21 = (1/np.sqrt(2)) * (np.random.randn() + 1j * np.random.randn())\n",
    "            \n",
    "            h22 = (1/np.sqrt(2)) * (np.random.randn() + 1j * np.random.randn())\n",
    "            \n",
    "            H = np.array([[h11, h21],\n",
    "                          \n",
    "                        [h21, h22]])\n",
    "            n1 = (1/np.sqrt(2)) * (np.random.randn() + 1j * np.random.randn())\n",
    "            \n",
    "            n2 = (1/np.sqrt(2)) * (np.random.randn() + 1j * np.random.randn())\n",
    "            \n",
    "            n = np.array([[n1],\n",
    "                          [n2]])\n",
    "            \n",
    "            x1 = s[2 * ii]\n",
    "            \n",
    "            x2 = s[2 * ii + 1]\n",
    "            \n",
    "            x = np.array([[x1], \n",
    "                          [x2]]) \n",
    "            \n",
    "            y = (1/np.sqrt(2)) * np.dot(H,x) + n * (10 ** (-eb_no_db[jj] / 20))\n",
    "            \n",
    "            # forming pseudo inverse for zero forcing\n",
    "            \n",
    "            H_conjugate = np.conjugate(H)\n",
    "            \n",
    "            H_hermitian = np.transpose(H_conjugate)\n",
    "            \n",
    "            H_hermitian_times_H = np.dot(H_hermitian,H)\n",
    "            \n",
    "            H_hermitian_times_H_inverse = np.linalg.pinv(H_hermitian_times_H)\n",
    "            \n",
    "            W = np.dot(H_hermitian_times_H_inverse,H_hermitian)\n",
    "            \n",
    "            x_hat = np.dot(W,y)\n",
    "            \n",
    "            #up to zero forcing algorithm\n",
    "            \n",
    "            Px1 = np.abs(h11)**2 + np.abs(h21)**2\n",
    "            \n",
    "            Px2 = np.abs(h12)**2 + np.abs(h22)**2\n",
    "            \n",
    "            if Px1 > Px2:\n",
    "                \n",
    "                h1 = np.array([[h11],[h21]]) #x1 travel channel\n",
    "                \n",
    "                h2 = np.array([[h12],[h22]]) # remaining channel after substract\n",
    "                \n",
    "                x1_hat = x_hat[0,0]\n",
    "                \n",
    "                hx = np.dot(h1,x1_hat)\n",
    "                \n",
    "                r = y - hx"
   ]
  }
 ],
 "metadata": {
  "kernelspec": {
   "display_name": "Python 3 (ipykernel)",
   "language": "python",
   "name": "python3"
  },
  "language_info": {
   "codemirror_mode": {
    "name": "ipython",
    "version": 3
   },
   "file_extension": ".py",
   "mimetype": "text/x-python",
   "name": "python",
   "nbconvert_exporter": "python",
   "pygments_lexer": "ipython3",
   "version": "3.9.12"
  }
 },
 "nbformat": 4,
 "nbformat_minor": 5
}
