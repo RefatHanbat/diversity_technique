{
 "cells": [
  {
   "cell_type": "code",
   "execution_count": 1,
   "id": "581ecd6e",
   "metadata": {},
   "outputs": [],
   "source": [
    "import numpy as np\n",
    "import matplotlib.pyplot as plt"
   ]
  },
  {
   "cell_type": "code",
   "execution_count": 2,
   "id": "e4cc80e2",
   "metadata": {},
   "outputs": [],
   "source": [
    "N = 1000"
   ]
  },
  {
   "cell_type": "code",
   "execution_count": 3,
   "id": "3da2e44b",
   "metadata": {},
   "outputs": [],
   "source": [
    "ip = np.random.rand(N) > 0.5\n",
    "ip = ip.astype(int)"
   ]
  },
  {
   "cell_type": "code",
   "execution_count": 4,
   "id": "732024ba",
   "metadata": {},
   "outputs": [],
   "source": [
    "Es = 1"
   ]
  },
  {
   "cell_type": "code",
   "execution_count": 5,
   "id": "80c0644f",
   "metadata": {},
   "outputs": [],
   "source": [
    "eb_no_db = np.arange(0,25)"
   ]
  },
  {
   "cell_type": "code",
   "execution_count": 6,
   "id": "24a8bdef",
   "metadata": {},
   "outputs": [
    {
     "ename": "SyntaxError",
     "evalue": "invalid syntax (2771122883.py, line 13)",
     "output_type": "error",
     "traceback": [
      "\u001b[1;36m  Input \u001b[1;32mIn [6]\u001b[1;36m\u001b[0m\n\u001b[1;33m    summation_part =\u001b[0m\n\u001b[1;37m                    ^\u001b[0m\n\u001b[1;31mSyntaxError\u001b[0m\u001b[1;31m:\u001b[0m invalid syntax\n"
     ]
    }
   ],
   "source": [
    "def find_optimal_Q(noise_variance,S):\n",
    "    \n",
    "    summation = 0\n",
    "    \n",
    "    mu = Es + np.divide(noise_variance,np.square(S[0]))\n",
    "    \n",
    "    q_opt = mu - np.divide(noise_variance,np.square(S[0]))\n",
    "    \n",
    "    ii = 0\n",
    "    \n",
    "    while(ii <= len(S)):\n",
    "        \n",
    "        summation_part =\n",
    "        \n",
    "    \n",
    "    \n",
    "        \n",
    "        \n",
    "    \n",
    "        \n",
    "        \n",
    "    \n",
    "    \n",
    "    \n",
    "    "
   ]
  },
  {
   "cell_type": "code",
   "execution_count": null,
   "id": "6f5ecfb5",
   "metadata": {},
   "outputs": [],
   "source": [
    "def water_filling():\n",
    "    \n",
    "    for jj in range(len(eb_no_db)):\n",
    "        \n",
    "        snr = 10**(eb_no_db[jj] / 10)\n",
    "        \n",
    "        nTx = 10\n",
    "        \n",
    "        nRx = 10\n",
    "    \n",
    "        noise_variance = (1/snr)\n",
    "        \n",
    "        total_capacity = 0\n",
    "        \n",
    "        for ii in range(N):\n",
    "            \n",
    "            H = (1/np.sqrt(2)) * (np.random.randn(nRx,nTx) + 1j * np.random.randn(nRx,nTx))\n",
    "            \n",
    "            H_hermitian = np.conjugate(H)\n",
    "            \n",
    "            H_hermitian = np.transpose(H_hermitian)\n",
    "            \n",
    "            U,S,Vh = np.linalg.svd(H)\n",
    "            \n",
    "            V = np.conjugate(Vh)\n",
    "            \n",
    "            V = np.transpose(V)\n",
    "            \n",
    "            optimal_Q = find_optimal_Q(noise_variance,S)\n",
    "            \n",
    "            "
   ]
  },
  {
   "cell_type": "code",
   "execution_count": null,
   "id": "adc8312d",
   "metadata": {},
   "outputs": [],
   "source": [
    "water_filling()"
   ]
  },
  {
   "cell_type": "code",
   "execution_count": 8,
   "id": "e1213221",
   "metadata": {},
   "outputs": [
    {
     "name": "stdout",
     "output_type": "stream",
     "text": [
      "[5.81453412 6.72237695 7.65720236]\n"
     ]
    }
   ],
   "source": [
    "import numpy as np\n",
    "\n",
    "def sigma_four(noise_variance, S, q_optimal_3):\n",
    "    mu = calculate_mu(noise_variance, S)\n",
    "    sigma_four_q = calculate_sigma_q(mu, noise_variance, S, q_optimal_3)\n",
    "    return sigma_four_q\n",
    "\n",
    "def sigma_three(noise_variance, S, q_optimal_2):\n",
    "    mu = calculate_mu(noise_variance, S)\n",
    "    sigma_three_q = calculate_sigma_q(mu, noise_variance, S, q_optimal_2)\n",
    "    return sigma_three_q\n",
    "\n",
    "def sigma_two(noise_variance, S, q_optimal_1):\n",
    "    mu = calculate_mu(noise_variance, S)\n",
    "    sigma_two_q = calculate_sigma_q(mu, noise_variance, S, q_optimal_1)\n",
    "    return sigma_two_q\n",
    "\n",
    "def sigma_one(noise_variance, S):\n",
    "    mu = calculate_mu(noise_variance, S)\n",
    "    q_optimal = mu - (noise_variance / np.square(S[0]))\n",
    "    return [q_optimal] if q_optimal > 0 else []\n",
    "\n",
    "def calculate_mu(noise_variance, S):\n",
    "    summation_part = sum(noise_variance / np.square(s) for s in S)\n",
    "    return (1 / len(S)) * (Es + summation_part)\n",
    "\n",
    "def calculate_sigma_q(mu, noise_variance, S, q_optimal):\n",
    "    sigma_q = []\n",
    "    for s in S:\n",
    "        q_i = mu - (noise_variance / np.square(s))\n",
    "        if q_i > 0:\n",
    "            sigma_q.append(q_i)\n",
    "        else:\n",
    "            return q_optimal.copy()\n",
    "    return sigma_q\n",
    "\n",
    "def diagonalQ(noise_variance, S):\n",
    "    q_optimal_1 = sigma_one(noise_variance, [S[0]])\n",
    "    q_optimal_2 = sigma_two(noise_variance, S[:2], q_optimal_1)\n",
    "    q_optimal_3 = sigma_three(noise_variance, S[:3], q_optimal_2)\n",
    "    q_optimal_4 = sigma_four(noise_variance, S, q_optimal_3)\n",
    "    return q_optimal_4\n",
    "\n",
    "def capacity_Rs(eb_no_db, nTx, nRx):\n",
    "    capacity_rate = np.zeros(len(eb_no_db))\n",
    "    for jj in range(len(eb_no_db)):\n",
    "        snr = 10 ** (eb_no_db[jj] / 10)\n",
    "        Rz = 10 ** (-eb_no_db[jj] / 10) * np.eye(nRx)\n",
    "        Rz_inverse = np.linalg.inv(Rz)\n",
    "        Rs = (Es / nTx) * np.eye(nTx)\n",
    "        capacity = 0\n",
    "        for ii in range(N):\n",
    "            H = (1 / np.sqrt(2)) * (np.random.randn(nTx, nRx) + 1j * np.random.randn(nTx, nRx))\n",
    "            H_hermitian = np.conjugate(H)\n",
    "            H_hermitian = np.transpose(H_hermitian)\n",
    "            X = np.dot(np.dot(np.dot(Rz_inverse, H), Rs), H_hermitian)\n",
    "            Y = np.eye(nRx)\n",
    "            Z = X + Y\n",
    "            c = np.log2(np.abs(np.linalg.det(Z)))\n",
    "            capacity += c\n",
    "        capacity = capacity / N\n",
    "        capacity_rate[jj] = capacity\n",
    "    return capacity_rate\n",
    "\n",
    "# Example usage\n",
    "Es = 1.0\n",
    "N = 1000\n",
    "eb_no_db = [1, 2, 3]\n",
    "nTx = 6\n",
    "nRx = 6\n",
    "capacity_rate = capacity_Rs(eb_no_db, nTx, nRx)\n",
    "print(capacity_rate)\n"
   ]
  },
  {
   "cell_type": "code",
   "execution_count": null,
   "id": "7cab1fd1",
   "metadata": {},
   "outputs": [],
   "source": []
  }
 ],
 "metadata": {
  "kernelspec": {
   "display_name": "Python 3 (ipykernel)",
   "language": "python",
   "name": "python3"
  },
  "language_info": {
   "codemirror_mode": {
    "name": "ipython",
    "version": 3
   },
   "file_extension": ".py",
   "mimetype": "text/x-python",
   "name": "python",
   "nbconvert_exporter": "python",
   "pygments_lexer": "ipython3",
   "version": "3.9.12"
  }
 },
 "nbformat": 4,
 "nbformat_minor": 5
}
