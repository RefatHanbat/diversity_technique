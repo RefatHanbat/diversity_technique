{
 "cells": [
  {
   "cell_type": "code",
   "execution_count": 1,
   "id": "9859a39f",
   "metadata": {},
   "outputs": [],
   "source": [
    "import numpy as np\n",
    "import matplotlib.pyplot as plt"
   ]
  },
  {
   "cell_type": "code",
   "execution_count": 2,
   "id": "e9976865",
   "metadata": {},
   "outputs": [],
   "source": [
    "N = 2"
   ]
  },
  {
   "cell_type": "code",
   "execution_count": 3,
   "id": "e1befd9b",
   "metadata": {},
   "outputs": [],
   "source": [
    "ip = np.random.rand(N) > 0.5\n",
    "ip = ip.astype(int)"
   ]
  },
  {
   "cell_type": "code",
   "execution_count": 4,
   "id": "2d3eb08c",
   "metadata": {},
   "outputs": [],
   "source": [
    "Es = 1"
   ]
  },
  {
   "cell_type": "code",
   "execution_count": 5,
   "id": "fa62c0fd",
   "metadata": {},
   "outputs": [],
   "source": [
    "eb_no_db = np.arange(5)"
   ]
  },
  {
   "cell_type": "code",
   "execution_count": 6,
   "id": "b28da731",
   "metadata": {},
   "outputs": [],
   "source": [
    "capacity_rate_CSIT_reduced = np.zeros(len(eb_no_db))"
   ]
  },
  {
   "cell_type": "code",
   "execution_count": 7,
   "id": "1474002b",
   "metadata": {},
   "outputs": [],
   "source": [
    "def q_optimal(S, noise_variance, Es):\n",
    "    \n",
    "    mu = 0\n",
    "    \n",
    "    q = []\n",
    "    \n",
    "\n",
    "    for kk in range(len(S)):\n",
    "        \n",
    "        mu += Es + noise_variance / np.square(S[kk])\n",
    "        \n",
    "        qi = mu - noise_variance / np.square(S[kk])\n",
    "        \n",
    "\n",
    "        if qi > 0:\n",
    "            \n",
    "            q.append(qi)\n",
    "            \n",
    "            mu = mu\n",
    "        else:\n",
    "            break\n",
    "\n",
    "    return q\n"
   ]
  },
  {
   "cell_type": "code",
   "execution_count": 8,
   "id": "fb6842b6",
   "metadata": {},
   "outputs": [],
   "source": [
    "# def q_optimal(S,noise_variance,Es):\n",
    "    \n",
    "    \n",
    "    \n",
    "#     mu = 0\n",
    "    \n",
    "#     Es = Es\n",
    "    \n",
    "#     noise_variance = noise_variance\n",
    "    \n",
    "#     S = S\n",
    "    \n",
    "#     q = []\n",
    "    \n",
    "#     length_S = len(S)\n",
    "    \n",
    "#     for kk in range(length_S):\n",
    "        \n",
    "# #         mu = mu + (Es + np.divide(noise_variance,np.square(S[kk])))\n",
    "\n",
    "#         mu = (Es + np.divide(noise_variance,np.square(S[kk])))\n",
    "\n",
    "#         qi = mu - np.divide(noise_variance,np.square(S[kk]))\n",
    "        \n",
    "#         if(qi > 0):\n",
    "            \n",
    "# #             mu = mu\n",
    "            \n",
    "#             q.append(qi)\n",
    "        \n",
    "#         for ii in range(len(S)-1):\n",
    "            \n",
    "#             qi = mu - np.divide(noise_variance,np.square(S[ii+1]))\n",
    "            \n",
    "#             if(qi > 0):\n",
    "                \n",
    "#                 q.append(qi)\n",
    "                \n",
    "#                 mu = mu + (Es + np.divide(noise_variance,np.square(S[ii+1])))\n",
    "                \n",
    "#                 length_S = length_S + 1\n",
    "                \n",
    "#                 for pp in range(len(S)-2):\n",
    "                    \n",
    "#                     qi = mu - np.divide(noise_variance,np.square(S[pp+2]))\n",
    "                    \n",
    "#                     if( qi > 0 ):\n",
    "                        \n",
    "#                         q.append(qi)\n",
    "                        \n",
    "#                         mu = mu + (Es + np.divide(noise_variance,np.square(S[pp+2])))\n",
    "                        \n",
    "#                         length_S = length_S + 1\n",
    "                        \n",
    "#                     else:\n",
    "                        \n",
    "#                         break\n",
    "                    \n",
    "#                     for uu in range(len(S) - 3):\n",
    "                        \n",
    "#                         qi = mu - np.divide(noise_variance,np.square(S[uu+3]))\n",
    "                        \n",
    "#                         if(qi > 0):\n",
    "                        \n",
    "#                             q.append(qi)\n",
    "\n",
    "#                             mu = mu + (Es + np.divide(noise_variance,np.square(S[uu+3])))\n",
    "                            \n",
    "#                             length_S = length_S + 1\n",
    "#                         else:\n",
    "                            \n",
    "#                             break\n",
    "                        \n",
    "                        \n",
    "                    \n",
    "                \n",
    "#             else :\n",
    "                \n",
    "#                 break\n",
    "            \n",
    "#         else:\n",
    "            \n",
    "#             break\n",
    "            \n",
    "#     return q\n"
   ]
  },
  {
   "cell_type": "code",
   "execution_count": 9,
   "id": "9d434a16",
   "metadata": {},
   "outputs": [],
   "source": [
    "def water_filling(nTx,nRx,noise_variance,Es):\n",
    "    \n",
    "    total_capacity = 0\n",
    "    \n",
    "    for ii in range(N):\n",
    "        \n",
    "        H = (1/np.sqrt(2)) * (np.random.randn(nTx,nRx) + 1j * np.random.randn(nTx,nRx))\n",
    "        \n",
    "        U,S,Vh = np.linalg.svd(H)\n",
    "        \n",
    "        q_optimal_values = q_optimal(S,noise_variance,Es)\n",
    "        \n",
    "        print(q_optimal_values)\n",
    "        \n",
    "        \n",
    "#         for nn in range(len(q_optimal_values)):\n",
    "            \n",
    "#             c = np.log2(1 + (1/noise_variance) * np.square(S[nn]) * q_optimal_values[nn] )\n",
    "            \n",
    "#             total_capacity = total_capacity + c\n",
    "            \n",
    "#     return total_capacity"
   ]
  },
  {
   "cell_type": "code",
   "execution_count": 10,
   "id": "48ed3d1e",
   "metadata": {},
   "outputs": [],
   "source": [
    "def Reduced_CSIT():\n",
    "    \n",
    "    for jj in range(len(eb_no_db)):\n",
    "        \n",
    "        nTx = 4\n",
    "        \n",
    "        nRx = 4\n",
    "        \n",
    "        Es = 1\n",
    "        \n",
    "        noise_variance = 10**(-eb_no_db[jj] / 10)\n",
    "        \n",
    "        Capacity = water_filling(nTx,nRx,noise_variance,Es) \n",
    "        \n",
    "        print(Capacity)\n",
    "        \n",
    "#         capacity_rate_CSIT_reduced[jj] = Capacity / N\n",
    "        \n",
    "#     return capacity_rate_CSIT_reduced\n",
    "        \n",
    "        \n",
    "        \n",
    "        "
   ]
  },
  {
   "cell_type": "code",
   "execution_count": 11,
   "id": "2b35ca91",
   "metadata": {},
   "outputs": [
    {
     "name": "stdout",
     "output_type": "stream",
     "text": [
      "[0.9999999999999999, 2.084922307178354, 3.708855358403036, 6.052997031760778]\n",
      "[1.0, 2.090706314774763, 3.230705262689505, 4.8776949696436445]\n",
      "None\n",
      "[1.0, 2.07134232089939, 3.215607023805479, 4.6952475838859336]\n",
      "[1.0, 2.075864746352436, 3.1794106514949494, 4.5606518046458895]\n",
      "None\n",
      "[1.0, 2.0596508863301684, 3.198372042657238, 4.548054698112649]\n",
      "[1.0, 2.082871141895975, 3.203791287029218, 4.719343486515317]\n",
      "None\n",
      "[1.0, 2.063285677348984, 3.1517373636357675, 4.30618654500564]\n",
      "[1.0, 2.05130939729443, 3.1523415259179615, 4.5232998700832]\n",
      "None\n",
      "[0.9999999999999999, 2.033778951616349, 3.10743128962159, 4.290890098427225]\n",
      "[1.0, 2.0879508163696423, 3.204381521212709, 4.493785170136865]\n",
      "None\n",
      "None\n"
     ]
    }
   ],
   "source": [
    "reduced_capacity = Reduced_CSIT()\n",
    "print(reduced_capacity)\n",
    "# plt.figure()\n",
    "# plt.plot(eb_no_db, reduced_capacity, 'ko-', linewidth=2, markersize=4, label='nTx=4 nRx=4 (mimo with csit using Q)')\n",
    "# plt.grid(True)\n",
    "\n",
    "# plt.legend()\n",
    "\n",
    "# plt.xlabel('Eb/No, dB')\n",
    "\n",
    "# plt.ylabel('Average Capacity')\n",
    "\n",
    "# plt.title('SNR-dB')\n",
    "\n",
    "# plt.show()"
   ]
  },
  {
   "cell_type": "code",
   "execution_count": null,
   "id": "de6a3efc",
   "metadata": {},
   "outputs": [],
   "source": []
  },
  {
   "cell_type": "code",
   "execution_count": null,
   "id": "cda8509a",
   "metadata": {},
   "outputs": [],
   "source": []
  }
 ],
 "metadata": {
  "kernelspec": {
   "display_name": "Python 3 (ipykernel)",
   "language": "python",
   "name": "python3"
  },
  "language_info": {
   "codemirror_mode": {
    "name": "ipython",
    "version": 3
   },
   "file_extension": ".py",
   "mimetype": "text/x-python",
   "name": "python",
   "nbconvert_exporter": "python",
   "pygments_lexer": "ipython3",
   "version": "3.9.12"
  }
 },
 "nbformat": 4,
 "nbformat_minor": 5
}
