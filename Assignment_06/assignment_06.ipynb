{
 "cells": [
  {
   "cell_type": "code",
   "execution_count": 1,
   "id": "81e0efa9",
   "metadata": {},
   "outputs": [],
   "source": [
    "import numpy as np\n",
    "import matplotlib.pyplot as plt"
   ]
  },
  {
   "cell_type": "code",
   "execution_count": 2,
   "id": "517f3912",
   "metadata": {},
   "outputs": [],
   "source": [
    "N = 10000"
   ]
  },
  {
   "cell_type": "code",
   "execution_count": 3,
   "id": "7d7357b7",
   "metadata": {},
   "outputs": [],
   "source": [
    "ip = np.random.rand(N) > 0.5\n",
    "ip = ip.astype(int)"
   ]
  },
  {
   "cell_type": "code",
   "execution_count": 4,
   "id": "67a4882a",
   "metadata": {},
   "outputs": [],
   "source": [
    "s = 2 * ip - 1"
   ]
  },
  {
   "cell_type": "code",
   "execution_count": 5,
   "id": "661a2518",
   "metadata": {},
   "outputs": [],
   "source": [
    "Es = 1"
   ]
  },
  {
   "cell_type": "code",
   "execution_count": 6,
   "id": "01aec4b7",
   "metadata": {},
   "outputs": [],
   "source": [
    "eb_no_db = np.arange(0,25)\n"
   ]
  },
  {
   "cell_type": "code",
   "execution_count": 7,
   "id": "050852ce",
   "metadata": {},
   "outputs": [],
   "source": [
    "capacity_rate = np.zeros(len(eb_no_db))\n",
    "capacity_rate_reduced = np.zeros(len(eb_no_db))"
   ]
  },
  {
   "cell_type": "code",
   "execution_count": 8,
   "id": "4180de00",
   "metadata": {},
   "outputs": [],
   "source": [
    "# snr = 10**eb_no_db/10"
   ]
  },
  {
   "cell_type": "code",
   "execution_count": 9,
   "id": "24b49a9f",
   "metadata": {},
   "outputs": [],
   "source": [
    "def Capacity_Rs():\n",
    "    \n",
    "    capacity_rate = np.zeros(len(eb_no_db))  # Initialize an array to store results\n",
    "    \n",
    "    for jj in range(len(eb_no_db)):\n",
    "        \n",
    "        nTx = 4\n",
    "        \n",
    "        nRx = 4\n",
    "        \n",
    "        snr = 10**(eb_no_db[jj] / 10)\n",
    "        \n",
    "        Rz = 10**(-eb_no_db[jj] / 10) * np.eye(nRx)\n",
    "        \n",
    "        Rz_inverse = np.linalg.inv(Rz)\n",
    "        \n",
    "        Rs = np.divide(Es, nTx) * np.eye(nTx)\n",
    "        \n",
    "        capacity = 0\n",
    "        \n",
    "        for ii in range(N):\n",
    "            \n",
    "            h11 = (1/np.sqrt(2)) * (np.random.randn() + 1j * np.random.randn())\n",
    "            \n",
    "            h12 = (1/np.sqrt(2)) * (np.random.randn() + 1j * np.random.randn())\n",
    "            \n",
    "            h13 = (1/np.sqrt(2)) * (np.random.randn() + 1j * np.random.randn())\n",
    "            \n",
    "            h14 = (1/np.sqrt(2)) * (np.random.randn() + 1j * np.random.randn())\n",
    "            \n",
    "            h21 = (1/np.sqrt(2)) * (np.random.randn() + 1j * np.random.randn())\n",
    "            \n",
    "            h22 = (1/np.sqrt(2)) * (np.random.randn() + 1j * np.random.randn())\n",
    "            \n",
    "            h23 = (1/np.sqrt(2)) * (np.random.randn() + 1j * np.random.randn())\n",
    "            \n",
    "            h24 = (1/np.sqrt(2)) * (np.random.randn() + 1j * np.random.randn())\n",
    "            \n",
    "            h31 = (1/np.sqrt(2)) * (np.random.randn() + 1j * np.random.randn())\n",
    "            \n",
    "            h32 = (1/np.sqrt(2)) * (np.random.randn() + 1j * np.random.randn())\n",
    "            \n",
    "            h33 = (1/np.sqrt(2)) * (np.random.randn() + 1j * np.random.randn())\n",
    "            \n",
    "            h34 = (1/np.sqrt(2)) * (np.random.randn() + 1j * np.random.randn())\n",
    "            \n",
    "            h41 = (1/np.sqrt(2)) * (np.random.randn() + 1j * np.random.randn())\n",
    "            \n",
    "            h42 = (1/np.sqrt(2)) * (np.random.randn() + 1j * np.random.randn())\n",
    "            \n",
    "            h43 = (1/np.sqrt(2)) * (np.random.randn() + 1j * np.random.randn())\n",
    "            \n",
    "            h44 = (1/np.sqrt(2)) * (np.random.randn() + 1j * np.random.randn())\n",
    "            \n",
    "            H = np.array([[h11, h12, h13, h14],\n",
    "                          [h21, h22, h23, h24],\n",
    "                          [h31, h32, h33, h34],\n",
    "                          [h41, h42, h43, h44]])\n",
    "    \n",
    "            H_hermitian = np.conjugate(H)\n",
    "        \n",
    "            H_hermitian = np.transpose(H_hermitian)\n",
    "            \n",
    "            X = np.dot(np.dot(np.dot(Rz_inverse, H), Rs), H_hermitian)\n",
    "            \n",
    "            Y = np.eye(4)\n",
    "            \n",
    "            Z = X + Y\n",
    "            \n",
    "            c = np.log2(np.abs(np.linalg.det(Z)))\n",
    "            \n",
    "            capacity += c\n",
    "\n",
    "        capacity =capacity / N\n",
    "        \n",
    "        capacity_rate[jj] = capacity\n",
    "        \n",
    "        \n",
    "\n",
    "    return capacity_rate\n"
   ]
  },
  {
   "cell_type": "code",
   "execution_count": 10,
   "id": "5752b008",
   "metadata": {},
   "outputs": [],
   "source": [
    "def capacity_reduced_form():\n",
    "    \n",
    "    for jj in range(len(eb_no_db)):\n",
    "        \n",
    "        nTx = 4\n",
    "        \n",
    "        nRx = 4\n",
    "        \n",
    "        Rz = 10**(-eb_no_db[jj] / 10) * np.eye(nRx)\n",
    "        \n",
    "        Rz_inverse = np.linalg.inv(Rz)\n",
    "        \n",
    "        capacity = 0\n",
    "        \n",
    "        for ii in range(N):\n",
    "            \n",
    "            H = (1/np.sqrt(2)) * (np.random.randn(nTx,nRx) + 1j * np.random.randn(nTx,nRx))\n",
    "            \n",
    "            H_v = H.flatten()\n",
    "            \n",
    "            H_var = np.var(H_v)\n",
    "            \n",
    "            noise_variance = 10**(-eb_no_db[jj] / 10)\n",
    "        \n",
    "            c=np.log2(1 + (Es/nTx)*(1/noise_variance)*H_var)\n",
    "            \n",
    "            capacity = capacity + c\n",
    "        \n",
    "        capacity = capacity / N\n",
    "        \n",
    "        capacity_rate_reduced[jj] = capacity\n",
    "        \n",
    "    return capacity_rate_reduced\n",
    "            \n",
    "            "
   ]
  },
  {
   "cell_type": "code",
   "execution_count": 11,
   "id": "ff00cbf5",
   "metadata": {
    "scrolled": true
   },
   "outputs": [
    {
     "name": "stdout",
     "output_type": "stream",
     "text": [
      "[0.3018733  0.37055941 0.45412656 0.54747566 0.66268554 0.78903302\n",
      " 0.93652419 1.10734309 1.29353098 1.49814573 1.7166635  1.95820033\n",
      " 2.21016216 2.47245398 2.74506228 3.03927663 3.32701534 3.63027298\n",
      " 3.93747242 4.24999456 4.56305459 4.87994086 5.20795537 5.53046617\n",
      " 5.85810372]\n"
     ]
    },
    {
     "data": {
      "image/png": "[encoded data removed]",
      "text/plain": [
       "<Figure size 432x288 with 1 Axes>"
      ]
     },
     "metadata": {
      "needs_background": "light"
     },
     "output_type": "display_data"
    }
   ],
   "source": [
    "capacity = Capacity_Rs() \n",
    "capacity_reduced_form = capacity_reduced_form()\n",
    "print(capacity_reduced_form)\n",
    "plt.figure()\n",
    "\n",
    "plt.plot(eb_no_db, capacity, 'r^-', linewidth=2, markersize=8, label='nTx=4 nRx=4 (capacity)')\n",
    "\n",
    "plt.plot(eb_no_db, capacity_reduced_form, 'g^-', linewidth=2, markersize=8, label='nTx=4 nRx=4 (capacity)')\n",
    "\n",
    "plt.grid(True)\n",
    "\n",
    "plt.legend()\n",
    "\n",
    "plt.xlabel('Eb/No, dB')\n",
    "\n",
    "plt.ylabel('Average Capacity')\n",
    "\n",
    "plt.title('SNR-dB')\n",
    "\n",
    "plt.show()"
   ]
  },
  {
   "cell_type": "code",
   "execution_count": null,
   "id": "db5b6eb0",
   "metadata": {},
   "outputs": [],
   "source": []
  },
  {
   "cell_type": "code",
   "execution_count": null,
   "id": "5937452d",
   "metadata": {},
   "outputs": [],
   "source": []
  }
 ],
 "metadata": {
  "kernelspec": {
   "display_name": "Python 3 (ipykernel)",
   "language": "python",
   "name": "python3"
  },
  "language_info": {
   "codemirror_mode": {
    "name": "ipython",
    "version": 3
   },
   "file_extension": ".py",
   "mimetype": "text/x-python",
   "name": "python",
   "nbconvert_exporter": "python",
   "pygments_lexer": "ipython3",
   "version": "3.9.12"
  }
 },
 "nbformat": 4,
 "nbformat_minor": 5
}
