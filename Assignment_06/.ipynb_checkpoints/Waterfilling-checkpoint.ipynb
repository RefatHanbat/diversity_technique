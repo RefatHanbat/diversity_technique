{
 "cells": [
  {
   "cell_type": "code",
   "execution_count": 1,
   "id": "9859a39f",
   "metadata": {},
   "outputs": [],
   "source": [
    "import numpy as np\n",
    "import matplotlib.pyplot as plt"
   ]
  },
  {
   "cell_type": "code",
   "execution_count": 2,
   "id": "e9976865",
   "metadata": {},
   "outputs": [],
   "source": [
    "N = 1000"
   ]
  },
  {
   "cell_type": "code",
   "execution_count": 3,
   "id": "e1befd9b",
   "metadata": {},
   "outputs": [],
   "source": [
    "ip = np.random.rand(N) > 0.5\n",
    "ip = ip.astype(int)"
   ]
  },
  {
   "cell_type": "code",
   "execution_count": 4,
   "id": "2d3eb08c",
   "metadata": {},
   "outputs": [],
   "source": [
    "Es = 1"
   ]
  },
  {
   "cell_type": "code",
   "execution_count": 5,
   "id": "fa62c0fd",
   "metadata": {},
   "outputs": [],
   "source": [
    "eb_no_db = np.arange(0,5)"
   ]
  },
  {
   "cell_type": "code",
   "execution_count": 6,
   "id": "b28da731",
   "metadata": {},
   "outputs": [],
   "source": [
    "capacity_rate_CSIT_reduced = np.zeros(len(eb_no_db))"
   ]
  },
  {
   "cell_type": "code",
   "execution_count": 7,
   "id": "fb6842b6",
   "metadata": {},
   "outputs": [],
   "source": [
    "def q_optimal(S,noise_variance,Es):\n",
    "    \n",
    "    \n",
    "    \n",
    "    mu = 0\n",
    "    \n",
    "    q = []\n",
    "    \n",
    "    for kk in range(len(S)):\n",
    "        \n",
    "        mu = mu + Es + noise_variance/np.square(S[kk])\n",
    "        \n",
    "        qi = mu - noise_variance/np.square(S[kk])\n",
    "        \n",
    "        if(qi > 0):\n",
    "            \n",
    "            mu = mu\n",
    "            \n",
    "            q.append(qi)\n",
    "            \n",
    "        else:\n",
    "            \n",
    "            break\n",
    "            \n",
    "    return q\n",
    "        \n",
    "        \n",
    "    "
   ]
  },
  {
   "cell_type": "code",
   "execution_count": 8,
   "id": "9d434a16",
   "metadata": {},
   "outputs": [],
   "source": [
    "def water_filling(nTx,nRx,noise_variance,Es):\n",
    "    \n",
    "    total_capacity = 0\n",
    "    \n",
    "    for ii in range(N):\n",
    "        \n",
    "        H = (1/np.sqrt(2)) * (np.random.randn(nTx,nRx) + 1j * np.random.randn(nTx,nRx))\n",
    "        \n",
    "        U,S,Vh = np.linalg.svd(H)\n",
    "        \n",
    "        q_optimal_values = q_optimal(S,noise_variance,Es)\n",
    "        \n",
    "        \n",
    "        \n",
    "        for nn in range(len(q_optimal_values)):\n",
    "            \n",
    "            c = np.log2(1 + (1/noise_variance) * np.square(S[nn]) * q_optimal_values[nn] )\n",
    "            \n",
    "            total_capacity = total_capacity + c\n",
    "            \n",
    "    return total_capacity"
   ]
  },
  {
   "cell_type": "code",
   "execution_count": 9,
   "id": "48ed3d1e",
   "metadata": {},
   "outputs": [],
   "source": [
    "def Reduced_CSIT():\n",
    "    \n",
    "    for jj in range(len(eb_no_db)):\n",
    "        \n",
    "        nTx = 4\n",
    "        \n",
    "        nRx = 4\n",
    "        \n",
    "        Es = 1\n",
    "        \n",
    "        noise_variance = 10**(-eb_no_db[jj] / 10)\n",
    "        \n",
    "        Capacity = water_filling(nTx,nRx,noise_variance,Es)\n",
    "        \n",
    "        Capacity = Capacity \n",
    "        \n",
    "        print(Capacity)\n",
    "        \n",
    "        \n",
    "        "
   ]
  },
  {
   "cell_type": "code",
   "execution_count": 10,
   "id": "2b35ca91",
   "metadata": {},
   "outputs": [
    {
     "name": "stdout",
     "output_type": "stream",
     "text": [
      "10128.00651485161\n",
      "11221.19458508877\n",
      "12108.889254215415\n",
      "13317.381652995628\n",
      "14405.350187083997\n"
     ]
    }
   ],
   "source": [
    "Reduced_CSIT()"
   ]
  },
  {
   "cell_type": "code",
   "execution_count": null,
   "id": "de6a3efc",
   "metadata": {},
   "outputs": [],
   "source": []
  }
 ],
 "metadata": {
  "kernelspec": {
   "display_name": "Python 3 (ipykernel)",
   "language": "python",
   "name": "python3"
  },
  "language_info": {
   "codemirror_mode": {
    "name": "ipython",
    "version": 3
   },
   "file_extension": ".py",
   "mimetype": "text/x-python",
   "name": "python",
   "nbconvert_exporter": "python",
   "pygments_lexer": "ipython3",
   "version": "3.9.12"
  }
 },
 "nbformat": 4,
 "nbformat_minor": 5
}
