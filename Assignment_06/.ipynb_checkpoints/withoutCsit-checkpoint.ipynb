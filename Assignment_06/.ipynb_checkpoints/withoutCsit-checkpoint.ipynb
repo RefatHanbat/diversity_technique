{
 "cells": [
  {
   "cell_type": "code",
   "execution_count": 1,
   "id": "81e0efa9",
   "metadata": {},
   "outputs": [],
   "source": [
    "import numpy as np\n",
    "import matplotlib.pyplot as plt"
   ]
  },
  {
   "cell_type": "code",
   "execution_count": 2,
   "id": "517f3912",
   "metadata": {},
   "outputs": [],
   "source": [
    "N = 1000"
   ]
  },
  {
   "cell_type": "code",
   "execution_count": 3,
   "id": "7d7357b7",
   "metadata": {},
   "outputs": [],
   "source": [
    "ip = np.random.rand(N) > 0.5\n",
    "ip = ip.astype(int)"
   ]
  },
  {
   "cell_type": "code",
   "execution_count": 4,
   "id": "661a2518",
   "metadata": {},
   "outputs": [],
   "source": [
    "Es = 1"
   ]
  },
  {
   "cell_type": "code",
   "execution_count": 5,
   "id": "01aec4b7",
   "metadata": {},
   "outputs": [],
   "source": [
    "eb_no_db = np.arange(0,25)\n"
   ]
  },
  {
   "cell_type": "code",
   "execution_count": 12,
   "id": "050852ce",
   "metadata": {},
   "outputs": [],
   "source": [
    "capacity_rate = np.zeros(len(eb_no_db))\n",
    "\n",
    "capacity_rate_reduced = np.zeros(len(eb_no_db))\n"
   ]
  },
  {
   "cell_type": "code",
   "execution_count": 7,
   "id": "4180de00",
   "metadata": {},
   "outputs": [],
   "source": [
    "# snr = 10**eb_no_db/10"
   ]
  },
  {
   "cell_type": "code",
   "execution_count": 8,
   "id": "24b49a9f",
   "metadata": {},
   "outputs": [],
   "source": [
    "def Capacity_Rs():\n",
    "    \n",
    "    \n",
    "    \n",
    "    for jj in range(len(eb_no_db)):\n",
    "        \n",
    "        nTx = 4\n",
    "        \n",
    "        nRx = 4\n",
    "        \n",
    "        snr = 10**(eb_no_db[jj] / 10)\n",
    "        \n",
    "        Rz = 10**(-eb_no_db[jj] / 10) * np.eye(nRx)\n",
    "        \n",
    "        Rz_inverse = np.linalg.inv(Rz)\n",
    "        \n",
    "        Rs = np.divide(Es, nTx) * np.eye(nTx)\n",
    "        \n",
    "        capacity = 0\n",
    "        \n",
    "        for ii in range(N):\n",
    "            \n",
    "            h11 = (1/np.sqrt(2)) * (np.random.randn() + 1j * np.random.randn())\n",
    "            \n",
    "            h12 = (1/np.sqrt(2)) * (np.random.randn() + 1j * np.random.randn())\n",
    "            \n",
    "            h13 = (1/np.sqrt(2)) * (np.random.randn() + 1j * np.random.randn())\n",
    "            \n",
    "            h14 = (1/np.sqrt(2)) * (np.random.randn() + 1j * np.random.randn())\n",
    "            \n",
    "            h21 = (1/np.sqrt(2)) * (np.random.randn() + 1j * np.random.randn())\n",
    "            \n",
    "            h22 = (1/np.sqrt(2)) * (np.random.randn() + 1j * np.random.randn())\n",
    "            \n",
    "            h23 = (1/np.sqrt(2)) * (np.random.randn() + 1j * np.random.randn())\n",
    "            \n",
    "            h24 = (1/np.sqrt(2)) * (np.random.randn() + 1j * np.random.randn())\n",
    "            \n",
    "            h31 = (1/np.sqrt(2)) * (np.random.randn() + 1j * np.random.randn())\n",
    "            \n",
    "            h32 = (1/np.sqrt(2)) * (np.random.randn() + 1j * np.random.randn())\n",
    "            \n",
    "            h33 = (1/np.sqrt(2)) * (np.random.randn() + 1j * np.random.randn())\n",
    "            \n",
    "            h34 = (1/np.sqrt(2)) * (np.random.randn() + 1j * np.random.randn())\n",
    "            \n",
    "            h41 = (1/np.sqrt(2)) * (np.random.randn() + 1j * np.random.randn())\n",
    "            \n",
    "            h42 = (1/np.sqrt(2)) * (np.random.randn() + 1j * np.random.randn())\n",
    "            \n",
    "            h43 = (1/np.sqrt(2)) * (np.random.randn() + 1j * np.random.randn())\n",
    "            \n",
    "            h44 = (1/np.sqrt(2)) * (np.random.randn() + 1j * np.random.randn())\n",
    "            \n",
    "            H = np.array([[h11, h12, h13, h14],\n",
    "                          [h21, h22, h23, h24],\n",
    "                          [h31, h32, h33, h34],\n",
    "                          [h41, h42, h43, h44]])\n",
    "    \n",
    "            H_hermitian = np.conjugate(H)\n",
    "        \n",
    "            H_hermitian = np.transpose(H_hermitian)\n",
    "            \n",
    "            X = np.dot(np.dot(np.dot(Rz_inverse, H), Rs), H_hermitian)\n",
    "            \n",
    "            Y = np.eye(4)\n",
    "            \n",
    "            Z = X + Y\n",
    "            \n",
    "            c = np.log2(np.abs(np.linalg.det(Z)))\n",
    "            \n",
    "            capacity += c\n",
    "\n",
    "        capacity =capacity / N\n",
    "        \n",
    "        capacity_rate[jj] = capacity\n",
    "        \n",
    "        \n",
    "\n",
    "    return capacity_rate\n"
   ]
  },
  {
   "cell_type": "code",
   "execution_count": 9,
   "id": "c00223ed",
   "metadata": {},
   "outputs": [],
   "source": [
    "def capacity_each_channel(Es,nTx,noise_variance,S):\n",
    "    \n",
    "    Es = Es\n",
    "    \n",
    "    nTx = nTx\n",
    "    \n",
    "    noise_variance = noise_variance\n",
    "    \n",
    "    S = S\n",
    "    \n",
    "    capacity_each_channel = 0\n",
    "    \n",
    "    for kk in range(len(S)):\n",
    "        \n",
    "        \n",
    "        c = np.log2(1 + np.divide(Es,np.multiply(nTx,noise_variance)) * (np.square(S[kk]) ))\n",
    "        \n",
    "\n",
    "        capacity_each_channel = capacity_each_channel + c\n",
    "        \n",
    "    return capacity_each_channel\n",
    "    "
   ]
  },
  {
   "cell_type": "code",
   "execution_count": 10,
   "id": "5752b008",
   "metadata": {},
   "outputs": [],
   "source": [
    "def capacity_reduced_form():\n",
    "    \n",
    "    for jj in range(len(eb_no_db)):\n",
    "        \n",
    "        nTx = 4\n",
    "        \n",
    "        nRx = 4\n",
    "        \n",
    "        Es = 1\n",
    "        \n",
    "        Rz = 10**(-eb_no_db[jj] / 10) * np.eye(nRx)\n",
    "        \n",
    "        Rz_inverse = np.linalg.inv(Rz)\n",
    "        \n",
    "        capacity = 0\n",
    "        \n",
    "        for ii in range(N):\n",
    "            \n",
    "            H = (1/np.sqrt(2)) * (np.random.randn(nTx,nRx) + 1j * np.random.randn(nTx,nRx))\n",
    "            \n",
    "            U, S, Vh = np.linalg.svd(H)\n",
    "    \n",
    "            noise_variance = 10**(-eb_no_db[jj] / 10)\n",
    "        \n",
    "            c = capacity_each_channel(Es,nTx,noise_variance,S)\n",
    "            \n",
    "            capacity = capacity + c    \n",
    "        \n",
    "        capacity = capacity / N\n",
    "        \n",
    "        capacity_rate_reduced[jj] = capacity\n",
    "        \n",
    "    return capacity_rate_reduced\n",
    "            \n",
    "            "
   ]
  },
  {
   "cell_type": "code",
   "execution_count": 11,
   "id": "5937452d",
   "metadata": {},
   "outputs": [
    {
     "data": {
      "image/png": "[encoded data removed]",
      "text/plain": [
       "<Figure size 432x288 with 1 Axes>"
      ]
     },
     "metadata": {
      "needs_background": "light"
     },
     "output_type": "display_data"
    }
   ],
   "source": [
    "capacity = Capacity_Rs() \n",
    "capacity_reduced_form = capacity_reduced_form()\n",
    "\n",
    "plt.figure()\n",
    "\n",
    "plt.plot(eb_no_db, capacity, 'k^-', linewidth=2, markersize=4, label='nTx=4 nRx=4 (mimo w/o csit using Rs)')\n",
    "\n",
    "plt.plot(eb_no_db, capacity_reduced_form, 'g--', linewidth=2, markersize=4, label='nTx=4 nRx=4 (mimo w/o csit using Q)')\n",
    "\n",
    "plt.grid(True)\n",
    "\n",
    "plt.legend()\n",
    "\n",
    "plt.xlabel('Eb/No, dB')\n",
    "\n",
    "plt.ylabel('Average Capacity')\n",
    "\n",
    "plt.title('SNR-dB')\n",
    "\n",
    "plt.show()"
   ]
  },
  {
   "cell_type": "code",
   "execution_count": null,
   "id": "107d740c",
   "metadata": {},
   "outputs": [],
   "source": []
  }
 ],
 "metadata": {
  "kernelspec": {
   "display_name": "Python 3 (ipykernel)",
   "language": "python",
   "name": "python3"
  },
  "language_info": {
   "codemirror_mode": {
    "name": "ipython",
    "version": 3
   },
   "file_extension": ".py",
   "mimetype": "text/x-python",
   "name": "python",
   "nbconvert_exporter": "python",
   "pygments_lexer": "ipython3",
   "version": "3.9.12"
  }
 },
 "nbformat": 4,
 "nbformat_minor": 5
}
