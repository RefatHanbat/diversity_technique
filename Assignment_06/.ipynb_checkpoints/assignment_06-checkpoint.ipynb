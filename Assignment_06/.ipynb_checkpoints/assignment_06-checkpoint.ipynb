{
 "cells": [
  {
   "cell_type": "code",
   "execution_count": 1,
   "id": "81e0efa9",
   "metadata": {},
   "outputs": [],
   "source": [
    "import numpy as np\n",
    "import matplotlib.pyplot as plt"
   ]
  },
  {
   "cell_type": "code",
   "execution_count": 2,
   "id": "517f3912",
   "metadata": {},
   "outputs": [],
   "source": [
    "N = 10000"
   ]
  },
  {
   "cell_type": "code",
   "execution_count": 3,
   "id": "7d7357b7",
   "metadata": {},
   "outputs": [],
   "source": [
    "ip = np.random.rand(N) > 0.5\n",
    "ip = ip.astype(int)"
   ]
  },
  {
   "cell_type": "code",
   "execution_count": 4,
   "id": "67a4882a",
   "metadata": {},
   "outputs": [],
   "source": [
    "s = 2 * ip - 1"
   ]
  },
  {
   "cell_type": "code",
   "execution_count": 5,
   "id": "661a2518",
   "metadata": {},
   "outputs": [],
   "source": [
    "Es = 1"
   ]
  },
  {
   "cell_type": "code",
   "execution_count": 6,
   "id": "01aec4b7",
   "metadata": {},
   "outputs": [],
   "source": [
    "eb_no_db = np.arange(0,25)\n"
   ]
  },
  {
   "cell_type": "code",
   "execution_count": 7,
   "id": "050852ce",
   "metadata": {},
   "outputs": [],
   "source": [
    "capacity_rate = np.zeros(len(eb_no_db))"
   ]
  },
  {
   "cell_type": "code",
   "execution_count": 8,
   "id": "4180de00",
   "metadata": {},
   "outputs": [],
   "source": [
    "# snr = 10**eb_no_db/10"
   ]
  },
  {
   "cell_type": "code",
   "execution_count": 9,
   "id": "24b49a9f",
   "metadata": {},
   "outputs": [],
   "source": [
    "def Capacity_Rs():\n",
    "    \n",
    "    capacity_rate = np.zeros(len(eb_no_db))  # Initialize an array to store results\n",
    "    \n",
    "    for jj in range(len(eb_no_db)):\n",
    "        \n",
    "        nTx = 4\n",
    "        \n",
    "        nRx = 4\n",
    "        \n",
    "        snr = 10**(eb_no_db[jj] / 10)\n",
    "        \n",
    "        Rz = 10**(-eb_no_db[jj] / 10) * np.eye(nRx)\n",
    "        \n",
    "        Rz_inverse = np.linalg.inv(Rz)\n",
    "        \n",
    "        Rs = np.divide(Es, nTx) * np.eye(nTx)\n",
    "        \n",
    "        capacity = 0\n",
    "        \n",
    "        for ii in range(N):\n",
    "            \n",
    "            h11 = (1/np.sqrt(2)) * (np.random.randn() + 1j * np.random.randn())\n",
    "            \n",
    "            h12 = (1/np.sqrt(2)) * (np.random.randn() + 1j * np.random.randn())\n",
    "            \n",
    "            h13 = (1/np.sqrt(2)) * (np.random.randn() + 1j * np.random.randn())\n",
    "            \n",
    "            h14 = (1/np.sqrt(2)) * (np.random.randn() + 1j * np.random.randn())\n",
    "            \n",
    "            h21 = (1/np.sqrt(2)) * (np.random.randn() + 1j * np.random.randn())\n",
    "            \n",
    "            h22 = (1/np.sqrt(2)) * (np.random.randn() + 1j * np.random.randn())\n",
    "            \n",
    "            h23 = (1/np.sqrt(2)) * (np.random.randn() + 1j * np.random.randn())\n",
    "            \n",
    "            h24 = (1/np.sqrt(2)) * (np.random.randn() + 1j * np.random.randn())\n",
    "            \n",
    "            h31 = (1/np.sqrt(2)) * (np.random.randn() + 1j * np.random.randn())\n",
    "            \n",
    "            h32 = (1/np.sqrt(2)) * (np.random.randn() + 1j * np.random.randn())\n",
    "            \n",
    "            h33 = (1/np.sqrt(2)) * (np.random.randn() + 1j * np.random.randn())\n",
    "            \n",
    "            h34 = (1/np.sqrt(2)) * (np.random.randn() + 1j * np.random.randn())\n",
    "            \n",
    "            h41 = (1/np.sqrt(2)) * (np.random.randn() + 1j * np.random.randn())\n",
    "            \n",
    "            h42 = (1/np.sqrt(2)) * (np.random.randn() + 1j * np.random.randn())\n",
    "            \n",
    "            h43 = (1/np.sqrt(2)) * (np.random.randn() + 1j * np.random.randn())\n",
    "            \n",
    "            h44 = (1/np.sqrt(2)) * (np.random.randn() + 1j * np.random.randn())\n",
    "            \n",
    "            H = np.array([[h11, h12, h13, h14],\n",
    "                          [h21, h22, h23, h24],\n",
    "                          [h31, h32, h33, h34],\n",
    "                          [h41, h42, h43, h44]])\n",
    "    \n",
    "            H_hermitian = np.conjugate(H)\n",
    "        \n",
    "            H_hermitian = np.transpose(H_hermitian)\n",
    "            \n",
    "            X = np.dot(np.dot(np.dot(Rz_inverse, H), Rs), H_hermitian)\n",
    "            \n",
    "            Y = np.eye(4)\n",
    "            \n",
    "            Z = X + Y\n",
    "            \n",
    "            c = np.log2(np.abs(np.linalg.det(Z)))\n",
    "            \n",
    "            capacity += c\n",
    "\n",
    "        capacity =capacity / N\n",
    "        \n",
    "        capacity_rate[jj] = capacity\n",
    "        \n",
    "        \n",
    "\n",
    "    return capacity_rate\n"
   ]
  },
  {
   "cell_type": "code",
   "execution_count": 10,
   "id": "bd368b85",
   "metadata": {},
   "outputs": [],
   "source": [
    "def capacity_reduced_form():\n",
    "    \n",
    "    for jj in range(len(eb_no_db)):\n",
    "        \n",
    "        nTx = 4\n",
    "        \n",
    "        nRx = 4\n",
    "        \n",
    "        Rz = 10**(-eb_no_db[jj] / 10) * np.eye(nRx)\n",
    "        \n",
    "        Rz_inverse = np.linalg.inv(Rz)\n",
    "        \n",
    "        for ii in range(N):\n",
    "            \n",
    "            H = (1/np.sqrt(2)) * (np.random.randn(4,4) + 1j * np.random.randn(4,4))\n",
    "            \n",
    "            svd_H = np.linalg.svd(H, full_matrices=True)\n",
    "            \n",
    "            print(svd_H)"
   ]
  },
  {
   "cell_type": "code",
   "execution_count": 11,
   "id": "ff00cbf5",
   "metadata": {},
   "outputs": [
    {
     "ename": "TypeError",
     "evalue": "'float' object cannot be interpreted as an integer",
     "output_type": "error",
     "traceback": [
      "\u001b[1;31m---------------------------------------------------------------------------\u001b[0m",
      "\u001b[1;31mTypeError\u001b[0m                                 Traceback (most recent call last)",
      "Input \u001b[1;32mIn [11]\u001b[0m, in \u001b[0;36m<cell line: 2>\u001b[1;34m()\u001b[0m\n\u001b[0;32m      1\u001b[0m \u001b[38;5;66;03m# capacity = Capacity_Rs() \u001b[39;00m\n\u001b[1;32m----> 2\u001b[0m capacity_reduced_form \u001b[38;5;241m=\u001b[39m \u001b[43mcapacity_reduced_form\u001b[49m\u001b[43m(\u001b[49m\u001b[43m)\u001b[49m\n",
      "Input \u001b[1;32mIn [10]\u001b[0m, in \u001b[0;36mcapacity_reduced_form\u001b[1;34m()\u001b[0m\n\u001b[0;32m     11\u001b[0m Rz_inverse \u001b[38;5;241m=\u001b[39m np\u001b[38;5;241m.\u001b[39mlinalg\u001b[38;5;241m.\u001b[39minv(Rz)\n\u001b[0;32m     13\u001b[0m \u001b[38;5;28;01mfor\u001b[39;00m ii \u001b[38;5;129;01min\u001b[39;00m \u001b[38;5;28mrange\u001b[39m(N):\n\u001b[1;32m---> 15\u001b[0m     H \u001b[38;5;241m=\u001b[39m (\u001b[38;5;241m1\u001b[39m\u001b[38;5;241m/\u001b[39mnp\u001b[38;5;241m.\u001b[39msqrt(\u001b[38;5;241m2\u001b[39m)) \u001b[38;5;241m*\u001b[39m (np\u001b[38;5;241m.\u001b[39mrandom\u001b[38;5;241m.\u001b[39mrandn(\u001b[38;5;241m4\u001b[39m,\u001b[38;5;241m4\u001b[39m) \u001b[38;5;241m+\u001b[39m \u001b[38;5;241m1\u001b[39mj \u001b[38;5;241m*\u001b[39m \u001b[43mnp\u001b[49m\u001b[38;5;241;43m.\u001b[39;49m\u001b[43mrandom\u001b[49m\u001b[38;5;241;43m.\u001b[39;49m\u001b[43mrandn\u001b[49m\u001b[43m(\u001b[49m\u001b[38;5;241;43m4.4\u001b[39;49m\u001b[43m)\u001b[49m)\n\u001b[0;32m     17\u001b[0m     svd_H \u001b[38;5;241m=\u001b[39m np\u001b[38;5;241m.\u001b[39mlinalg\u001b[38;5;241m.\u001b[39msvd(H, full_matrices\u001b[38;5;241m=\u001b[39m\u001b[38;5;28;01mTrue\u001b[39;00m)\n\u001b[0;32m     19\u001b[0m     \u001b[38;5;28mprint\u001b[39m(svd_H)\n",
      "File \u001b[1;32mmtrand.pyx:1243\u001b[0m, in \u001b[0;36mnumpy.random.mtrand.RandomState.randn\u001b[1;34m()\u001b[0m\n",
      "File \u001b[1;32mmtrand.pyx:1400\u001b[0m, in \u001b[0;36mnumpy.random.mtrand.RandomState.standard_normal\u001b[1;34m()\u001b[0m\n",
      "File \u001b[1;32m_common.pyx:598\u001b[0m, in \u001b[0;36mnumpy.random._common.cont\u001b[1;34m()\u001b[0m\n",
      "\u001b[1;31mTypeError\u001b[0m: 'float' object cannot be interpreted as an integer"
     ]
    }
   ],
   "source": [
    "# capacity = Capacity_Rs() \n",
    "capacity_reduced_form = capacity_reduced_form()\n",
    "\n",
    "# plt.figure()\n",
    "\n",
    "# plt.plot(eb_no_db, capacity, 'ko--', linewidth=2, markersize=8, label='nTx=4 nRx=4 (capacity)')\n",
    "\n",
    "# plt.grid(True)\n",
    "\n",
    "# plt.legend()\n",
    "\n",
    "# plt.xlabel('Eb/No, dB')\n",
    "\n",
    "# plt.ylabel('Average Capacity')\n",
    "\n",
    "# plt.title('SNR-dB')\n",
    "\n",
    "# plt.show()"
   ]
  },
  {
   "cell_type": "code",
   "execution_count": null,
   "id": "db5b6eb0",
   "metadata": {},
   "outputs": [],
   "source": []
  },
  {
   "cell_type": "code",
   "execution_count": null,
   "id": "08d6bfb1",
   "metadata": {},
   "outputs": [],
   "source": []
  }
 ],
 "metadata": {
  "kernelspec": {
   "display_name": "Python 3 (ipykernel)",
   "language": "python",
   "name": "python3"
  },
  "language_info": {
   "codemirror_mode": {
    "name": "ipython",
    "version": 3
   },
   "file_extension": ".py",
   "mimetype": "text/x-python",
   "name": "python",
   "nbconvert_exporter": "python",
   "pygments_lexer": "ipython3",
   "version": "3.9.12"
  }
 },
 "nbformat": 4,
 "nbformat_minor": 5
}
