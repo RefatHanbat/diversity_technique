{
 "cells": [
  {
   "cell_type": "code",
   "execution_count": 1,
   "id": "280c82cc",
   "metadata": {},
   "outputs": [],
   "source": [
    "import numpy as np\n",
    "import matplotlib.pyplot as plt"
   ]
  },
  {
   "cell_type": "code",
   "execution_count": 2,
   "id": "1714c17f",
   "metadata": {},
   "outputs": [],
   "source": [
    "N = 1000"
   ]
  },
  {
   "cell_type": "code",
   "execution_count": 3,
   "id": "5c01b8fd",
   "metadata": {},
   "outputs": [],
   "source": [
    "ip = np.random.rand(N) > 0.5\n",
    "ip = ip.astype(int)"
   ]
  },
  {
   "cell_type": "code",
   "execution_count": 4,
   "id": "3349e921",
   "metadata": {},
   "outputs": [],
   "source": [
    "Es = 1"
   ]
  },
  {
   "cell_type": "code",
   "execution_count": 5,
   "id": "6ebe9737",
   "metadata": {},
   "outputs": [],
   "source": [
    "eb_no_db = np.arange(0,30)"
   ]
  },
  {
   "cell_type": "code",
   "execution_count": 6,
   "id": "0ad621fc",
   "metadata": {},
   "outputs": [],
   "source": [
    "capacity_rate_CSIT = np.zeros(len(eb_no_db))"
   ]
  },
  {
   "cell_type": "code",
   "execution_count": 7,
   "id": "e904771d",
   "metadata": {},
   "outputs": [],
   "source": [
    "def sigma_four(noise_variance,S1,S2,S3,S4,q_optimal_3):\n",
    "    \n",
    "    S = [S1, S2, S3, S4]\n",
    "    \n",
    "    q_optimal_3 = q_optimal_3\n",
    "    \n",
    "    sigma_four_q = []\n",
    "    \n",
    "    summation_part = 0\n",
    "    \n",
    "    for kk in range(len(S)):\n",
    "        \n",
    "        summation_part = summation_part + (noise_variance/np.square(S[kk]))\n",
    "        \n",
    "    mu = (1/len(S)) * (Es + summation_part)\n",
    "    \n",
    "    for mm in range(len(S)):\n",
    "        \n",
    "        qi = mu - (noise_variance/np.square(S[mm]))\n",
    "        \n",
    "        if(qi > 0 ):\n",
    "            \n",
    "            sigma_four_q.append(qi)\n",
    "            \n",
    "        else:\n",
    "            sigma_four_q = []\n",
    "            \n",
    "            sigma_four_q = q_optimal_3.copy()\n",
    "            \n",
    "            break\n",
    "            \n",
    "    return sigma_four_q"
   ]
  },
  {
   "cell_type": "code",
   "execution_count": 8,
   "id": "f7b58d8d",
   "metadata": {},
   "outputs": [],
   "source": [
    "def sigma_three(noise_variance,S1,S2,S3,q_optimal_2):\n",
    "    \n",
    "    S = [S1, S2, S3]\n",
    "    \n",
    "    q_optimal_2 = q_optimal_2\n",
    "    \n",
    "    sigma_three_q = []\n",
    "    \n",
    "    summation_part = 0\n",
    "    \n",
    "    for kk in range(len(S)):\n",
    "        \n",
    "        summation_part = summation_part + (noise_variance/np.square(S[kk]))\n",
    "        \n",
    "    mu = (1/len(S)) * (Es + summation_part)\n",
    "    \n",
    "    for mm in range(len(S)):\n",
    "        \n",
    "        qi = mu - (noise_variance/np.square(S[mm]))\n",
    "        \n",
    "        if(qi > 0 ):\n",
    "            \n",
    "            sigma_three_q.append(qi)\n",
    "            \n",
    "        else:\n",
    "            sigma_three_q = []\n",
    "            \n",
    "            sigma_three_q = q_optimal_2.copy() \n",
    "            \n",
    "            break\n",
    "            \n",
    "    return sigma_three_q"
   ]
  },
  {
   "cell_type": "code",
   "execution_count": 9,
   "id": "76baeec8",
   "metadata": {},
   "outputs": [],
   "source": [
    "def sigma_two(noise_variance,S1,S2,q_optimal_1):\n",
    "    \n",
    "    S = [ S1 , S2 ]\n",
    "    \n",
    "    q_optimal_1 = q_optimal_1\n",
    "\n",
    "    sigma_two_q  = []\n",
    "    \n",
    "    summation_part = 0\n",
    "    \n",
    "    for kk in range(len(S)):\n",
    "        \n",
    "        summation_part = summation_part +  (noise_variance/np.square(S[kk]))\n",
    "        \n",
    "    mu = (1/len(S))* (Es + summation_part)\n",
    "    \n",
    "    for mm in range(len(S)):\n",
    "        \n",
    "        qi = mu - (noise_variance/np.square(S[mm]))\n",
    "        \n",
    "        if(qi > 0):\n",
    "            \n",
    "            sigma_two_q.append(qi)\n",
    "            \n",
    "        else:\n",
    "            sigma_two_q = []\n",
    "            \n",
    "            sigma_two_q = q_optimal_1.copy()\n",
    "            \n",
    "            break\n",
    "            \n",
    "    return sigma_two_q"
   ]
  },
  {
   "cell_type": "code",
   "execution_count": 10,
   "id": "60437ee2",
   "metadata": {},
   "outputs": [],
   "source": [
    "def sigma_one(noise_variance,S1):\n",
    "    \n",
    "    \n",
    "    S = [S1]\n",
    "    \n",
    "    \n",
    "    sigma_one_q = []\n",
    "    \n",
    "    summation_part = noise_variance / np.square(S1)\n",
    "    \n",
    "    mu = (1/len(S)) * (Es + summation_part )\n",
    "    \n",
    "    q_optimal = mu - (noise_variance / np.square(S1))\n",
    "    \n",
    "    if q_optimal > 0 :\n",
    "        \n",
    "        sigma_one_q.append(q_optimal)\n",
    "        \n",
    "    \n",
    "    \n",
    "    return sigma_one_q"
   ]
  },
  {
   "cell_type": "code",
   "execution_count": 11,
   "id": "38101d7c",
   "metadata": {},
   "outputs": [],
   "source": [
    "def diagonalQ(noise_variance,S):\n",
    "    \n",
    "    S1 = S[0]\n",
    "    \n",
    "    S2 = S[1]\n",
    "    \n",
    "    S3 = S[2]\n",
    "    \n",
    "    S4 = S[3]\n",
    "    \n",
    "    S = [S1, S2, S3, S4]\n",
    "    \n",
    "    q_optimal_1 = sigma_one(noise_variance,S1)\n",
    "    \n",
    "    q_optimal_2 = sigma_two(noise_variance,S1,S2,q_optimal_1)\n",
    "    \n",
    "    q_optimal_3 = sigma_three(noise_variance,S1,S2,S3,q_optimal_2)\n",
    "    \n",
    "    q_optimal_4 = sigma_four(noise_variance,S1,S2,S3,S4,q_optimal_3)\n",
    "    \n",
    "    return q_optimal_4\n",
    "    \n",
    "     "
   ]
  },
  {
   "cell_type": "code",
   "execution_count": 12,
   "id": "91546ca5",
   "metadata": {},
   "outputs": [],
   "source": [
    "def csit_Rs():\n",
    "    \n",
    "    for jj in range(len(eb_no_db)):\n",
    "        \n",
    "        snr = 10**(eb_no_db[jj] / 10)\n",
    "        \n",
    "        nTx = 4\n",
    "        \n",
    "        nRx = 4\n",
    "        \n",
    "        Rz = (1/snr) * np.eye(nRx)\n",
    "        \n",
    "        Rz_inverse = np.linalg.inv(Rz )\n",
    "        \n",
    "        noise_variance = (1/snr)\n",
    "        \n",
    "        total_capacity = 0\n",
    "        \n",
    "        for ii in range(N):\n",
    "            \n",
    "            H = (1/np.sqrt(2)) * (np.random.randn(nTx,nRx) + 1j * np.random.randn(nTx,nRx))\n",
    "            \n",
    "            H_hermitian = np.conjugate(H)\n",
    "            \n",
    "            H_hermitian = np.transpose(H_hermitian)\n",
    "            \n",
    "            U,S,Vh = np.linalg.svd(H)\n",
    "            \n",
    "            V = np.conjugate(Vh)\n",
    "            \n",
    "            V = np.transpose(V)\n",
    "            \n",
    "            diagonal_q = diagonalQ(noise_variance,S)\n",
    "            \n",
    "            diagonal_matrix = np.diag(diagonal_q)\n",
    "            \n",
    "            if diagonal_matrix.shape[0] < 4 or diagonal_matrix.shape[1] < 4:\n",
    "                \n",
    "                diagonal_matrix = np.pad(diagonal_matrix, ((0, 4 - diagonal_matrix.shape[0]), (0, 4 - diagonal_matrix.shape[1])), mode='constant')\n",
    "            \n",
    "            Rs = V @ diagonal_matrix @ Vh\n",
    "            \n",
    "            z = (np.eye(nRx) + Rz_inverse @ H @ Rs @ H_hermitian)\n",
    "            \n",
    "            c = np.linalg.det(z)\n",
    "            c = np.log2(abs(c))\n",
    "            \n",
    "            total_capacity = total_capacity + c\n",
    "            \n",
    "        capacity_rate_CSIT[jj] = total_capacity / N\n",
    "    \n",
    "    return capacity_rate_CSIT\n",
    "            \n",
    "        \n",
    "            "
   ]
  },
  {
   "cell_type": "code",
   "execution_count": 13,
   "id": "151a5c3b",
   "metadata": {},
   "outputs": [
    {
     "data": {
      "text/plain": [
       "array([ 4.20327345,  4.74949168,  5.37083871,  5.95321918,  6.59585399,\n",
       "        7.34723205,  8.10268502,  8.9228246 ,  9.76681611, 10.66684771,\n",
       "       11.52142855, 12.40202536, 13.46631543, 14.48855373, 15.45674641,\n",
       "       16.54442206, 17.65610013, 18.87131674, 19.86714019, 20.99404322,\n",
       "       22.22722069, 23.38667931, 24.65265332, 25.94763279, 27.16492971,\n",
       "       28.54002089, 29.69659499, 31.04169933, 32.45267944, 33.71245778])"
      ]
     },
     "execution_count": 13,
     "metadata": {},
     "output_type": "execute_result"
    }
   ],
   "source": [
    "csit_Rs()"
   ]
  },
  {
   "cell_type": "code",
   "execution_count": null,
   "id": "dd5754b2",
   "metadata": {},
   "outputs": [],
   "source": []
  }
 ],
 "metadata": {
  "kernelspec": {
   "display_name": "Python 3 (ipykernel)",
   "language": "python",
   "name": "python3"
  },
  "language_info": {
   "codemirror_mode": {
    "name": "ipython",
    "version": 3
   },
   "file_extension": ".py",
   "mimetype": "text/x-python",
   "name": "python",
   "nbconvert_exporter": "python",
   "pygments_lexer": "ipython3",
   "version": "3.9.12"
  }
 },
 "nbformat": 4,
 "nbformat_minor": 5
}
