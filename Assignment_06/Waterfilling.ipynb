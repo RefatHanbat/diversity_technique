{
 "cells": [
  {
   "cell_type": "code",
   "execution_count": 1,
   "id": "9859a39f",
   "metadata": {},
   "outputs": [],
   "source": [
    "import numpy as np\n",
    "import matplotlib.pyplot as plt"
   ]
  },
  {
   "cell_type": "code",
   "execution_count": 2,
   "id": "e9976865",
   "metadata": {},
   "outputs": [],
   "source": [
    "N = 1000"
   ]
  },
  {
   "cell_type": "code",
   "execution_count": 3,
   "id": "e1befd9b",
   "metadata": {},
   "outputs": [],
   "source": [
    "ip = np.random.rand(N) > 0.5\n",
    "ip = ip.astype(int)"
   ]
  },
  {
   "cell_type": "code",
   "execution_count": 4,
   "id": "2d3eb08c",
   "metadata": {},
   "outputs": [],
   "source": [
    "Es = 1"
   ]
  },
  {
   "cell_type": "code",
   "execution_count": 5,
   "id": "fa62c0fd",
   "metadata": {},
   "outputs": [],
   "source": [
    "eb_no_db = np.arange(0,30)"
   ]
  },
  {
   "cell_type": "code",
   "execution_count": 6,
   "id": "b28da731",
   "metadata": {},
   "outputs": [],
   "source": [
    "capacity_rate_CSIT_reduced = np.zeros(len(eb_no_db))"
   ]
  },
  {
   "cell_type": "code",
   "execution_count": 7,
   "id": "7b202d35",
   "metadata": {},
   "outputs": [],
   "source": [
    "def sigma_fourth(S1,S2,S3,S4,noise_variance,Es) :\n",
    "    \n",
    "    S = [S1 , S2 , S3, S4 ]\n",
    "    \n",
    "    mu = 0\n",
    "    \n",
    "    qi_values = []\n",
    "    \n",
    "    \n",
    "    \n",
    "    for kk in range(len(S)):\n",
    "        \n",
    "        mu = mu + (noise_variance/np.square(S[kk]))\n",
    "        \n",
    "    mu = Es + mu   \n",
    "    \n",
    "      \n",
    "    \n",
    "    for mm in range(len(S)):\n",
    "        \n",
    "        qi = mu - (noise_variance/np.square(S[mm]))\n",
    "        \n",
    "        if(qi > 0 ):\n",
    "            \n",
    "            qi_values.append(qi)\n",
    "            \n",
    "        else:\n",
    "            \n",
    "            break\n",
    "        \n",
    "      \n",
    "            \n",
    "    return  qi_values  \n",
    "\n",
    "\n",
    "    "
   ]
  },
  {
   "cell_type": "code",
   "execution_count": 8,
   "id": "7fd86488",
   "metadata": {},
   "outputs": [],
   "source": [
    "def sigma_third(S1,S2,S3,noise_variance,Es):\n",
    "    \n",
    "    S = [S1 , S2 , S3]\n",
    "    \n",
    "    mu = 0\n",
    "    \n",
    "    qi_values = []\n",
    "    \n",
    "    \n",
    "    \n",
    "    for kk in range(len(S)):\n",
    "        \n",
    "        mu = mu + (noise_variance/np.square(S[kk]))\n",
    "        \n",
    "    mu = Es + mu    \n",
    "     \n",
    "    \n",
    "    for mm in range(len(S)):\n",
    "        \n",
    "        qi = mu - (noise_variance/np.square(S[mm]))\n",
    "        \n",
    "        if(qi > 0 ):\n",
    "            \n",
    "            qi_values.append(qi)\n",
    "            \n",
    "        else:\n",
    "            \n",
    "            break\n",
    "        \n",
    "      \n",
    "            \n",
    "    return  qi_values  \n",
    "            \n",
    "        \n",
    "        "
   ]
  },
  {
   "cell_type": "code",
   "execution_count": 9,
   "id": "6cf4c962",
   "metadata": {},
   "outputs": [],
   "source": [
    "def sigma_second(S1,S2,noise_variance,Es):\n",
    "    \n",
    "    S = [S1 , S2]\n",
    "    \n",
    "    mu = 0\n",
    "    \n",
    "    qi_values = []\n",
    "    \n",
    "    \n",
    "    \n",
    "    for kk in range(len(S)):\n",
    "        \n",
    "        mu = mu + (noise_variance/np.square(S[kk]))\n",
    "        \n",
    "    mu = Es + mu    \n",
    "    \n",
    "       \n",
    "    \n",
    "    for mm in range(len(S)):\n",
    "        \n",
    "        qi = mu - (noise_variance/np.square(S[mm]))\n",
    "        \n",
    "        if(qi > 0 ):\n",
    "            \n",
    "            qi_values.append(qi)\n",
    "            \n",
    "        else:\n",
    "            \n",
    "            break\n",
    "        \n",
    "      \n",
    "            \n",
    "    return  qi_values       \n",
    "        \n",
    "        "
   ]
  },
  {
   "cell_type": "code",
   "execution_count": 10,
   "id": "ce78903b",
   "metadata": {},
   "outputs": [],
   "source": [
    "def sigma_first(S1,noise_variance,Es):\n",
    "    \n",
    "    mu = Es + (noise_variance/np.square(S1))\n",
    "    \n",
    "    qi_values = []\n",
    "    \n",
    "    qi = mu - (noise_variance/np.square(S1))\n",
    "    \n",
    "    if(qi > 0 ):\n",
    "        \n",
    "        qi_values.append(qi)\n",
    "        \n",
    "    return qi_values\n",
    "        "
   ]
  },
  {
   "cell_type": "code",
   "execution_count": 11,
   "id": "369c619d",
   "metadata": {},
   "outputs": [],
   "source": [
    "def q_optimal(S,noise_variance,Es):\n",
    "    \n",
    "    S = S\n",
    "    \n",
    "    noise_variance = noise_variance \n",
    "    \n",
    "    Es = Es\n",
    "    \n",
    "    S1 = S[0]\n",
    "    \n",
    "    S2 = S[1]\n",
    "    \n",
    "    S3 = S[2]\n",
    "    \n",
    "    S4 = S[3]\n",
    "    \n",
    "    sigma_one =  sigma_first(S1,noise_variance,Es)\n",
    "    \n",
    "    sigma_two = sigma_second(S1,S2,noise_variance,Es)\n",
    "    \n",
    "    sigma_three = sigma_third(S1,S2,S3,noise_variance,Es)\n",
    "    \n",
    "    sigma_four = sigma_fourth(S1,S2,S3,S4,noise_variance,Es)\n",
    "    \n",
    "    optimal_sigma  = max(sigma_one,sigma_two,sigma_three,sigma_four)\n",
    "    \n",
    "    return optimal_sigma\n",
    "\n",
    "   "
   ]
  },
  {
   "cell_type": "code",
   "execution_count": 12,
   "id": "9d434a16",
   "metadata": {},
   "outputs": [],
   "source": [
    "def water_filling(nTx,nRx,noise_variance,Es):\n",
    "    \n",
    "    total_capacity = 0\n",
    "    \n",
    "    for ii in range(N):\n",
    "        \n",
    "        H = (1/np.sqrt(2)) * (np.random.randn(nTx,nRx) + 1j * np.random.randn(nTx,nRx))\n",
    "        \n",
    "        U,S,Vh = np.linalg.svd(H)\n",
    "        \n",
    "        \n",
    "        q_optimal_values = q_optimal(S,noise_variance,Es)\n",
    "        \n",
    "        capacity = 0\n",
    "        \n",
    "        for jj in range(len(q_optimal_values)):\n",
    "            \n",
    "            c = np.log2(1 + (1/noise_variance) * np.square(S[jj]) * q_optimal_values[jj] )\n",
    "            \n",
    "            capacity = capacity + c\n",
    "        \n",
    "        total_capacity = total_capacity + capacity\n",
    "        \n",
    "    return total_capacity\n",
    "    "
   ]
  },
  {
   "cell_type": "code",
   "execution_count": 13,
   "id": "48ed3d1e",
   "metadata": {},
   "outputs": [],
   "source": [
    "def Reduced_CSIT():\n",
    "    \n",
    "    for jj in range(len(eb_no_db)):\n",
    "        \n",
    "        nTx = 4\n",
    "        \n",
    "        nRx = 4\n",
    "        \n",
    "        Es = 1\n",
    "        \n",
    "        noise_variance = 10**(-eb_no_db[jj] / 10)\n",
    "        \n",
    "        capacity = water_filling(nTx,nRx,noise_variance,Es) \n",
    "        \n",
    "        capacity = capacity / N\n",
    "        \n",
    "        capacity_rate_CSIT_reduced[jj] = capacity\n",
    "        \n",
    "    return capacity_rate_CSIT_reduced\n",
    "        "
   ]
  },
  {
   "cell_type": "code",
   "execution_count": 14,
   "id": "2b35ca91",
   "metadata": {},
   "outputs": [
    {
     "data": {
      "image/png": "[encoded data removed]",
      "text/plain": [
       "<Figure size 432x288 with 1 Axes>"
      ]
     },
     "metadata": {
      "needs_background": "light"
     },
     "output_type": "display_data"
    }
   ],
   "source": [
    "reduced_capacity = Reduced_CSIT()\n",
    "\n",
    "plt.figure()\n",
    "plt.plot(eb_no_db, reduced_capacity, 'ko-', linewidth=2, markersize=4, label='nTx=4 nRx=4 (mimo with csit using Q)')\n",
    "plt.grid(True)\n",
    "\n",
    "plt.legend()\n",
    "\n",
    "plt.xlabel('Eb/No, dB')\n",
    "\n",
    "plt.ylabel('Average Capacity')\n",
    "\n",
    "plt.title('SNR-dB')\n",
    "\n",
    "plt.show()"
   ]
  },
  {
   "cell_type": "code",
   "execution_count": null,
   "id": "de6a3efc",
   "metadata": {},
   "outputs": [],
   "source": []
  },
  {
   "cell_type": "code",
   "execution_count": null,
   "id": "cda8509a",
   "metadata": {},
   "outputs": [],
   "source": []
  }
 ],
 "metadata": {
  "kernelspec": {
   "display_name": "Python 3 (ipykernel)",
   "language": "python",
   "name": "python3"
  },
  "language_info": {
   "codemirror_mode": {
    "name": "ipython",
    "version": 3
   },
   "file_extension": ".py",
   "mimetype": "text/x-python",
   "name": "python",
   "nbconvert_exporter": "python",
   "pygments_lexer": "ipython3",
   "version": "3.9.12"
  }
 },
 "nbformat": 4,
 "nbformat_minor": 5
}
