{
 "cells": [
  {
   "cell_type": "code",
   "execution_count": 3,
   "id": "dc60f284",
   "metadata": {},
   "outputs": [],
   "source": [
    "import numpy as np\n",
    "from numpy import sort\n",
    "from numpy import argsort\n",
    "\n",
    "def GWF(power,gain,weight):\n",
    "    power = power\n",
    "    count = 0\n",
    "    a = sort(gain)[::-1]\n",
    "    w = weight\n",
    "    height = sort(1/(w*a))\n",
    "    # print(height)\n",
    "    ind = argsort(1/(w*a))\n",
    "    weight = weight[ind]\n",
    "    # print(weight)\n",
    "\n",
    "    original_size=len(a)-1 #size of gain array, i.e., total # of channels.\n",
    "    channel=len(a)-1\n",
    "    isdone=False\n",
    "\n",
    "    while isdone == False:\n",
    "        Ptest=0 # Ptest is total 'empty space' under highest channel under water.\n",
    "        for i in range(channel):\n",
    "            Ptest += (height[channel] - height[i]) * weight[i]\n",
    "            # print(Ptest)\n",
    "            # print(height)\n",
    "        if (power - Ptest) >= 0: # If power is greater than Ptest, index (or k*) is equal to channel.\n",
    "            index = channel      # Otherwise decrement channel and run while loop again.\n",
    "            # print(index)\n",
    "            break\n",
    "        \n",
    "        channel -= 1\n",
    "    # print('index = ' + str(index))\n",
    "    # print(height)\n",
    "    value = power - Ptest        # 'value' is P2(k*)\n",
    "    # print(value)\n",
    "    water_level = value/np.sum([weight[range(index+1)]]) + height[index]\n",
    "    # print(weight[range(index)])\n",
    "    # print('sum = ' + str(np.sum(weight[range(index)])))\n",
    "    si = (water_level - height) * weight\n",
    "    si[si < 0] = 0\n",
    "    return water_level,index,value,si,height"
   ]
  },
  {
   "cell_type": "code",
   "execution_count": null,
   "id": "b49e5108",
   "metadata": {},
   "outputs": [],
   "source": []
  }
 ],
 "metadata": {
  "kernelspec": {
   "display_name": "Python 3 (ipykernel)",
   "language": "python",
   "name": "python3"
  },
  "language_info": {
   "codemirror_mode": {
    "name": "ipython",
    "version": 3
   },
   "file_extension": ".py",
   "mimetype": "text/x-python",
   "name": "python",
   "nbconvert_exporter": "python",
   "pygments_lexer": "ipython3",
   "version": "3.9.12"
  }
 },
 "nbformat": 4,
 "nbformat_minor": 5
}
