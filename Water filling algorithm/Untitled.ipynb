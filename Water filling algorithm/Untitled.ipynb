{
 "cells": [
  {
   "cell_type": "code",
   "execution_count": 1,
   "id": "0f48979f",
   "metadata": {},
   "outputs": [],
   "source": [
    "import numpy as np\n",
    "import matplotlib.pyplot as plt"
   ]
  },
  {
   "cell_type": "code",
   "execution_count": 2,
   "id": "63b3d772",
   "metadata": {},
   "outputs": [],
   "source": [
    "N = 1000"
   ]
  },
  {
   "cell_type": "code",
   "execution_count": 3,
   "id": "b591c32b",
   "metadata": {},
   "outputs": [],
   "source": [
    "ip = np.random.randint(2, size=N)\n",
    "ip = ip.astype(int)"
   ]
  },
  {
   "cell_type": "code",
   "execution_count": 4,
   "id": "06b033ee",
   "metadata": {},
   "outputs": [],
   "source": [
    "s = 2 * ip - 1"
   ]
  },
  {
   "cell_type": "code",
   "execution_count": 5,
   "id": "9129b158",
   "metadata": {},
   "outputs": [],
   "source": [
    "eb_no_db = np.arange(0,30)"
   ]
  },
  {
   "cell_type": "code",
   "execution_count": 6,
   "id": "427be569",
   "metadata": {},
   "outputs": [],
   "source": [
    "bit_error_MRT = np.zeros(len(eb_no_db))"
   ]
  },
  {
   "cell_type": "code",
   "execution_count": 7,
   "id": "293b4459",
   "metadata": {},
   "outputs": [],
   "source": [
    "def MRT():\n",
    "    for jj in range(len(eb_no_db)):\n",
    "        nErr = 0\n",
    "        Es = 1\n",
    "        equalize_bits = []\n",
    "\n",
    "        for ii in range(N):\n",
    "            h11 = (1/np.sqrt(2)) * (np.random.randn() + 1j * np.random.randn())\n",
    "            h21 = (1/np.sqrt(2)) * (np.random.randn() + 1j * np.random.randn())\n",
    "            n11 = (1/np.sqrt(2)) * (np.random.randn() + 1j * np.random.randn())\n",
    "            n21 = (1/np.sqrt(2)) * (np.random.randn() + 1j * np.random.randn())\n",
    "            H = np.array([[h11, h21]])\n",
    "            H_hermitian = np.conjugate(H)\n",
    "            H_hermitian = np.transpose(H_hermitian)\n",
    "            H_hermitian_magnitude = np.linalg.norm(H_hermitian)\n",
    "            n = np.array([[n11, n21]])\n",
    "            x = s[ii]\n",
    "            P = (np.sqrt(Es)/H_hermitian_magnitude) * H_hermitian\n",
    "            y = np.dot(H, (P * x)) + n * (10 ** (-eb_no_db[jj] / 20))\n",
    "            W = y/np.dot(H, P)\n",
    "            x_tilde = np.real(W > 0)\n",
    "            x_tilde = x_tilde[0, 0]\n",
    "            equalize_bits.append(x_tilde)\n",
    "\n",
    "        nErr = np.sum(ip != equalize_bits)\n",
    "        bit_error_MRT[jj] = nErr/N\n",
    "\n",
    "    return bit_error_MRT\n",
    "\n",
    "            \n",
    "            \n",
    "            \n",
    "            \n",
    "    "
   ]
  },
  {
   "cell_type": "code",
   "execution_count": 8,
   "id": "ce07e4e3",
   "metadata": {},
   "outputs": [
    {
     "data": {
      "text/plain": [
       "array([0.061, 0.039, 0.039, 0.025, 0.015, 0.013, 0.007, 0.007, 0.004,\n",
       "       0.003, 0.005, 0.002, 0.001, 0.   , 0.   , 0.   , 0.   , 0.   ,\n",
       "       0.   , 0.   , 0.   , 0.   , 0.   , 0.   , 0.   , 0.   , 0.   ,\n",
       "       0.   , 0.   , 0.   ])"
      ]
     },
     "execution_count": 8,
     "metadata": {},
     "output_type": "execute_result"
    }
   ],
   "source": [
    "MRT()"
   ]
  },
  {
   "cell_type": "code",
   "execution_count": null,
   "id": "91585110",
   "metadata": {},
   "outputs": [],
   "source": []
  },
  {
   "cell_type": "code",
   "execution_count": null,
   "id": "5a6fbce4",
   "metadata": {},
   "outputs": [],
   "source": []
  }
 ],
 "metadata": {
  "kernelspec": {
   "display_name": "Python 3 (ipykernel)",
   "language": "python",
   "name": "python3"
  },
  "language_info": {
   "codemirror_mode": {
    "name": "ipython",
    "version": 3
   },
   "file_extension": ".py",
   "mimetype": "text/x-python",
   "name": "python",
   "nbconvert_exporter": "python",
   "pygments_lexer": "ipython3",
   "version": "3.9.12"
  }
 },
 "nbformat": 4,
 "nbformat_minor": 5
}
