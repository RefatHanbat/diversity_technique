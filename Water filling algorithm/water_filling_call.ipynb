{
 "cells": [
  {
   "cell_type": "code",
   "execution_count": 2,
   "id": "d9bc539d",
   "metadata": {},
   "outputs": [
    {
     "name": "stdout",
     "output_type": "stream",
     "text": [
      "water_level = 4.0\n",
      "index = 3\n",
      "value = 0.0\n",
      "si = [3. 2. 1. 0.]\n",
      "height = [1. 2. 3. 4.]\n"
     ]
    },
    {
     "data": {
      "image/png": "[encoded data removed]",
      "text/plain": [
       "<Figure size 576x432 with 1 Axes>"
      ]
     },
     "metadata": {
      "needs_background": "light"
     },
     "output_type": "display_data"
    }
   ],
   "source": [
    "import numpy as np\n",
    "from numpy import sort\n",
    "from numpy import argsort\n",
    "import matplotlib.pyplot as plt\n",
    "%run waterfilling.ipynb\n",
    "power = 6\n",
    "a = np.array([1,1/3,1/4,1/2])\n",
    "w = np.ones(4)\n",
    "\n",
    "water_level, index, value, si, height = GWF(power, a, w)\n",
    "\n",
    "print('water_level = ' + str(water_level))\n",
    "print('index = ' + str(index))\n",
    "print('value = ' + str(value))\n",
    "print('si = ' + str(si))\n",
    "print('height = ' + str(height))\n",
    "\n",
    "\n",
    "# plot\n",
    "\n",
    "plt.figure(figsize=(8,6))\n",
    "\n",
    "axes = plt.axes()\n",
    "axes.set_xlim([0,5])\n",
    "axes.set_ylim([0,np.max(1/a)])\n",
    "\n",
    "left = np.arange(1,5)\n",
    "plt.xlabel('Channels', fontsize=16)\n",
    "plt.bar(left,height,width=1.0,linewidth=2,color=\"#1E7F00\",edgecolor='black',label='1/ai')\n",
    "plt.bar(left,si/w,width=1.0,bottom=height,linewidth=2,color='r',edgecolor='black',label='si'\n",
    ")\n",
    "plt.legend(loc='upper right', borderaxespad=1, fontsize=14)\n",
    "\n",
    "plt.savefig('result.png')"
   ]
  },
  {
   "cell_type": "code",
   "execution_count": null,
   "id": "fd4b44b2",
   "metadata": {},
   "outputs": [],
   "source": []
  }
 ],
 "metadata": {
  "kernelspec": {
   "display_name": "Python 3 (ipykernel)",
   "language": "python",
   "name": "python3"
  },
  "language_info": {
   "codemirror_mode": {
    "name": "ipython",
    "version": 3
   },
   "file_extension": ".py",
   "mimetype": "text/x-python",
   "name": "python",
   "nbconvert_exporter": "python",
   "pygments_lexer": "ipython3",
   "version": "3.9.12"
  }
 },
 "nbformat": 4,
 "nbformat_minor": 5
}
