{
 "cells": [
  {
   "cell_type": "code",
   "execution_count": 114,
   "id": "da96d9e8",
   "metadata": {},
   "outputs": [],
   "source": [
    "import numpy as np\n",
    "import matplotlib.pyplot as plt"
   ]
  },
  {
   "cell_type": "code",
   "execution_count": 115,
   "id": "03431cc1",
   "metadata": {},
   "outputs": [],
   "source": [
    "N = 10**6"
   ]
  },
  {
   "cell_type": "code",
   "execution_count": 116,
   "id": "90ffb368",
   "metadata": {},
   "outputs": [],
   "source": [
    "ip = np.random.randn(N) > 0"
   ]
  },
  {
   "cell_type": "code",
   "execution_count": 117,
   "id": "e00665bc",
   "metadata": {},
   "outputs": [],
   "source": [
    "s = 2 * ip - 1"
   ]
  },
  {
   "cell_type": "code",
   "execution_count": 118,
   "id": "b3b7f850",
   "metadata": {},
   "outputs": [],
   "source": [
    "eb_no_db = np.arange(5,30)"
   ]
  },
  {
   "cell_type": "code",
   "execution_count": 119,
   "id": "1b227d94",
   "metadata": {},
   "outputs": [],
   "source": [
    "bit_error_ZF = np.zeros(len(eb_no_db))\n",
    "bit_error_MMSE = np.zeros(len(eb_no_db))"
   ]
  },
  {
   "cell_type": "code",
   "execution_count": 120,
   "id": "6df4d0bd",
   "metadata": {},
   "outputs": [],
   "source": [
    "def ZF():\n",
    "    \n",
    "    for jj in range(len(eb_no_db)):\n",
    "        \n",
    "        nErr = 0\n",
    "        \n",
    "        equalize_bits = []\n",
    "        \n",
    "        for ii in range(N//2):\n",
    "            \n",
    "            h11 = (1/np.sqrt(2)) * (np.random.randn()+1j * np.random.randn())\n",
    "            \n",
    "            h12 = (1/np.sqrt(2)) * (np.random.randn()+1j * np.random.randn())\n",
    "            \n",
    "            h21 = (1/np.sqrt(2)) * (np.random.randn() + 1j * np.random.randn())\n",
    "            \n",
    "            h22 = (1/np.sqrt(2)) * (np.random.randn() + 1j * np.random.randn())\n",
    "            \n",
    "            H = np.array([[h11, h21],\n",
    "                          \n",
    "                        [h21, h22]])\n",
    "            n1 = (1/np.sqrt(2)) * (np.random.randn() + 1j * np.random.randn())\n",
    "            \n",
    "            n2 = (1/np.sqrt(2)) * (np.random.randn() + 1j * np.random.randn())\n",
    "            \n",
    "            n = np.array([[n1],\n",
    "                          [n2]])\n",
    "            \n",
    "            x1 = s[2 * ii]\n",
    "            \n",
    "            x2 = s[2 * ii + 1]\n",
    "            \n",
    "            x = np.array([[x1], \n",
    "                          [x2]]) \n",
    "            \n",
    "            y = (1/np.sqrt(2)) * np.dot(H,x) + n * (10 ** (-eb_no_db[jj] / 20))\n",
    "            \n",
    "            # forming pseudo inverse for zero forcing\n",
    "            \n",
    "            H_conjugate = np.conjugate(H)\n",
    "            \n",
    "            H_hermitian = np.transpose(H_conjugate)\n",
    "            \n",
    "            H_hermitian_times_H = np.dot(H_hermitian,H)\n",
    "            \n",
    "            H_hermitian_times_H_inverse = np.linalg.pinv(H_hermitian_times_H)\n",
    "            \n",
    "            W = np.dot(H_hermitian_times_H_inverse,H_hermitian)\n",
    "            \n",
    "            x_hat = np.dot(W,y)\n",
    "            \n",
    "            received_bits = x_hat > 0\n",
    "            \n",
    "            m = received_bits[0,0]\n",
    "            \n",
    "            n = received_bits[1,0]\n",
    "            \n",
    "            equalize_bits.append(m)\n",
    "            \n",
    "            equalize_bits.append(n)\n",
    "            \n",
    "        nErr = np.sum(ip != equalize_bits)\n",
    "        \n",
    "       \n",
    "        \n",
    "        bit_error_ZF[jj] = nErr/ N\n",
    "        \n",
    "        \n",
    "        \n",
    "    return bit_error_ZF    \n",
    "            \n",
    "    "
   ]
  },
  {
   "cell_type": "code",
   "execution_count": 121,
   "id": "d679b0ff",
   "metadata": {},
   "outputs": [],
   "source": [
    "def MMSE():\n",
    "    \n",
    "    for jj in range(len(eb_no_db)):\n",
    "        nErr = 0\n",
    "        equalize_bits = []\n",
    "        \n",
    "        for ii in range(N//2):\n",
    "            \n",
    "            h11 = (1/np.sqrt(2)) * (np.random.randn()+1j * np.random.randn())\n",
    "            \n",
    "            h12 = (1/np.sqrt(2)) * (np.random.randn()+1j * np.random.randn())\n",
    "            \n",
    "            h21 = (1/np.sqrt(2)) * (np.random.randn() + 1j * np.random.randn())\n",
    "            \n",
    "            h22 = (1/np.sqrt(2)) * (np.random.randn() + 1j * np.random.randn())\n",
    "            \n",
    "            H = np.array([[h11, h21],\n",
    "                          \n",
    "                        [h21, h22]])\n",
    "            n1 = (1/np.sqrt(2)) * (np.random.randn() + 1j * np.random.randn())\n",
    "            \n",
    "            n2 = (1/np.sqrt(2)) * (np.random.randn() + 1j * np.random.randn())\n",
    "            \n",
    "            n = np.array([[n1],\n",
    "                          [n2]])\n",
    "            \n",
    "            x1 = s[2 * ii]\n",
    "            \n",
    "            x2 = s[2 * ii + 1]\n",
    "            \n",
    "            x = np.array([[x1], \n",
    "                          [x2]]) \n",
    "            \n",
    "            y = (1/np.sqrt(2)) * np.dot(H,x) + n * (10 ** (-eb_no_db[jj] / 20))\n",
    "            \n",
    "            # forming pseudo inverse for MMSE\n",
    "            \n",
    "            H_conjugate = np.conjugate(H)\n",
    "            \n",
    "            H_hermitian = np.transpose(H_conjugate)\n",
    "            \n",
    "            H_hermitian_times_H = np.dot(H_hermitian,H)\n",
    "            \n",
    "            identity_matrix = np.eye(2)\n",
    "            \n",
    "            snr_inverse = (1 / (10 ** (eb_no_db[jj] / 10)))\n",
    "            \n",
    "            H_hermitian_times_H_inverse = np.linalg.inv(H_hermitian_times_H + identity_matrix * snr_inverse)\n",
    "            \n",
    "            W = np.dot(H_hermitian_times_H_inverse,H_hermitian)\n",
    "            \n",
    "            x_hat = np.dot(W,y)\n",
    "            \n",
    "            received_bits = x_hat > 0\n",
    "            \n",
    "            m = received_bits[0,0]\n",
    "            \n",
    "            n = received_bits[1,0]\n",
    "            \n",
    "            equalize_bits.append(m)\n",
    "            \n",
    "            equalize_bits.append(n)\n",
    "            \n",
    "        nErr = np.sum(ip != equalize_bits)\n",
    "        \n",
    "       \n",
    "        \n",
    "        bit_error_MMSE[jj] = nErr/ N\n",
    "        \n",
    "        \n",
    "        \n",
    "    return bit_error_MMSE \n",
    "    "
   ]
  },
  {
   "cell_type": "code",
   "execution_count": 122,
   "id": "dfe9b4f3",
   "metadata": {},
   "outputs": [
    {
     "name": "stdout",
     "output_type": "stream",
     "text": [
      "[0.091454 0.076227 0.063247 0.051459 0.042037 0.034146 0.027481 0.022349\n",
      " 0.017725 0.01433  0.011451 0.009015 0.007194 0.005893 0.004604 0.003736\n",
      " 0.002963 0.002283 0.001856 0.001421 0.001132 0.000943 0.000743 0.000579\n",
      " 0.000423]\n",
      "[0.058914 0.047761 0.038358 0.031227 0.024943 0.019548 0.01569  0.012576\n",
      " 0.009932 0.007826 0.006172 0.004915 0.003869 0.003115 0.002456 0.001961\n",
      " 0.001602 0.001229 0.001001 0.000763 0.000595 0.000527 0.000419 0.000314\n",
      " 0.000238]\n"
     ]
    },
    {
     "data": {
      "image/png": "[encoded data removed]",
      "text/plain": [
       "<Figure size 432x288 with 1 Axes>"
      ]
     },
     "metadata": {
      "needs_background": "light"
     },
     "output_type": "display_data"
    }
   ],
   "source": [
    "zero_forcing = ZF()\n",
    "mmse = MMSE()\n",
    "print(zero_forcing)\n",
    "print(mmse)\n",
    "plt.figure()\n",
    "plt.semilogy(eb_no_db, zero_forcing, 'mo-', linewidth=2, markersize=4, label='nTx=2 nRx=2 (zero forcing)')\n",
    "plt.semilogy(eb_no_db, mmse, 'ro-', linewidth=2, markersize=4, label='nTx=2 nRx=2 (MMSE)')\n",
    "plt.grid(True)\n",
    "plt.legend()\n",
    "plt.xlabel('Eb/No, dB')\n",
    "plt.ylabel('Bit Error Rate')\n",
    "plt.title('BER for BPSK modulation with ZF & MMSE algorithm')\n",
    "plt.show()"
   ]
  },
  {
   "cell_type": "code",
   "execution_count": null,
   "id": "2cd3b91b",
   "metadata": {},
   "outputs": [],
   "source": []
  },
  {
   "cell_type": "code",
   "execution_count": null,
   "id": "1b891982",
   "metadata": {},
   "outputs": [],
   "source": []
  }
 ],
 "metadata": {
  "kernelspec": {
   "display_name": "Python 3 (ipykernel)",
   "language": "python",
   "name": "python3"
  },
  "language_info": {
   "codemirror_mode": {
    "name": "ipython",
    "version": 3
   },
   "file_extension": ".py",
   "mimetype": "text/x-python",
   "name": "python",
   "nbconvert_exporter": "python",
   "pygments_lexer": "ipython3",
   "version": "3.9.12"
  }
 },
 "nbformat": 4,
 "nbformat_minor": 5
}
