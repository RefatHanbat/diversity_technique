{
 "cells": [
  {
   "cell_type": "code",
   "execution_count": 3,
   "id": "2d76b5b2",
   "metadata": {},
   "outputs": [],
   "source": [
    "import numpy as np\n",
    "import matplotlib.pyplot as plt"
   ]
  },
  {
   "cell_type": "code",
   "execution_count": 4,
   "id": "56b4b5dc",
   "metadata": {},
   "outputs": [],
   "source": [
    "N = 1000"
   ]
  },
  {
   "cell_type": "code",
   "execution_count": 5,
   "id": "9840ddbb",
   "metadata": {},
   "outputs": [],
   "source": [
    "ip = np.random.randn(N)>0"
   ]
  },
  {
   "cell_type": "code",
   "execution_count": 6,
   "id": "e7305bc1",
   "metadata": {},
   "outputs": [],
   "source": [
    "#bpsk_modulation\n",
    "s = 2 * ip - 1\n",
    "s = np.array(s)\n"
   ]
  },
  {
   "cell_type": "code",
   "execution_count": 7,
   "id": "ffd0b3ab",
   "metadata": {},
   "outputs": [],
   "source": [
    "eb_no_db = np.arange(25)"
   ]
  },
  {
   "cell_type": "code",
   "execution_count": 8,
   "id": "c148e6fa",
   "metadata": {},
   "outputs": [],
   "source": [
    "bit_error_rate = np.zeros(len(eb_no_db)) "
   ]
  },
  {
   "cell_type": "code",
   "execution_count": 11,
   "id": "f805195c",
   "metadata": {},
   "outputs": [],
   "source": [
    "def equal_gain_combining():\n",
    "    \n",
    "    bit_error_rate = np.zeros(len(eb_no_db))\n",
    "\n",
    "    for jj in range(len(eb_no_db)):\n",
    "        \n",
    "        nErr = 0\n",
    "\n",
    "        for ii in range(N):\n",
    "            \n",
    "            h11 = (1 / np.sqrt(2)) * (np.random.rand() + 1j * np.random.rand())\n",
    "            h21 = (1 / np.sqrt(2)) * (np.random.rand() + 1j * np.random.rand())\n",
    "            n11 = (1 / np.sqrt(2)) * (np.random.rand() + 1j * np.random.rand())\n",
    "            n21 = (1 / np.sqrt(2)) * (np.random.rand() + 1j * np.random.rand())\n",
    "            \n",
    "            x = s[ii]\n",
    "            \n",
    "            H = np.array([[h11], [h21]])\n",
    "            \n",
    "            n = np.array([[n11], [n21]])\n",
    "            \n",
    "            y = np.dot(H, x) + n * (10 ** (-eb_no_db[jj] / 20))\n",
    "            \n",
    "            phase_compenstate = np.exp(-1j * np.angle(H))\n",
    "            \n",
    "            print(phase_compenstate)\n",
    "            \n",
    "            print(y)\n",
    "            \n",
    "            equalize_received_signal = np.dot(phase_compenstate,y)\n",
    "            \n",
    "            decoded_bits = (equalize_received_signal.real > 0).astype(int)\n",
    "\n",
    "            nErr += np.sum(decoded_bits != ip)  # Accumulate errors for each iteration\n",
    "\n",
    "        bit_error_rate[jj] = nErr / N  # Calculate bit error rate for the current SNR\n",
    "\n",
    "    return bit_error_rate\n"
   ]
  },
  {
   "cell_type": "code",
   "execution_count": 12,
   "id": "c60fefc9",
   "metadata": {},
   "outputs": [
    {
     "name": "stdout",
     "output_type": "stream",
     "text": [
      "[[0.40298765-0.91520542j]\n",
      " [0.59267377-0.80544261j]]\n",
      "[[0.25801794-0.28168302j]\n",
      " [0.25520137-0.42662179j]]\n"
     ]
    },
    {
     "ename": "ValueError",
     "evalue": "shapes (2,1) and (2,1) not aligned: 1 (dim 1) != 2 (dim 0)",
     "output_type": "error",
     "traceback": [
      "\u001b[1;31m---------------------------------------------------------------------------\u001b[0m",
      "\u001b[1;31mValueError\u001b[0m                                Traceback (most recent call last)",
      "Input \u001b[1;32mIn [12]\u001b[0m, in \u001b[0;36m<cell line: 1>\u001b[1;34m()\u001b[0m\n\u001b[1;32m----> 1\u001b[0m result \u001b[38;5;241m=\u001b[39m \u001b[43mequal_gain_combining\u001b[49m\u001b[43m(\u001b[49m\u001b[43m)\u001b[49m\n\u001b[0;32m      2\u001b[0m \u001b[38;5;28mprint\u001b[39m(result)\n\u001b[0;32m      3\u001b[0m plt\u001b[38;5;241m.\u001b[39mfigure()\n",
      "Input \u001b[1;32mIn [11]\u001b[0m, in \u001b[0;36mequal_gain_combining\u001b[1;34m()\u001b[0m\n\u001b[0;32m     26\u001b[0m \u001b[38;5;28mprint\u001b[39m(phase_compenstate)\n\u001b[0;32m     28\u001b[0m \u001b[38;5;28mprint\u001b[39m(y)\n\u001b[1;32m---> 30\u001b[0m equalize_received_signal \u001b[38;5;241m=\u001b[39m \u001b[43mnp\u001b[49m\u001b[38;5;241;43m.\u001b[39;49m\u001b[43mdot\u001b[49m\u001b[43m(\u001b[49m\u001b[43mphase_compenstate\u001b[49m\u001b[43m,\u001b[49m\u001b[43my\u001b[49m\u001b[43m)\u001b[49m\n\u001b[0;32m     32\u001b[0m decoded_bits \u001b[38;5;241m=\u001b[39m (equalize_received_signal\u001b[38;5;241m.\u001b[39mreal \u001b[38;5;241m>\u001b[39m \u001b[38;5;241m0\u001b[39m)\u001b[38;5;241m.\u001b[39mastype(\u001b[38;5;28mint\u001b[39m)\n\u001b[0;32m     34\u001b[0m nErr \u001b[38;5;241m+\u001b[39m\u001b[38;5;241m=\u001b[39m np\u001b[38;5;241m.\u001b[39msum(decoded_bits \u001b[38;5;241m!=\u001b[39m ip)  \u001b[38;5;66;03m# Accumulate errors for each iteration\u001b[39;00m\n",
      "File \u001b[1;32m<__array_function__ internals>:5\u001b[0m, in \u001b[0;36mdot\u001b[1;34m(*args, **kwargs)\u001b[0m\n",
      "\u001b[1;31mValueError\u001b[0m: shapes (2,1) and (2,1) not aligned: 1 (dim 1) != 2 (dim 0)"
     ]
    }
   ],
   "source": [
    "result = equal_gain_combining()\n",
    "print(result)\n",
    "plt.figure()\n",
    "plt.semilogy(eb_no_db, result, 'mo-', linewidth=2, markersize=8, label='nTx=2 nRx=2 (equal_gain)')\n",
    "\n",
    "# plt.axis([0, 30, 1e-5, 0.1])\n",
    "plt.grid(True)\n",
    "plt.legend()\n",
    "plt.xlabel('Eb/No, dB')\n",
    "plt.ylabel('Bit Error Rate')\n",
    "plt.title('BER for BPSK modulation with zero_forcing_algorithm')\n",
    "plt.show()"
   ]
  },
  {
   "cell_type": "code",
   "execution_count": null,
   "id": "241b0a52",
   "metadata": {},
   "outputs": [],
   "source": []
  },
  {
   "cell_type": "code",
   "execution_count": null,
   "id": "041a68fb",
   "metadata": {},
   "outputs": [],
   "source": []
  },
  {
   "cell_type": "code",
   "execution_count": null,
   "id": "2a3e85cf",
   "metadata": {},
   "outputs": [],
   "source": []
  },
  {
   "cell_type": "code",
   "execution_count": null,
   "id": "ec2f1b0a",
   "metadata": {},
   "outputs": [],
   "source": []
  }
 ],
 "metadata": {
  "kernelspec": {
   "display_name": "Python 3 (ipykernel)",
   "language": "python",
   "name": "python3"
  },
  "language_info": {
   "codemirror_mode": {
    "name": "ipython",
    "version": 3
   },
   "file_extension": ".py",
   "mimetype": "text/x-python",
   "name": "python",
   "nbconvert_exporter": "python",
   "pygments_lexer": "ipython3",
   "version": "3.9.12"
  }
 },
 "nbformat": 4,
 "nbformat_minor": 5
}
