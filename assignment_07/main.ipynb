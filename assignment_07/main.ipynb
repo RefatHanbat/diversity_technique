{
 "cells": [
  {
   "cell_type": "code",
   "execution_count": 1,
   "id": "66b0728b",
   "metadata": {},
   "outputs": [],
   "source": [
    "import numpy as np\n",
    "import matplotlib.pyplot as plt"
   ]
  },
  {
   "cell_type": "code",
   "execution_count": 2,
   "id": "47d47476",
   "metadata": {},
   "outputs": [],
   "source": [
    "N = 1000"
   ]
  },
  {
   "cell_type": "code",
   "execution_count": 3,
   "id": "0272f283",
   "metadata": {},
   "outputs": [],
   "source": [
    "ip = np.random.rand(N) > 0.5\n",
    "ip = ip.astype(int)"
   ]
  },
  {
   "cell_type": "code",
   "execution_count": 4,
   "id": "2de5b7bb",
   "metadata": {},
   "outputs": [],
   "source": [
    "Es = 1"
   ]
  },
  {
   "cell_type": "code",
   "execution_count": 5,
   "id": "90c7eb74",
   "metadata": {},
   "outputs": [],
   "source": [
    "eb_no_db = np.arange(0,25)"
   ]
  },
  {
   "cell_type": "code",
   "execution_count": 6,
   "id": "c2f41f06",
   "metadata": {},
   "outputs": [],
   "source": [
    "RxMF_capacity = np.zeros(len(eb_no_db))\n",
    "RxZF_capacity = np.zeros(len(eb_no_db))\n",
    "RxMMSE_capacity = np.zeros(len(eb_no_db))"
   ]
  },
  {
   "cell_type": "code",
   "execution_count": 7,
   "id": "96f56ee1",
   "metadata": {},
   "outputs": [],
   "source": [
    "def calculate_capacity(nTx,nRx,Rz_inverse):\n",
    "    \n",
    "    total_capacity = 0\n",
    "    \n",
    "    for ii in range(N):\n",
    "\n",
    "        H = (1/np.sqrt(2)) * (np.random.randn(nTx,nRx) + 1j * np.random.randn(nTx,nRx))\n",
    "\n",
    "        H_hermitian = np.conjugate(H)\n",
    "\n",
    "        H_hermitian = np.transpose(H_hermitian)\n",
    "\n",
    "        Ns = 4\n",
    "\n",
    "        \n",
    "                        \n",
    "\n",
    "        P = np.sqrt(Es / Ns) * np.block([\n",
    "                   [np.eye(Ns), np.zeros((Ns, nTx - Ns))],\n",
    "                   [np.zeros((nTx - Ns, nTx))]\n",
    "                    ])\n",
    "\n",
    "        P_hermitian = np.conjugate(P)\n",
    "\n",
    "        P_hermitian = np.transpose(P_hermitian)\n",
    "\n",
    "        X = np.eye(4)\n",
    "\n",
    "        Y = P_hermitian @ H_hermitian @ Rz_inverse @ H @ P\n",
    "\n",
    "        Z = X + Y\n",
    "\n",
    "        Z = np.linalg.det(Z)\n",
    "\n",
    "        c = np.log2(np.abs(Z))\n",
    "        \n",
    "        total_capacity = total_capacity + c \n",
    "        \n",
    "    return total_capacity\n",
    "    "
   ]
  },
  {
   "cell_type": "code",
   "execution_count": 8,
   "id": "c78d8f36",
   "metadata": {},
   "outputs": [],
   "source": [
    "def Rx_MF ():\n",
    "    \n",
    "    for jj in range(len(eb_no_db)):\n",
    "        \n",
    "        snr = 10**(eb_no_db[jj] / 10)\n",
    "        \n",
    "        noise_variance = (1/snr)\n",
    "        \n",
    "        nTx = 4\n",
    "        \n",
    "        nRx = 4\n",
    "        \n",
    "        Rz = noise_variance * np.eye(nRx)\n",
    "        \n",
    "        Rz_inverse = np.linalg.inv(Rz)\n",
    "        \n",
    "        capacity = calculate_capacity(nTx,nRx,Rz_inverse)\n",
    "        \n",
    "        capacity = capacity / N\n",
    "        \n",
    "        RxZF_capacity[jj] = capacity\n",
    "        \n",
    "    return RxZF_capacity\n",
    "    \n",
    "        \n",
    "        \n",
    "            \n",
    "            \n",
    "            \n",
    "            \n",
    "            "
   ]
  },
  {
   "cell_type": "code",
   "execution_count": 9,
   "id": "bce035dc",
   "metadata": {},
   "outputs": [],
   "source": [
    "def Rx_ZF ():\n",
    "    \n",
    "    for jj in range(len(eb_no_db)):\n",
    "        \n",
    "        snr = 10**(eb_no_db[jj] / 10)\n",
    "        \n",
    "        noise_variance = (1/snr)\n",
    "        \n",
    "        nTx = 4\n",
    "        \n",
    "        nRx = 4\n",
    "        \n",
    "        Rz = noise_variance * np.eye(nRx)\n",
    "        \n",
    "        Rz_inverse = np.linalg.inv(Rz)\n",
    "        \n",
    "        capacity = calculate_capacity(nTx,nRx,Rz_inverse)\n",
    "        \n",
    "        capacity = capacity / N\n",
    "        \n",
    "        RxMF_capacity[jj] = capacity\n",
    "        \n",
    "    return RxMF_capacity"
   ]
  },
  {
   "cell_type": "code",
   "execution_count": 10,
   "id": "afbd7f7b",
   "metadata": {},
   "outputs": [],
   "source": [
    "def Rx_MMSE ():\n",
    "    \n",
    "    for jj in range(len(eb_no_db)):\n",
    "        \n",
    "        snr = 10**(eb_no_db[jj] / 10)\n",
    "        \n",
    "        noise_variance = (1/snr)\n",
    "        \n",
    "        nTx = 4\n",
    "        \n",
    "        nRx = 4\n",
    "        \n",
    "        Rz = noise_variance * np.eye(nRx)\n",
    "        \n",
    "        Rz_inverse = np.linalg.inv(Rz)\n",
    "        \n",
    "        capacity = calculate_capacity(nTx,nRx,Rz_inverse)\n",
    "        \n",
    "        capacity = capacity / N\n",
    "        \n",
    "        \n",
    "        RxMMSE_capacity[jj] = capacity\n",
    "        \n",
    "    return RxMMSE_capacity"
   ]
  },
  {
   "cell_type": "code",
   "execution_count": 11,
   "id": "6d24dfc7",
   "metadata": {},
   "outputs": [
    {
     "data": {
      "image/png": "[encoded data removed]",
      "text/plain": [
       "<Figure size 432x288 with 1 Axes>"
      ]
     },
     "metadata": {
      "needs_background": "light"
     },
     "output_type": "display_data"
    }
   ],
   "source": [
    "rxmf = Rx_MF ()\n",
    "rxzf = Rx_ZF()\n",
    "rxmmse =Rx_MMSE ()\n",
    "\n",
    "plt.figure()\n",
    "plt.plot(eb_no_db, rxmf, 'k^-', linewidth=2, markersize=8, label='nTx=4 nRx=4 (mimo w/o csit RxMF)')\n",
    "plt.plot(eb_no_db, rxzf, 'rv-', linewidth=2, markersize=8, label='nTx=4 nRx=4 (mimo w/o csit RxZF)')\n",
    "plt.plot(eb_no_db, rxmmse, 'c*-', linewidth=2, markersize=8, label='nTx=4 nRx=4 (mimo w/o csit RxMMSE)')\n",
    "plt.grid(True)\n",
    "plt.legend()\n",
    "plt.xlabel('Eb/No, dB')\n",
    "plt.ylabel('Average Capacity')\n",
    "plt.title('SNR-dB')\n",
    "plt.show()"
   ]
  },
  {
   "cell_type": "code",
   "execution_count": null,
   "id": "c8661f4c",
   "metadata": {},
   "outputs": [],
   "source": []
  }
 ],
 "metadata": {
  "kernelspec": {
   "display_name": "Python 3 (ipykernel)",
   "language": "python",
   "name": "python3"
  },
  "language_info": {
   "codemirror_mode": {
    "name": "ipython",
    "version": 3
   },
   "file_extension": ".py",
   "mimetype": "text/x-python",
   "name": "python",
   "nbconvert_exporter": "python",
   "pygments_lexer": "ipython3",
   "version": "3.9.12"
  }
 },
 "nbformat": 4,
 "nbformat_minor": 5
}
