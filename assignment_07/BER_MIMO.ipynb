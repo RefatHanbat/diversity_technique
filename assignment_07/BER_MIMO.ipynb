{
 "cells": [
  {
   "cell_type": "code",
   "execution_count": 1,
   "id": "1daa8cf2",
   "metadata": {},
   "outputs": [],
   "source": [
    "import numpy as np\n",
    "import matplotlib.pyplot as plt"
   ]
  },
  {
   "cell_type": "code",
   "execution_count": 2,
   "id": "472a254b",
   "metadata": {},
   "outputs": [],
   "source": [
    "N = 20000"
   ]
  },
  {
   "cell_type": "code",
   "execution_count": 3,
   "id": "5b7b8b38",
   "metadata": {},
   "outputs": [],
   "source": [
    "ip = np.random.rand(N) > 0.5\n",
    "ip = ip.astype(int)\n"
   ]
  },
  {
   "cell_type": "code",
   "execution_count": 4,
   "id": "93affa03",
   "metadata": {},
   "outputs": [],
   "source": [
    "s = 2 * ip - 1"
   ]
  },
  {
   "cell_type": "code",
   "execution_count": 5,
   "id": "ba8be99c",
   "metadata": {},
   "outputs": [],
   "source": [
    "Es = 1"
   ]
  },
  {
   "cell_type": "code",
   "execution_count": 6,
   "id": "941a47f6",
   "metadata": {},
   "outputs": [],
   "source": [
    "eb_no_db = np.arange(0,25)"
   ]
  },
  {
   "cell_type": "code",
   "execution_count": 7,
   "id": "4c632d30",
   "metadata": {},
   "outputs": [],
   "source": [
    "ber_RxMF_EPA = np.zeros(len(eb_no_db))\n",
    "\n",
    "ber_RxZF_EPA = np.zeros(len(eb_no_db))"
   ]
  },
  {
   "cell_type": "code",
   "execution_count": 8,
   "id": "23199bbf",
   "metadata": {},
   "outputs": [],
   "source": [
    "def calculate_ber(eb_no_db,nTx,nRx,jj,Rz_inverse):\n",
    "    \n",
    "    \n",
    "    equalize_bits = []\n",
    "    \n",
    "    for ii in range(N//2):\n",
    "        \n",
    "        H = (1/np.sqrt(2)) * (np.random.randn(nRx,nTx) + 1j * np.random.randn(nRx,nTx))\n",
    "        \n",
    "        n = (1/np.sqrt(2)) * (np.random.randn(2,1) + 1j * np.random.randn(2,1))\n",
    "        \n",
    "        x1 = s[2 * ii]\n",
    "        \n",
    "        x2 = s[2 * ii + 1]\n",
    "        \n",
    "        x =np.array([[x1],[x2]])\n",
    "        \n",
    "        \n",
    "        \n",
    "        Ns = np.linalg.matrix_rank(H)\n",
    "        \n",
    "        P = np.sqrt(Es / Ns) * np.vstack([\n",
    "               np.eye(Ns),                \n",
    "             np.zeros((nTx-Ns, Ns))           \n",
    "          ])\n",
    "        \n",
    "        \n",
    "        \n",
    "        y = H @ P @ x + n * (10 ** (-eb_no_db[jj] / 20))\n",
    "        \n",
    "        \n",
    "        H_hermitian = np.conjugate(H)\n",
    "        \n",
    "        H_hermitian = np.transpose(H_hermitian)\n",
    "        \n",
    "        P_hermitian = np.conjugate(P)\n",
    "        \n",
    "        P_hermitian = np.transpose(P_hermitian)\n",
    "        \n",
    "        W = P_hermitian @ H_hermitian @ Rz_inverse\n",
    "        \n",
    "        x_hat = np.dot(W,y)\n",
    "        \n",
    "        x_hat = np.real(x_hat > 0).astype(int)\n",
    "        \n",
    "        equalize_bits.append(x_hat[0,0])\n",
    "        \n",
    "        equalize_bits.append(x_hat[1,0])\n",
    "        \n",
    "    nErr = np.sum(ip != equalize_bits)\n",
    "    \n",
    "    return nErr\n",
    "         "
   ]
  },
  {
   "cell_type": "code",
   "execution_count": 9,
   "id": "0582a766",
   "metadata": {},
   "outputs": [],
   "source": [
    "def calculate_ber_ZF(eb_no_db,nTx,nRx,jj,Rz_inverse):\n",
    "    \n",
    "    \n",
    "    equalize_bits = []\n",
    "    \n",
    "    for ii in range(N//2):\n",
    "        \n",
    "        H = (1/np.sqrt(2)) * (np.random.randn(nRx,nTx) + 1j * np.random.randn(nRx,nTx))\n",
    "        \n",
    "        n = (1/np.sqrt(2)) * (np.random.randn(2,1) + 1j * np.random.randn(2,1))\n",
    "        \n",
    "        x1 = s[2 * ii]\n",
    "        \n",
    "        x2 = s[2 * ii + 1]\n",
    "        \n",
    "        x =np.array([[x1],[x2]])\n",
    "        \n",
    "        \n",
    "        \n",
    "        Ns = np.linalg.matrix_rank(H)\n",
    "        \n",
    "        P = np.sqrt(Es / Ns) * np.vstack([\n",
    "               np.eye(Ns),                \n",
    "             np.zeros((nTx-Ns, Ns))           \n",
    "          ])\n",
    "        \n",
    "        \n",
    "        \n",
    "        y = H @ P @ x + n * (10 ** (-eb_no_db[jj] / 20))\n",
    "        \n",
    "        \n",
    "        H_hermitian = np.conjugate(H)\n",
    "        \n",
    "        H_hermitian = np.transpose(H_hermitian)\n",
    "        \n",
    "        P_hermitian = np.conjugate(P)\n",
    "        \n",
    "        P_hermitian = np.transpose(P_hermitian)\n",
    "        \n",
    "        W = np.linalg.inv(P_hermitian @ H_hermitian @ Rz_inverse @ H @ P) \n",
    "        \n",
    "        W = W @ P_hermitian @ H_hermitian @ Rz_inverse\n",
    "        \n",
    "        x_hat = np.dot(W,y)\n",
    "        \n",
    "        x_hat = np.real(x_hat > 0).astype(int)\n",
    "        \n",
    "        equalize_bits.append(x_hat[0,0])\n",
    "        \n",
    "        equalize_bits.append(x_hat[1,0])\n",
    "        \n",
    "    nErr = np.sum(ip != equalize_bits)\n",
    "    \n",
    "    return nErr\n",
    "    \n",
    "    "
   ]
  },
  {
   "cell_type": "code",
   "execution_count": 10,
   "id": "4d914127",
   "metadata": {},
   "outputs": [],
   "source": [
    "def RxMF():\n",
    "    \n",
    "    \n",
    "    for jj in range(len(eb_no_db)):\n",
    "        \n",
    "        nTx = 2\n",
    "        \n",
    "        nRx = 2\n",
    "        \n",
    "        snr = 10**(eb_no_db[jj] / 10)\n",
    "        \n",
    "        noise_variance = (1/snr)\n",
    "        \n",
    "        Rz = noise_variance * np.eye(nRx)\n",
    "        \n",
    "        Rz_inverse = np.linalg.inv(Rz)\n",
    "        \n",
    "        bit_error = calculate_ber(eb_no_db,nTx,nRx,jj,Rz_inverse)\n",
    "        \n",
    "        ber_RxZF_EPA[jj] = bit_error / N\n",
    "        \n",
    "        \n",
    "    return ber_RxZF_EPA\n",
    "        \n",
    "        \n",
    "        "
   ]
  },
  {
   "cell_type": "code",
   "execution_count": 11,
   "id": "f42c8219",
   "metadata": {},
   "outputs": [],
   "source": [
    "def RxZF():\n",
    "    \n",
    "    for jj in range(len(eb_no_db)):\n",
    "        \n",
    "        nTx = 2\n",
    "        \n",
    "        nRx = 2\n",
    "        \n",
    "        snr = 10**(eb_no_db[jj] / 10)\n",
    "        \n",
    "        noise_variance = (1/snr)\n",
    "        \n",
    "        Rz = noise_variance * np.eye(nRx)\n",
    "        \n",
    "        Rz_inverse = np.linalg.inv(Rz)\n",
    "        \n",
    "        bit_error = calculate_ber_ZF(eb_no_db,nTx,nRx,jj,Rz_inverse)\n",
    "        \n",
    "        ber_RxMF_EPA[jj] = bit_error / N\n",
    "        \n",
    "        \n",
    "    return ber_RxMF_EPA\n",
    "        \n",
    "        "
   ]
  },
  {
   "cell_type": "code",
   "execution_count": 12,
   "id": "0a267a9a",
   "metadata": {},
   "outputs": [
    {
     "data": {
      "image/png": "[encoded data removed]",
      "text/plain": [
       "<Figure size 432x288 with 1 Axes>"
      ]
     },
     "metadata": {
      "needs_background": "light"
     },
     "output_type": "display_data"
    }
   ],
   "source": [
    "rxmf_epa = RxMF()\n",
    "\n",
    "rxzf_epa = RxZF()\n",
    "\n",
    "plt.figure()\n",
    "\n",
    "plt.semilogy(eb_no_db, rxmf_epa, 'k^-', linewidth=2, markersize=8, label='nTx=2 nRx=2 (mimo w/o csit RxMF)(EPA_P)')\n",
    "\n",
    "plt.semilogy(eb_no_db, rxmf_epa, 'rv-', linewidth=2, markersize=8, label='nTx=2 nRx=2 (mimo w/o csit RxZF)(EPA_P)')\n",
    "\n",
    "plt.grid(True)\n",
    "plt.legend()\n",
    "plt.xlabel('Eb/No, dB')\n",
    "plt.ylabel('Bit Error Rate')\n",
    "plt.title('SNR-dB')\n",
    "plt.show()"
   ]
  },
  {
   "cell_type": "code",
   "execution_count": null,
   "id": "5a3c11bc",
   "metadata": {},
   "outputs": [],
   "source": []
  },
  {
   "cell_type": "code",
   "execution_count": null,
   "id": "21022db8",
   "metadata": {},
   "outputs": [],
   "source": []
  }
 ],
 "metadata": {
  "kernelspec": {
   "display_name": "Python 3 (ipykernel)",
   "language": "python",
   "name": "python3"
  },
  "language_info": {
   "codemirror_mode": {
    "name": "ipython",
    "version": 3
   },
   "file_extension": ".py",
   "mimetype": "text/x-python",
   "name": "python",
   "nbconvert_exporter": "python",
   "pygments_lexer": "ipython3",
   "version": "3.9.12"
  }
 },
 "nbformat": 4,
 "nbformat_minor": 5
}
