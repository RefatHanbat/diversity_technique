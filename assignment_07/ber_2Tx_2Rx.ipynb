{
 "cells": [
  {
   "cell_type": "code",
   "execution_count": 1,
   "id": "97f6deb8",
   "metadata": {},
   "outputs": [],
   "source": [
    "import numpy as np\n",
    "import matplotlib.pyplot as plt"
   ]
  },
  {
   "cell_type": "code",
   "execution_count": 2,
   "id": "63933993",
   "metadata": {},
   "outputs": [],
   "source": [
    "N = 10"
   ]
  },
  {
   "cell_type": "code",
   "execution_count": 3,
   "id": "eb6dd977",
   "metadata": {},
   "outputs": [],
   "source": [
    "ip = np.random.rand(N) > 0.5\n",
    "ip = ip.astype(int)"
   ]
  },
  {
   "cell_type": "code",
   "execution_count": 4,
   "id": "5c57ff00",
   "metadata": {},
   "outputs": [],
   "source": [
    "s = 2 * ip - 1"
   ]
  },
  {
   "cell_type": "code",
   "execution_count": 5,
   "id": "01ad0134",
   "metadata": {},
   "outputs": [],
   "source": [
    "Es = 1"
   ]
  },
  {
   "cell_type": "code",
   "execution_count": 6,
   "id": "e6dac514",
   "metadata": {},
   "outputs": [],
   "source": [
    "eb_no_db = np.arange(0,25)"
   ]
  },
  {
   "cell_type": "code",
   "execution_count": 7,
   "id": "860bb060",
   "metadata": {},
   "outputs": [],
   "source": [
    "ber_RxMF_SVD_P = np.zeros(len(eb_no_db))"
   ]
  },
  {
   "cell_type": "code",
   "execution_count": 8,
   "id": "6933b7b7",
   "metadata": {},
   "outputs": [],
   "source": [
    "def sigma_two(noise_variance,S1,S2,q_optimal_1):\n",
    "    \n",
    "    S = [ S1 , S2 ]\n",
    "    \n",
    "    q_optimal_1 = q_optimal_1\n",
    "\n",
    "    sigma_two_q  = []\n",
    "    \n",
    "    summation_part = 0\n",
    "    \n",
    "    for kk in range(len(S)):\n",
    "        \n",
    "        summation_part = summation_part +  (noise_variance/np.square(S[kk]))\n",
    "        \n",
    "    mu = (1/len(S))* (Es + summation_part)\n",
    "    \n",
    "    for mm in range(len(S)):\n",
    "        \n",
    "        qi = mu - (noise_variance/np.square(S[mm]))\n",
    "        \n",
    "        if(qi > 0):\n",
    "            \n",
    "            sigma_two_q.append(qi)\n",
    "            \n",
    "        else:\n",
    "            sigma_two_q = []\n",
    "            \n",
    "            sigma_two_q = q_optimal_1.copy()\n",
    "            \n",
    "            break\n",
    "            \n",
    "    return sigma_two_q"
   ]
  },
  {
   "cell_type": "code",
   "execution_count": 9,
   "id": "7313629f",
   "metadata": {},
   "outputs": [],
   "source": [
    "def sigma_one(noise_variance,S1):\n",
    "    \n",
    "    \n",
    "    S = [S1]\n",
    "    \n",
    "    \n",
    "    sigma_one_q = []\n",
    "    \n",
    "    summation_part = noise_variance / np.square(S1)\n",
    "    \n",
    "    mu = (1/len(S)) * (Es + summation_part )\n",
    "    \n",
    "    q_optimal = mu - (noise_variance / np.square(S1))\n",
    "    \n",
    "    if q_optimal > 0 :\n",
    "        \n",
    "        sigma_one_q.append(q_optimal)\n",
    "        \n",
    "    \n",
    "    \n",
    "    return sigma_one_q"
   ]
  },
  {
   "cell_type": "code",
   "execution_count": 10,
   "id": "84ddae05",
   "metadata": {},
   "outputs": [],
   "source": [
    "def optimal_Q(S,noise_variance):\n",
    "    \n",
    "    \n",
    "    S1 = S[0]\n",
    "    \n",
    "    S2 = S[1]\n",
    "    \n",
    "    S = [S1, S2]\n",
    "    \n",
    "    q_optimal_1 = sigma_one(noise_variance,S1)\n",
    "    \n",
    "    q_optimal_2 = sigma_two(noise_variance,S1,S2,q_optimal_1)\n",
    "    \n",
    "    return q_optimal_2"
   ]
  },
  {
   "cell_type": "code",
   "execution_count": 11,
   "id": "769902a7",
   "metadata": {},
   "outputs": [],
   "source": [
    "def svd_MF():\n",
    "    \n",
    "    for jj in range(len(eb_no_db)):\n",
    "        \n",
    "        snr = 10**(eb_no_db[jj] / 10)\n",
    "        \n",
    "        nTx = 2\n",
    "        \n",
    "        nRx = 2\n",
    "        \n",
    "        noise_variance = (1/snr)\n",
    "        \n",
    "        \n",
    "        total_capacity = 0\n",
    "        \n",
    "        for ii in range(N):\n",
    "            \n",
    "            H = (1/np.sqrt(2)) * (np.random.randn(nTx,nRx) + 1j * np.random.randn(nTx,nRx))\n",
    "            \n",
    "            H_hermitian = np.conjugate(H)\n",
    "            \n",
    "            H_hermitian = np.transpose(H_hermitian)\n",
    "            \n",
    "            U,S,Vh = np.linalg.svd(H)\n",
    "            \n",
    "            V = np.conjugate(Vh)\n",
    "            \n",
    "            V = np.transpose(V)\n",
    "            \n",
    "            Q_values = optimal_Q(S,noise_variance)\n",
    "            \n",
    "            \n",
    "            \n",
    "            \n",
    "            \n",
    "            "
   ]
  },
  {
   "cell_type": "code",
   "execution_count": 12,
   "id": "902c4de7",
   "metadata": {},
   "outputs": [
    {
     "name": "stdout",
     "output_type": "stream",
     "text": [
      "[1.]\n",
      "[1.]\n",
      "[1.]\n",
      "[1.]\n",
      "[1.]\n",
      "[1.]\n",
      "[1.]\n",
      "[1.]\n",
      "[1.]\n",
      "[1.]\n",
      "[1.]\n",
      "[1.]\n",
      "[1.]\n",
      "[1.]\n",
      "[1.]\n",
      "[1.]\n",
      "[1.]\n",
      "[1.]\n",
      "[1.]\n",
      "[1.]\n",
      "[1.]\n",
      "[1.]\n",
      "[1.]\n",
      "[1.]\n",
      "[1.]\n",
      "[1.]\n",
      "[1.]\n",
      "[1.]\n",
      "[1.]\n",
      "[1.]\n",
      "[1.]\n",
      "[1.]\n",
      "[1.]\n",
      "[1.]\n",
      "[1.]\n",
      "[1.]\n",
      "[1.]\n",
      "[1.]\n",
      "[1.]\n",
      "[1.]\n",
      "[1.]\n",
      "[1.]\n",
      "[1.]\n",
      "[1.]\n",
      "[1.]\n",
      "[1.]\n",
      "[1.]\n",
      "[1.]\n",
      "[1.]\n",
      "[1.]\n",
      "[1.]\n",
      "[1.]\n",
      "[1.]\n",
      "[1.]\n",
      "[1.]\n",
      "[1.]\n",
      "[1.]\n",
      "[1.]\n",
      "[1.]\n",
      "[1.]\n",
      "[1.]\n"
     ]
    }
   ],
   "source": [
    "svd_MF()\n",
    "\n"
   ]
  },
  {
   "cell_type": "code",
   "execution_count": null,
   "id": "dda8c93d",
   "metadata": {},
   "outputs": [],
   "source": []
  }
 ],
 "metadata": {
  "kernelspec": {
   "display_name": "Python 3 (ipykernel)",
   "language": "python",
   "name": "python3"
  },
  "language_info": {
   "codemirror_mode": {
    "name": "ipython",
    "version": 3
   },
   "file_extension": ".py",
   "mimetype": "text/x-python",
   "name": "python",
   "nbconvert_exporter": "python",
   "pygments_lexer": "ipython3",
   "version": "3.9.12"
  }
 },
 "nbformat": 4,
 "nbformat_minor": 5
}
