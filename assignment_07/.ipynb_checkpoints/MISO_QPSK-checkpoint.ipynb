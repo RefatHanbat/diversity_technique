{
 "cells": [
  {
   "cell_type": "code",
   "execution_count": 3,
   "id": "d9cf171a",
   "metadata": {},
   "outputs": [],
   "source": [
    "import numpy as np\n",
    "import matplotlib.pyplot as plt"
   ]
  },
  {
   "cell_type": "code",
   "execution_count": 12,
   "id": "75c276a8",
   "metadata": {},
   "outputs": [],
   "source": [
    "N = 10\n"
   ]
  },
  {
   "cell_type": "code",
   "execution_count": 13,
   "id": "ffea5271",
   "metadata": {},
   "outputs": [],
   "source": [
    "ip = np.random.rand(N) > 0.5\n",
    "ip = ip.astype(int)\n"
   ]
  },
  {
   "cell_type": "code",
   "execution_count": 14,
   "id": "3bee7adb",
   "metadata": {},
   "outputs": [],
   "source": [
    "Es = 1"
   ]
  },
  {
   "cell_type": "code",
   "execution_count": 15,
   "id": "90cdfef9",
   "metadata": {},
   "outputs": [],
   "source": [
    "constellation_symbols = np.sqrt(Es / 2) * np.array([\n",
    "            [(-1) + 1j * (-1)],\n",
    "            [(-1) + 1j * (+1)],\n",
    "            [(+1) + 1j * (-1)],\n",
    "            [(+1) + 1j * (+1)]\n",
    "        ])\n",
    "constellation_bits = np.array([\n",
    "        [0, 0],\n",
    "        [0, 1],\n",
    "        [1, 0],\n",
    "        [1, 1]\n",
    "    ])"
   ]
  },
  {
   "cell_type": "code",
   "execution_count": 16,
   "id": "cadee64f",
   "metadata": {},
   "outputs": [],
   "source": [
    "for ii in range(N):\n",
    "    \n",
    "    \n"
   ]
  },
  {
   "cell_type": "code",
   "execution_count": 17,
   "id": "c5591b1d",
   "metadata": {},
   "outputs": [
    {
     "name": "stdout",
     "output_type": "stream",
     "text": [
      "[[-0.70710678-0.70710678j  0.        -0.j         -0.70710678-0.70710678j\n",
      "  -0.70710678-0.70710678j  0.        -0.j         -0.70710678-0.70710678j\n",
      "  -0.70710678-0.70710678j -0.70710678-0.70710678j  0.        -0.j\n",
      "  -0.70710678-0.70710678j]\n",
      " [-0.70710678+0.70710678j -0.        +0.j         -0.70710678+0.70710678j\n",
      "  -0.70710678+0.70710678j -0.        +0.j         -0.70710678+0.70710678j\n",
      "  -0.70710678+0.70710678j -0.70710678+0.70710678j -0.        +0.j\n",
      "  -0.70710678+0.70710678j]\n",
      " [ 0.70710678-0.70710678j  0.        +0.j          0.70710678-0.70710678j\n",
      "   0.70710678-0.70710678j  0.        +0.j          0.70710678-0.70710678j\n",
      "   0.70710678-0.70710678j  0.70710678-0.70710678j  0.        +0.j\n",
      "   0.70710678-0.70710678j]\n",
      " [ 0.70710678+0.70710678j  0.        +0.j          0.70710678+0.70710678j\n",
      "   0.70710678+0.70710678j  0.        +0.j          0.70710678+0.70710678j\n",
      "   0.70710678+0.70710678j  0.70710678+0.70710678j  0.        +0.j\n",
      "   0.70710678+0.70710678j]]\n"
     ]
    }
   ],
   "source": [
    "print(s)"
   ]
  },
  {
   "cell_type": "code",
   "execution_count": null,
   "id": "06a8c2df",
   "metadata": {},
   "outputs": [],
   "source": []
  }
 ],
 "metadata": {
  "kernelspec": {
   "display_name": "Python 3 (ipykernel)",
   "language": "python",
   "name": "python3"
  },
  "language_info": {
   "codemirror_mode": {
    "name": "ipython",
    "version": 3
   },
   "file_extension": ".py",
   "mimetype": "text/x-python",
   "name": "python",
   "nbconvert_exporter": "python",
   "pygments_lexer": "ipython3",
   "version": "3.9.12"
  }
 },
 "nbformat": 4,
 "nbformat_minor": 5
}
