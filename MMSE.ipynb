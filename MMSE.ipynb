{
 "cells": [
  {
   "cell_type": "code",
   "execution_count": 51,
   "id": "4403964c",
   "metadata": {},
   "outputs": [],
   "source": [
    "import numpy as np\n",
    "import matplotlib.pyplot as plt"
   ]
  },
  {
   "cell_type": "code",
   "execution_count": 52,
   "id": "74e422cc",
   "metadata": {},
   "outputs": [],
   "source": [
    "N = 1000"
   ]
  },
  {
   "cell_type": "code",
   "execution_count": 53,
   "id": "bf3d629f",
   "metadata": {},
   "outputs": [],
   "source": [
    "ip = np.random.randn(N) > 0.5\n",
    "\n",
    "ip = np.array(ip) "
   ]
  },
  {
   "cell_type": "code",
   "execution_count": 54,
   "id": "ea0eef90",
   "metadata": {},
   "outputs": [],
   "source": [
    "s = 2 * ip - 1        \n",
    "\n",
    "s = np.array(s) "
   ]
  },
  {
   "cell_type": "code",
   "execution_count": 55,
   "id": "0ca41b62",
   "metadata": {},
   "outputs": [],
   "source": [
    "eb_no_db = np.arange(0,30) "
   ]
  },
  {
   "cell_type": "code",
   "execution_count": 56,
   "id": "299d5074",
   "metadata": {},
   "outputs": [],
   "source": [
    "bit_error_rate_MMSE = np.zeros(len(eb_no_db)) "
   ]
  },
  {
   "cell_type": "code",
   "execution_count": 57,
   "id": "a4b61487",
   "metadata": {},
   "outputs": [],
   "source": [
    "def MMSE(): \n",
    "\n",
    "    for jj in range(len(eb_no_db)):  \n",
    "\n",
    "        nErr = 0 \n",
    "        \n",
    "        received_bits_list = [] \n",
    "\n",
    "        for ii in range(N//2): \n",
    "            \n",
    "            h11 = (1 / np.sqrt(2)) * (np.random.rand() + 1j * np.random.rand()) \n",
    "            \n",
    "            h12 = (1 / np.sqrt(2)) * (np.random.rand() + 1j * np.random.rand())\n",
    "            \n",
    "            h21 = (1 / np.sqrt(2)) * (np.random.rand() + 1j * np.random.rand())\n",
    "            \n",
    "            h22 = (1 / np.sqrt(2)) * (np.random.rand() + 1j * np.random.rand())\n",
    "            \n",
    "            n1 = (1 / np.sqrt(2)) * (np.random.rand() + 1j * np.random.rand()) \n",
    "            \n",
    "            n2 = (1 / np.sqrt(2)) * (np.random.rand() + 1j * np.random.rand()) \n",
    "            \n",
    "            x1 = s[2 * ii] \n",
    "            \n",
    "            x2 = s[2 * ii + 1] \n",
    "            \n",
    "\n",
    "            H = np.array([[h11, h12], [h21, h22]]) \n",
    "            \n",
    "            n = np.array([[n1], [n2]]) \n",
    "            \n",
    "            x = np.array([[x1], [x2]])  \n",
    "\n",
    "            Hx = np.matmul(H, x)    \n",
    "            \n",
    "            \n",
    "            y = (1 / np.sqrt(2)) * Hx + n * (10 ** (-eb_no_db[jj] / 20)) \n",
    "            \n",
    "           \n",
    "            # Forming the MMSE equalization matrix W = inv(H^H*H+(1/snr)I)*H^H\n",
    "           \n",
    "            \n",
    "            H_conjugate = np.conjugate(H) \n",
    "            \n",
    "            H_Hermitian = np.transpose(H_conjugate)\n",
    "    \n",
    "            H_Hermitian_H = np.matmul(H_Hermitian,H)\n",
    "        \n",
    "            \n",
    "            \n",
    "\n",
    "            \n",
    "            identity_matrix = np.eye(2)\n",
    "        \n",
    "            \n",
    "            \n",
    "            snr_inverse = (1 / (10 ** (-eb_no_db[jj] / 10)))\n",
    "    \n",
    "            H_Hermitian_H = H_Hermitian_H + snr_inverse * identity_matrix\n",
    "            \n",
    "            H_inverse = np.linalg.inv(H_Hermitian_H) \n",
    "            \n",
    "            W = np.matmul(H_inverse, H_Hermitian)\n",
    "            \n",
    "            x_hat = np.matmul(W, y)\n",
    "            \n",
    "            received_bits = np.real(x_hat > 0)\n",
    "            \n",
    "#             received_bits_list.extend(received_bits.ravel())\n",
    " \n",
    "            m = received_bits[0,0] \n",
    "                                   \n",
    "            n = received_bits[1,0]\n",
    "            \n",
    "            received_bits_list.append(m) \n",
    "            \n",
    "            received_bits_list.append(n)\n",
    "        \n",
    "        nErr = np.sum(ip != received_bits_list) \n",
    "        \n",
    "        bit_error_rate_MMSE[jj] = nErr / N \n",
    "        \n",
    "        \n",
    "        \n",
    "        \n",
    "\n",
    "    return bit_error_rate_MMSE"
   ]
  },
  {
   "cell_type": "code",
   "execution_count": 58,
   "id": "e1e063fd",
   "metadata": {
    "scrolled": true
   },
   "outputs": [
    {
     "name": "stdout",
     "output_type": "stream",
     "text": [
      "[0.265 0.217 0.208 0.191 0.184 0.184 0.17  0.157 0.156 0.139 0.144 0.143\n",
      " 0.127 0.139 0.144 0.119 0.115 0.111 0.117 0.113 0.114 0.113 0.107 0.107\n",
      " 0.11  0.121 0.111 0.105 0.115 0.11 ]\n"
     ]
    },
    {
     "data": {
      "image/png": "[encoded data removed]",
      "text/plain": [
       "<Figure size 432x288 with 1 Axes>"
      ]
     },
     "metadata": {
      "needs_background": "light"
     },
     "output_type": "display_data"
    }
   ],
   "source": [
    "result_MMSE = MMSE()\n",
    "print(result_MMSE)\n",
    "plt.figure()\n",
    "plt.semilogy(eb_no_db, result_MMSE, 'r*-.', linewidth=2, markersize=4, label='nTx=2 nRx=2 (MMSE)')\n",
    "# plt.axis([0, 30, 1e-5, 0.1])\n",
    "plt.grid(True)\n",
    "plt.legend()\n",
    "plt.xlabel('Eb/No, dB')\n",
    "plt.ylabel('Bit Error Rate')\n",
    "plt.title('BER for BPSK modulation with MMSE')\n",
    "plt.show()"
   ]
  },
  {
   "cell_type": "code",
   "execution_count": 50,
   "id": "cc311113",
   "metadata": {},
   "outputs": [],
   "source": [
    "arr = np.array([[1, 2, 3, 4], \n",
    "                [5, 6, 7, 8], \n",
    "                [9, 10, 11, 12]])"
   ]
  },
  {
   "cell_type": "code",
   "execution_count": 22,
   "id": "7bcdfc0d",
   "metadata": {},
   "outputs": [
    {
     "data": {
      "text/plain": [
       "12"
      ]
     },
     "execution_count": 22,
     "metadata": {},
     "output_type": "execute_result"
    }
   ],
   "source": [
    "arr[2,3]"
   ]
  },
  {
   "cell_type": "code",
   "execution_count": null,
   "id": "d4a6fb14",
   "metadata": {},
   "outputs": [],
   "source": []
  }
 ],
 "metadata": {
  "kernelspec": {
   "display_name": "Python 3 (ipykernel)",
   "language": "python",
   "name": "python3"
  },
  "language_info": {
   "codemirror_mode": {
    "name": "ipython",
    "version": 3
   },
   "file_extension": ".py",
   "mimetype": "text/x-python",
   "name": "python",
   "nbconvert_exporter": "python",
   "pygments_lexer": "ipython3",
   "version": "3.9.12"
  }
 },
 "nbformat": 4,
 "nbformat_minor": 5
}
