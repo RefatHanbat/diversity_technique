{
 "cells": [
  {
   "cell_type": "code",
   "execution_count": 1,
   "id": "dfeff958",
   "metadata": {},
   "outputs": [],
   "source": [
    "import time"
   ]
  },
  {
   "cell_type": "code",
   "execution_count": 2,
   "id": "a22218be",
   "metadata": {},
   "outputs": [],
   "source": [
    "import numpy as np"
   ]
  },
  {
   "cell_type": "code",
   "execution_count": 3,
   "id": "9718479f",
   "metadata": {},
   "outputs": [],
   "source": [
    "def myf_algorithm_1(sys_param,channel,y_vec):\n",
    "\n",
    "  Es = sys_param[\"Es\"]\n",
    "\n",
    "  H_mat_SISO = channel[\"H_mat_SISO\"]\n",
    "\n",
    "  x_est = y_vec/H_mat_SISO/np.sqrt(Es)\n",
    "\n",
    "  solutions ={}\n",
    "\n",
    "  solutions[\"x_est\"] = np.copy(x_est)\n",
    "\n",
    "  return solutions"
   ]
  },
  {
   "cell_type": "code",
   "execution_count": 4,
   "id": "0eb9bd9b",
   "metadata": {},
   "outputs": [],
   "source": [
    "def myf_algorithm_2(sys_param,channel,y_vec):\n",
    "\n",
    "  Nant = sys_param[\"Nant\"]\n",
    "\n",
    "  Es = sys_param[\"Es\"]\n",
    "\n",
    "  H_mat_SIMO = channel[\"H_mat_SIMO\"]\n",
    "\n",
    "  gain_max =0\n",
    "\n",
    "  ind_gain_max = 0\n",
    "\n",
    "  for ind in range(0,Nant):\n",
    "    gain_temp = np.linalg.norm(H_mat_SIMO[ind][0]**2)\n",
    "\n",
    "    if(gain_temp>gain_max):\n",
    "      gain_max = gain_max\n",
    "      ind_gain_max = ind\n",
    "  x_est = y_vec[ind_gain_max][0]/H_mat_SIMO[ind_gain_max][0]/np.sqrt(Es)\n",
    "\n",
    "  solutions ={}\n",
    "\n",
    "  solutions[\"x_est\"] = np.copy(x_est)\n",
    "\n",
    "  return solutions"
   ]
  },
  {
   "cell_type": "code",
   "execution_count": 5,
   "id": "3fadcc33",
   "metadata": {},
   "outputs": [],
   "source": [
    "def myf_algorithm_3(sys_param,channel,y_vec):\n",
    "\n",
    "  Es = sys_param[\"Es\"]\n",
    "\n",
    "  H_mat_SIMO = channel[\"H_mat_SIMO\"]\n",
    "\n",
    "  gain_vec = np.abs(H_mat_SIMO)\n",
    "\n",
    "  phase_vec = np.divide(H_mat_SIMO,gain_vec)\n",
    "\n",
    "  y_comb = np.sum(np.divide(y_vec,phase_vec))\n",
    "\n",
    "  x_est = y_comb/np.sum(gain_vec)/np.sqrt(Es)\n",
    "\n",
    "  solutions = {}\n",
    "\n",
    "  solutions[\"x_est\"] = np.copy(x_est)\n",
    "\n",
    "  return solutions"
   ]
  },
  {
   "cell_type": "code",
   "execution_count": 6,
   "id": "ae87a7c4",
   "metadata": {},
   "outputs": [],
   "source": [
    "def myf_algorithm_4(sys_param,channel,y_vec):\n",
    "\n",
    "  Es = sys_param[\"Es\"]\n",
    "\n",
    "  H_mat_SIMO = channel[\"H_mat_SIM0\"]\n",
    "\n",
    "  conj_vec = np.conj(H_mat_SIMO)\n",
    "\n",
    "  y_comb = np.sum(np.multiply(y_vec,conj_vec))\n",
    "\n",
    "  x_est = y_comb/(np.linalg.norm(H_mat_SIMO)**2/np.sqrt(Es))\n",
    "\n",
    "  solutions = {}\n",
    "\n",
    "  solutions[\"x_est\"] = np.copy(x_est)\n",
    "\n",
    "  return solutions"
   ]
  },
  {
   "cell_type": "code",
   "execution_count": 7,
   "id": "6ac4c1f0",
   "metadata": {},
   "outputs": [],
   "source": [
    "def myf_algorithm_5(sys_param,channel,y_vec):\n",
    "\n",
    "  Nant = sys_param[\"Nant\"]\n",
    "\n",
    "  Es = sys_param[\"Es\"]\n",
    "\n",
    "  H_mat_MISO = channel[\"H_mat_MISO\"]\n",
    "\n",
    "  x_est = y_vec/np.sum(H_mat_MISO)/np.sqrt(Es/Nant)\n",
    "\n",
    "  solutions = {}\n",
    "\n",
    "  solutions[\"x_est\"] = np.copy(x_est)\n",
    "\n",
    "  return solutions"
   ]
  },
  {
   "cell_type": "code",
   "execution_count": 8,
   "id": "e2f2a32d",
   "metadata": {},
   "outputs": [],
   "source": [
    "def myf_algorithm_6(sys_param, channel, y_vec_0, y_vec_1):\n",
    "\n",
    "    Nant = sys_param[\"Nant\"]\n",
    "    Es = sys_param[\"Es\"]\n",
    "    H_mat_Alamouti = channel[\"H_mat_Alamouti\"]\n",
    "\n",
    "    if Nant == 2:\n",
    "        x_est_0 = (np.conj(H_mat_Alamouti[0][0]) * y_vec_0 +\n",
    "                   H_mat_Alamouti[0][1] * y_vec_0 +\n",
    "                   H_mat_Alamouti[0][1] * np.conj(y_vec_1) /\n",
    "                   (np.linalg.norm(H_mat_Alamouti)**2) / np.sqrt(Es))\n",
    "\n",
    "        x_est_1 = (np.conj(H_mat_Alamouti[0][1]) * y_vec_0 - H_mat_Alamouti[0][0] * np.conj(y_vec_1)) / (np.linalg.norm(H_mat_Alamouti)**2) / np.sqrt(Es)\n",
    "\n",
    "    elif Nant == 4:\n",
    "        x_est_0 = (np.conj(H_mat_Alamouti[0][0]) * y_vec_0[0][0] +\n",
    "                   H_mat_Alamouti[0][1] * np.conj(y_vec_1[0][0]) +\n",
    "                   np.conj(H_mat_Alamouti[1][0]) * y_vec_0[1][0] +\n",
    "                   H_mat_Alamouti[1][1] * np.conj(y_vec_1[1][0])) / (np.linalg.norm(H_mat_Alamouti, 'fro')**2) / np.sqrt(Es)\n",
    "\n",
    "        x_est_1 = (np.conj(H_mat_Alamouti[0][1]) * y_vec_0[0][0] -  H_mat_Alamouti[0][0] * np.conj(y_vec_1[0][0]) + np.conj(H_mat_Alamouti[1][1]) * y_vec_0[1][0] - H_mat_Alamouti[1][0] * np.conj(y_vec_1[1][0])) / (np.linalg.norm(H_mat_Alamouti, 'fro')**2) / np.sqrt(Es)\n",
    "\n",
    "    solutions = {}\n",
    "    solutions[\"x_est_0\"] = np.copy(x_est_0)\n",
    "    solutions[\"x_est_1\"] = np.copy(x_est_1)\n",
    "\n",
    "    return solutions"
   ]
  },
  {
   "cell_type": "code",
   "execution_count": 9,
   "id": "3cca9fbb",
   "metadata": {},
   "outputs": [],
   "source": [
    "def myf_algorithm_7(sys_param,channel,y_vec):\n",
    "\n",
    "  Es = sys_param[\"Es\"]\n",
    "\n",
    "  H_mat_MISO = channel[\"H_mat_MISO\"]\n",
    "\n",
    "  x_est = y_vec/np.linalg.norm(H_mat_MISO)/np.sqrt(Es)\n",
    "\n",
    "  solutions = {}\n",
    "\n",
    "  solutions[\"x_est\"] = np.copy(x_est)\n",
    "\n",
    "  return solutions"
   ]
  },
  {
   "cell_type": "code",
   "execution_count": null,
   "id": "404ba266",
   "metadata": {},
   "outputs": [],
   "source": []
  }
 ],
 "metadata": {
  "kernelspec": {
   "display_name": "Python 3 (ipykernel)",
   "language": "python",
   "name": "python3"
  },
  "language_info": {
   "codemirror_mode": {
    "name": "ipython",
    "version": 3
   },
   "file_extension": ".py",
   "mimetype": "text/x-python",
   "name": "python",
   "nbconvert_exporter": "python",
   "pygments_lexer": "ipython3",
   "version": "3.9.12"
  }
 },
 "nbformat": 4,
 "nbformat_minor": 5
}
