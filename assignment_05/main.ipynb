{
 "cells": [
  {
   "cell_type": "code",
   "execution_count": 32,
   "id": "08c0942a",
   "metadata": {},
   "outputs": [],
   "source": [
    "%run fParam.ipynb"
   ]
  },
  {
   "cell_type": "code",
   "execution_count": 33,
   "id": "b09c0188",
   "metadata": {},
   "outputs": [],
   "source": [
    "%run fChannel.ipynb"
   ]
  },
  {
   "cell_type": "code",
   "execution_count": 34,
   "id": "5822de8c",
   "metadata": {},
   "outputs": [],
   "source": [
    "%run fAlgorithms.ipynb"
   ]
  },
  {
   "cell_type": "code",
   "execution_count": 35,
   "id": "4565dbb5",
   "metadata": {},
   "outputs": [],
   "source": [
    "%run fCalculations.ipynb"
   ]
  },
  {
   "cell_type": "code",
   "execution_count": 36,
   "id": "06eb9def",
   "metadata": {},
   "outputs": [],
   "source": [
    "%run fPlot.ipynb"
   ]
  },
  {
   "cell_type": "code",
   "execution_count": 37,
   "id": "ce8e9733",
   "metadata": {},
   "outputs": [],
   "source": [
    "import numpy as np"
   ]
  },
  {
   "cell_type": "code",
   "execution_count": 38,
   "id": "20b4cadc",
   "metadata": {},
   "outputs": [],
   "source": [
    "import copy"
   ]
  },
  {
   "cell_type": "code",
   "execution_count": 39,
   "id": "1915aa96",
   "metadata": {},
   "outputs": [],
   "source": [
    "sys_param = myf_sys_param()"
   ]
  },
  {
   "cell_type": "code",
   "execution_count": 40,
   "id": "a54cf721",
   "metadata": {},
   "outputs": [],
   "source": [
    "Num_samples = 1000\n",
    "x_axis_name =\"EboverNO_db_cand\""
   ]
  },
  {
   "cell_type": "code",
   "execution_count": 41,
   "id": "d7a34fc3",
   "metadata": {},
   "outputs": [],
   "source": [
    "if(x_axis_name==\"EsoverNO_db_cand\"):\n",
    "    \n",
    "    x_axis_cand = np.arange(start=0, stop=30, step=5)\n",
    "elif(x_axis_name == \"EboverNO_db_cand\"):\n",
    "    \n",
    "    x_axis_cand = np.arange(start=0, stop = 30, step=5)\n"
   ]
  },
  {
   "cell_type": "code",
   "execution_count": 42,
   "id": "8093e8e8",
   "metadata": {},
   "outputs": [],
   "source": [
    "Num_algorithms = 7"
   ]
  },
  {
   "cell_type": "code",
   "execution_count": 43,
   "id": "422643a2",
   "metadata": {},
   "outputs": [],
   "source": [
    "##constellation symbols and bits (Unit average symbol energy)\n",
    "constellation = myf_constellation(sys_param)"
   ]
  },
  {
   "cell_type": "code",
   "execution_count": 44,
   "id": "d9347c6f",
   "metadata": {},
   "outputs": [],
   "source": [
    "Num_errors_symbol = np.zeros((Num_algorithms,np.size(x_axis_cand, axis=0)))"
   ]
  },
  {
   "cell_type": "code",
   "execution_count": 45,
   "id": "91034875",
   "metadata": {},
   "outputs": [],
   "source": [
    "Num_errors_bits = np.zeros((Num_algorithms,np.size(x_axis_cand, axis=0)))"
   ]
  },
  {
   "cell_type": "code",
   "execution_count": 46,
   "id": "9e19d044",
   "metadata": {},
   "outputs": [],
   "source": [
    "progress_per = 0"
   ]
  },
  {
   "cell_type": "code",
   "execution_count": 48,
   "id": "0157a216",
   "metadata": {},
   "outputs": [],
   "source": [
    "for ind1 in range(0,Num_samples):\n",
    "    \n",
    "    ##channel\n",
    "    \n",
    "    param_channel = {}\n",
    "    \n",
    "    param_channel[\"seed_seq\"] = Num_samples + ind1\n",
    "    \n",
    "    channel = myf_channel(sys_param,param_channel)\n",
    "    \n",
    "    ##step(1): Generate a random index of the constellaion\n",
    "    \n",
    "    param_symbol_index = {}\n",
    "    \n",
    "    param_symbol_index[\"seed_seq\"] = Num_samples + 1 + ind1\n",
    "    \n",
    "    symbol_index = myf_symbol_index(sys_param,param_symbol_index)\n",
    "    ##print(\"symbol_index:\"param_symbol_index)##\n",
    "    ##step2:Encoding i.e: sybol_index -> constellation symbol(noteE[|x|^2]=1)\n",
    "    \n",
    "    x = myf_x(constellation,symbol_index)\n",
    "    \n",
    "#     print(\"x_vec: \",x_vec)\n",
    "\n",
    "    Num_errors_symbol_temp = np.zeros((Num_algorithms,np.size(x_axis_cand,axis =0)))\n",
    "    \n",
    "    Num_errors_bit_temp = np.zeros((Num_algorithms,np.size(x_axis_cand,axis =0)))\n",
    "    \n",
    "    ###Algorithms###\n",
    "    \n",
    "    for ind2 in range(0,np.size(x_axis_cand,axis=0)):\n",
    "        \n",
    "        ##x-axis variable\n",
    "        \n",
    "        if(x_axis_name==\"EsoverNO_dB_cand\"):\n",
    "            \n",
    "            sys_param[\"EsoverNO_dB_cand\"] = x_axis_cand[ind2] #Es/NO [dB]\n",
    "            \n",
    "            sys_param[\"EsoverNO\"] = 10**(sys_param[\"EsoverNO_dB\"]/10) #[no unit]\n",
    "            \n",
    "            sys_param[\"NO\"] = sys_param[\"Es\"]/sys_param[\"EsoverNO\"] #noise energy joule\n",
    "            \n",
    "        elif(x_axis_name==\"EboverNO_dB_cand\"):\n",
    "            \n",
    "            sys_param[\"EsoverNO_dB_cand\"] = x_axis_cand[ind2] + 10 * np.log10(np.log2(sys_param[\"constellation_size\"])) #Es/NO [dB]\n",
    "            \n",
    "            sys_param[\"EsoverNO\"] = 10**(sys_param[\"EsoverNO_dB\"]/10) #[no unit]\n",
    "            \n",
    "            sys_param[\"NO\"] = sys_param[\"Es\"]/sys_param[\"EsoverNO\"] #noise energy joule\n",
    "            ##SISO####\n",
    "            P_vec = myf_p(sys_param,channel,mode=\"SISO\")\n",
    "            \n",
    "            ##step(3):Precoding i.e, s_vec = P_mat@x_vec(note tr(R_s_vec)=Es)\n",
    "            \n",
    "            s_vec = P_vec_*x\n",
    "            \n",
    "            #print(\"s_vec\",s_vec)\n",
    "            \n",
    "            #step(4):Received symbol vector i.e y_vec = H_mat*s_vec + z_vec\n",
    "            param_y_vec = {}\n",
    "            param_y_vec[\"seed_seq\"] = Num_samples + 2 + ind1\n",
    "            param_y_vec[\"s_vec\"] = s_vec\n",
    "            y_vec = myf_y_vec(sys_param, channel, param_y_vec, mode=\"SISO\")\n",
    "            \n",
    "            #print(\"y_vec:\",y_vec)\n",
    "            \n",
    "            ##Algorithm1:SISO\n",
    "            \n",
    "            solutions_algorihtm_1 = myf_algorithm_1(sys_param,channel,y_vec)\n",
    "            \n",
    "            param_Num_errors = {}\n",
    "            \n",
    "            param_Num_errors[\"symbol_index\"] = symbol_index\n",
    "            \n",
    "            Num_errors = myf_Num_errors(sys_param,constellation,solutions_algorithm_1,param_Num_errors)\n",
    "            \n",
    "            Num_errors_symbol_temp[0][ind2] = Num_errors[\"Num_errors_symbol\"]\n",
    "            \n",
    "            Num_errors_bit_temp[0][ind2] = Num_errors[\"Num_errors_bit\"]\n",
    "    "
   ]
  },
  {
   "cell_type": "code",
   "execution_count": null,
   "id": "d0255c4b",
   "metadata": {},
   "outputs": [],
   "source": []
  },
  {
   "cell_type": "code",
   "execution_count": null,
   "id": "f13c991e",
   "metadata": {},
   "outputs": [],
   "source": []
  },
  {
   "cell_type": "code",
   "execution_count": null,
   "id": "968ddad9",
   "metadata": {},
   "outputs": [],
   "source": []
  },
  {
   "cell_type": "code",
   "execution_count": null,
   "id": "406bb695",
   "metadata": {},
   "outputs": [],
   "source": []
  }
 ],
 "metadata": {
  "kernelspec": {
   "display_name": "Python 3 (ipykernel)",
   "language": "python",
   "name": "python3"
  },
  "language_info": {
   "codemirror_mode": {
    "name": "ipython",
    "version": 3
   },
   "file_extension": ".py",
   "mimetype": "text/x-python",
   "name": "python",
   "nbconvert_exporter": "python",
   "pygments_lexer": "ipython3",
   "version": "3.9.12"
  }
 },
 "nbformat": 4,
 "nbformat_minor": 5
}
