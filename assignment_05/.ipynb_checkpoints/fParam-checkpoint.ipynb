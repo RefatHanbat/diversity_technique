{
 "cells": [
  {
   "cell_type": "code",
   "execution_count": 1,
   "id": "8b21d31c",
   "metadata": {},
   "outputs": [],
   "source": [
    "import numpy as np\n",
    "####fParam.py###\n",
    "def myf_sys_param():\n",
    "\n",
    "    ###Function###\n",
    "\n",
    "    sys_param = {}\n",
    "\n",
    "    sys_param[\"Nant\"] = 4 #Multiple Tx or Rx antenna : 2,4\n",
    "\n",
    "    sys_param[\"Es\"] = 1 # Average transmit energy [Joule]\n",
    "\n",
    "    sys_param[\"EsoverNO_dB\"] = 5 # Es/NO[dB]\n",
    "\n",
    "    sys_param[\"EsoverNO\"] = 10**(sys_param[\"EsoverNO_dB\"]/ 10) #[no unit]\n",
    "\n",
    "    sys_param[\"NO\"] = sys_param[\"Es\"]/sys_param[\"EsoverNO\"]#Noise energy [Joule]\n",
    "\n",
    "    sys_param[\"constellation_type\"] = \"QPSK\" #constellation type: \"Bpsk\" / \"QPSK\"\n",
    "\n",
    "    if (sys_param[\"constellation_type\"] == \"BPSK\"): #constellation size\n",
    "\n",
    "        sys_param[\"constellation_size\"] =2\n",
    "\n",
    "    elif(sys_param[\"constellation_type\"] == \"QPSK\"):\n",
    "\n",
    "        sys_param[\"constellation_size\"] = 4\n",
    "\n",
    "    return(sys_param)"
   ]
  },
  {
   "cell_type": "code",
   "execution_count": null,
   "id": "1b3942f6",
   "metadata": {},
   "outputs": [],
   "source": []
  }
 ],
 "metadata": {
  "kernelspec": {
   "display_name": "Python 3 (ipykernel)",
   "language": "python",
   "name": "python3"
  },
  "language_info": {
   "codemirror_mode": {
    "name": "ipython",
    "version": 3
   },
   "file_extension": ".py",
   "mimetype": "text/x-python",
   "name": "python",
   "nbconvert_exporter": "python",
   "pygments_lexer": "ipython3",
   "version": "3.9.12"
  }
 },
 "nbformat": 4,
 "nbformat_minor": 5
}
