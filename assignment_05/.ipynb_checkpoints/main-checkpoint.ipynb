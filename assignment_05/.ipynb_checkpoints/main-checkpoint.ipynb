{
 "cells": [
  {
   "cell_type": "code",
   "execution_count": 1,
   "id": "c5ac5249",
   "metadata": {},
   "outputs": [],
   "source": [
    "%run fParam.ipynb"
   ]
  },
  {
   "cell_type": "code",
   "execution_count": 2,
   "id": "7aabba52",
   "metadata": {},
   "outputs": [],
   "source": [
    "%run fChannel.ipynb"
   ]
  },
  {
   "cell_type": "code",
   "execution_count": 3,
   "id": "1fdafb5d",
   "metadata": {},
   "outputs": [],
   "source": [
    "%run fAlgorithms.ipynb"
   ]
  },
  {
   "cell_type": "code",
   "execution_count": 4,
   "id": "85b8420e",
   "metadata": {},
   "outputs": [],
   "source": [
    "%run fCalculations.ipynb"
   ]
  },
  {
   "cell_type": "code",
   "execution_count": 5,
   "id": "a4a81275",
   "metadata": {},
   "outputs": [],
   "source": [
    "%run fPlot.ipynb"
   ]
  },
  {
   "cell_type": "code",
   "execution_count": 6,
   "id": "f4f5bcd7",
   "metadata": {},
   "outputs": [],
   "source": [
    "import numpy as np"
   ]
  },
  {
   "cell_type": "code",
   "execution_count": 7,
   "id": "0a3db1aa",
   "metadata": {},
   "outputs": [],
   "source": [
    "import copy"
   ]
  },
  {
   "cell_type": "code",
   "execution_count": 8,
   "id": "73209d61",
   "metadata": {},
   "outputs": [],
   "source": [
    "sys_param = myf_sys_param()"
   ]
  },
  {
   "cell_type": "code",
   "execution_count": 9,
   "id": "0bd3ff8f",
   "metadata": {},
   "outputs": [],
   "source": [
    "Num_samples = 10**6"
   ]
  },
  {
   "cell_type": "code",
   "execution_count": 10,
   "id": "b58807da",
   "metadata": {},
   "outputs": [
    {
     "ename": "NameError",
     "evalue": "name 'x_axis_name' is not defined",
     "output_type": "error",
     "traceback": [
      "\u001b[1;31m---------------------------------------------------------------------------\u001b[0m",
      "\u001b[1;31mNameError\u001b[0m                                 Traceback (most recent call last)",
      "Input \u001b[1;32mIn [10]\u001b[0m, in \u001b[0;36m<cell line: 1>\u001b[1;34m()\u001b[0m\n\u001b[1;32m----> 1\u001b[0m \u001b[38;5;28;01mif\u001b[39;00m(\u001b[43mx_axis_name\u001b[49m\u001b[38;5;241m==\u001b[39m\u001b[38;5;124m\"\u001b[39m\u001b[38;5;124mEsoverNO_db_cand\u001b[39m\u001b[38;5;124m\"\u001b[39m):\n\u001b[0;32m      3\u001b[0m     x_axis_cand \u001b[38;5;241m=\u001b[39m np\u001b[38;5;241m.\u001b[39marange(start\u001b[38;5;241m=\u001b[39m\u001b[38;5;241m0\u001b[39m, stop\u001b[38;5;241m=\u001b[39m\u001b[38;5;241m30\u001b[39m, step\u001b[38;5;241m=\u001b[39m\u001b[38;5;241m5\u001b[39m)\n\u001b[0;32m      4\u001b[0m \u001b[38;5;28;01melif\u001b[39;00m(x_axis_name \u001b[38;5;241m==\u001b[39m \u001b[38;5;124m\"\u001b[39m\u001b[38;5;124mEboverNO_db_cand\u001b[39m\u001b[38;5;124m\"\u001b[39m):\n",
      "\u001b[1;31mNameError\u001b[0m: name 'x_axis_name' is not defined"
     ]
    }
   ],
   "source": [
    "if(x_axis_name==\"EsoverNO_db_cand\"):\n",
    "    \n",
    "    x_axis_cand = np.arange(start=0, stop=30, step=5)\n",
    "elif(x_axis_name == \"EboverNO_db_cand\"):\n",
    "    \n",
    "    x_axis_cand = np.arange(start=0, stop = 30, step=5)\n"
   ]
  },
  {
   "cell_type": "code",
   "execution_count": null,
   "id": "22e6c482",
   "metadata": {},
   "outputs": [],
   "source": [
    "Num_algorithms = 7"
   ]
  },
  {
   "cell_type": "code",
   "execution_count": null,
   "id": "974e29ce",
   "metadata": {},
   "outputs": [],
   "source": [
    "##constellation symbols and bits (Unit average symbol energy)\n",
    "constellation = myf_constellation(sys_param)"
   ]
  },
  {
   "cell_type": "code",
   "execution_count": null,
   "id": "115b8e31",
   "metadata": {},
   "outputs": [],
   "source": [
    "Num_errors_symbol = np.zeros((Num_algorithms,np.size(x_axis_cand, axis=0)))"
   ]
  },
  {
   "cell_type": "code",
   "execution_count": null,
   "id": "96028563",
   "metadata": {},
   "outputs": [],
   "source": [
    "Num_errors_bits = np.zeros((Num_algorithms,np.size(x_axis_cand, axis=0)))"
   ]
  },
  {
   "cell_type": "code",
   "execution_count": null,
   "id": "26243c60",
   "metadata": {},
   "outputs": [],
   "source": [
    "progress_per = 0"
   ]
  },
  {
   "cell_type": "code",
   "execution_count": 11,
   "id": "a1b8ebc3",
   "metadata": {},
   "outputs": [
    {
     "ename": "NameError",
     "evalue": "name 'constellation' is not defined",
     "output_type": "error",
     "traceback": [
      "\u001b[1;31m---------------------------------------------------------------------------\u001b[0m",
      "\u001b[1;31mNameError\u001b[0m                                 Traceback (most recent call last)",
      "Input \u001b[1;32mIn [11]\u001b[0m, in \u001b[0;36m<cell line: 1>\u001b[1;34m()\u001b[0m\n\u001b[0;32m     17\u001b[0m symbol_index \u001b[38;5;241m=\u001b[39m myf_symbol_index(sys_param,param_symbol_index)\n\u001b[0;32m     18\u001b[0m \u001b[38;5;66;03m##print(\"symbol_index:\"param_symbol_index)##\u001b[39;00m\n\u001b[0;32m     19\u001b[0m \u001b[38;5;66;03m##step2:Encoding i.e: sybol_index -> constellation symbol(noteE[|x|^2]=1)\u001b[39;00m\n\u001b[1;32m---> 21\u001b[0m x \u001b[38;5;241m=\u001b[39m myf_x(\u001b[43mconstellation\u001b[49m,symbol_index)\n\u001b[0;32m     22\u001b[0m \u001b[38;5;28mprint\u001b[39m(\u001b[38;5;124m\"\u001b[39m\u001b[38;5;124mx_vec: \u001b[39m\u001b[38;5;124m\"\u001b[39m,x\u001b[38;5;241m-\u001b[39mvec)\n",
      "\u001b[1;31mNameError\u001b[0m: name 'constellation' is not defined"
     ]
    }
   ],
   "source": [
    "for ind1 in range(0,Num_samples):\n",
    "    \n",
    "    ##channel\n",
    "    \n",
    "    param_channel = {}\n",
    "    \n",
    "    param_channel[\"seed_seq\"] = Num_samples + ind1\n",
    "    \n",
    "    channel = myf_channel(sys_param,param_channel)\n",
    "    \n",
    "    ##step(1): Generate a random index of the constellaion\n",
    "    \n",
    "    param_symbol_index = {}\n",
    "    \n",
    "    param_symbol_index[\"seed_seq\"] = Num_samples + 1 + ind1\n",
    "    \n",
    "    symbol_index = myf_symbol_index(sys_param,param_symbol_index)\n",
    "    ##print(\"symbol_index:\"param_symbol_index)##\n",
    "    ##step2:Encoding i.e: sybol_index -> constellation symbol(noteE[|x|^2]=1)\n",
    "    \n",
    "    x = myf_x(constellation,symbol_index)\n",
    "    print(\"x_vec: \",x-vec)"
   ]
  },
  {
   "cell_type": "code",
   "execution_count": null,
   "id": "9b764940",
   "metadata": {},
   "outputs": [],
   "source": []
  },
  {
   "cell_type": "code",
   "execution_count": null,
   "id": "71fc2766",
   "metadata": {},
   "outputs": [],
   "source": []
  }
 ],
 "metadata": {
  "kernelspec": {
   "display_name": "Python 3 (ipykernel)",
   "language": "python",
   "name": "python3"
  },
  "language_info": {
   "codemirror_mode": {
    "name": "ipython",
    "version": 3
   },
   "file_extension": ".py",
   "mimetype": "text/x-python",
   "name": "python",
   "nbconvert_exporter": "python",
   "pygments_lexer": "ipython3",
   "version": "3.9.12"
  }
 },
 "nbformat": 4,
 "nbformat_minor": 5
}
