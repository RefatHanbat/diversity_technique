{
 "cells": [
  {
   "cell_type": "code",
   "execution_count": 2,
   "id": "4403964c",
   "metadata": {},
   "outputs": [],
   "source": [
    "import numpy as np\n",
    "import matplotlib.pyplot as plt"
   ]
  },
  {
   "cell_type": "code",
   "execution_count": 3,
   "id": "74e422cc",
   "metadata": {},
   "outputs": [],
   "source": [
    "N = 1000"
   ]
  },
  {
   "cell_type": "code",
   "execution_count": 4,
   "id": "bf3d629f",
   "metadata": {},
   "outputs": [],
   "source": [
    "ip = np.random.randn(N) > 0.5\n",
    "\n",
    "ip = np.array(ip) "
   ]
  },
  {
   "cell_type": "code",
   "execution_count": 5,
   "id": "ea0eef90",
   "metadata": {},
   "outputs": [],
   "source": [
    "s = 2 * ip - 1        \n",
    "\n",
    "s = np.array(s) "
   ]
  },
  {
   "cell_type": "code",
   "execution_count": 6,
   "id": "0ca41b62",
   "metadata": {},
   "outputs": [],
   "source": [
    "eb_no_db = np.arange(0,30) "
   ]
  },
  {
   "cell_type": "code",
   "execution_count": 7,
   "id": "299d5074",
   "metadata": {},
   "outputs": [],
   "source": [
    "bit_error_rate_MMSE = np.zeros(len(eb_no_db)) "
   ]
  },
  {
   "cell_type": "code",
   "execution_count": 16,
   "id": "a4b61487",
   "metadata": {},
   "outputs": [],
   "source": [
    "def MMSE(): \n",
    "\n",
    "    for jj in range(len(eb_no_db)):  \n",
    "\n",
    "        nErr = 0 \n",
    "        \n",
    "        received_bits_list = [] \n",
    "\n",
    "        for ii in range(N//2): \n",
    "            \n",
    "            h11 = (1 / np.sqrt(2)) * (np.random.rand() + 1j * np.random.rand()) \n",
    "            \n",
    "            h12 = (1 / np.sqrt(2)) * (np.random.rand() + 1j * np.random.rand())\n",
    "            \n",
    "            h21 = (1 / np.sqrt(2)) * (np.random.rand() + 1j * np.random.rand())\n",
    "            \n",
    "            h22 = (1 / np.sqrt(2)) * (np.random.rand() + 1j * np.random.rand())\n",
    "            \n",
    "            n1 = (1 / np.sqrt(2)) * (np.random.rand() + 1j * np.random.rand()) \n",
    "            \n",
    "            n2 = (1 / np.sqrt(2)) * (np.random.rand() + 1j * np.random.rand()) \n",
    "            \n",
    "            x1 = s[2 * ii] \n",
    "            \n",
    "            x2 = s[2 * ii + 1] \n",
    "            \n",
    "\n",
    "            H = np.array([[h11, h12], [h21, h22]]) \n",
    "            \n",
    "            n = np.array([[n1], [n2]]) \n",
    "            \n",
    "            x = np.array([[x1], [x2]])  \n",
    "\n",
    "            Hx = np.matmul(H, x)    \n",
    "            \n",
    "            \n",
    "            y = (1 / np.sqrt(2)) * Hx + n * (10 ** (-eb_no_db[jj] / 20)) \n",
    "            \n",
    "           \n",
    "            # Forming the MMSE equalization matrix W = inv(H^H*H+(1/snr)I)*H^H\n",
    "           \n",
    "            \n",
    "            H_conjugate = np.conjugate(H) \n",
    "            \n",
    "            H_Hermitian = np.transpose(H_conjugate)\n",
    "    \n",
    "            H_Hermitian_H = np.matmul(H_Hermitian,H)\n",
    "            \n",
    "#             identity_matrix = np.array([[1, 0], [0, 0]])\n",
    "            \n",
    "            identity_matrix = np.eye(2)\n",
    "        \n",
    "            print(identity_matrix)\n",
    "            \n",
    "            snr_inverse = (1 / (10 ** (-eb_no_db[jj] / 20)))\n",
    "            \n",
    "            print(snr_inverse)\n",
    "            \n",
    "            print(identity_matrix,snr_inverse)\n",
    "            \n",
    "            print(np.matmul(snr_inverse,identity_matrix))\n",
    "            \n",
    "            H_Hermitian_H = H_Hermitian_H + np.matmul(snr_inverse,identity_matrix)\n",
    "                               \n",
    "\n",
    "            H_inverse = np.linalg.inv(H_Hermitian_H) \n",
    "            \n",
    "            W = np.matmul(H_inverse, H_Hermitian)\n",
    "            \n",
    "            x_hat = np.matmul(W, y)\n",
    "            \n",
    "            received_bits = np.real(x_hat > 0)\n",
    "            \n",
    "#             received_bits_list.extend(received_bits.ravel())\n",
    " \n",
    "            m = received_bits[0,0] \n",
    "                                   \n",
    "            n = received_bits[1,0]\n",
    "            \n",
    "            received_bits_list.append(m) \n",
    "            \n",
    "            received_bits_list.append(n)\n",
    "        \n",
    "        nErr = np.sum(ip != received_bits_list) \n",
    "        \n",
    "        bit_error_rate_MMSE[jj] = nErr / N \n",
    "        \n",
    "        \n",
    "        \n",
    "        \n",
    "\n",
    "    return bit_error_rate_MMSE"
   ]
  },
  {
   "cell_type": "code",
   "execution_count": 17,
   "id": "e1e063fd",
   "metadata": {},
   "outputs": [
    {
     "name": "stdout",
     "output_type": "stream",
     "text": [
      "[[1. 0.]\n",
      " [0. 1.]]\n",
      "1.0\n",
      "[[1. 0.]\n",
      " [0. 1.]] 1.0\n"
     ]
    },
    {
     "ename": "ValueError",
     "evalue": "matmul: Input operand 0 does not have enough dimensions (has 0, gufunc core with signature (n?,k),(k,m?)->(n?,m?) requires 1)",
     "output_type": "error",
     "traceback": [
      "\u001b[1;31m---------------------------------------------------------------------------\u001b[0m",
      "\u001b[1;31mValueError\u001b[0m                                Traceback (most recent call last)",
      "Input \u001b[1;32mIn [17]\u001b[0m, in \u001b[0;36m<cell line: 1>\u001b[1;34m()\u001b[0m\n\u001b[1;32m----> 1\u001b[0m result_MMSE \u001b[38;5;241m=\u001b[39m \u001b[43mMMSE\u001b[49m\u001b[43m(\u001b[49m\u001b[43m)\u001b[49m\n\u001b[0;32m      2\u001b[0m \u001b[38;5;28mprint\u001b[39m(result_MMSE)\n\u001b[0;32m      3\u001b[0m plt\u001b[38;5;241m.\u001b[39mfigure()\n",
      "Input \u001b[1;32mIn [16]\u001b[0m, in \u001b[0;36mMMSE\u001b[1;34m()\u001b[0m\n\u001b[0;32m     59\u001b[0m             \u001b[38;5;28mprint\u001b[39m(identity_matrix,snr_inverse)\n\u001b[0;32m     61\u001b[0m \u001b[38;5;66;03m#             print(np.matmul(snr_inverse * identity_matrix))\u001b[39;00m\n\u001b[1;32m---> 63\u001b[0m             H_Hermitian_H \u001b[38;5;241m=\u001b[39m H_Hermitian_H \u001b[38;5;241m+\u001b[39m \u001b[43mnp\u001b[49m\u001b[38;5;241;43m.\u001b[39;49m\u001b[43mmatmul\u001b[49m\u001b[43m(\u001b[49m\u001b[43msnr_inverse\u001b[49m\u001b[43m,\u001b[49m\u001b[43midentity_matrix\u001b[49m\u001b[43m)\u001b[49m\n\u001b[0;32m     66\u001b[0m             H_inverse \u001b[38;5;241m=\u001b[39m np\u001b[38;5;241m.\u001b[39mlinalg\u001b[38;5;241m.\u001b[39minv(H_Hermitian_H) \n\u001b[0;32m     68\u001b[0m             W \u001b[38;5;241m=\u001b[39m np\u001b[38;5;241m.\u001b[39mmatmul(H_inverse, H_Hermitian)\n",
      "\u001b[1;31mValueError\u001b[0m: matmul: Input operand 0 does not have enough dimensions (has 0, gufunc core with signature (n?,k),(k,m?)->(n?,m?) requires 1)"
     ]
    }
   ],
   "source": [
    "result_MMSE = MMSE()\n",
    "print(result_MMSE)\n",
    "plt.figure()\n",
    "plt.semilogy(eb_no_db, result_MMSE, 'r*-.', linewidth=2, markersize=4, label='nTx=2 nRx=2 (MMSE)')\n",
    "# plt.axis([0, 30, 1e-5, 0.1])\n",
    "plt.grid(True)\n",
    "plt.legend()\n",
    "plt.xlabel('Eb/No, dB')\n",
    "plt.ylabel('Bit Error Rate')\n",
    "plt.title('BER for BPSK modulation with MMSE')\n",
    "plt.show()"
   ]
  },
  {
   "cell_type": "code",
   "execution_count": 18,
   "id": "cc311113",
   "metadata": {},
   "outputs": [],
   "source": [
    "arr = np.array([[1, 2, 3, 4], \n",
    "                [5, 6, 7, 8], \n",
    "                [9, 10, 11, 12]])"
   ]
  },
  {
   "cell_type": "code",
   "execution_count": 11,
   "id": "7bcdfc0d",
   "metadata": {},
   "outputs": [
    {
     "data": {
      "text/plain": [
       "12"
      ]
     },
     "execution_count": 11,
     "metadata": {},
     "output_type": "execute_result"
    }
   ],
   "source": [
    "arr[2,3]"
   ]
  },
  {
   "cell_type": "code",
   "execution_count": null,
   "id": "7cb0e013",
   "metadata": {},
   "outputs": [],
   "source": []
  }
 ],
 "metadata": {
  "kernelspec": {
   "display_name": "Python 3 (ipykernel)",
   "language": "python",
   "name": "python3"
  },
  "language_info": {
   "codemirror_mode": {
    "name": "ipython",
    "version": 3
   },
   "file_extension": ".py",
   "mimetype": "text/x-python",
   "name": "python",
   "nbconvert_exporter": "python",
   "pygments_lexer": "ipython3",
   "version": "3.9.12"
  }
 },
 "nbformat": 4,
 "nbformat_minor": 5
}
