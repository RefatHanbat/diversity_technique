{
 "cells": [
  {
   "cell_type": "markdown",
   "metadata": {
    "id": "10Ahy9C6aFte"
   },
   "source": [
    "# **GPU Configuration and Imports**"
   ]
  },
  {
   "cell_type": "code",
   "execution_count": null,
   "metadata": {
    "id": "2O4BiKUKZ_Yt"
   },
   "outputs": [],
   "source": [
    "import os\n",
    "gpu_num = 0 # Use \"\" to use the CPU\n",
    "os.environ[\"CUDA_VISIBLE_DEVICES\"] = f\"{gpu_num}\"\n",
    "os.environ['TF_CPP_MIN_LOG_LEVEL'] = '3'\n",
    "# Import Sionna\n",
    "try:\n",
    "    import sionna\n",
    "except ImportError as e:\n",
    "    # Install Sionna if package is not already installed\n",
    "    import os\n",
    "    os.system(\"pip install sionna\")\n",
    "    import sionna\n",
    "\n",
    "# Configure the notebook to use only a single GPU and allocate only as much memory as needed\n",
    "# For more details, see https://www.tensorflow.org/guide/gpu\n",
    "import tensorflow as tf\n",
    "gpus = tf.config.list_physical_devices('GPU')\n",
    "if gpus:\n",
    "    try:\n",
    "        tf.config.experimental.set_memory_growth(gpus[0], True)\n",
    "    except RuntimeError as e:\n",
    "        print(e)\n",
    "# Avoid warnings from TensorFlow\n",
    "tf.get_logger().setLevel('ERROR')"
   ]
  },
  {
   "cell_type": "code",
   "execution_count": null,
   "metadata": {
    "id": "SmBnOcqQbsO_"
   },
   "outputs": [],
   "source": [
    "%matplotlib inline\n",
    "import matplotlib.pyplot as plt\n",
    "import numpy as np\n",
    "import pickle\n",
    "\n",
    "from tensorflow.keras import Model\n",
    "from tensorflow.keras.layers import Layer, Conv2D, LayerNormalization\n",
    "from tensorflow.nn import relu\n",
    "\n",
    "from sionna.channel.tr38901 import Antenna, AntennaArray, CDL\n",
    "from sionna.channel import OFDMChannel\n",
    "from sionna.mimo import StreamManagement\n",
    "from sionna.ofdm import ResourceGrid, ResourceGridMapper, LSChannelEstimator, LMMSEEqualizer, RemoveNulledSubcarriers, ResourceGridDemapper\n",
    "from sionna.utils import BinarySource, ebnodb2no, insert_dims, flatten_last_dims, log10, expand_to_rank\n",
    "from sionna.fec.ldpc.encoding import LDPC5GEncoder\n",
    "from sionna.fec.ldpc.decoding import LDPC5GDecoder\n",
    "from sionna.mapping import Mapper, Demapper\n",
    "from sionna.utils.metrics import compute_ber\n",
    "from sionna.utils import sim_ber"
   ]
  },
  {
   "cell_type": "markdown",
   "metadata": {
    "id": "7A_s6DiZb1Vf"
   },
   "source": [
    "# **Simulation Parameters**"
   ]
  },
  {
   "cell_type": "code",
   "execution_count": null,
   "metadata": {
    "id": "Z8NiMX4sb5a3"
   },
   "outputs": [],
   "source": [
    "## Channel configuration\n",
    "carrier_frequency = 3.5e9 # Hz\n",
    "delay_spread = 100e-9 # s\n",
    "cdl_model = \"C\" # CDL model to use\n",
    "speed = 10.0 # Speed for evaluation and training [m/s]\n",
    "# SNR range for evaluation and training [dB]\n",
    "ebno_db_min = -5.0\n",
    "ebno_db_max = 10.0\n",
    "\n",
    "############################################\n",
    "## OFDM waveform configuration\n",
    "subcarrier_spacing = 30e3 # Hz\n",
    "fft_size = 128 # Number of subcarriers forming the resource grid, including the null-subcarrier and the guard bands\n",
    "num_ofdm_symbols = 14 # Number of OFDM symbols forming the resource grid\n",
    "dc_null = True # Null the DC subcarrier\n",
    "num_guard_carriers = [5, 6] # Number of guard carriers on each side\n",
    "pilot_pattern = \"kronecker\" # Pilot pattern\n",
    "pilot_ofdm_symbol_indices = [2, 11] # Index of OFDM symbols carrying pilots\n",
    "cyclic_prefix_length = 0 # Simulation in frequency domain. This is useless\n",
    "\n",
    "############################################\n",
    "## Modulation and coding configuration\n",
    "num_bits_per_symbol = 2 # QPSK\n",
    "coderate = 0.5 # Coderate for LDPC code\n",
    "\n",
    "############################################\n",
    "## Neural receiver configuration\n",
    "num_conv_channels = 128 # Number of convolutional channels for the convolutional layers forming the neural receiver\n",
    "\n",
    "############################################\n",
    "## Training configuration\n",
    "num_training_iterations = 30000 # Number of training iterations\n",
    "training_batch_size = 128 # Training batch size\n",
    "model_weights_path = \"neural_receiver_weights\" # Location to save the neural receiver weights once training is done\n",
    "\n",
    "############################################\n",
    "## Evaluation configuration\n",
    "results_filename = \"neural_receiver_results\" # Location to save the results\n"
   ]
  },
  {
   "cell_type": "code",
   "execution_count": null,
   "metadata": {
    "id": "VwBpJNfNcSbf"
   },
   "outputs": [],
   "source": [
    "stream_manager = StreamManagement(np.array([[1]]), # Receiver-transmitter association matrix\n",
    "                                  1)               # One stream per transmitter"
   ]
  },
  {
   "cell_type": "code",
   "execution_count": null,
   "metadata": {
    "id": "w3QCo-qLch6n"
   },
   "outputs": [],
   "source": [
    "resource_grid = ResourceGrid(num_ofdm_symbols = num_ofdm_symbols,\n",
    "                             fft_size = fft_size,\n",
    "                             subcarrier_spacing = subcarrier_spacing,\n",
    "                             num_tx = 1,\n",
    "                             num_streams_per_tx = 1,\n",
    "                             cyclic_prefix_length = cyclic_prefix_length,\n",
    "                             dc_null = dc_null,\n",
    "                             pilot_pattern = pilot_pattern,\n",
    "                             pilot_ofdm_symbol_indices = pilot_ofdm_symbol_indices,\n",
    "                             num_guard_carriers = num_guard_carriers)"
   ]
  },
  {
   "cell_type": "code",
   "execution_count": null,
   "metadata": {
    "id": "AjJeOyvrcnc4"
   },
   "outputs": [],
   "source": [
    "# Codeword length. It is calculated from the total number of databits carried by the resource grid, and the number of bits transmitted per resource element\n",
    "n = int(resource_grid.num_data_symbols*num_bits_per_symbol)\n",
    "# Number of information bits per codeword\n",
    "k = int(n*coderate)"
   ]
  },
  {
   "cell_type": "code",
   "execution_count": null,
   "metadata": {
    "id": "sgunOvuGcriv"
   },
   "outputs": [],
   "source": [
    "ut_antenna = Antenna(polarization=\"single\",\n",
    "                     polarization_type=\"V\",\n",
    "                     antenna_pattern=\"38.901\",\n",
    "                     carrier_frequency=carrier_frequency)\n",
    "\n",
    "bs_array = AntennaArray(num_rows=1,\n",
    "                        num_cols=1,\n",
    "                        polarization=\"dual\",\n",
    "                        polarization_type=\"VH\",\n",
    "                        antenna_pattern=\"38.901\",\n",
    "                        carrier_frequency=carrier_frequency)"
   ]
  },
  {
   "cell_type": "markdown",
   "metadata": {
    "id": "u9dtPnaacvqg"
   },
   "source": [
    "# **Neural Receiver**"
   ]
  },
  {
   "cell_type": "code",
   "execution_count": null,
   "metadata": {
    "id": "_mgq4nQBcxtY"
   },
   "outputs": [],
   "source": [
    "class ResidualBlock(Layer):\n",
    "    r\"\"\"\n",
    "    This Keras layer implements a convolutional residual block made of two convolutional layers with ReLU activation, layer normalization, and a skip connection.\n",
    "    The number of convolutional channels of the input must match the number of kernel of the convolutional layers ``num_conv_channel`` for the skip connection to work.\n",
    "\n",
    "    Input\n",
    "    ------\n",
    "    : [batch size, num time samples, num subcarriers, num_conv_channel], tf.float\n",
    "        Input of the layer\n",
    "\n",
    "    Output\n",
    "    -------\n",
    "    : [batch size, num time samples, num subcarriers, num_conv_channel], tf.float\n",
    "        Output of the layer\n",
    "    \"\"\"\n",
    "\n",
    "    def build(self, input_shape):\n",
    "\n",
    "        # Layer normalization is done over the last three dimensions: time, frequency, conv 'channels'\n",
    "        self._layer_norm_1 = LayerNormalization(axis=(-1, -2, -3))\n",
    "        self._conv_1 = Conv2D(filters=num_conv_channels,\n",
    "                              kernel_size=[3,3],\n",
    "                              padding='same',\n",
    "                              activation=None)\n",
    "        # Layer normalization is done over the last three dimensions: time, frequency, conv 'channels'\n",
    "        self._layer_norm_2 = LayerNormalization(axis=(-1, -2, -3))\n",
    "        self._conv_2 = Conv2D(filters=num_conv_channels,\n",
    "                              kernel_size=[3,3],\n",
    "                              padding='same',\n",
    "                              activation=None)\n",
    "\n",
    "    def call(self, inputs):\n",
    "        z = self._layer_norm_1(inputs)\n",
    "        z = relu(z)\n",
    "        z = self._conv_1(z)\n",
    "        z = self._layer_norm_2(z)\n",
    "        z = relu(z)\n",
    "        z = self._conv_2(z) # [batch size, num time samples, num subcarriers, num_channels]\n",
    "        # Skip connection\n",
    "        z = z + inputs\n",
    "\n",
    "        return z\n",
    "\n",
    "class NeuralReceiver(Layer):\n",
    "    r\"\"\"\n",
    "    Keras layer implementing a residual convolutional neural receiver.\n",
    "\n",
    "    This neural receiver is fed with the post-DFT received samples, forming a resource grid of size num_of_symbols x fft_size, and computes LLRs on the transmitted coded bits.\n",
    "    These LLRs can then be fed to an outer decoder to reconstruct the information bits.\n",
    "\n",
    "    As the neural receiver is fed with the entire resource grid, including the guard bands and pilots, it also computes LLRs for these resource elements.\n",
    "    They must be discarded to only keep the LLRs corresponding to the data-carrying resource elements.\n",
    "\n",
    "    Input\n",
    "    ------\n",
    "    y : [batch size, num rx antenna, num ofdm symbols, num subcarriers], tf.complex\n",
    "        Received post-DFT samples.\n",
    "\n",
    "    no : [batch size], tf.float32\n",
    "        Noise variance. At training, a different noise variance value is sampled for each batch example.\n",
    "\n",
    "    Output\n",
    "    -------\n",
    "    : [batch size, num ofdm symbols, num subcarriers, num_bits_per_symbol]\n",
    "        LLRs on the transmitted bits.\n",
    "        LLRs computed for resource elements not carrying data (pilots, guard bands...) must be discarded.\n",
    "    \"\"\"\n",
    "\n",
    "    def build(self, input_shape):\n",
    "\n",
    "        # Input convolution\n",
    "        self._input_conv = Conv2D(filters=num_conv_channels,\n",
    "                                  kernel_size=[3,3],\n",
    "                                  padding='same',\n",
    "                                  activation=None)\n",
    "        # Residual blocks\n",
    "        self._res_block_1 = ResidualBlock()\n",
    "        self._res_block_2 = ResidualBlock()\n",
    "        self._res_block_3 = ResidualBlock()\n",
    "        self._res_block_4 = ResidualBlock()\n",
    "        # Output conv\n",
    "        self._output_conv = Conv2D(filters=num_bits_per_symbol,\n",
    "                                   kernel_size=[3,3],\n",
    "                                   padding='same',\n",
    "                                   activation=None)\n",
    "\n",
    "    def call(self, inputs):\n",
    "        y, no = inputs\n",
    "\n",
    "        # Feeding the noise power in log10 scale helps with the performance\n",
    "        no = log10(no)\n",
    "\n",
    "        # Stacking the real and imaginary components of the different antennas along the 'channel' dimension\n",
    "        y = tf.transpose(y, [0, 2, 3, 1]) # Putting antenna dimension last\n",
    "        no = insert_dims(no, 3, 1)\n",
    "        no = tf.tile(no, [1, y.shape[1], y.shape[2], 1])\n",
    "        # z : [batch size, num ofdm symbols, num subcarriers, 2*num rx antenna + 1]\n",
    "        z = tf.concat([tf.math.real(y),\n",
    "                       tf.math.imag(y),\n",
    "                       no], axis=-1)\n",
    "        # Input conv\n",
    "        z = self._input_conv(z)\n",
    "        # Residual blocks\n",
    "        z = self._res_block_1(z)\n",
    "        z = self._res_block_2(z)\n",
    "        z = self._res_block_3(z)\n",
    "        z = self._res_block_4(z)\n",
    "        # Output conv\n",
    "        z = self._output_conv(z)\n",
    "\n",
    "        return z"
   ]
  },
  {
   "cell_type": "code",
   "execution_count": null,
   "metadata": {
    "id": "UD3WQ0I9gY5z"
   },
   "outputs": [],
   "source": [
    "## Transmitter\n",
    "binary_source = BinarySource()\n",
    "mapper = Mapper(\"qam\", num_bits_per_symbol)\n",
    "rg_mapper = ResourceGridMapper(resource_grid)\n",
    "\n",
    "## Channel\n",
    "cdl = CDL(cdl_model, delay_spread, carrier_frequency,\n",
    "          ut_antenna, bs_array, \"uplink\", min_speed=speed)\n",
    "channel = OFDMChannel(cdl, resource_grid, normalize_channel=True, return_channel=True)\n",
    "\n",
    "## Receiver\n",
    "neural_receiver = NeuralReceiver()\n",
    "rg_demapper = ResourceGridDemapper(resource_grid, stream_manager) # Used to extract data-carrying resource elements"
   ]
  },
  {
   "cell_type": "code",
   "execution_count": null,
   "metadata": {
    "colab": {
     "base_uri": "https://localhost:8080/"
    },
    "id": "30UoDJ89gmtr",
    "outputId": "bd191f3f-263f-4ca1-e8ff-1f7dbb1d8301"
   },
   "outputs": [
    {
     "name": "stdout",
     "output_type": "stream",
     "text": [
      "c shape:  (64, 1, 1, 2784)\n",
      "x shape:  (64, 1, 1, 1392)\n",
      "x_rg shape:  (64, 1, 1, 14, 128)\n",
      "y shape:  (64, 1, 2, 14, 128)\n",
      "llr shape:  (64, 14, 128, 2)\n",
      "Post RG-demapper LLRs:  (64, 1, 1, 2784)\n"
     ]
    }
   ],
   "source": [
    "batch_size = 64\n",
    "ebno_db = tf.fill([batch_size], 5.0)\n",
    "no = ebnodb2no(ebno_db, num_bits_per_symbol, coderate)\n",
    "\n",
    "\n",
    "## Transmitter\n",
    "# Generate codewords\n",
    "c = binary_source([batch_size, 1, 1, n])\n",
    "print(\"c shape: \", c.shape)\n",
    "# Map bits to QAM symbols\n",
    "x = mapper(c)\n",
    "print(\"x shape: \", x.shape)\n",
    "# Map the QAM symbols to a resource grid\n",
    "x_rg = rg_mapper(x)\n",
    "print(\"x_rg shape: \", x_rg.shape)\n",
    "\n",
    "######################################\n",
    "## Channel\n",
    "# A batch of new channel realizations is sampled and applied at every inference\n",
    "no_ = expand_to_rank(no, tf.rank(x_rg))\n",
    "y,_ = channel([x_rg, no_])\n",
    "print(\"y shape: \", y.shape)\n",
    "\n",
    "######################################\n",
    "## Receiver\n",
    "# The neural receover computes LLRs from the frequency domain received symbols and N0\n",
    "y = tf.squeeze(y, axis=1)\n",
    "llr = neural_receiver([y, no])\n",
    "print(\"llr shape: \", llr.shape)\n",
    "# Reshape the input to fit what the resource grid demapper is expected\n",
    "llr = insert_dims(llr, 2, 1)\n",
    "# Extract data-carrying resource elements. The other LLRs are discarded\n",
    "llr = rg_demapper(llr)\n",
    "llr = tf.reshape(llr, [batch_size, 1, 1, n])\n",
    "print(\"Post RG-demapper LLRs: \", llr.shape)"
   ]
  },
  {
   "cell_type": "code",
   "execution_count": null,
   "metadata": {
    "colab": {
     "base_uri": "https://localhost:8080/"
    },
    "id": "XbVHFdEsg6oT",
    "outputId": "62ff05e1-6450-4450-ee3c-d0aec56d75a8"
   },
   "outputs": [
    {
     "name": "stdout",
     "output_type": "stream",
     "text": [
      "Rate: -5.06E-01 bit\n"
     ]
    }
   ],
   "source": [
    "bce = tf.nn.sigmoid_cross_entropy_with_logits(c, llr)\n",
    "bce = tf.reduce_mean(bce)\n",
    "rate = tf.constant(1.0, tf.float32) - bce/tf.math.log(2.)\n",
    "print(f\"Rate: {rate:.2E} bit\")"
   ]
  },
  {
   "cell_type": "markdown",
   "metadata": {
    "id": "NL519d_LiiSM"
   },
   "source": [
    "# **End-to-end System as a Keras Model**"
   ]
  },
  {
   "cell_type": "code",
   "execution_count": null,
   "metadata": {
    "id": "au2Ll-4uilq8"
   },
   "outputs": [],
   "source": [
    "class E2ESystem(Model):\n",
    "    r\"\"\"\n",
    "    Keras model that implements the end-to-end systems.\n",
    "\n",
    "    As the three considered end-to-end systems (perfect CSI baseline, LS estimation baseline, and neural receiver) share most of\n",
    "    the link components (transmitter, channel model, outer code...), they are implemented using the same Keras model.\n",
    "\n",
    "    When instantiating the Keras model, the parameter ``system`` is used to specify the system to setup,\n",
    "    and the parameter ``training`` is used to specified if the system is instantiated to be trained or to be evaluated.\n",
    "    The ``training`` parameter is only relevant when the neural\n",
    "\n",
    "    At each call of this model:\n",
    "    * A batch of codewords is randomly sampled, modulated, and mapped to resource grids to form the channel inputs\n",
    "    * A batch of channel realizations is randomly sampled and applied to the channel inputs\n",
    "    * The receiver is executed on the post-DFT received samples to compute LLRs on the coded bits.\n",
    "      Which receiver is executed (baseline with perfect CSI knowledge, baseline with LS estimation, or neural receiver) depends\n",
    "      on the specified ``system`` parameter.\n",
    "    * If not training, the outer decoder is applied to reconstruct the information bits\n",
    "    * If training, the BMD rate is estimated over the batch from the LLRs and the transmitted bits\n",
    "\n",
    "    Parameters\n",
    "    -----------\n",
    "    system : str\n",
    "        Specify the receiver to use. Should be one of 'baseline-perfect-csi', 'baseline-ls-estimation' or 'neural-receiver'\n",
    "\n",
    "    training : bool\n",
    "        Set to `True` if the system is instantiated to be trained. Set to `False` otherwise. Defaults to `False`.\n",
    "        If the system is instantiated to be trained, the outer encoder and decoder are not instantiated as they are not required for training.\n",
    "        This significantly reduces the computational complexity of training.\n",
    "        If training, the bit-metric decoding (BMD) rate is computed from the transmitted bits and the LLRs. The BMD rate is known to be\n",
    "        an achievable information rate for BICM systems, and therefore training of the neural receiver aims at maximizing this rate.\n",
    "\n",
    "    Input\n",
    "    ------\n",
    "    batch_size : int\n",
    "        Batch size\n",
    "\n",
    "    no : scalar or [batch_size], tf.float\n",
    "        Noise variance.\n",
    "        At training, a different noise variance should be sampled for each batch example.\n",
    "\n",
    "    Output\n",
    "    -------\n",
    "    If ``training`` is set to `True`, then the output is a single scalar, which is an estimation of the BMD rate computed over the batch. It\n",
    "    should be used as objective for training.\n",
    "    If ``training`` is set to `False`, the transmitted information bits and their reconstruction on the receiver side are returned to\n",
    "    compute the block/bit error rate.\n",
    "    \"\"\"\n",
    "\n",
    "    def __init__(self, system, training=False):\n",
    "        super().__init__()\n",
    "        self._system = system\n",
    "        self._training = training\n",
    "\n",
    "        ######################################\n",
    "        ## Transmitter\n",
    "        self._binary_source = BinarySource()\n",
    "        # To reduce the computational complexity of training, the outer code is not used when training,\n",
    "        # as it is not required\n",
    "        if not training:\n",
    "            self._encoder = LDPC5GEncoder(k, n)\n",
    "        self._mapper = Mapper(\"qam\", num_bits_per_symbol)\n",
    "        self._rg_mapper = ResourceGridMapper(resource_grid)\n",
    "\n",
    "        ######################################\n",
    "        ## Channel\n",
    "        # A 3GPP CDL channel model is used\n",
    "        cdl = CDL(cdl_model, delay_spread, carrier_frequency,\n",
    "                  ut_antenna, bs_array, \"uplink\", min_speed=speed)\n",
    "        self._channel = OFDMChannel(cdl, resource_grid, normalize_channel=True, return_channel=True)\n",
    "\n",
    "        ######################################\n",
    "        ## Receiver\n",
    "        # Three options for the receiver depending on the value of `system`\n",
    "        if \"baseline\" in system:\n",
    "            if system == 'baseline-perfect-csi': # Perfect CSI\n",
    "                self._removed_null_subc = RemoveNulledSubcarriers(resource_grid)\n",
    "            elif system == 'baseline-ls-estimation': # LS estimation\n",
    "                self._ls_est = LSChannelEstimator(resource_grid, interpolation_type=\"nn\")\n",
    "            # Components required by both baselines\n",
    "            self._lmmse_equ = LMMSEEqualizer(resource_grid, stream_manager, )\n",
    "            self._demapper = Demapper(\"app\", \"qam\", num_bits_per_symbol)\n",
    "        elif system == \"neural-receiver\": # Neural receiver\n",
    "            self._neural_receiver = NeuralReceiver()\n",
    "            self._rg_demapper = ResourceGridDemapper(resource_grid, stream_manager) # Used to extract data-carrying resource elements\n",
    "        # To reduce the computational complexity of training, the outer code is not used when training,\n",
    "        # as it is not required\n",
    "        if not training:\n",
    "            self._decoder = LDPC5GDecoder(self._encoder, hard_out=True)\n",
    "\n",
    "    @tf.function\n",
    "    def call(self, batch_size, ebno_db):\n",
    "\n",
    "        # If `ebno_db` is a scalar, a tensor with shape [batch size] is created as it is what is expected by some layers\n",
    "        if len(ebno_db.shape) == 0:\n",
    "            ebno_db = tf.fill([batch_size], ebno_db)\n",
    "\n",
    "        ######################################\n",
    "        ## Transmitter\n",
    "        no = ebnodb2no(ebno_db, num_bits_per_symbol, coderate)\n",
    "        # Outer coding is only performed if not training\n",
    "        if self._training:\n",
    "            c = self._binary_source([batch_size, 1, 1, n])\n",
    "        else:\n",
    "            b = self._binary_source([batch_size, 1, 1, k])\n",
    "            c = self._encoder(b)\n",
    "        # Modulation\n",
    "        x = self._mapper(c)\n",
    "        x_rg = self._rg_mapper(x)\n",
    "\n",
    "        ######################################\n",
    "        ## Channel\n",
    "        # A batch of new channel realizations is sampled and applied at every inference\n",
    "        no_ = expand_to_rank(no, tf.rank(x_rg))\n",
    "        y,h = self._channel([x_rg, no_])\n",
    "\n",
    "        ######################################\n",
    "        ## Receiver\n",
    "        # Three options for the receiver depending on the value of ``system``\n",
    "        if \"baseline\" in self._system:\n",
    "            if self._system == 'baseline-perfect-csi':\n",
    "                h_hat = self._removed_null_subc(h) # Extract non-null subcarriers\n",
    "                err_var = 0.0 # No channel estimation error when perfect CSI knowledge is assumed\n",
    "            elif self._system == 'baseline-ls-estimation':\n",
    "                h_hat, err_var = self._ls_est([y, no]) # LS channel estimation with nearest-neighbor\n",
    "            x_hat, no_eff = self._lmmse_equ([y, h_hat, err_var, no]) # LMMSE equalization\n",
    "            no_eff_= expand_to_rank(no_eff, tf.rank(x_hat))\n",
    "            llr = self._demapper([x_hat, no_eff_]) # Demapping\n",
    "        elif self._system == \"neural-receiver\":\n",
    "            # The neural receover computes LLRs from the frequency domain received symbols and N0\n",
    "            y = tf.squeeze(y, axis=1)\n",
    "            llr = self._neural_receiver([y, no])\n",
    "            llr = insert_dims(llr, 2, 1) # Reshape the input to fit what the resource grid demapper is expected\n",
    "            llr = self._rg_demapper(llr) # Extract data-carrying resource elements. The other LLrs are discarded\n",
    "            llr = tf.reshape(llr, [batch_size, 1, 1, n]) # Reshape the LLRs to fit what the outer decoder is expected\n",
    "\n",
    "        # Outer coding is not needed if the information rate is returned\n",
    "        if self._training:\n",
    "            # Compute and return BMD rate (in bit), which is known to be an achievable\n",
    "            # information rate for BICM systems.\n",
    "            # Training aims at maximizing the BMD rate\n",
    "            bce = tf.nn.sigmoid_cross_entropy_with_logits(c, llr)\n",
    "            bce = tf.reduce_mean(bce)\n",
    "            rate = tf.constant(1.0, tf.float32) - bce/tf.math.log(2.)\n",
    "            return rate\n",
    "        else:\n",
    "            # Outer decoding\n",
    "            b_hat = self._decoder(llr)\n",
    "            return b,b_hat # Ground truth and reconstructed information bits returned for BER/BLER computation"
   ]
  },
  {
   "cell_type": "markdown",
   "metadata": {
    "id": "8Eekd-Ahi4d6"
   },
   "source": [
    "# **Evaluation of the Baselines**"
   ]
  },
  {
   "cell_type": "code",
   "execution_count": null,
   "metadata": {
    "id": "0M5U1dShi6ly"
   },
   "outputs": [],
   "source": [
    "# Range of SNRs over which the systems are evaluated\n",
    "ebno_dbs = np.arange(ebno_db_min, # Min SNR for evaluation\n",
    "                     ebno_db_max, # Max SNR for evaluation\n",
    "                     0.5) # Step"
   ]
  },
  {
   "cell_type": "code",
   "execution_count": null,
   "metadata": {
    "colab": {
     "background_save": true,
     "base_uri": "https://localhost:8080/"
    },
    "id": "NHoOTygkjAwa",
    "outputId": "ba6e0aab-09c2-4b8e-983e-7fb2d850f674"
   },
   "outputs": [
    {
     "name": "stdout",
     "output_type": "stream",
     "text": [
      "EbNo [dB] |        BER |       BLER |  bit errors |    num bits | block errors |  num blocks | runtime [s] |    status\n",
      "---------------------------------------------------------------------------------------------------------------------------------------\n",
      "     -5.0 | 2.5285e-01 | 1.0000e+00 |       45052 |      178176 |          128 |         128 |        26.7 |reached target block errors\n",
      "     -4.5 | 2.3653e-01 | 1.0000e+00 |       42144 |      178176 |          128 |         128 |         2.8 |reached target block errors\n",
      "     -4.0 | 2.2071e-01 | 1.0000e+00 |       39325 |      178176 |          128 |         128 |         2.8 |reached target block errors\n",
      "     -3.5 | 1.9491e-01 | 1.0000e+00 |       34728 |      178176 |          128 |         128 |         1.9 |reached target block errors\n",
      "     -3.0 | 1.6203e-01 | 1.0000e+00 |       28870 |      178176 |          128 |         128 |         1.9 |reached target block errors\n",
      "     -2.5 | 1.1189e-01 | 9.8438e-01 |       19936 |      178176 |          126 |         128 |         1.9 |reached target block errors\n",
      "     -2.0 | 1.5541e-02 | 5.1953e-01 |        5538 |      356352 |          133 |         256 |         3.7 |reached target block errors\n",
      "     -1.5 | 7.0581e-04 | 2.7478e-02 |        3647 |     5167104 |          102 |        3712 |        68.3 |reached target block errors\n",
      "     -1.0 | 1.7264e-04 | 1.9531e-03 |        3076 |    17817600 |           25 |       12800 |       218.8 |reached max iter       \n",
      "     -0.5 | 8.6263e-05 | 5.4688e-04 |        1537 |    17817600 |            7 |       12800 |       212.4 |reached max iter       \n",
      "      0.0 | 1.9924e-05 | 2.3437e-04 |         355 |    17817600 |            3 |       12800 |       206.0 |reached max iter       \n",
      "      0.5 | 1.2516e-05 | 2.3437e-04 |         223 |    17817600 |            3 |       12800 |       204.5 |reached max iter       \n",
      "      1.0 | 1.3301e-05 | 7.8125e-05 |         237 |    17817600 |            1 |       12800 |       210.9 |reached max iter       \n",
      "      1.5 | 0.0000e+00 | 0.0000e+00 |           0 |    17817600 |            0 |       12800 |       205.2 |reached max iter       \n",
      "\n",
      "Simulation stopped as no error occurred @ EbNo = 1.5 dB.\n",
      "\n",
      "EbNo [dB] |        BER |       BLER |  bit errors |    num bits | block errors |  num blocks | runtime [s] |    status\n",
      "---------------------------------------------------------------------------------------------------------------------------------------\n",
      "     -5.0 | 3.9226e-01 | 1.0000e+00 |       69892 |      178176 |          128 |         128 |         7.3 |reached target block errors\n",
      "     -4.5 | 3.8067e-01 | 1.0000e+00 |       67827 |      178176 |          128 |         128 |         2.0 |reached target block errors\n",
      "     -4.0 | 3.6742e-01 | 1.0000e+00 |       65466 |      178176 |          128 |         128 |         2.9 |reached target block errors\n",
      "     -3.5 | 3.5555e-01 | 1.0000e+00 |       63350 |      178176 |          128 |         128 |         1.9 |reached target block errors\n",
      "     -3.0 | 3.4060e-01 | 1.0000e+00 |       60687 |      178176 |          128 |         128 |         1.9 |reached target block errors\n",
      "     -2.5 | 3.2579e-01 | 1.0000e+00 |       58048 |      178176 |          128 |         128 |         1.9 |reached target block errors\n",
      "     -2.0 | 3.0901e-01 | 1.0000e+00 |       55059 |      178176 |          128 |         128 |         1.9 |reached target block errors\n",
      "     -1.5 | 2.9240e-01 | 1.0000e+00 |       52098 |      178176 |          128 |         128 |         1.8 |reached target block errors\n",
      "     -1.0 | 2.7572e-01 | 1.0000e+00 |       49126 |      178176 |          128 |         128 |         2.9 |reached target block errors\n",
      "     -0.5 | 2.5511e-01 | 1.0000e+00 |       45454 |      178176 |          128 |         128 |         2.0 |reached target block errors\n",
      "      0.0 | 2.3242e-01 | 1.0000e+00 |       41411 |      178176 |          128 |         128 |         1.9 |reached target block errors\n",
      "      0.5 | 2.0479e-01 | 1.0000e+00 |       36489 |      178176 |          128 |         128 |         1.9 |reached target block errors\n",
      "      1.0 | 1.6946e-01 | 1.0000e+00 |       30193 |      178176 |          128 |         128 |         1.9 |reached target block errors\n",
      "      1.5 | 9.4721e-02 | 9.5312e-01 |       16877 |      178176 |          122 |         128 |         1.8 |reached target block errors\n",
      "      2.0 | 1.2535e-02 | 2.5000e-01 |        8934 |      712704 |          128 |         512 |         9.8 |reached target block errors\n",
      "      2.5 | 6.0436e-04 | 1.2525e-02 |        6784 |    11225088 |          101 |        8064 |       129.2 |reached target block errors\n",
      "      3.0 | 1.3200e-04 | 1.3281e-03 |        2352 |    17817600 |           17 |       12800 |       204.7 |reached max iter       \n",
      "      3.5 | 1.1814e-04 | 8.5938e-04 |        2105 |    17817600 |           11 |       12800 |       207.8 |reached max iter       \n",
      "      4.0 | 3.6425e-05 | 2.3437e-04 |         649 |    17817600 |            3 |       12800 |       209.7 |reached max iter       \n",
      "      4.5 | 3.0588e-05 | 1.5625e-04 |         545 |    17817600 |            2 |       12800 |       205.1 |reached max iter       \n",
      "      5.0 | 0.0000e+00 | 0.0000e+00 |           0 |    17817600 |            0 |       12800 |       205.2 |reached max iter       \n",
      "\n",
      "Simulation stopped as no error occurred @ EbNo = 5.0 dB.\n",
      "\n"
     ]
    }
   ],
   "source": [
    "# Dictionnary storing the evaluation results\n",
    "BLER = {}\n",
    "\n",
    "model = E2ESystem('baseline-perfect-csi')\n",
    "_,bler = sim_ber(model, ebno_dbs, batch_size=128, num_target_block_errors=100, max_mc_iter=100)\n",
    "BLER['baseline-perfect-csi'] = bler.numpy()\n",
    "\n",
    "model = E2ESystem('baseline-ls-estimation')\n",
    "_,bler = sim_ber(model, ebno_dbs, batch_size=128, num_target_block_errors=100, max_mc_iter=100)\n",
    "BLER['baseline-ls-estimation'] = bler.numpy()"
   ]
  }
 ],
 "metadata": {
  "colab": {
   "provenance": []
  },
  "kernelspec": {
   "display_name": "Python 3",
   "name": "python3"
  },
  "language_info": {
   "name": "python"
  }
 },
 "nbformat": 4,
 "nbformat_minor": 0
}
