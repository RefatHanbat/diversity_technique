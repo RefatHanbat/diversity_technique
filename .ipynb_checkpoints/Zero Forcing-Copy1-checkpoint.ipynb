{
 "cells": [
  {
   "cell_type": "code",
   "execution_count": 1,
   "id": "a34089af",
   "metadata": {},
   "outputs": [],
   "source": [
    "import numpy as np\n",
    "import matplotlib.pyplot as plt"
   ]
  },
  {
   "cell_type": "code",
   "execution_count": 2,
   "id": "b5f9e7cd",
   "metadata": {},
   "outputs": [],
   "source": [
    "N = 10**6"
   ]
  },
  {
   "cell_type": "code",
   "execution_count": 3,
   "id": "b3670131",
   "metadata": {},
   "outputs": [],
   "source": [
    "ip = np.random.randn(N) > 0.5\n",
    "ip = np.array(ip) "
   ]
  },
  {
   "cell_type": "code",
   "execution_count": 4,
   "id": "d793f21c",
   "metadata": {},
   "outputs": [],
   "source": [
    "s = 2 * ip - 1            \n",
    "\n",
    "s = np.array(s)"
   ]
  },
  {
   "cell_type": "code",
   "execution_count": 5,
   "id": "ed6e1cdc",
   "metadata": {},
   "outputs": [],
   "source": [
    "eb_no_db = np.arange(0,25) "
   ]
  },
  {
   "cell_type": "code",
   "execution_count": 6,
   "id": "dd0d1dcd",
   "metadata": {},
   "outputs": [],
   "source": [
    "bit_error_rate = np.zeros(len(eb_no_db))"
   ]
  },
  {
   "cell_type": "code",
   "execution_count": 7,
   "id": "92b43c6c",
   "metadata": {},
   "outputs": [],
   "source": [
    "def Zero_Forcing():\n",
    "\n",
    "    for jj in range(len(eb_no_db)):\n",
    "\n",
    "        nErr = 0\n",
    "        \n",
    "        received_bits_list = []\n",
    "\n",
    "        for ii in range(N // 2):\n",
    "            \n",
    "            h11 = (1 / np.sqrt(2)) * (np.random.rand() + 1j * np.random.rand())\n",
    "            \n",
    "            h12 = (1 / np.sqrt(2)) * (np.random.rand() + 1j * np.random.rand())\n",
    "            \n",
    "            h21 = (1 / np.sqrt(2)) * (np.random.rand() + 1j * np.random.rand())\n",
    "            \n",
    "            h22 = (1 / np.sqrt(2)) * (np.random.rand() + 1j * np.random.rand())\n",
    "            \n",
    "            n1 = (1 / np.sqrt(2)) * (np.random.rand() + 1j * np.random.rand())\n",
    "            \n",
    "            n2 = (1 / np.sqrt(2)) * (np.random.rand() + 1j * np.random.rand())\n",
    "            \n",
    "            x1 = s[2 * ii]\n",
    "            \n",
    "            x2 = s[2 * ii + 1]\n",
    "\n",
    "            H = np.array([[h11, h12], [h21, h22]])\n",
    "            \n",
    "            n = np.array([[n1], [n2]])\n",
    "            \n",
    "            x = np.array([[x1], [x2]])\n",
    "\n",
    "            Hx = np.dot(H, x)\n",
    "            \n",
    "            y = Hx + n * 10 ** (-eb_no_db[jj] / 20)\n",
    "           \n",
    "            # Forming the Zero Forcing equalization matrix W = inv(H^H*H)*H^H\n",
    "            \n",
    "            H_Hermitian = np.conj(H.T) #H^H\n",
    "            H_Hermitian_H = np.dot(H_Hermitian, H) #H^H*H\n",
    "#             condition_number = np.linalg.cond(H_Hermitian_H)\n",
    "            H_Hermitian_H_inverse = np.linalg.pinv(H_Hermitian_H) #(H^H*H)^-1\n",
    "            W = np.dot(H_Hermitian_H_inverse, H_Hermitian) #(H^H*H)^-1 * H^H\n",
    "            x_hat = np.dot(W, y)\n",
    "            received_bits = np.real(x_hat > 0)\n",
    "            x = received_bits[0][0]\n",
    "            z = received_bits[1][0]\n",
    "\n",
    "            received_bits_list.append(x)\n",
    "            received_bits_list.append(z)\n",
    "\n",
    "        nErr = np.sum(ip != received_bits_list)\n",
    "        bit_error_rate[jj] = nErr / N\n",
    "        \n",
    "        \n",
    "\n",
    "    return bit_error_rate\n",
    "\n",
    "\n",
    "\n",
    "#     cnt=0\n",
    "#     for x in range(0,len(result),2):        \n",
    "#             if result[x] == ip[x] and result[x+1] == ip[x+1]:\n",
    "#                 continue\n",
    "#             cnt+=1\n",
    "            \n",
    "#     print(\"total error:\",cnt)\n",
    "    \n",
    "    "
   ]
  },
  {
   "cell_type": "code",
   "execution_count": 8,
   "id": "e1ed8696",
   "metadata": {},
   "outputs": [
    {
     "name": "stdout",
     "output_type": "stream",
     "text": [
      "[0.185558 0.155304 0.127309 0.10469  0.084794 0.068825 0.054908 0.044365\n",
      " 0.03538  0.028392 0.022461 0.017787 0.014363 0.011323 0.008786 0.007162\n",
      " 0.005623 0.004569 0.003587 0.002875 0.002278 0.001703 0.001319 0.001101\n",
      " 0.000894]\n"
     ]
    },
    {
     "data": {
      "image/png": "[encoded data removed]",
      "text/plain": [
       "<Figure size 432x288 with 1 Axes>"
      ]
     },
     "metadata": {
      "needs_background": "light"
     },
     "output_type": "display_data"
    }
   ],
   "source": [
    "result = Zero_Forcing()\n",
    "print(result)\n",
    "plt.figure()\n",
    "plt.plot(eb_no_db, result, 'mo-', linewidth=2, label='nTx=2 nRx=2 (zero_forcing)')\n",
    "plt.grid(True)\n",
    "plt.legend()\n",
    "plt.xlabel('Eb/No, dB')\n",
    "plt.ylabel('Bit Error Rate')\n",
    "plt.title('BER for BPSK modulation with zero_forcing_algorithm')\n",
    "plt.show()"
   ]
  },
  {
   "cell_type": "code",
   "execution_count": null,
   "id": "32b54e7b",
   "metadata": {},
   "outputs": [],
   "source": []
  }
 ],
 "metadata": {
  "kernelspec": {
   "display_name": "Python 3 (ipykernel)",
   "language": "python",
   "name": "python3"
  },
  "language_info": {
   "codemirror_mode": {
    "name": "ipython",
    "version": 3
   },
   "file_extension": ".py",
   "mimetype": "text/x-python",
   "name": "python",
   "nbconvert_exporter": "python",
   "pygments_lexer": "ipython3",
   "version": "3.9.12"
  }
 },
 "nbformat": 4,
 "nbformat_minor": 5
}
