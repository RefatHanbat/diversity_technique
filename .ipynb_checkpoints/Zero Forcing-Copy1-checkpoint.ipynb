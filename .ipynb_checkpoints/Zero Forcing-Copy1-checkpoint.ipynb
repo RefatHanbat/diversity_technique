{
 "cells": [
  {
   "cell_type": "code",
   "execution_count": 37,
   "id": "a34089af",
   "metadata": {},
   "outputs": [],
   "source": [
    "import numpy as np\n",
    "import matplotlib.pyplot as plt"
   ]
  },
  {
   "cell_type": "code",
   "execution_count": 59,
   "id": "b5f9e7cd",
   "metadata": {},
   "outputs": [],
   "source": [
    "N = 10**6"
   ]
  },
  {
   "cell_type": "code",
   "execution_count": 60,
   "id": "b3670131",
   "metadata": {},
   "outputs": [],
   "source": [
    "ip = np.random.randn(N) > 0.5\n",
    "ip = np.array(ip) "
   ]
  },
  {
   "cell_type": "code",
   "execution_count": 61,
   "id": "d793f21c",
   "metadata": {},
   "outputs": [],
   "source": [
    "s = 2 * ip - 1            \n",
    "\n",
    "s = np.array(s)"
   ]
  },
  {
   "cell_type": "code",
   "execution_count": 62,
   "id": "ed6e1cdc",
   "metadata": {},
   "outputs": [],
   "source": [
    "eb_no_db = np.arange(0,25) "
   ]
  },
  {
   "cell_type": "code",
   "execution_count": 63,
   "id": "dd0d1dcd",
   "metadata": {},
   "outputs": [],
   "source": [
    "bit_error_rate = np.zeros(len(eb_no_db))"
   ]
  },
  {
   "cell_type": "code",
   "execution_count": 64,
   "id": "92b43c6c",
   "metadata": {},
   "outputs": [],
   "source": [
    "def Zero_Forcing():\n",
    "    result=list()\n",
    "    for ii in range (N// 2):\n",
    "        \n",
    "        h11 = (1 / np.sqrt(2)) * (np.random.rand() + 1j * np.random.rand())\n",
    "\n",
    "        h12 = (1/np.sqrt(2))* (np.random.rand() + 1j * np.random.rand())\n",
    "\n",
    "        h21 = (1/np.sqrt(2))* (np.random.rand() + 1j * np.random.rand())\n",
    "\n",
    "        h22 = (1/np.sqrt(2))* (np.random.rand() + 1j * np.random.rand())\n",
    "\n",
    "        n1 = (1/np.sqrt(2))* (np.random.rand() + 1j * np.random.rand())\n",
    "\n",
    "        n2 = (1/np.sqrt(2))* (np.random.rand() + 1j * np.random.rand())\n",
    "\n",
    "        x1 = s[2 * ii]\n",
    "\n",
    "        x2 = s[2 * ii + 1]\n",
    "        \n",
    "        H = np.array([[h11, h12], [h21, h22]])\n",
    "        \n",
    "        n = np.array([[n1], [n2]])\n",
    "        \n",
    "        x = np.array([[x1], [x2]])\n",
    "        \n",
    "        Hx = np.dot(H,x)\n",
    "        \n",
    "        y = Hx + n\n",
    "        \n",
    "#         Forming the Zero Forcing equalization matrix W = inv(H^H*H)*H^H\n",
    "\n",
    "        H_Hermitian = np.conj(H.T)\n",
    "        \n",
    "        H_Hermitian_H = np.dot(H, H_Hermitian)\n",
    "        \n",
    "        H_Hermitian_H_inverse = np.linalg.inv(H_Hermitian_H)\n",
    "        \n",
    "        W = np.dot(H_Hermitian_H_inverse, H_Hermitian)\n",
    "        \n",
    "        x_hat = np.dot(W, y)\n",
    "        \n",
    "        received_bits = np.real(x_hat > 0 )\n",
    "                        \n",
    "        result.append(received_bits[0][0])\n",
    "        result.append(received_bits[1][0])\n",
    "                \n",
    "#     print(result)\n",
    "#     print('ip',ip)\n",
    "    cnt=0\n",
    "    for x in range(0,len(result),2):        \n",
    "            if result[x] == ip[x] and result[x+1] == ip[x+1]:\n",
    "                continue\n",
    "            cnt+=1\n",
    "            \n",
    "    print(\"total error:\",cnt)\n",
    "       \n",
    "        \n",
    "        \n",
    "        \n",
    "\n",
    "\n",
    "        \n",
    "       \n",
    "        \n",
    "       \n",
    "        \n",
    "        \n",
    "\n",
    "        \n",
    "            \n",
    "        \n",
    "    \n",
    "\n",
    "    \n",
    "    "
   ]
  },
  {
   "cell_type": "code",
   "execution_count": 65,
   "id": "e1ed8696",
   "metadata": {},
   "outputs": [
    {
     "name": "stdout",
     "output_type": "stream",
     "text": [
      "total error: 258071\n"
     ]
    }
   ],
   "source": [
    "Zero_Forcing()"
   ]
  },
  {
   "cell_type": "code",
   "execution_count": null,
   "id": "1d2871f2",
   "metadata": {},
   "outputs": [],
   "source": []
  },
  {
   "cell_type": "code",
   "execution_count": null,
   "id": "0e2e36d2",
   "metadata": {},
   "outputs": [],
   "source": []
  },
  {
   "cell_type": "code",
   "execution_count": null,
   "id": "000f64e9",
   "metadata": {},
   "outputs": [],
   "source": []
  }
 ],
 "metadata": {
  "kernelspec": {
   "display_name": "Python 3 (ipykernel)",
   "language": "python",
   "name": "python3"
  },
  "language_info": {
   "codemirror_mode": {
    "name": "ipython",
    "version": 3
   },
   "file_extension": ".py",
   "mimetype": "text/x-python",
   "name": "python",
   "nbconvert_exporter": "python",
   "pygments_lexer": "ipython3",
   "version": "3.9.12"
  }
 },
 "nbformat": 4,
 "nbformat_minor": 5
}
