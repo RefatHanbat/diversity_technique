{
 "cells": [
  {
   "cell_type": "code",
   "execution_count": 5,
   "id": "11f92250",
   "metadata": {},
   "outputs": [],
   "source": [
    "import numpy as np\n",
    "import matplotlib.pyplot as plt"
   ]
  },
  {
   "cell_type": "code",
   "execution_count": 6,
   "id": "b90452da",
   "metadata": {},
   "outputs": [],
   "source": [
    "N  = 10**6"
   ]
  },
  {
   "cell_type": "code",
   "execution_count": 7,
   "id": "708057f5",
   "metadata": {},
   "outputs": [],
   "source": [
    "ip = np.random.randn(N) > 0.5"
   ]
  },
  {
   "cell_type": "code",
   "execution_count": 8,
   "id": "216406bd",
   "metadata": {},
   "outputs": [],
   "source": [
    "s  = 2 * ip - 1"
   ]
  },
  {
   "cell_type": "code",
   "execution_count": 9,
   "id": "a6349922",
   "metadata": {},
   "outputs": [],
   "source": [
    "eb_no_db = np.arange(0,25)\n",
    "eb_no_db = np.array(eb_no_db)"
   ]
  },
  {
   "cell_type": "code",
   "execution_count": 10,
   "id": "b42c0c08",
   "metadata": {},
   "outputs": [],
   "source": [
    "total_error = np.zeros(len(eb_no_db))"
   ]
  },
  {
   "cell_type": "code",
   "execution_count": 11,
   "id": "37e641c1",
   "metadata": {},
   "outputs": [],
   "source": [
    "# h0 = (1/np.sqrt(2)) * (np.random.randn(N) +1j *  np.random.randn(N))\n",
    "    \n",
    "# h1 = (1/np.sqrt(2)) * (np.random.randn(N) + 1j * np.random.randn(N))\n",
    "    \n",
    "# n0 = (1/np.sqrt(2)) * (np.random.randn(N) + 1j * np.random.randn(N))\n",
    "    \n",
    "# n1 = (1/np.sqrt(2)) * (np.random.randn(N) + 1j * np.random.randn(N))"
   ]
  },
  {
   "cell_type": "code",
   "execution_count": 12,
   "id": "c8270404",
   "metadata": {},
   "outputs": [],
   "source": [
    "for ii in range(len(eb_no_db)):\n",
    "    \n",
    "    nErr = 0\n",
    "    \n",
    "    h0 = (1/np.sqrt(2)) * (np.random.randn(N) +1j *  np.random.randn(N))\n",
    "    \n",
    "    h1 = (1/np.sqrt(2)) * (np.random.randn(N) + 1j * np.random.randn(N))\n",
    "    \n",
    "    n0 = (1/np.sqrt(2)) * (np.random.randn(N) + 1j * np.random.randn(N))\n",
    "    \n",
    "    n1 = (1/np.sqrt(2)) * (np.random.randn(N) + 1j * np.random.randn(N))\n",
    "    \n",
    "    r0 = h0 * s + 10 ** (-eb_no_db[ii] / 20) * n0\n",
    "    \n",
    "    r1 = h1 * s + 10 ** (-eb_no_db[ii] / 20) * n1\n",
    "    \n",
    "    s_tilde = np.conj(h0) * r0 + np.conj(h1) * r1\n",
    "    \n",
    "    #normalization\n",
    "    \n",
    "    s_tilde = s_tilde / (np.abs(h0)**2 + np.abs(h1)**2)\n",
    "    \n",
    "    #bpsk demodulation\n",
    "    \n",
    "    received_bits_s = np.real(s_tilde) >= 0\n",
    "    \n",
    "    nErr = np.sum(received_bits_s != ip)\n",
    "    \n",
    "    total_error[ii] = nErr\n",
    "         \n",
    "        \n",
    "\n",
    "        \n",
    "\n",
    "  "
   ]
  },
  {
   "cell_type": "code",
   "execution_count": 13,
   "id": "d1253d04",
   "metadata": {},
   "outputs": [],
   "source": [
    "ber = total_error / N"
   ]
  },
  {
   "cell_type": "code",
   "execution_count": 14,
   "id": "132c69b5",
   "metadata": {},
   "outputs": [
    {
     "name": "stdout",
     "output_type": "stream",
     "text": [
      "[5.7973e-02 4.3947e-02 3.2704e-02 2.3868e-02 1.6876e-02 1.1773e-02\n",
      " 8.1330e-03 5.5580e-03 3.6260e-03 2.4850e-03 1.6190e-03 1.0440e-03\n",
      " 6.8400e-04 3.9800e-04 2.9300e-04 1.7200e-04 1.2000e-04 7.2000e-05\n",
      " 3.8000e-05 2.3000e-05 2.0000e-05 8.0000e-06 9.0000e-06 4.0000e-06\n",
      " 1.0000e-06]\n"
     ]
    }
   ],
   "source": [
    "print(ber)"
   ]
  },
  {
   "cell_type": "code",
   "execution_count": 15,
   "id": "e15019d1",
   "metadata": {},
   "outputs": [
    {
     "data": {
      "image/png": "[encoded data removed]",
      "text/plain": [
       "<Figure size 432x288 with 1 Axes>"
      ]
     },
     "metadata": {
      "needs_background": "light"
     },
     "output_type": "display_data"
    }
   ],
   "source": [
    "plt.figure()\n",
    "plt.semilogy(eb_no_db, ber, 'ks-', linewidth=2)\n",
    "plt.xlabel('SNR (dB)')\n",
    "plt.ylabel('Bit Error Rate (BER)')\n",
    "plt.title('BER vs. SNR in BPSK modulation with Alamouti STBC')\n",
    "plt.grid(True)\n",
    "plt.show()"
   ]
  },
  {
   "cell_type": "code",
   "execution_count": 16,
   "id": "ed06d895",
   "metadata": {},
   "outputs": [],
   "source": [
    "N = 1000000"
   ]
  },
  {
   "cell_type": "code",
   "execution_count": 17,
   "id": "9e28f375",
   "metadata": {},
   "outputs": [],
   "source": [
    "ip = np.random.randn(N) > 0.5"
   ]
  },
  {
   "cell_type": "code",
   "execution_count": 18,
   "id": "7763395c",
   "metadata": {},
   "outputs": [],
   "source": [
    "s  = 2 * ip - 1\n",
    "s = np.array(s)"
   ]
  },
  {
   "cell_type": "code",
   "execution_count": 19,
   "id": "620cced5",
   "metadata": {},
   "outputs": [],
   "source": [
    "eb_no_db = np.arange(0,25)\n",
    "eb_no_db = np.array(eb_no_db)"
   ]
  },
  {
   "cell_type": "code",
   "execution_count": 20,
   "id": "f2696885",
   "metadata": {},
   "outputs": [],
   "source": [
    "total_error = np.zeros(len(eb_no_db))"
   ]
  },
  {
   "cell_type": "code",
   "execution_count": 21,
   "id": "816dcc65",
   "metadata": {},
   "outputs": [],
   "source": [
    "# h0 = (1/np.sqrt(2)) * (np.random.randn(N) + 1j * (np.random.randn(N)))"
   ]
  },
  {
   "cell_type": "code",
   "execution_count": 22,
   "id": "0631a7a8",
   "metadata": {},
   "outputs": [],
   "source": [
    "# h1 = (1/np.sqrt(2)) * (np.random.randn(N) + 1j * (np.random.randn(N)))"
   ]
  },
  {
   "cell_type": "code",
   "execution_count": 23,
   "id": "3d3c3b9d",
   "metadata": {},
   "outputs": [],
   "source": [
    "# h2 = (1/np.sqrt(2)) * (np.random.randn(N) + 1j * (np.random.randn(N)))"
   ]
  },
  {
   "cell_type": "code",
   "execution_count": 24,
   "id": "25b9e6f1",
   "metadata": {},
   "outputs": [],
   "source": [
    "# h3 = (1/np.sqrt(2)) * (np.random.randn(N) + 1j * (np.random.randn(N)))"
   ]
  },
  {
   "cell_type": "code",
   "execution_count": 25,
   "id": "4663ea40",
   "metadata": {},
   "outputs": [],
   "source": [
    "# n0 = (1/np.sqrt(2)) * (np.random.randn(N) + 1j * (np.random.randn(N)))"
   ]
  },
  {
   "cell_type": "code",
   "execution_count": 26,
   "id": "384c8fcb",
   "metadata": {},
   "outputs": [],
   "source": [
    "# n1 = (1/np.sqrt(2)) * (np.random.randn(N) + 1j * (np.random.randn(N)))"
   ]
  },
  {
   "cell_type": "code",
   "execution_count": 27,
   "id": "73f5047f",
   "metadata": {},
   "outputs": [],
   "source": [
    "# n2 = (1/np.sqrt(2)) * (np.random.randn(N) + 1j * (np.random.randn(N)))"
   ]
  },
  {
   "cell_type": "code",
   "execution_count": 28,
   "id": "f6412501",
   "metadata": {},
   "outputs": [],
   "source": [
    "# n3 = (1/np.sqrt(2)) * (np.random.randn(N) + 1j * (np.random.randn(N)))"
   ]
  },
  {
   "cell_type": "code",
   "execution_count": 29,
   "id": "a08c3dc5",
   "metadata": {},
   "outputs": [],
   "source": [
    "for ii in range(len(eb_no_db)):\n",
    "    \n",
    "    h0 = (1/np.sqrt(2)) * (np.random.randn(N) + 1j * (np.random.randn(N)))\n",
    "    \n",
    "    h1 = (1/np.sqrt(2)) * (np.random.randn(N) + 1j * (np.random.randn(N)))\n",
    "    \n",
    "    h2 = (1/np.sqrt(2)) * (np.random.randn(N) + 1j * (np.random.randn(N)))\n",
    "    \n",
    "    h3 = (1/np.sqrt(2)) * (np.random.randn(N) + 1j * (np.random.randn(N)))\n",
    "    \n",
    "    n0 = (1/np.sqrt(2)) * (np.random.randn(N) + 1j * (np.random.randn(N)))\n",
    "    \n",
    "    n1 = (1/np.sqrt(2)) * (np.random.randn(N) + 1j * (np.random.randn(N)))\n",
    "    \n",
    "    n2 = (1/np.sqrt(2)) * (np.random.randn(N) + 1j * (np.random.randn(N)))\n",
    "    \n",
    "    n3 = (1/np.sqrt(2)) * (np.random.randn(N) + 1j * (np.random.randn(N)))\n",
    "    \n",
    "    \n",
    "    r0 = h0 * s + 10 ** (-eb_no_db[ii] / 20) * n0\n",
    "    \n",
    "    r1 = h1 * s + 10 ** (-eb_no_db[ii] / 20) * n1\n",
    "    \n",
    "    r2 = h2 * s + 10 ** (-eb_no_db[ii] / 20) * n2\n",
    "    \n",
    "    r3 = h3 * s + 10 ** (-eb_no_db[ii] / 20) * n3\n",
    "    \n",
    "    #combining scheme\n",
    "    \n",
    "    s_tilde = np.conj(h0) * r0 + np.conj(h1) * r1 + np.conj(h2) * r2 + np.conj(h3) * r3\n",
    "    \n",
    "    #normalization\n",
    "    \n",
    "    s_tilde = s_tilde / (np.abs(h0)**2 + np.abs(h1)**2 + np.abs(h2)**2 + np.abs(h3)**2)\n",
    "    \n",
    "    received_bits = np.real(s_tilde) >= 0 \n",
    "    \n",
    "    nErr = np.sum(received_bits != ip)\n",
    "    \n",
    "    total_error[ii] =  nErr\n",
    "    \n",
    "   \n",
    "    "
   ]
  },
  {
   "cell_type": "code",
   "execution_count": 30,
   "id": "0c1b5d7e",
   "metadata": {},
   "outputs": [],
   "source": [
    "ber = total_error / N"
   ]
  },
  {
   "cell_type": "code",
   "execution_count": 31,
   "id": "ee823723",
   "metadata": {},
   "outputs": [
    {
     "name": "stdout",
     "output_type": "stream",
     "text": [
      "[1.1207e-02 6.5320e-03 3.6760e-03 1.9520e-03 9.7200e-04 5.2500e-04\n",
      " 2.5300e-04 9.4000e-05 4.9000e-05 1.9000e-05 1.0000e-05 5.0000e-06\n",
      " 0.0000e+00 1.0000e-06 0.0000e+00 0.0000e+00 0.0000e+00 0.0000e+00\n",
      " 0.0000e+00 0.0000e+00 0.0000e+00 0.0000e+00 0.0000e+00 0.0000e+00\n",
      " 0.0000e+00]\n"
     ]
    }
   ],
   "source": [
    "print(ber)"
   ]
  },
  {
   "cell_type": "code",
   "execution_count": 32,
   "id": "8fdfa426",
   "metadata": {},
   "outputs": [
    {
     "data": {
      "image/png": "[encoded data removed]",
      "text/plain": [
       "<Figure size 432x288 with 1 Axes>"
      ]
     },
     "metadata": {
      "needs_background": "light"
     },
     "output_type": "display_data"
    }
   ],
   "source": [
    "plt.figure()\n",
    "plt.semilogy(eb_no_db, ber, 'ks-', linewidth=2)\n",
    "plt.xlabel('SNR (dB)')\n",
    "plt.ylabel('Bit Error Rate (BER)')\n",
    "plt.title('BER vs. SNR in BPSK modulation with Alamouti STBC')\n",
    "plt.grid(True)\n",
    "plt.show()"
   ]
  },
  {
   "cell_type": "code",
   "execution_count": null,
   "id": "0044914c",
   "metadata": {},
   "outputs": [],
   "source": []
  },
  {
   "cell_type": "code",
   "execution_count": null,
   "id": "8738b101",
   "metadata": {},
   "outputs": [],
   "source": []
  },
  {
   "cell_type": "code",
   "execution_count": null,
   "id": "c881d6ed",
   "metadata": {},
   "outputs": [],
   "source": []
  },
  {
   "cell_type": "code",
   "execution_count": null,
   "id": "2a9ad28f",
   "metadata": {},
   "outputs": [],
   "source": []
  },
  {
   "cell_type": "code",
   "execution_count": null,
   "id": "cf843b55",
   "metadata": {},
   "outputs": [],
   "source": []
  }
 ],
 "metadata": {
  "kernelspec": {
   "display_name": "Python 3 (ipykernel)",
   "language": "python",
   "name": "python3"
  },
  "language_info": {
   "codemirror_mode": {
    "name": "ipython",
    "version": 3
   },
   "file_extension": ".py",
   "mimetype": "text/x-python",
   "name": "python",
   "nbconvert_exporter": "python",
   "pygments_lexer": "ipython3",
   "version": "3.9.12"
  }
 },
 "nbformat": 4,
 "nbformat_minor": 5
}
