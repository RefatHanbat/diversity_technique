{
 "cells": [
  {
   "cell_type": "markdown",
   "metadata": {
    "id": "DkaVtKhpLCpJ"
   },
   "source": [
    "# **Loading Libraries**"
   ]
  },
  {
   "cell_type": "code",
   "execution_count": null,
   "metadata": {
    "id": "VWzhOePiIwJq"
   },
   "outputs": [],
   "source": [
    "import numpy as np\n",
    "import pandas as pd\n",
    "import matplotlib.pyplot as plt\n",
    "import tensorflow as tf"
   ]
  },
  {
   "cell_type": "markdown",
   "metadata": {
    "id": "RkmTd3CaLK8L"
   },
   "source": [
    "# **Generate random message**"
   ]
  },
  {
   "cell_type": "code",
   "execution_count": null,
   "metadata": {
    "id": "0giTMyS1LBwG"
   },
   "outputs": [],
   "source": [
    "def message_gen(dataset_size):\n",
    "  m = np.zeros((dataset_size, 11))\n",
    "  for i in range(dataset_size):\n",
    "    m[i] = np.array(np.random.randint(0, 2, size=11))\n",
    "  return m"
   ]
  },
  {
   "cell_type": "code",
   "execution_count": null,
   "metadata": {
    "id": "Cqipqdtg0caI"
   },
   "outputs": [],
   "source": [
    "dataset_size = 5\n",
    "Data = message_gen(dataset_size)\n",
    "print(Data)"
   ]
  },
  {
   "cell_type": "markdown",
   "metadata": {
    "id": "N5rDvHM6LXn3"
   },
   "source": [
    "# **Encoding (15,11) Hamming code**\n",
    "Define the generator matrix and parity check matrix and encode the message"
   ]
  },
  {
   "cell_type": "code",
   "execution_count": null,
   "metadata": {
    "id": "5H9rS46VLi0d"
   },
   "outputs": [],
   "source": [
    "# encoding function\n",
    "def encoding(m):\n",
    "    dataset_size = m.shape[0]\n",
    "    G = np.array([\n",
    "      [1,0,0,0,0,0,0,0,0,0,0,1,1,1,1],\n",
    "      [0,1,0,0,0,0,0,0,0,0,0,0,1,1,1],\n",
    "      [0,0,1,0,0,0,0,0,0,0,0,1,0,1,1],\n",
    "      [0,0,0,1,0,0,0,0,0,0,0,1,1,0,1],\n",
    "      [0,0,0,0,1,0,0,0,0,0,0,1,1,1,0],\n",
    "      [0,0,0,0,0,1,0,0,0,0,0,0,0,1,1],\n",
    "      [0,0,0,0,0,0,1,0,0,0,0,0,1,0,1],\n",
    "      [0,0,0,0,0,0,0,1,0,0,0,0,1,1,0],\n",
    "      [0,0,0,0,0,0,0,0,1,0,0,1,0,1,0],\n",
    "      [0,0,0,0,0,0,0,0,0,1,0,1,0,0,1],\n",
    "      [0,0,0,0,0,0,0,0,0,0,1,1,1,0,0]\n",
    "    ])\n",
    "\n",
    "    c = np.dot(m, G)\n",
    "    c = c % 2\n",
    "\n",
    "    m_modified = np.zeros(dataset_size)\n",
    "    for i in range(dataset_size):\n",
    "      m_modified[i] += m[i][0]*1024 + m[i][1]*512 + m[i][2]*256 + m[i][3]*128 + m[i][4]*64 + m[i][5]*32 + m[i][6]*16 + m[i][7]*8 + m[i][8]*4 + m[i][9]*2 + m[i][10]\n",
    "\n",
    "    m_modified = np.asarray(m_modified, dtype = 'int')\n",
    "    return c, m_modified"
   ]
  },
  {
   "cell_type": "code",
   "execution_count": null,
   "metadata": {
    "colab": {
     "base_uri": "https://localhost:8080/"
    },
    "id": "phehhgJg1Upm",
    "outputId": "94b3fd35-08c6-4f6a-8005-f649f31fa409"
   },
   "outputs": [
    {
     "name": "stdout",
     "output_type": "stream",
     "text": [
      "[[1. 0. 0. 1. 0. 0. 1. 1. 0. 1. 1.]\n",
      " [0. 1. 0. 1. 0. 1. 0. 0. 1. 0. 1.]\n",
      " [1. 0. 0. 1. 1. 0. 0. 1. 0. 0. 0.]\n",
      " [0. 1. 0. 1. 1. 1. 1. 0. 0. 0. 0.]\n",
      " [1. 1. 0. 0. 0. 1. 0. 0. 0. 0. 1.]]\n",
      "[[1. 0. 0. 1. 0. 0. 1. 1. 0. 1. 1. 0. 1. 0. 0.]\n",
      " [0. 1. 0. 1. 0. 1. 0. 0. 1. 0. 1. 1. 1. 1. 1.]\n",
      " [1. 0. 0. 1. 1. 0. 0. 1. 0. 0. 0. 1. 0. 1. 0.]\n",
      " [0. 1. 0. 1. 1. 1. 1. 0. 0. 0. 0. 0. 0. 1. 0.]\n",
      " [1. 1. 0. 0. 0. 1. 0. 0. 0. 0. 1. 0. 1. 1. 1.]]\n",
      "[1179  677 1224  752 1569]\n"
     ]
    }
   ],
   "source": [
    "dataset_size = 5\n",
    "Data = message_gen(dataset_size)\n",
    "print(Data)\n",
    "\n",
    "code, m_data = encoding(Data)\n",
    "print(code)\n",
    "print(m_data)\n"
   ]
  },
  {
   "cell_type": "markdown",
   "metadata": {
    "id": "0BScd_NtLrNg"
   },
   "source": [
    "# **Modulation (BPSK)**"
   ]
  },
  {
   "cell_type": "code",
   "execution_count": null,
   "metadata": {
    "id": "obwCfpAZL2O9"
   },
   "outputs": [],
   "source": [
    "def modulation(c,SNR):\n",
    "  # type your own code\n",
    "  # assign the signal power based on the given SNR\n",
    "  # implement the BPSK modulation\n",
    "  N0 = 1\n",
    "  P = (10 ** (SNR/10) )* N0\n",
    "  x = np.zeros(c.shape)\n",
    "  for i, code in enumerate(c):\n",
    "    x[i] = np.sqrt(P)*(2*code-1)\n",
    "  return x"
   ]
  },
  {
   "cell_type": "code",
   "execution_count": null,
   "metadata": {
    "colab": {
     "base_uri": "https://localhost:8080/"
    },
    "id": "1FBbmsyt2gnu",
    "outputId": "2a97c5e8-4753-4996-c30b-881ff20db8aa"
   },
   "outputs": [
    {
     "name": "stdout",
     "output_type": "stream",
     "text": [
      "[[0. 1. 0. 0. 0. 1. 0. 0. 0. 0. 0.]\n",
      " [0. 1. 0. 0. 1. 1. 1. 0. 0. 1. 0.]\n",
      " [1. 1. 0. 1. 1. 0. 1. 0. 0. 0. 0.]\n",
      " [0. 0. 1. 0. 0. 1. 0. 1. 1. 0. 0.]\n",
      " [1. 1. 0. 0. 1. 0. 0. 0. 0. 1. 1.]]\n",
      "[[0. 1. 0. 0. 0. 1. 0. 0. 0. 0. 0. 0. 1. 0. 0.]\n",
      " [0. 1. 0. 0. 1. 1. 1. 0. 0. 1. 0. 0. 1. 1. 0.]\n",
      " [1. 1. 0. 1. 1. 0. 1. 0. 0. 0. 0. 1. 1. 1. 0.]\n",
      " [0. 0. 1. 0. 0. 1. 0. 1. 1. 0. 0. 0. 1. 0. 0.]\n",
      " [1. 1. 0. 0. 1. 0. 0. 0. 0. 1. 1. 0. 0. 1. 1.]]\n",
      "[ 544  626 1744  300 1603]\n",
      "[[-1.77827941  1.77827941 -1.77827941 -1.77827941 -1.77827941  1.77827941\n",
      "  -1.77827941 -1.77827941 -1.77827941 -1.77827941 -1.77827941 -1.77827941\n",
      "   1.77827941 -1.77827941 -1.77827941]\n",
      " [-1.77827941  1.77827941 -1.77827941 -1.77827941  1.77827941  1.77827941\n",
      "   1.77827941 -1.77827941 -1.77827941  1.77827941 -1.77827941 -1.77827941\n",
      "   1.77827941  1.77827941 -1.77827941]\n",
      " [ 1.77827941  1.77827941 -1.77827941  1.77827941  1.77827941 -1.77827941\n",
      "   1.77827941 -1.77827941 -1.77827941 -1.77827941 -1.77827941  1.77827941\n",
      "   1.77827941  1.77827941 -1.77827941]\n",
      " [-1.77827941 -1.77827941  1.77827941 -1.77827941 -1.77827941  1.77827941\n",
      "  -1.77827941  1.77827941  1.77827941 -1.77827941 -1.77827941 -1.77827941\n",
      "   1.77827941 -1.77827941 -1.77827941]\n",
      " [ 1.77827941  1.77827941 -1.77827941 -1.77827941  1.77827941 -1.77827941\n",
      "  -1.77827941 -1.77827941 -1.77827941  1.77827941  1.77827941 -1.77827941\n",
      "  -1.77827941  1.77827941  1.77827941]]\n"
     ]
    }
   ],
   "source": [
    "dataset_size = 5\n",
    "Data = message_gen(dataset_size)\n",
    "print(Data)\n",
    "\n",
    "code, m_data = encoding(Data)\n",
    "print(code)\n",
    "print(m_data)\n",
    "\n",
    "SNR = 5;\n",
    "modulated = modulation(code,SNR)\n",
    "print(modulated)\n",
    "\n"
   ]
  },
  {
   "cell_type": "markdown",
   "metadata": {
    "id": "Febk_fK5MGfc"
   },
   "source": [
    "# **AWGN channel**"
   ]
  },
  {
   "cell_type": "code",
   "execution_count": null,
   "metadata": {
    "id": "M7_Pw2ceMMgZ"
   },
   "outputs": [],
   "source": [
    "def AWGN_Channel(x):\n",
    "  # assign the normalized noise\n",
    "  # return the receive signal y by transmitted signal x plus the noise n\n",
    "  N0 = 1\n",
    "  sigma = np.sqrt(N0/2)\n",
    "  y = np.zeros(x.shape)\n",
    "  for i in range(y.shape[0]):\n",
    "    y[i] = x[i] + np.random.normal(0, sigma, x[i].shape)\n",
    "  return y"
   ]
  },
  {
   "cell_type": "code",
   "execution_count": null,
   "metadata": {
    "colab": {
     "base_uri": "https://localhost:8080/"
    },
    "id": "lvlycfFL35ou",
    "outputId": "66c2da6e-24a4-4be1-b979-763d6f563ea3"
   },
   "outputs": [
    {
     "name": "stdout",
     "output_type": "stream",
     "text": [
      "[[1. 1. 0. 0. 0. 0. 0. 0. 0. 1. 1.]\n",
      " [0. 1. 0. 1. 1. 1. 0. 0. 1. 1. 1.]\n",
      " [1. 0. 1. 1. 1. 1. 1. 1. 0. 1. 1.]\n",
      " [0. 0. 0. 1. 0. 1. 0. 1. 1. 0. 0.]\n",
      " [1. 0. 0. 1. 0. 1. 0. 0. 1. 0. 1.]]\n",
      "[[1. 1. 0. 0. 0. 0. 0. 0. 0. 1. 1. 1. 1. 0. 1.]\n",
      " [0. 1. 0. 1. 1. 1. 0. 0. 1. 1. 1. 1. 0. 0. 0.]\n",
      " [1. 0. 1. 1. 1. 1. 1. 1. 0. 1. 1. 0. 0. 1. 0.]\n",
      " [0. 0. 0. 1. 0. 1. 0. 1. 1. 0. 0. 0. 0. 1. 0.]\n",
      " [1. 0. 0. 1. 0. 1. 0. 0. 1. 0. 1. 0. 1. 1. 1.]]\n",
      "[1539  743 1531  172 1189]\n",
      "[[ 1.  1. -1. -1. -1. -1. -1. -1. -1.  1.  1.  1.  1. -1.  1.]\n",
      " [-1.  1. -1.  1.  1.  1. -1. -1.  1.  1.  1.  1. -1. -1. -1.]\n",
      " [ 1. -1.  1.  1.  1.  1.  1.  1. -1.  1.  1. -1. -1.  1. -1.]\n",
      " [-1. -1. -1.  1. -1.  1. -1.  1.  1. -1. -1. -1. -1.  1. -1.]\n",
      " [ 1. -1. -1.  1. -1.  1. -1. -1.  1. -1.  1. -1.  1.  1.  1.]]\n",
      "[[ 1.21764713  1.03772931 -2.27189098 -1.79454811 -1.39934216 -0.85852955\n",
      "  -1.1897449  -0.56124408 -1.28969692  1.56390419  0.75402296  1.69605207\n",
      "   1.39737989 -1.17298607  2.05049392]\n",
      " [-1.56989078  1.35644346 -0.26940434  1.60118934  0.65741586  0.51681239\n",
      "  -0.97288651 -0.59856776 -0.25843475  0.31368502  0.76147348 -0.20169893\n",
      "  -1.69893933 -2.12313817 -1.17274323]\n",
      " [ 0.64215147 -0.54303332  0.20657458  0.66420001  1.59297092  1.73460966\n",
      "  -0.37838142  1.63278741 -0.505592   -0.15875125  0.71813135 -2.31881581\n",
      "  -0.93781545  0.51207156  0.07459674]\n",
      " [-0.63041547 -1.65139738 -2.68120055  1.26113931 -1.43232897  1.0601292\n",
      "  -1.94357319  0.60435534 -0.2880434  -0.28759417 -1.09759439 -0.94550325\n",
      "  -0.61876957  0.6650932  -0.0634756 ]\n",
      " [ 0.93348883 -0.15219896 -0.50719455  0.8488319  -0.99725988  1.00023075\n",
      "  -1.99205913 -0.8421309   1.38889001 -1.49425855  1.86797325 -0.67363918\n",
      "   2.31954364  0.59723404  1.35871488]]\n"
     ]
    }
   ],
   "source": [
    "dataset_size = 5\n",
    "Data = message_gen(dataset_size)\n",
    "print(Data)\n",
    "\n",
    "code, m_data = encoding(Data)\n",
    "print(code)\n",
    "print(m_data)\n",
    "\n",
    "SNR = 0;\n",
    "modulated = modulation(code,SNR)\n",
    "print(modulated)\n",
    "\n",
    "rec = AWGN_Channel(modulated)\n",
    "print(rec)"
   ]
  },
  {
   "cell_type": "markdown",
   "metadata": {
    "id": "d7425SOeMqRV"
   },
   "source": [
    "# **Splitting data into training and testing**"
   ]
  },
  {
   "cell_type": "code",
   "execution_count": null,
   "metadata": {
    "id": "BoEPZEvGMr0Z"
   },
   "outputs": [],
   "source": [
    "def splitting_data(y,m,rate,file_size):\n",
    "  train_size = round(file_size*rate)\n",
    "  test_size = file_size - train_size\n",
    "  train_y = y[0:train_size,:]\n",
    "  train_m = m[0:train_size]\n",
    "  test_y = y[train_size:file_size,:]\n",
    "  test_m = m[train_size:file_size]\n",
    "  return train_y, train_m, test_y, test_m, train_size, test_size"
   ]
  },
  {
   "cell_type": "code",
   "execution_count": null,
   "metadata": {
    "colab": {
     "base_uri": "https://localhost:8080/"
    },
    "id": "6HjfWHpo4_lh",
    "outputId": "9c64141b-54b3-4528-9846-df4e5676abbd"
   },
   "outputs": [
    {
     "name": "stdout",
     "output_type": "stream",
     "text": [
      "[[0. 0. 1. 1. 0. 0. 1. 1. 0. 0. 0.]\n",
      " [0. 0. 1. 1. 1. 1. 1. 1. 1. 0. 1.]\n",
      " [1. 1. 1. 1. 1. 1. 1. 1. 0. 1. 0.]\n",
      " [0. 0. 1. 0. 0. 1. 0. 1. 0. 0. 1.]\n",
      " [0. 0. 0. 1. 1. 0. 0. 1. 0. 0. 0.]\n",
      " [1. 0. 1. 0. 0. 1. 0. 0. 1. 1. 0.]\n",
      " [0. 1. 1. 0. 0. 0. 0. 1. 1. 0. 1.]\n",
      " [1. 1. 1. 1. 0. 0. 1. 1. 0. 1. 0.]\n",
      " [0. 1. 1. 1. 1. 0. 0. 1. 0. 0. 0.]\n",
      " [0. 0. 1. 0. 1. 0. 1. 1. 0. 0. 0.]\n",
      " [1. 1. 1. 0. 1. 0. 0. 1. 0. 0. 0.]\n",
      " [0. 1. 1. 0. 1. 0. 1. 0. 0. 0. 1.]\n",
      " [1. 1. 1. 1. 1. 1. 0. 0. 0. 0. 0.]\n",
      " [1. 1. 1. 0. 1. 1. 0. 1. 1. 1. 0.]\n",
      " [1. 0. 1. 1. 1. 1. 1. 0. 0. 0. 0.]\n",
      " [0. 0. 0. 1. 1. 0. 0. 1. 0. 1. 1.]\n",
      " [0. 0. 1. 0. 1. 1. 1. 0. 1. 0. 0.]\n",
      " [1. 0. 1. 1. 0. 0. 1. 0. 1. 0. 1.]\n",
      " [0. 1. 0. 0. 0. 1. 0. 1. 0. 0. 1.]\n",
      " [1. 1. 0. 0. 1. 1. 1. 1. 1. 0. 1.]]\n",
      "[[0. 0. 1. 1. 0. 0. 1. 1. 0. 0. 0. 0. 1. 0. 1.]\n",
      " [0. 0. 1. 1. 1. 1. 1. 1. 1. 0. 1. 1. 1. 1. 0.]\n",
      " [1. 1. 1. 1. 1. 1. 1. 1. 0. 1. 0. 1. 0. 0. 1.]\n",
      " [0. 0. 1. 0. 0. 1. 0. 1. 0. 0. 1. 0. 0. 1. 0.]\n",
      " [0. 0. 0. 1. 1. 0. 0. 1. 0. 0. 0. 0. 1. 0. 1.]\n",
      " [1. 0. 1. 0. 0. 1. 0. 0. 1. 1. 0. 0. 1. 0. 0.]\n",
      " [0. 1. 1. 0. 0. 0. 0. 1. 1. 0. 1. 1. 1. 0. 0.]\n",
      " [1. 1. 1. 1. 0. 0. 1. 1. 0. 1. 0. 0. 1. 0. 0.]\n",
      " [0. 1. 1. 1. 1. 0. 0. 1. 0. 0. 0. 1. 0. 0. 1.]\n",
      " [0. 0. 1. 0. 1. 0. 1. 1. 0. 0. 0. 0. 1. 1. 0.]\n",
      " [1. 1. 1. 0. 1. 0. 0. 1. 0. 0. 0. 1. 0. 1. 1.]\n",
      " [0. 1. 1. 0. 1. 0. 1. 0. 0. 0. 1. 1. 0. 1. 1.]\n",
      " [1. 1. 1. 1. 1. 1. 0. 0. 0. 0. 0. 0. 0. 1. 1.]\n",
      " [1. 1. 1. 0. 1. 1. 0. 1. 1. 1. 0. 1. 0. 1. 1.]\n",
      " [1. 0. 1. 1. 1. 1. 1. 0. 0. 0. 0. 0. 0. 0. 1.]\n",
      " [0. 0. 0. 1. 1. 0. 0. 1. 0. 1. 1. 0. 0. 0. 0.]\n",
      " [0. 0. 1. 0. 1. 1. 1. 0. 1. 0. 0. 1. 0. 0. 1.]\n",
      " [1. 0. 1. 1. 0. 0. 1. 0. 1. 0. 1. 1. 0. 1. 0.]\n",
      " [0. 1. 0. 0. 0. 1. 0. 1. 0. 0. 1. 1. 1. 1. 0.]\n",
      " [1. 1. 0. 0. 1. 1. 1. 1. 1. 0. 1. 0. 0. 0. 0.]]\n",
      "[ 408  509 2042  297  200 1318  781 1946  968  344 1864  849 2016 1902\n",
      " 1520  203  372 1429  553 1661]\n",
      "[[-1. -1.  1.  1. -1. -1.  1.  1. -1. -1. -1. -1.  1. -1.  1.]\n",
      " [-1. -1.  1.  1.  1.  1.  1.  1.  1. -1.  1.  1.  1.  1. -1.]\n",
      " [ 1.  1.  1.  1.  1.  1.  1.  1. -1.  1. -1.  1. -1. -1.  1.]\n",
      " [-1. -1.  1. -1. -1.  1. -1.  1. -1. -1.  1. -1. -1.  1. -1.]\n",
      " [-1. -1. -1.  1.  1. -1. -1.  1. -1. -1. -1. -1.  1. -1.  1.]\n",
      " [ 1. -1.  1. -1. -1.  1. -1. -1.  1.  1. -1. -1.  1. -1. -1.]\n",
      " [-1.  1.  1. -1. -1. -1. -1.  1.  1. -1.  1.  1.  1. -1. -1.]\n",
      " [ 1.  1.  1.  1. -1. -1.  1.  1. -1.  1. -1. -1.  1. -1. -1.]\n",
      " [-1.  1.  1.  1.  1. -1. -1.  1. -1. -1. -1.  1. -1. -1.  1.]\n",
      " [-1. -1.  1. -1.  1. -1.  1.  1. -1. -1. -1. -1.  1.  1. -1.]\n",
      " [ 1.  1.  1. -1.  1. -1. -1.  1. -1. -1. -1.  1. -1.  1.  1.]\n",
      " [-1.  1.  1. -1.  1. -1.  1. -1. -1. -1.  1.  1. -1.  1.  1.]\n",
      " [ 1.  1.  1.  1.  1.  1. -1. -1. -1. -1. -1. -1. -1.  1.  1.]\n",
      " [ 1.  1.  1. -1.  1.  1. -1.  1.  1.  1. -1.  1. -1.  1.  1.]\n",
      " [ 1. -1.  1.  1.  1.  1.  1. -1. -1. -1. -1. -1. -1. -1.  1.]\n",
      " [-1. -1. -1.  1.  1. -1. -1.  1. -1.  1.  1. -1. -1. -1. -1.]\n",
      " [-1. -1.  1. -1.  1.  1.  1. -1.  1. -1. -1.  1. -1. -1.  1.]\n",
      " [ 1. -1.  1.  1. -1. -1.  1. -1.  1. -1.  1.  1. -1.  1. -1.]\n",
      " [-1.  1. -1. -1. -1.  1. -1.  1. -1. -1.  1.  1.  1.  1. -1.]\n",
      " [ 1.  1. -1. -1.  1.  1.  1.  1.  1. -1.  1. -1. -1. -1. -1.]]\n",
      "[[-0.64006338 -1.48135228 -0.02182701  0.77831253 -0.54682417 -0.71463009\n",
      "   1.24923807  2.59743513 -2.08568324 -0.7814675  -1.51717217 -0.7272718\n",
      "   1.58728179 -1.21792767  1.35312062]\n",
      " [-1.22864222 -0.43936441  1.0562331   1.46826277  2.64773908  1.20356882\n",
      "  -0.06295458  0.13746705  0.42916925 -1.42966895  1.3468813   0.13694825\n",
      "   0.90546376  0.18761255 -0.77807848]\n",
      " [ 0.6186179   1.43292774  1.50083605  0.92790168  0.86317536  1.07583866\n",
      "  -0.52260564 -0.49486493 -1.57538969  2.16748547 -0.55205148  1.26171313\n",
      "  -1.4436003  -1.00071114  0.2929327 ]\n",
      " [-0.87294772 -0.52688937  0.70068616 -2.41225153 -0.78969479  0.92560954\n",
      "  -1.09951142  0.289686   -0.98703268 -0.39109521  0.05905299 -1.40889369\n",
      "  -1.44243887  2.26470812  0.25063231]\n",
      " [-0.70783226 -1.30746353 -2.91276912  0.06781024  1.98840431  0.03291974\n",
      "  -1.39795175  0.6708112   0.4327434  -1.29718714 -0.96616391 -0.12410778\n",
      "   0.14400518 -1.1988231   0.84215531]\n",
      " [-0.94789388 -1.58960647  1.25781161 -0.49888046 -0.61804317  0.93684325\n",
      "  -1.25243947 -1.45050625  2.18982351 -0.40689939 -1.94203996 -1.79562039\n",
      "   0.66551042 -0.86513652  0.07168376]\n",
      " [-1.57618639  0.20572745 -0.10085317 -1.23891923 -0.86578144 -2.1589128\n",
      "  -0.87487584  1.33944779  0.35125162 -1.63918906 -0.15099513  1.36042647\n",
      "   1.42018978 -0.93719523 -1.4481493 ]\n",
      " [ 2.21102502  1.41293718  0.71647542  1.55568879 -1.42864606 -1.72934723\n",
      "   0.16926608  0.56302514 -1.02313462  0.96377645 -0.36805383 -0.58461108\n",
      "   1.74501969 -1.48011044 -1.3871939 ]\n",
      " [-0.42552724  2.73109537 -0.01021218  1.37282708  1.0616508  -0.62109898\n",
      "  -1.09816579  0.15804292 -1.32059147  0.19061097 -1.5355726   0.61508615\n",
      "  -0.78104549 -0.06324104  0.88683891]\n",
      " [-0.86425574 -1.49775794  2.05070607 -0.46039424  0.6567761  -1.762107\n",
      "   0.91750322  1.93873028 -1.85376364 -1.11178845 -0.96316124 -0.58126254\n",
      "   0.73228558  0.90200617 -0.49134453]\n",
      " [ 1.67891937  0.79409563  1.01608136 -2.55500903  1.3464359  -1.28057756\n",
      "  -1.21297704  1.70831471 -1.29894625 -2.04995353 -0.39355365  1.42159776\n",
      "  -1.82820828  1.17584162 -0.19715974]\n",
      " [-0.57312273  0.33012154  0.93679703  0.34695802  0.59389852 -2.32119471\n",
      "   0.09313441 -1.67217237 -0.56623281 -0.87906192  2.00177339  0.01536746\n",
      "  -1.56119708  1.95333054 -0.45658669]\n",
      " [ 0.82854453  1.73013843  1.1462124   0.23929213 -0.32128242  2.24001816\n",
      "  -1.67601301 -0.2922926  -1.44847056 -1.17747821 -2.91551762 -1.98430535\n",
      "  -0.37068649  2.92804525  1.66766095]\n",
      " [ 1.04311209  1.04699808  1.00138033 -1.00331958  0.77629387  1.22759924\n",
      "  -1.04664234  0.35757739  0.12796194  0.47874351 -1.26402124  1.50047571\n",
      "  -1.13574036  1.58087614  0.53660167]]\n",
      "[ 408  509 2042  297  200 1318  781 1946  968  344 1864  849 2016 1902]\n",
      "6\n"
     ]
    }
   ],
   "source": [
    "dataset_size = 20\n",
    "Data = message_gen(dataset_size)\n",
    "print(Data)\n",
    "\n",
    "code, m_data = encoding(Data)\n",
    "#print(code)\n",
    "print(m_data)\n",
    "\n",
    "SNR = 0;\n",
    "modulated = modulation(code,SNR)\n",
    "#print(modulated)\n",
    "\n",
    "rec = AWGN_Channel(modulated)\n",
    "# print(rec)\n",
    "\n",
    "train_y, train_m, test_y, test_m, train_size, test_size = splitting_data(rec,m_data,0.7,20)\n",
    "print(train_y)\n",
    "print(train_m)\n",
    "print(test_size)"
   ]
  },
  {
   "cell_type": "code",
   "execution_count": null,
   "metadata": {
    "colab": {
     "base_uri": "https://localhost:8080/"
    },
    "id": "y-3_CiP_TMUP",
    "outputId": "1c28c953-e28e-4ed0-9fb2-b673db4f7623"
   },
   "outputs": [
    {
     "name": "stdout",
     "output_type": "stream",
     "text": [
      "[[-0.64006338 -1.48135228 -0.02182701  0.77831253 -0.54682417 -0.71463009\n",
      "   1.24923807  2.59743513 -2.08568324 -0.7814675  -1.51717217 -0.7272718\n",
      "   1.58728179 -1.21792767  1.35312062]\n",
      " [-1.22864222 -0.43936441  1.0562331   1.46826277  2.64773908  1.20356882\n",
      "  -0.06295458  0.13746705  0.42916925 -1.42966895  1.3468813   0.13694825\n",
      "   0.90546376  0.18761255 -0.77807848]\n",
      " [ 0.6186179   1.43292774  1.50083605  0.92790168  0.86317536  1.07583866\n",
      "  -0.52260564 -0.49486493 -1.57538969  2.16748547 -0.55205148  1.26171313\n",
      "  -1.4436003  -1.00071114  0.2929327 ]\n",
      " [-0.87294772 -0.52688937  0.70068616 -2.41225153 -0.78969479  0.92560954\n",
      "  -1.09951142  0.289686   -0.98703268 -0.39109521  0.05905299 -1.40889369\n",
      "  -1.44243887  2.26470812  0.25063231]\n",
      " [-0.70783226 -1.30746353 -2.91276912  0.06781024  1.98840431  0.03291974\n",
      "  -1.39795175  0.6708112   0.4327434  -1.29718714 -0.96616391 -0.12410778\n",
      "   0.14400518 -1.1988231   0.84215531]\n",
      " [-0.94789388 -1.58960647  1.25781161 -0.49888046 -0.61804317  0.93684325\n",
      "  -1.25243947 -1.45050625  2.18982351 -0.40689939 -1.94203996 -1.79562039\n",
      "   0.66551042 -0.86513652  0.07168376]\n",
      " [-1.57618639  0.20572745 -0.10085317 -1.23891923 -0.86578144 -2.1589128\n",
      "  -0.87487584  1.33944779  0.35125162 -1.63918906 -0.15099513  1.36042647\n",
      "   1.42018978 -0.93719523 -1.4481493 ]\n",
      " [ 2.21102502  1.41293718  0.71647542  1.55568879 -1.42864606 -1.72934723\n",
      "   0.16926608  0.56302514 -1.02313462  0.96377645 -0.36805383 -0.58461108\n",
      "   1.74501969 -1.48011044 -1.3871939 ]\n",
      " [-0.42552724  2.73109537 -0.01021218  1.37282708  1.0616508  -0.62109898\n",
      "  -1.09816579  0.15804292 -1.32059147  0.19061097 -1.5355726   0.61508615\n",
      "  -0.78104549 -0.06324104  0.88683891]\n",
      " [-0.86425574 -1.49775794  2.05070607 -0.46039424  0.6567761  -1.762107\n",
      "   0.91750322  1.93873028 -1.85376364 -1.11178845 -0.96316124 -0.58126254\n",
      "   0.73228558  0.90200617 -0.49134453]\n",
      " [ 1.67891937  0.79409563  1.01608136 -2.55500903  1.3464359  -1.28057756\n",
      "  -1.21297704  1.70831471 -1.29894625 -2.04995353 -0.39355365  1.42159776\n",
      "  -1.82820828  1.17584162 -0.19715974]\n",
      " [-0.57312273  0.33012154  0.93679703  0.34695802  0.59389852 -2.32119471\n",
      "   0.09313441 -1.67217237 -0.56623281 -0.87906192  2.00177339  0.01536746\n",
      "  -1.56119708  1.95333054 -0.45658669]\n",
      " [ 0.82854453  1.73013843  1.1462124   0.23929213 -0.32128242  2.24001816\n",
      "  -1.67601301 -0.2922926  -1.44847056 -1.17747821 -2.91551762 -1.98430535\n",
      "  -0.37068649  2.92804525  1.66766095]\n",
      " [ 1.04311209  1.04699808  1.00138033 -1.00331958  0.77629387  1.22759924\n",
      "  -1.04664234  0.35757739  0.12796194  0.47874351 -1.26402124  1.50047571\n",
      "  -1.13574036  1.58087614  0.53660167]]\n"
     ]
    }
   ],
   "source": [
    "print(train_y)"
   ]
  },
  {
   "cell_type": "markdown",
   "metadata": {
    "id": "AmO4YC8_M37-"
   },
   "source": [
    "# Compiling the model"
   ]
  },
  {
   "cell_type": "code",
   "execution_count": null,
   "metadata": {
    "id": "4w79usIEM5UN"
   },
   "outputs": [],
   "source": [
    "def model_compile(SNR):\n",
    "    learning_rate = 0.001/(SNR**1.8+1)\n",
    "    opt = tf.keras.optimizers.Adam(learning_rate=learning_rate)\n",
    "\n",
    "    model = tf.keras.models.Sequential()\n",
    "    model.add(tf.keras.layers.Dense(128, activation='relu', input_shape=(15,)))\n",
    "    model.add(tf.keras.layers.Dense(256, activation='relu'))\n",
    "    model.add(tf.keras.layers.Dense(2048, activation='sigmoid'))\n",
    "\n",
    "    model.compile(optimizer=opt, loss='binary_crossentropy', metrics=['accuracy'])\n",
    "\n",
    "    return model"
   ]
  },
  {
   "cell_type": "markdown",
   "metadata": {
    "id": "H8KbWu2ZNITk"
   },
   "source": [
    "# **Calculate BLER**"
   ]
  },
  {
   "cell_type": "code",
   "execution_count": null,
   "metadata": {
    "id": "YY4bJUgYNJob"
   },
   "outputs": [],
   "source": [
    "def caculate_error(m_hat,m_class):\n",
    "  BLER = np.mean(np.not_equal(m_hat, m_class))\n",
    "  return BLER"
   ]
  },
  {
   "cell_type": "markdown",
   "metadata": {
    "id": "P_4WBwGmNneo"
   },
   "source": [
    "# Main Function"
   ]
  },
  {
   "cell_type": "code",
   "execution_count": null,
   "metadata": {
    "colab": {
     "base_uri": "https://localhost:8080/",
     "height": 1000
    },
    "id": "aR3eF8J0Ns_m",
    "outputId": "51a90d4e-e049-45c9-d084-bdb66895dc16"
   },
   "outputs": [
    {
     "name": "stdout",
     "output_type": "stream",
     "text": [
      "Epoch 1/25\n",
      "1750/1750 [==============================] - 31s 17ms/step - loss: 0.0090 - accuracy: 0.0259 - val_loss: 0.0031 - val_accuracy: 0.1363\n",
      "Epoch 2/25\n",
      "1750/1750 [==============================] - 29s 16ms/step - loss: 0.0019 - accuracy: 0.4150 - val_loss: 0.0013 - val_accuracy: 0.5801\n",
      "Epoch 3/25\n",
      "1750/1750 [==============================] - 28s 16ms/step - loss: 0.0010 - accuracy: 0.6606 - val_loss: 0.0011 - val_accuracy: 0.6473\n",
      "Epoch 4/25\n",
      "1750/1750 [==============================] - 28s 16ms/step - loss: 9.0231e-04 - accuracy: 0.7119 - val_loss: 9.9657e-04 - val_accuracy: 0.6696\n",
      "Epoch 5/25\n",
      "1750/1750 [==============================] - 28s 16ms/step - loss: 8.3308e-04 - accuracy: 0.7389 - val_loss: 9.8375e-04 - val_accuracy: 0.6767\n",
      "Epoch 6/25\n",
      "1750/1750 [==============================] - 29s 16ms/step - loss: 7.7359e-04 - accuracy: 0.7604 - val_loss: 9.8742e-04 - val_accuracy: 0.6777\n",
      "Epoch 7/25\n",
      "1750/1750 [==============================] - 27s 16ms/step - loss: 7.2316e-04 - accuracy: 0.7758 - val_loss: 9.7021e-04 - val_accuracy: 0.6856\n",
      "Epoch 8/25\n",
      "1750/1750 [==============================] - 30s 17ms/step - loss: 6.7311e-04 - accuracy: 0.7939 - val_loss: 9.7595e-04 - val_accuracy: 0.6916\n",
      "Epoch 9/25\n",
      "1750/1750 [==============================] - 30s 17ms/step - loss: 6.2053e-04 - accuracy: 0.8152 - val_loss: 9.8717e-04 - val_accuracy: 0.6864\n",
      "Epoch 10/25\n",
      "1750/1750 [==============================] - 29s 16ms/step - loss: 5.7182e-04 - accuracy: 0.8324 - val_loss: 9.8627e-04 - val_accuracy: 0.6929\n",
      "Epoch 11/25\n",
      "1750/1750 [==============================] - 28s 16ms/step - loss: 5.2651e-04 - accuracy: 0.8493 - val_loss: 0.0010 - val_accuracy: 0.6918\n",
      "Epoch 12/25\n",
      "1750/1750 [==============================] - 28s 16ms/step - loss: 4.8511e-04 - accuracy: 0.8664 - val_loss: 0.0010 - val_accuracy: 0.6863\n",
      "Epoch 13/25\n",
      "1750/1750 [==============================] - 28s 16ms/step - loss: 4.4303e-04 - accuracy: 0.8827 - val_loss: 0.0011 - val_accuracy: 0.6850\n",
      "Epoch 14/25\n",
      "1750/1750 [==============================] - 27s 16ms/step - loss: 4.0423e-04 - accuracy: 0.8973 - val_loss: 0.0011 - val_accuracy: 0.6850\n",
      "Epoch 15/25\n",
      "1750/1750 [==============================] - 29s 16ms/step - loss: 3.6853e-04 - accuracy: 0.9109 - val_loss: 0.0012 - val_accuracy: 0.6801\n",
      "Epoch 16/25\n",
      "1750/1750 [==============================] - 29s 17ms/step - loss: 3.3368e-04 - accuracy: 0.9233 - val_loss: 0.0012 - val_accuracy: 0.6825\n",
      "Epoch 17/25\n",
      "1750/1750 [==============================] - 31s 17ms/step - loss: 3.0588e-04 - accuracy: 0.9334 - val_loss: 0.0013 - val_accuracy: 0.6792\n",
      "Epoch 18/25\n",
      "1750/1750 [==============================] - 28s 16ms/step - loss: 2.7559e-04 - accuracy: 0.9451 - val_loss: 0.0013 - val_accuracy: 0.6786\n",
      "Epoch 19/25\n",
      "1750/1750 [==============================] - 29s 16ms/step - loss: 2.4825e-04 - accuracy: 0.9547 - val_loss: 0.0014 - val_accuracy: 0.6720\n",
      "Epoch 20/25\n",
      "1750/1750 [==============================] - 28s 16ms/step - loss: 2.2555e-04 - accuracy: 0.9606 - val_loss: 0.0015 - val_accuracy: 0.6761\n",
      "Epoch 21/25\n",
      "1750/1750 [==============================] - 28s 16ms/step - loss: 2.0642e-04 - accuracy: 0.9662 - val_loss: 0.0015 - val_accuracy: 0.6722\n",
      "Epoch 22/25\n",
      "1750/1750 [==============================] - 29s 16ms/step - loss: 1.8759e-04 - accuracy: 0.9728 - val_loss: 0.0016 - val_accuracy: 0.6741\n",
      "Epoch 23/25\n",
      "1750/1750 [==============================] - 28s 16ms/step - loss: 1.7037e-04 - accuracy: 0.9759 - val_loss: 0.0017 - val_accuracy: 0.6693\n",
      "Epoch 24/25\n",
      "1750/1750 [==============================] - 28s 16ms/step - loss: 1.5491e-04 - accuracy: 0.9816 - val_loss: 0.0017 - val_accuracy: 0.6681\n",
      "Epoch 25/25\n",
      "1750/1750 [==============================] - 28s 16ms/step - loss: 1.4215e-04 - accuracy: 0.9830 - val_loss: 0.0018 - val_accuracy: 0.6647\n"
     ]
    },
    {
     "data": {
      "image/png": "[encoded data removed]",
      "text/plain": [
       "<Figure size 640x480 with 1 Axes>"
      ]
     },
     "metadata": {},
     "output_type": "display_data"
    },
    {
     "name": "stdout",
     "output_type": "stream",
     "text": [
      "938/938 [==============================] - 4s 4ms/step\n",
      "BLER:  0.32986666666666664\n",
      "0 / 3\n",
      "Epoch 1/50\n",
      "1750/1750 [==============================] - 29s 16ms/step - loss: 0.0219 - accuracy: 0.0023 - val_loss: 0.0043 - val_accuracy: 0.0076\n",
      "Epoch 2/50\n",
      "1750/1750 [==============================] - 30s 17ms/step - loss: 0.0042 - accuracy: 0.0252 - val_loss: 0.0039 - val_accuracy: 0.0771\n",
      "Epoch 3/50\n",
      "1750/1750 [==============================] - 31s 17ms/step - loss: 0.0034 - accuracy: 0.2054 - val_loss: 0.0027 - val_accuracy: 0.3757\n",
      "Epoch 4/50\n",
      "1750/1750 [==============================] - 28s 16ms/step - loss: 0.0018 - accuracy: 0.6586 - val_loss: 0.0011 - val_accuracy: 0.8349\n",
      "Epoch 5/50\n",
      "1750/1750 [==============================] - 28s 16ms/step - loss: 6.6907e-04 - accuracy: 0.9058 - val_loss: 5.1556e-04 - val_accuracy: 0.9077\n",
      "Epoch 6/50\n",
      "1750/1750 [==============================] - 30s 17ms/step - loss: 3.7553e-04 - accuracy: 0.9417 - val_loss: 3.9882e-04 - val_accuracy: 0.9178\n",
      "Epoch 7/50\n",
      "1750/1750 [==============================] - 28s 16ms/step - loss: 2.8837e-04 - accuracy: 0.9529 - val_loss: 3.5989e-04 - val_accuracy: 0.9242\n",
      "Epoch 8/50\n",
      "1750/1750 [==============================] - 29s 17ms/step - loss: 2.4525e-04 - accuracy: 0.9611 - val_loss: 3.6439e-04 - val_accuracy: 0.9170\n",
      "Epoch 9/50\n",
      "1750/1750 [==============================] - 30s 17ms/step - loss: 2.1893e-04 - accuracy: 0.9661 - val_loss: 3.5251e-04 - val_accuracy: 0.9213\n",
      "Epoch 10/50\n",
      "1750/1750 [==============================] - 28s 16ms/step - loss: 1.9847e-04 - accuracy: 0.9705 - val_loss: 3.5762e-04 - val_accuracy: 0.9199\n",
      "Epoch 11/50\n",
      "1750/1750 [==============================] - 28s 16ms/step - loss: 1.8397e-04 - accuracy: 0.9737 - val_loss: 3.5980e-04 - val_accuracy: 0.9187\n",
      "Epoch 12/50\n",
      "1750/1750 [==============================] - 30s 17ms/step - loss: 1.6993e-04 - accuracy: 0.9760 - val_loss: 3.5897e-04 - val_accuracy: 0.9214\n",
      "Epoch 13/50\n",
      "1750/1750 [==============================] - 30s 17ms/step - loss: 1.6060e-04 - accuracy: 0.9780 - val_loss: 3.6299e-04 - val_accuracy: 0.9214\n",
      "Epoch 14/50\n",
      "1750/1750 [==============================] - 28s 16ms/step - loss: 1.4991e-04 - accuracy: 0.9809 - val_loss: 3.7096e-04 - val_accuracy: 0.9195\n",
      "Epoch 15/50\n",
      "1750/1750 [==============================] - 30s 17ms/step - loss: 1.3952e-04 - accuracy: 0.9829 - val_loss: 3.7522e-04 - val_accuracy: 0.9206\n",
      "Epoch 16/50\n",
      "1750/1750 [==============================] - 29s 16ms/step - loss: 1.3124e-04 - accuracy: 0.9844 - val_loss: 3.8282e-04 - val_accuracy: 0.9196\n",
      "Epoch 17/50\n",
      "1750/1750 [==============================] - 29s 16ms/step - loss: 1.2500e-04 - accuracy: 0.9856 - val_loss: 3.8383e-04 - val_accuracy: 0.9204\n",
      "Epoch 18/50\n",
      "1750/1750 [==============================] - 30s 17ms/step - loss: 1.1679e-04 - accuracy: 0.9871 - val_loss: 3.9413e-04 - val_accuracy: 0.9159\n",
      "Epoch 19/50\n",
      "1750/1750 [==============================] - 29s 17ms/step - loss: 1.1140e-04 - accuracy: 0.9874 - val_loss: 3.9289e-04 - val_accuracy: 0.9182\n",
      "Epoch 20/50\n",
      "1750/1750 [==============================] - 28s 16ms/step - loss: 1.0319e-04 - accuracy: 0.9900 - val_loss: 4.1107e-04 - val_accuracy: 0.9189\n",
      "Epoch 21/50\n",
      "1750/1750 [==============================] - 30s 17ms/step - loss: 9.9148e-05 - accuracy: 0.9901 - val_loss: 4.0592e-04 - val_accuracy: 0.9185\n",
      "Epoch 22/50\n",
      "1750/1750 [==============================] - 28s 16ms/step - loss: 9.2827e-05 - accuracy: 0.9907 - val_loss: 4.1247e-04 - val_accuracy: 0.9184\n",
      "Epoch 23/50\n",
      "1750/1750 [==============================] - 30s 17ms/step - loss: 8.7920e-05 - accuracy: 0.9920 - val_loss: 4.2488e-04 - val_accuracy: 0.9166\n",
      "Epoch 24/50\n",
      "1750/1750 [==============================] - 28s 16ms/step - loss: 8.2499e-05 - accuracy: 0.9925 - val_loss: 4.2984e-04 - val_accuracy: 0.9172\n",
      "Epoch 25/50\n",
      "1750/1750 [==============================] - 28s 16ms/step - loss: 7.8321e-05 - accuracy: 0.9927 - val_loss: 4.3144e-04 - val_accuracy: 0.9201\n",
      "Epoch 26/50\n",
      "1750/1750 [==============================] - 30s 17ms/step - loss: 7.2425e-05 - accuracy: 0.9942 - val_loss: 4.4562e-04 - val_accuracy: 0.9171\n",
      "Epoch 27/50\n",
      "1750/1750 [==============================] - 28s 16ms/step - loss: 7.1080e-05 - accuracy: 0.9941 - val_loss: 4.4522e-04 - val_accuracy: 0.9171\n",
      "Epoch 28/50\n",
      "1750/1750 [==============================] - 30s 17ms/step - loss: 6.5585e-05 - accuracy: 0.9953 - val_loss: 4.5436e-04 - val_accuracy: 0.9174\n",
      "Epoch 29/50\n",
      "1750/1750 [==============================] - 29s 16ms/step - loss: 6.3110e-05 - accuracy: 0.9953 - val_loss: 4.5631e-04 - val_accuracy: 0.9158\n",
      "Epoch 30/50\n",
      "1750/1750 [==============================] - 29s 17ms/step - loss: 5.8606e-05 - accuracy: 0.9961 - val_loss: 4.6530e-04 - val_accuracy: 0.9156\n",
      "Epoch 31/50\n",
      "1750/1750 [==============================] - 31s 18ms/step - loss: 5.6315e-05 - accuracy: 0.9962 - val_loss: 4.6857e-04 - val_accuracy: 0.9170\n",
      "Epoch 32/50\n",
      "1750/1750 [==============================] - 29s 17ms/step - loss: 5.3052e-05 - accuracy: 0.9965 - val_loss: 4.7675e-04 - val_accuracy: 0.9190\n",
      "Epoch 33/50\n",
      "1750/1750 [==============================] - 29s 17ms/step - loss: 5.0295e-05 - accuracy: 0.9971 - val_loss: 4.7562e-04 - val_accuracy: 0.9169\n",
      "Epoch 34/50\n",
      "1750/1750 [==============================] - 28s 16ms/step - loss: 4.7124e-05 - accuracy: 0.9970 - val_loss: 4.7854e-04 - val_accuracy: 0.9191\n",
      "Epoch 35/50\n",
      "1750/1750 [==============================] - 30s 17ms/step - loss: 4.5175e-05 - accuracy: 0.9973 - val_loss: 4.8391e-04 - val_accuracy: 0.9179\n",
      "Epoch 36/50\n",
      "1750/1750 [==============================] - 30s 17ms/step - loss: 4.1892e-05 - accuracy: 0.9979 - val_loss: 4.9477e-04 - val_accuracy: 0.9198\n",
      "Epoch 37/50\n",
      "1750/1750 [==============================] - 29s 16ms/step - loss: 3.9400e-05 - accuracy: 0.9981 - val_loss: 5.0094e-04 - val_accuracy: 0.9166\n",
      "Epoch 38/50\n",
      "1750/1750 [==============================] - 29s 17ms/step - loss: 3.7588e-05 - accuracy: 0.9984 - val_loss: 5.1122e-04 - val_accuracy: 0.9176\n",
      "Epoch 39/50\n",
      "1750/1750 [==============================] - 29s 16ms/step - loss: 3.6713e-05 - accuracy: 0.9983 - val_loss: 5.1528e-04 - val_accuracy: 0.9134\n",
      "Epoch 40/50\n",
      "1750/1750 [==============================] - 28s 16ms/step - loss: 3.3232e-05 - accuracy: 0.9988 - val_loss: 5.2041e-04 - val_accuracy: 0.9148\n",
      "Epoch 41/50\n",
      "1750/1750 [==============================] - 30s 17ms/step - loss: 3.2209e-05 - accuracy: 0.9984 - val_loss: 5.3200e-04 - val_accuracy: 0.9169\n",
      "Epoch 42/50\n",
      "1750/1750 [==============================] - 30s 17ms/step - loss: 3.0961e-05 - accuracy: 0.9987 - val_loss: 5.2164e-04 - val_accuracy: 0.9190\n",
      "Epoch 43/50\n",
      "1750/1750 [==============================] - 28s 16ms/step - loss: 2.8378e-05 - accuracy: 0.9990 - val_loss: 5.2857e-04 - val_accuracy: 0.9172\n",
      "Epoch 44/50\n",
      "1750/1750 [==============================] - 30s 17ms/step - loss: 2.7852e-05 - accuracy: 0.9992 - val_loss: 5.3704e-04 - val_accuracy: 0.9184\n",
      "Epoch 45/50\n",
      "1750/1750 [==============================] - 28s 16ms/step - loss: 2.5618e-05 - accuracy: 0.9990 - val_loss: 5.4771e-04 - val_accuracy: 0.9187\n",
      "Epoch 46/50\n",
      "1750/1750 [==============================] - 28s 16ms/step - loss: 2.4504e-05 - accuracy: 0.9992 - val_loss: 5.3622e-04 - val_accuracy: 0.9205\n",
      "Epoch 47/50\n",
      "1750/1750 [==============================] - 29s 17ms/step - loss: 2.3572e-05 - accuracy: 0.9992 - val_loss: 5.4994e-04 - val_accuracy: 0.9165\n",
      "Epoch 48/50\n",
      "1750/1750 [==============================] - 30s 17ms/step - loss: 2.2583e-05 - accuracy: 0.9994 - val_loss: 5.5909e-04 - val_accuracy: 0.9179\n",
      "Epoch 49/50\n",
      "1750/1750 [==============================] - 28s 16ms/step - loss: 2.1609e-05 - accuracy: 0.9994 - val_loss: 5.5543e-04 - val_accuracy: 0.9190\n",
      "Epoch 50/50\n",
      "1750/1750 [==============================] - 29s 17ms/step - loss: 2.0632e-05 - accuracy: 0.9995 - val_loss: 5.6241e-04 - val_accuracy: 0.9175\n"
     ]
    },
    {
     "data": {
      "image/png": "[encoded data removed]",
      "text/plain": [
       "<Figure size 640x480 with 1 Axes>"
      ]
     },
     "metadata": {},
     "output_type": "display_data"
    },
    {
     "name": "stdout",
     "output_type": "stream",
     "text": [
      "938/938 [==============================] - 3s 3ms/step\n",
      "BLER:  0.07956666666666666\n",
      "1 / 3\n",
      "Epoch 1/50\n",
      "1750/1750 [==============================] - 33s 19ms/step - loss: 0.0484 - accuracy: 8.2143e-04 - val_loss: 0.0044 - val_accuracy: 0.0017\n",
      "Epoch 2/50\n",
      "1750/1750 [==============================] - 27s 16ms/step - loss: 0.0043 - accuracy: 0.0061 - val_loss: 0.0043 - val_accuracy: 0.0127\n",
      "Epoch 3/50\n",
      "1750/1750 [==============================] - 26s 15ms/step - loss: 0.0042 - accuracy: 0.0282 - val_loss: 0.0041 - val_accuracy: 0.0445\n",
      "Epoch 4/50\n",
      "1750/1750 [==============================] - 29s 16ms/step - loss: 0.0039 - accuracy: 0.1069 - val_loss: 0.0037 - val_accuracy: 0.1759\n",
      "Epoch 5/50\n",
      "1750/1750 [==============================] - 29s 17ms/step - loss: 0.0033 - accuracy: 0.3201 - val_loss: 0.0028 - val_accuracy: 0.4517\n",
      "Epoch 6/50\n",
      "1750/1750 [==============================] - 29s 17ms/step - loss: 0.0023 - accuracy: 0.6523 - val_loss: 0.0018 - val_accuracy: 0.7724\n",
      "Epoch 7/50\n",
      "1750/1750 [==============================] - 29s 16ms/step - loss: 0.0013 - accuracy: 0.9003 - val_loss: 9.0384e-04 - val_accuracy: 0.9519\n",
      "Epoch 8/50\n",
      "1750/1750 [==============================] - 29s 17ms/step - loss: 5.6897e-04 - accuracy: 0.9826 - val_loss: 4.0335e-04 - val_accuracy: 0.9874\n",
      "Epoch 9/50\n",
      "1750/1750 [==============================] - 29s 16ms/step - loss: 2.6465e-04 - accuracy: 0.9939 - val_loss: 2.2556e-04 - val_accuracy: 0.9916\n",
      "Epoch 10/50\n",
      "1750/1750 [==============================] - 29s 16ms/step - loss: 1.5382e-04 - accuracy: 0.9962 - val_loss: 1.5693e-04 - val_accuracy: 0.9929\n",
      "Epoch 11/50\n",
      "1750/1750 [==============================] - 28s 16ms/step - loss: 1.0424e-04 - accuracy: 0.9974 - val_loss: 1.2317e-04 - val_accuracy: 0.9929\n",
      "Epoch 12/50\n",
      "1750/1750 [==============================] - 28s 16ms/step - loss: 7.7298e-05 - accuracy: 0.9983 - val_loss: 1.0332e-04 - val_accuracy: 0.9937\n",
      "Epoch 13/50\n",
      "1750/1750 [==============================] - 28s 16ms/step - loss: 6.0192e-05 - accuracy: 0.9988 - val_loss: 9.2571e-05 - val_accuracy: 0.9937\n",
      "Epoch 14/50\n",
      "1750/1750 [==============================] - 30s 17ms/step - loss: 4.8719e-05 - accuracy: 0.9992 - val_loss: 8.4489e-05 - val_accuracy: 0.9934\n",
      "Epoch 15/50\n",
      "1750/1750 [==============================] - 28s 16ms/step - loss: 4.0419e-05 - accuracy: 0.9995 - val_loss: 7.8708e-05 - val_accuracy: 0.9943\n",
      "Epoch 16/50\n",
      "1750/1750 [==============================] - 30s 17ms/step - loss: 3.3650e-05 - accuracy: 0.9996 - val_loss: 7.5031e-05 - val_accuracy: 0.9941\n",
      "Epoch 17/50\n",
      "1750/1750 [==============================] - 28s 16ms/step - loss: 2.8598e-05 - accuracy: 0.9998 - val_loss: 7.1033e-05 - val_accuracy: 0.9946\n",
      "Epoch 18/50\n",
      "1750/1750 [==============================] - 30s 17ms/step - loss: 2.4534e-05 - accuracy: 0.9998 - val_loss: 7.1252e-05 - val_accuracy: 0.9938\n",
      "Epoch 19/50\n",
      "1750/1750 [==============================] - 28s 16ms/step - loss: 2.1316e-05 - accuracy: 0.9999 - val_loss: 6.8999e-05 - val_accuracy: 0.9948\n",
      "Epoch 20/50\n",
      "1750/1750 [==============================] - 30s 17ms/step - loss: 1.8497e-05 - accuracy: 0.9999 - val_loss: 6.6076e-05 - val_accuracy: 0.9941\n",
      "Epoch 21/50\n",
      "1750/1750 [==============================] - 31s 18ms/step - loss: 1.6353e-05 - accuracy: 0.9999 - val_loss: 6.5212e-05 - val_accuracy: 0.9948\n",
      "Epoch 22/50\n",
      "1750/1750 [==============================] - 28s 16ms/step - loss: 1.4310e-05 - accuracy: 0.9999 - val_loss: 6.5153e-05 - val_accuracy: 0.9940\n",
      "Epoch 23/50\n",
      "1750/1750 [==============================] - 28s 16ms/step - loss: 1.2718e-05 - accuracy: 0.9999 - val_loss: 6.4112e-05 - val_accuracy: 0.9938\n",
      "Epoch 24/50\n",
      "1750/1750 [==============================] - 29s 17ms/step - loss: 1.1244e-05 - accuracy: 1.0000 - val_loss: 6.5262e-05 - val_accuracy: 0.9940\n",
      "Epoch 25/50\n",
      "1750/1750 [==============================] - 30s 17ms/step - loss: 1.0089e-05 - accuracy: 1.0000 - val_loss: 6.3049e-05 - val_accuracy: 0.9939\n",
      "Epoch 26/50\n",
      "1750/1750 [==============================] - 28s 16ms/step - loss: 9.0672e-06 - accuracy: 1.0000 - val_loss: 6.2932e-05 - val_accuracy: 0.9953\n",
      "Epoch 27/50\n",
      "1750/1750 [==============================] - 30s 17ms/step - loss: 8.1084e-06 - accuracy: 1.0000 - val_loss: 6.2934e-05 - val_accuracy: 0.9943\n",
      "Epoch 28/50\n",
      "1750/1750 [==============================] - 28s 16ms/step - loss: 7.4021e-06 - accuracy: 1.0000 - val_loss: 6.4560e-05 - val_accuracy: 0.9943\n",
      "Epoch 29/50\n",
      "1750/1750 [==============================] - 30s 17ms/step - loss: 6.6619e-06 - accuracy: 1.0000 - val_loss: 6.2753e-05 - val_accuracy: 0.9947\n",
      "Epoch 30/50\n",
      "1750/1750 [==============================] - 27s 16ms/step - loss: 5.9123e-06 - accuracy: 1.0000 - val_loss: 6.3395e-05 - val_accuracy: 0.9946\n",
      "Epoch 31/50\n",
      "1750/1750 [==============================] - 30s 17ms/step - loss: 5.4585e-06 - accuracy: 1.0000 - val_loss: 6.4168e-05 - val_accuracy: 0.9942\n",
      "Epoch 32/50\n",
      "1750/1750 [==============================] - 30s 17ms/step - loss: 4.9769e-06 - accuracy: 1.0000 - val_loss: 6.2380e-05 - val_accuracy: 0.9944\n",
      "Epoch 33/50\n",
      "1750/1750 [==============================] - 28s 16ms/step - loss: 4.5508e-06 - accuracy: 1.0000 - val_loss: 6.5255e-05 - val_accuracy: 0.9944\n",
      "Epoch 34/50\n",
      "1750/1750 [==============================] - 30s 17ms/step - loss: 4.1248e-06 - accuracy: 1.0000 - val_loss: 6.3417e-05 - val_accuracy: 0.9946\n",
      "Epoch 35/50\n",
      "1750/1750 [==============================] - 28s 16ms/step - loss: 3.8466e-06 - accuracy: 1.0000 - val_loss: 6.2669e-05 - val_accuracy: 0.9946\n",
      "Epoch 36/50\n",
      "1750/1750 [==============================] - 30s 17ms/step - loss: 3.4170e-06 - accuracy: 1.0000 - val_loss: 6.3821e-05 - val_accuracy: 0.9949\n",
      "Epoch 37/50\n",
      "1750/1750 [==============================] - 28s 16ms/step - loss: 3.2485e-06 - accuracy: 1.0000 - val_loss: 6.3932e-05 - val_accuracy: 0.9939\n",
      "Epoch 38/50\n",
      "1750/1750 [==============================] - 28s 16ms/step - loss: 2.9646e-06 - accuracy: 1.0000 - val_loss: 6.3920e-05 - val_accuracy: 0.9944\n",
      "Epoch 39/50\n",
      "1750/1750 [==============================] - 31s 17ms/step - loss: 2.6899e-06 - accuracy: 1.0000 - val_loss: 6.5171e-05 - val_accuracy: 0.9941\n",
      "Epoch 40/50\n",
      "1750/1750 [==============================] - 28s 16ms/step - loss: 2.5031e-06 - accuracy: 1.0000 - val_loss: 6.4156e-05 - val_accuracy: 0.9945\n",
      "Epoch 41/50\n",
      "1750/1750 [==============================] - 30s 17ms/step - loss: 2.2756e-06 - accuracy: 1.0000 - val_loss: 6.4051e-05 - val_accuracy: 0.9937\n",
      "Epoch 42/50\n",
      "1750/1750 [==============================] - 28s 16ms/step - loss: 2.0984e-06 - accuracy: 1.0000 - val_loss: 6.5149e-05 - val_accuracy: 0.9943\n",
      "Epoch 43/50\n",
      "1750/1750 [==============================] - 29s 17ms/step - loss: 2.0177e-06 - accuracy: 1.0000 - val_loss: 6.4874e-05 - val_accuracy: 0.9945\n",
      "Epoch 44/50\n",
      "1750/1750 [==============================] - 30s 17ms/step - loss: 1.8425e-06 - accuracy: 1.0000 - val_loss: 6.4729e-05 - val_accuracy: 0.9943\n",
      "Epoch 45/50\n",
      "1750/1750 [==============================] - 28s 16ms/step - loss: 1.7149e-06 - accuracy: 1.0000 - val_loss: 6.5676e-05 - val_accuracy: 0.9946\n",
      "Epoch 46/50\n",
      "1750/1750 [==============================] - 30s 17ms/step - loss: 1.5224e-06 - accuracy: 1.0000 - val_loss: 6.6217e-05 - val_accuracy: 0.9944\n",
      "Epoch 47/50\n",
      "1750/1750 [==============================] - 29s 16ms/step - loss: 1.4638e-06 - accuracy: 1.0000 - val_loss: 6.5342e-05 - val_accuracy: 0.9947\n",
      "Epoch 48/50\n",
      "1750/1750 [==============================] - 31s 18ms/step - loss: 1.3598e-06 - accuracy: 1.0000 - val_loss: 6.5279e-05 - val_accuracy: 0.9944\n",
      "Epoch 49/50\n",
      "1750/1750 [==============================] - 28s 16ms/step - loss: 1.2614e-06 - accuracy: 1.0000 - val_loss: 6.7264e-05 - val_accuracy: 0.9943\n",
      "Epoch 50/50\n",
      "1750/1750 [==============================] - 30s 17ms/step - loss: 1.1753e-06 - accuracy: 1.0000 - val_loss: 6.6762e-05 - val_accuracy: 0.9944\n"
     ]
    },
    {
     "data": {
      "image/png": "[encoded data removed]",
      "text/plain": [
       "<Figure size 640x480 with 1 Axes>"
      ]
     },
     "metadata": {},
     "output_type": "display_data"
    },
    {
     "name": "stdout",
     "output_type": "stream",
     "text": [
      "938/938 [==============================] - 3s 3ms/step\n",
      "BLER:  0.006866666666666667\n",
      "2 / 3\n",
      "Epoch 1/50\n",
      "1750/1750 [==============================] - 29s 16ms/step - loss: 0.0819 - accuracy: 3.5714e-04 - val_loss: 0.0046 - val_accuracy: 7.8571e-04\n",
      "Epoch 2/50\n",
      "1750/1750 [==============================] - 28s 16ms/step - loss: 0.0044 - accuracy: 0.0017 - val_loss: 0.0043 - val_accuracy: 0.0034\n",
      "Epoch 3/50\n",
      "1750/1750 [==============================] - 28s 16ms/step - loss: 0.0042 - accuracy: 0.0090 - val_loss: 0.0042 - val_accuracy: 0.0156\n",
      "Epoch 4/50\n",
      "1750/1750 [==============================] - 28s 16ms/step - loss: 0.0041 - accuracy: 0.0373 - val_loss: 0.0040 - val_accuracy: 0.0650\n",
      "Epoch 5/50\n",
      "1750/1750 [==============================] - 29s 16ms/step - loss: 0.0038 - accuracy: 0.1232 - val_loss: 0.0037 - val_accuracy: 0.1891\n",
      "Epoch 6/50\n",
      "1750/1750 [==============================] - 28s 16ms/step - loss: 0.0034 - accuracy: 0.3223 - val_loss: 0.0031 - val_accuracy: 0.4237\n",
      "Epoch 7/50\n",
      "1750/1750 [==============================] - 28s 16ms/step - loss: 0.0028 - accuracy: 0.5781 - val_loss: 0.0025 - val_accuracy: 0.6780\n",
      "Epoch 8/50\n",
      "1750/1750 [==============================] - 30s 17ms/step - loss: 0.0021 - accuracy: 0.7980 - val_loss: 0.0018 - val_accuracy: 0.8599\n",
      "Epoch 9/50\n",
      "1750/1750 [==============================] - 28s 16ms/step - loss: 0.0014 - accuracy: 0.9306 - val_loss: 0.0012 - val_accuracy: 0.9524\n",
      "Epoch 10/50\n",
      "1750/1750 [==============================] - 30s 17ms/step - loss: 8.8551e-04 - accuracy: 0.9828 - val_loss: 6.9153e-04 - val_accuracy: 0.9910\n",
      "Epoch 11/50\n",
      "1750/1750 [==============================] - 28s 16ms/step - loss: 4.7450e-04 - accuracy: 0.9975 - val_loss: 3.6138e-04 - val_accuracy: 0.9989\n",
      "Epoch 12/50\n",
      "1750/1750 [==============================] - 30s 17ms/step - loss: 2.4417e-04 - accuracy: 0.9997 - val_loss: 1.9593e-04 - val_accuracy: 0.9999\n",
      "Epoch 13/50\n",
      "1750/1750 [==============================] - 28s 16ms/step - loss: 1.3395e-04 - accuracy: 0.9999 - val_loss: 1.1695e-04 - val_accuracy: 1.0000\n",
      "Epoch 14/50\n",
      "1750/1750 [==============================] - 30s 17ms/step - loss: 8.0610e-05 - accuracy: 0.9999 - val_loss: 7.6900e-05 - val_accuracy: 0.9999\n",
      "Epoch 15/50\n",
      "1750/1750 [==============================] - 29s 17ms/step - loss: 5.2615e-05 - accuracy: 1.0000 - val_loss: 5.4530e-05 - val_accuracy: 1.0000\n",
      "Epoch 16/50\n",
      "1750/1750 [==============================] - 28s 16ms/step - loss: 3.6565e-05 - accuracy: 1.0000 - val_loss: 4.1298e-05 - val_accuracy: 1.0000\n",
      "Epoch 17/50\n",
      "1750/1750 [==============================] - 29s 17ms/step - loss: 2.6711e-05 - accuracy: 1.0000 - val_loss: 3.2477e-05 - val_accuracy: 1.0000\n",
      "Epoch 18/50\n",
      "1750/1750 [==============================] - 30s 17ms/step - loss: 2.0161e-05 - accuracy: 1.0000 - val_loss: 2.6951e-05 - val_accuracy: 0.9999\n",
      "Epoch 19/50\n",
      "1750/1750 [==============================] - 28s 16ms/step - loss: 1.5642e-05 - accuracy: 1.0000 - val_loss: 2.2952e-05 - val_accuracy: 0.9999\n",
      "Epoch 20/50\n",
      "1750/1750 [==============================] - 28s 16ms/step - loss: 1.2365e-05 - accuracy: 1.0000 - val_loss: 1.9945e-05 - val_accuracy: 0.9999\n",
      "Epoch 21/50\n",
      "1750/1750 [==============================] - 30s 17ms/step - loss: 9.9506e-06 - accuracy: 1.0000 - val_loss: 1.7463e-05 - val_accuracy: 0.9999\n",
      "Epoch 22/50\n",
      "1750/1750 [==============================] - 30s 17ms/step - loss: 8.1572e-06 - accuracy: 1.0000 - val_loss: 1.5570e-05 - val_accuracy: 0.9999\n",
      "Epoch 23/50\n",
      "1750/1750 [==============================] - 28s 16ms/step - loss: 6.7217e-06 - accuracy: 1.0000 - val_loss: 1.3898e-05 - val_accuracy: 0.9999\n",
      "Epoch 24/50\n",
      "1750/1750 [==============================] - 30s 17ms/step - loss: 5.6102e-06 - accuracy: 1.0000 - val_loss: 1.2645e-05 - val_accuracy: 0.9999\n",
      "Epoch 25/50\n",
      "1750/1750 [==============================] - 28s 16ms/step - loss: 4.7039e-06 - accuracy: 1.0000 - val_loss: 1.1828e-05 - val_accuracy: 0.9999\n",
      "Epoch 26/50\n",
      "1750/1750 [==============================] - 28s 16ms/step - loss: 3.9960e-06 - accuracy: 1.0000 - val_loss: 1.1286e-05 - val_accuracy: 0.9999\n",
      "Epoch 27/50\n",
      "1750/1750 [==============================] - 30s 17ms/step - loss: 3.4080e-06 - accuracy: 1.0000 - val_loss: 1.0320e-05 - val_accuracy: 1.0000\n",
      "Epoch 28/50\n",
      "1750/1750 [==============================] - 30s 17ms/step - loss: 2.9410e-06 - accuracy: 1.0000 - val_loss: 9.8299e-06 - val_accuracy: 0.9999\n",
      "Epoch 29/50\n",
      "1750/1750 [==============================] - 28s 16ms/step - loss: 2.5487e-06 - accuracy: 1.0000 - val_loss: 9.1784e-06 - val_accuracy: 1.0000\n",
      "Epoch 30/50\n",
      "1750/1750 [==============================] - 30s 17ms/step - loss: 2.2242e-06 - accuracy: 1.0000 - val_loss: 8.8561e-06 - val_accuracy: 0.9999\n",
      "Epoch 31/50\n",
      "1750/1750 [==============================] - 28s 16ms/step - loss: 1.9517e-06 - accuracy: 1.0000 - val_loss: 8.3653e-06 - val_accuracy: 0.9999\n",
      "Epoch 32/50\n",
      "1750/1750 [==============================] - 30s 17ms/step - loss: 1.7246e-06 - accuracy: 1.0000 - val_loss: 8.1397e-06 - val_accuracy: 0.9999\n",
      "Epoch 33/50\n",
      "1750/1750 [==============================] - 28s 16ms/step - loss: 1.5226e-06 - accuracy: 1.0000 - val_loss: 7.7986e-06 - val_accuracy: 1.0000\n",
      "Epoch 34/50\n",
      "1750/1750 [==============================] - 30s 17ms/step - loss: 1.3639e-06 - accuracy: 1.0000 - val_loss: 7.5118e-06 - val_accuracy: 1.0000\n",
      "Epoch 35/50\n",
      "1750/1750 [==============================] - 28s 16ms/step - loss: 1.2212e-06 - accuracy: 1.0000 - val_loss: 7.4093e-06 - val_accuracy: 0.9999\n",
      "Epoch 36/50\n",
      "1750/1750 [==============================] - 30s 17ms/step - loss: 1.1026e-06 - accuracy: 1.0000 - val_loss: 7.2974e-06 - val_accuracy: 0.9999\n",
      "Epoch 37/50\n",
      "1750/1750 [==============================] - 28s 16ms/step - loss: 9.9520e-07 - accuracy: 1.0000 - val_loss: 7.1679e-06 - val_accuracy: 0.9999\n",
      "Epoch 38/50\n",
      "1750/1750 [==============================] - 30s 17ms/step - loss: 9.0500e-07 - accuracy: 1.0000 - val_loss: 6.7821e-06 - val_accuracy: 0.9999\n",
      "Epoch 39/50\n",
      "1750/1750 [==============================] - 28s 16ms/step - loss: 8.2144e-07 - accuracy: 1.0000 - val_loss: 6.8053e-06 - val_accuracy: 0.9999\n",
      "Epoch 40/50\n",
      "1750/1750 [==============================] - 30s 17ms/step - loss: 7.5607e-07 - accuracy: 1.0000 - val_loss: 6.6461e-06 - val_accuracy: 0.9999\n",
      "Epoch 41/50\n",
      "1750/1750 [==============================] - 29s 16ms/step - loss: 6.9587e-07 - accuracy: 1.0000 - val_loss: 6.5575e-06 - val_accuracy: 0.9999\n",
      "Epoch 42/50\n",
      "1750/1750 [==============================] - 28s 16ms/step - loss: 6.3847e-07 - accuracy: 1.0000 - val_loss: 6.5536e-06 - val_accuracy: 1.0000\n",
      "Epoch 43/50\n",
      "1750/1750 [==============================] - 27s 15ms/step - loss: 5.9336e-07 - accuracy: 1.0000 - val_loss: 6.2834e-06 - val_accuracy: 0.9999\n",
      "Epoch 44/50\n",
      "1750/1750 [==============================] - 28s 16ms/step - loss: 5.4953e-07 - accuracy: 1.0000 - val_loss: 6.1732e-06 - val_accuracy: 0.9999\n",
      "Epoch 45/50\n",
      "1750/1750 [==============================] - 29s 17ms/step - loss: 5.0947e-07 - accuracy: 1.0000 - val_loss: 6.2190e-06 - val_accuracy: 0.9999\n",
      "Epoch 46/50\n",
      "1750/1750 [==============================] - 29s 16ms/step - loss: 4.7764e-07 - accuracy: 1.0000 - val_loss: 6.0602e-06 - val_accuracy: 0.9999\n",
      "Epoch 47/50\n",
      "1750/1750 [==============================] - 28s 16ms/step - loss: 4.4600e-07 - accuracy: 1.0000 - val_loss: 5.8765e-06 - val_accuracy: 0.9999\n",
      "Epoch 48/50\n",
      "1750/1750 [==============================] - 29s 16ms/step - loss: 4.1761e-07 - accuracy: 1.0000 - val_loss: 5.9972e-06 - val_accuracy: 0.9999\n",
      "Epoch 49/50\n",
      "1750/1750 [==============================] - 29s 16ms/step - loss: 3.9233e-07 - accuracy: 1.0000 - val_loss: 5.7807e-06 - val_accuracy: 0.9999\n",
      "Epoch 50/50\n",
      "1750/1750 [==============================] - 29s 17ms/step - loss: 3.7027e-07 - accuracy: 1.0000 - val_loss: 5.6254e-06 - val_accuracy: 0.9999\n"
     ]
    },
    {
     "data": {
      "image/png": "[encoded data removed]",
      "text/plain": [
       "<Figure size 640x480 with 1 Axes>"
      ]
     },
     "metadata": {},
     "output_type": "display_data"
    },
    {
     "name": "stdout",
     "output_type": "stream",
     "text": [
      "938/938 [==============================] - 3s 3ms/step\n",
      "BLER:  3.3333333333333335e-05\n",
      "3 / 3\n",
      "Block Error Rate: [3.29866667e-01 7.95666667e-02 6.86666667e-03 3.33333333e-05]\n"
     ]
    },
    {
     "ename": "ValueError",
     "evalue": "ignored",
     "output_type": "error",
     "traceback": [
      "\u001b[0;31m---------------------------------------------------------------------------\u001b[0m",
      "\u001b[0;31mValueError\u001b[0m                                Traceback (most recent call last)",
      "\u001b[0;32m<ipython-input-10-d7ff16643017>\u001b[0m in \u001b[0;36m<cell line: 78>\u001b[0;34m()\u001b[0m\n\u001b[1;32m     76\u001b[0m \u001b[0;34m\u001b[0m\u001b[0m\n\u001b[1;32m     77\u001b[0m \u001b[0mfig2\u001b[0m \u001b[0;34m=\u001b[0m \u001b[0mplt\u001b[0m\u001b[0;34m.\u001b[0m\u001b[0mfigure\u001b[0m\u001b[0;34m(\u001b[0m\u001b[0;36m2\u001b[0m\u001b[0;34m)\u001b[0m\u001b[0;34m\u001b[0m\u001b[0;34m\u001b[0m\u001b[0m\n\u001b[0;32m---> 78\u001b[0;31m \u001b[0mplt\u001b[0m\u001b[0;34m.\u001b[0m\u001b[0msemilogy\u001b[0m\u001b[0;34m(\u001b[0m\u001b[0mEbN0dBs\u001b[0m\u001b[0;34m,\u001b[0m\u001b[0mBLER_SymdromeDecoding\u001b[0m\u001b[0;34m[\u001b[0m\u001b[0mSNR_start\u001b[0m\u001b[0;34m:\u001b[0m\u001b[0mSNR_end\u001b[0m\u001b[0;34m+\u001b[0m\u001b[0;36m1\u001b[0m\u001b[0;34m]\u001b[0m\u001b[0;34m,\u001b[0m\u001b[0mmarker\u001b[0m\u001b[0;34m=\u001b[0m\u001b[0;34m'o'\u001b[0m\u001b[0;34m,\u001b[0m\u001b[0mlinestyle\u001b[0m\u001b[0;34m=\u001b[0m\u001b[0;34m'-'\u001b[0m\u001b[0;34m,\u001b[0m\u001b[0mlabel\u001b[0m\u001b[0;34m=\u001b[0m\u001b[0;34m'Symdrome_Decoding'\u001b[0m\u001b[0;34m)\u001b[0m\u001b[0;34m\u001b[0m\u001b[0;34m\u001b[0m\u001b[0m\n\u001b[0m\u001b[1;32m     79\u001b[0m \u001b[0;31m# plt.semilogy(EbN0dBs,BLER_SVM[SNR_start:SNR_end+1],marker='o',linestyle='-',label='SVM')\u001b[0m\u001b[0;34m\u001b[0m\u001b[0;34m\u001b[0m\u001b[0m\n\u001b[1;32m     80\u001b[0m \u001b[0mplt\u001b[0m\u001b[0;34m.\u001b[0m\u001b[0msemilogy\u001b[0m\u001b[0;34m(\u001b[0m\u001b[0mEbN0dBs\u001b[0m\u001b[0;34m,\u001b[0m\u001b[0mBLER_ML\u001b[0m\u001b[0;34m[\u001b[0m\u001b[0mSNR_start\u001b[0m\u001b[0;34m:\u001b[0m\u001b[0mSNR_end\u001b[0m\u001b[0;34m+\u001b[0m\u001b[0;36m1\u001b[0m\u001b[0;34m]\u001b[0m\u001b[0;34m,\u001b[0m\u001b[0mmarker\u001b[0m\u001b[0;34m=\u001b[0m\u001b[0;34m'o'\u001b[0m\u001b[0;34m,\u001b[0m\u001b[0mlinestyle\u001b[0m\u001b[0;34m=\u001b[0m\u001b[0;34m'-'\u001b[0m\u001b[0;34m,\u001b[0m\u001b[0mlabel\u001b[0m\u001b[0;34m=\u001b[0m\u001b[0;34m'ML_Decoding'\u001b[0m\u001b[0;34m)\u001b[0m\u001b[0;34m\u001b[0m\u001b[0;34m\u001b[0m\u001b[0m\n",
      "\u001b[0;32m/usr/local/lib/python3.10/dist-packages/matplotlib/pyplot.py\u001b[0m in \u001b[0;36msemilogy\u001b[0;34m(*args, **kwargs)\u001b[0m\n\u001b[1;32m   2878\u001b[0m \u001b[0;34m@\u001b[0m\u001b[0m_copy_docstring_and_deprecators\u001b[0m\u001b[0;34m(\u001b[0m\u001b[0mAxes\u001b[0m\u001b[0;34m.\u001b[0m\u001b[0msemilogy\u001b[0m\u001b[0;34m)\u001b[0m\u001b[0;34m\u001b[0m\u001b[0;34m\u001b[0m\u001b[0m\n\u001b[1;32m   2879\u001b[0m \u001b[0;32mdef\u001b[0m \u001b[0msemilogy\u001b[0m\u001b[0;34m(\u001b[0m\u001b[0;34m*\u001b[0m\u001b[0margs\u001b[0m\u001b[0;34m,\u001b[0m \u001b[0;34m**\u001b[0m\u001b[0mkwargs\u001b[0m\u001b[0;34m)\u001b[0m\u001b[0;34m:\u001b[0m\u001b[0;34m\u001b[0m\u001b[0;34m\u001b[0m\u001b[0m\n\u001b[0;32m-> 2880\u001b[0;31m     \u001b[0;32mreturn\u001b[0m \u001b[0mgca\u001b[0m\u001b[0;34m(\u001b[0m\u001b[0;34m)\u001b[0m\u001b[0;34m.\u001b[0m\u001b[0msemilogy\u001b[0m\u001b[0;34m(\u001b[0m\u001b[0;34m*\u001b[0m\u001b[0margs\u001b[0m\u001b[0;34m,\u001b[0m \u001b[0;34m**\u001b[0m\u001b[0mkwargs\u001b[0m\u001b[0;34m)\u001b[0m\u001b[0;34m\u001b[0m\u001b[0;34m\u001b[0m\u001b[0m\n\u001b[0m\u001b[1;32m   2881\u001b[0m \u001b[0;34m\u001b[0m\u001b[0m\n\u001b[1;32m   2882\u001b[0m \u001b[0;34m\u001b[0m\u001b[0m\n",
      "\u001b[0;32m/usr/local/lib/python3.10/dist-packages/matplotlib/axes/_axes.py\u001b[0m in \u001b[0;36msemilogy\u001b[0;34m(self, *args, **kwargs)\u001b[0m\n\u001b[1;32m   1921\u001b[0m                       'basey', 'subsy', 'nonposy']}\n\u001b[1;32m   1922\u001b[0m         \u001b[0mself\u001b[0m\u001b[0;34m.\u001b[0m\u001b[0mset_yscale\u001b[0m\u001b[0;34m(\u001b[0m\u001b[0;34m'log'\u001b[0m\u001b[0;34m,\u001b[0m \u001b[0;34m**\u001b[0m\u001b[0md\u001b[0m\u001b[0;34m)\u001b[0m\u001b[0;34m\u001b[0m\u001b[0;34m\u001b[0m\u001b[0m\n\u001b[0;32m-> 1923\u001b[0;31m         return self.plot(\n\u001b[0m\u001b[1;32m   1924\u001b[0m             *args, **{k: v for k, v in kwargs.items() if k not in d})\n\u001b[1;32m   1925\u001b[0m \u001b[0;34m\u001b[0m\u001b[0m\n",
      "\u001b[0;32m/usr/local/lib/python3.10/dist-packages/matplotlib/axes/_axes.py\u001b[0m in \u001b[0;36mplot\u001b[0;34m(self, scalex, scaley, data, *args, **kwargs)\u001b[0m\n\u001b[1;32m   1686\u001b[0m         \"\"\"\n\u001b[1;32m   1687\u001b[0m         \u001b[0mkwargs\u001b[0m \u001b[0;34m=\u001b[0m \u001b[0mcbook\u001b[0m\u001b[0;34m.\u001b[0m\u001b[0mnormalize_kwargs\u001b[0m\u001b[0;34m(\u001b[0m\u001b[0mkwargs\u001b[0m\u001b[0;34m,\u001b[0m \u001b[0mmlines\u001b[0m\u001b[0;34m.\u001b[0m\u001b[0mLine2D\u001b[0m\u001b[0;34m)\u001b[0m\u001b[0;34m\u001b[0m\u001b[0;34m\u001b[0m\u001b[0m\n\u001b[0;32m-> 1688\u001b[0;31m         \u001b[0mlines\u001b[0m \u001b[0;34m=\u001b[0m \u001b[0;34m[\u001b[0m\u001b[0;34m*\u001b[0m\u001b[0mself\u001b[0m\u001b[0;34m.\u001b[0m\u001b[0m_get_lines\u001b[0m\u001b[0;34m(\u001b[0m\u001b[0;34m*\u001b[0m\u001b[0margs\u001b[0m\u001b[0;34m,\u001b[0m \u001b[0mdata\u001b[0m\u001b[0;34m=\u001b[0m\u001b[0mdata\u001b[0m\u001b[0;34m,\u001b[0m \u001b[0;34m**\u001b[0m\u001b[0mkwargs\u001b[0m\u001b[0;34m)\u001b[0m\u001b[0;34m]\u001b[0m\u001b[0;34m\u001b[0m\u001b[0;34m\u001b[0m\u001b[0m\n\u001b[0m\u001b[1;32m   1689\u001b[0m         \u001b[0;32mfor\u001b[0m \u001b[0mline\u001b[0m \u001b[0;32min\u001b[0m \u001b[0mlines\u001b[0m\u001b[0;34m:\u001b[0m\u001b[0;34m\u001b[0m\u001b[0;34m\u001b[0m\u001b[0m\n\u001b[1;32m   1690\u001b[0m             \u001b[0mself\u001b[0m\u001b[0;34m.\u001b[0m\u001b[0madd_line\u001b[0m\u001b[0;34m(\u001b[0m\u001b[0mline\u001b[0m\u001b[0;34m)\u001b[0m\u001b[0;34m\u001b[0m\u001b[0;34m\u001b[0m\u001b[0m\n",
      "\u001b[0;32m/usr/local/lib/python3.10/dist-packages/matplotlib/axes/_base.py\u001b[0m in \u001b[0;36m__call__\u001b[0;34m(self, data, *args, **kwargs)\u001b[0m\n\u001b[1;32m    309\u001b[0m                 \u001b[0mthis\u001b[0m \u001b[0;34m+=\u001b[0m \u001b[0margs\u001b[0m\u001b[0;34m[\u001b[0m\u001b[0;36m0\u001b[0m\u001b[0;34m]\u001b[0m\u001b[0;34m,\u001b[0m\u001b[0;34m\u001b[0m\u001b[0;34m\u001b[0m\u001b[0m\n\u001b[1;32m    310\u001b[0m                 \u001b[0margs\u001b[0m \u001b[0;34m=\u001b[0m \u001b[0margs\u001b[0m\u001b[0;34m[\u001b[0m\u001b[0;36m1\u001b[0m\u001b[0;34m:\u001b[0m\u001b[0;34m]\u001b[0m\u001b[0;34m\u001b[0m\u001b[0;34m\u001b[0m\u001b[0m\n\u001b[0;32m--> 311\u001b[0;31m             yield from self._plot_args(\n\u001b[0m\u001b[1;32m    312\u001b[0m                 this, kwargs, ambiguous_fmt_datakey=ambiguous_fmt_datakey)\n\u001b[1;32m    313\u001b[0m \u001b[0;34m\u001b[0m\u001b[0m\n",
      "\u001b[0;32m/usr/local/lib/python3.10/dist-packages/matplotlib/axes/_base.py\u001b[0m in \u001b[0;36m_plot_args\u001b[0;34m(self, tup, kwargs, return_kwargs, ambiguous_fmt_datakey)\u001b[0m\n\u001b[1;32m    502\u001b[0m \u001b[0;34m\u001b[0m\u001b[0m\n\u001b[1;32m    503\u001b[0m         \u001b[0;32mif\u001b[0m \u001b[0mx\u001b[0m\u001b[0;34m.\u001b[0m\u001b[0mshape\u001b[0m\u001b[0;34m[\u001b[0m\u001b[0;36m0\u001b[0m\u001b[0;34m]\u001b[0m \u001b[0;34m!=\u001b[0m \u001b[0my\u001b[0m\u001b[0;34m.\u001b[0m\u001b[0mshape\u001b[0m\u001b[0;34m[\u001b[0m\u001b[0;36m0\u001b[0m\u001b[0;34m]\u001b[0m\u001b[0;34m:\u001b[0m\u001b[0;34m\u001b[0m\u001b[0;34m\u001b[0m\u001b[0m\n\u001b[0;32m--> 504\u001b[0;31m             raise ValueError(f\"x and y must have same first dimension, but \"\n\u001b[0m\u001b[1;32m    505\u001b[0m                              f\"have shapes {x.shape} and {y.shape}\")\n\u001b[1;32m    506\u001b[0m         \u001b[0;32mif\u001b[0m \u001b[0mx\u001b[0m\u001b[0;34m.\u001b[0m\u001b[0mndim\u001b[0m \u001b[0;34m>\u001b[0m \u001b[0;36m2\u001b[0m \u001b[0;32mor\u001b[0m \u001b[0my\u001b[0m\u001b[0;34m.\u001b[0m\u001b[0mndim\u001b[0m \u001b[0;34m>\u001b[0m \u001b[0;36m2\u001b[0m\u001b[0;34m:\u001b[0m\u001b[0;34m\u001b[0m\u001b[0;34m\u001b[0m\u001b[0m\n",
      "\u001b[0;31mValueError\u001b[0m: x and y must have same first dimension, but have shapes (4,) and (7,)"
     ]
    },
    {
     "data": {
      "image/png": "[encoded data removed]",
      "text/plain": [
       "<Figure size 640x480 with 1 Axes>"
      ]
     },
     "metadata": {},
     "output_type": "display_data"
    },
    {
     "data": {
      "image/png": "[encoded data removed]",
      "text/plain": [
       "<Figure size 640x480 with 1 Axes>"
      ]
     },
     "metadata": {},
     "output_type": "display_data"
    }
   ],
   "source": [
    "SNR_start = 0\n",
    "SNR_end = 6\n",
    "step_size = 2\n",
    "SNR = np.arange(SNR_start,SNR_end+1,step_size)\n",
    "length_SNR = len(SNR)\n",
    "BLER = np.zeros(length_SNR)\n",
    "rate = 0.7 # training data rate\n",
    "datasetsize4SNR = np.array([1e5, 1e5, 1e5, 1e5, 1e5, 1e5, 3e5, 8e5, 8e5],dtype=int)\n",
    "for i in range(length_SNR):\n",
    "  #------------------------------------#\n",
    "  # transmitter part\n",
    "  #------------------------------------#\n",
    "  # generate message\n",
    "  message = message_gen(datasetsize4SNR[i])\n",
    "  # generate codeword\n",
    "  c, m = encoding(message)\n",
    "  # BPSK modulation\n",
    "  x = modulation(c, SNR[i])\n",
    "  # go through AWGN channel\n",
    "  y = AWGN_Channel(x)\n",
    "\n",
    "  #------------------------------------#\n",
    "  # receiver part\n",
    "  #------------------------------------#\n",
    "  # decoding by deep learning\n",
    "  # split data\n",
    "  [train_y,train_m,test_y,test_m,train_size,test_size] = splitting_data(y,m,rate,datasetsize4SNR[i])\n",
    "\n",
    "  # define model\n",
    "  unique_category_count = 2048\n",
    "  train_m_OneHot=tf.one_hot(train_m, unique_category_count)\n",
    "  #test_m_OneHot=tf.one_hot(test_m, unique_category_count)\n",
    "\n",
    "  model = model_compile(SNR[i])\n",
    "\n",
    "  if i >= 4:\n",
    "    num_epochs = 30\n",
    "  elif i >= 1:\n",
    "    num_epochs = 50\n",
    "  else:\n",
    "    num_epochs = 25\n",
    "\n",
    "  # training and fitting model\n",
    "  history = model.fit(train_y, train_m_OneHot, epochs=num_epochs, validation_split=0.2)\n",
    "  # predict by the model\n",
    "  plt.plot(history.history['accuracy'])\n",
    "  plt.plot(history.history['val_accuracy'])\n",
    "  plt.legend(['training', 'validation'], loc = 'upper left')\n",
    "  plt.show()\n",
    "\n",
    "  pred = model.predict(test_y)\n",
    "  pred_m = np.argmax(pred, axis=1)\n",
    "\n",
    "  # calculate error\n",
    "  BLER[i] = caculate_error(pred_m, test_m)\n",
    "  # predict model\n",
    "\n",
    "  # calculate BLER\n",
    "\n",
    "  #BLER[i] = err/test_size\n",
    "  print(\"BLER: \",BLER[i])\n",
    "  print(i,\"/\",len(BLER)-1)\n",
    "#Reuse the results of last time\n",
    "BLER_SymdromeDecoding = [0.33146, 0.20494, 0.10756, 0.04429, 0.0148, 0.00366, 0.0005725]\n",
    "BLER_ML = [1.9999e-01, 9.7070e-02, 3.7740e-02, 1.0370e-02, 2.0600e-03, 2.4000e-04, 1.5000e-05]\n",
    "#Plot BLER\n",
    "EbN0dBs = np.arange(start=SNR_start,stop=SNR_end+1,step=step_size)\n",
    "\n",
    "fig1 = plt.figure(1)\n",
    "plt.semilogy(EbN0dBs,BLER,color='r',marker='o',linestyle='-',label='Deep_Learning')\n",
    "plt.xlabel('$E_b/N_0(dB)$');plt.ylabel('BLER ($P_b$)')\n",
    "plt.title('Probability of block error over AWGN channel')\n",
    "plt.xlim(SNR_start,SNR_end);plt.grid(True);\n",
    "plt.legend()\n",
    "print(\"Block Error Rate:\", BLER)\n"
   ]
  }
 ],
 "metadata": {
  "accelerator": "TPU",
  "colab": {
   "provenance": []
  },
  "kernelspec": {
   "display_name": "Python 3",
   "name": "python3"
  },
  "language_info": {
   "name": "python"
  }
 },
 "nbformat": 4,
 "nbformat_minor": 0
}
