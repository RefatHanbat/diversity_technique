{
 "cells": [
  {
   "cell_type": "code",
   "execution_count": 1,
   "id": "e765efdc",
   "metadata": {},
   "outputs": [],
   "source": [
    "import numpy as np\n",
    "import matplotlib.pyplot as plt"
   ]
  },
  {
   "cell_type": "code",
   "execution_count": 94,
   "id": "57b6b4ec",
   "metadata": {},
   "outputs": [],
   "source": [
    "N = 10"
   ]
  },
  {
   "cell_type": "code",
   "execution_count": 95,
   "id": "9ec6d7bc",
   "metadata": {},
   "outputs": [],
   "source": [
    "ip = np.random.randn(N) > 0.5 \n",
    "ip = np.array(ip) "
   ]
  },
  {
   "cell_type": "code",
   "execution_count": 96,
   "id": "fc1aec44",
   "metadata": {},
   "outputs": [],
   "source": [
    "s = 2 * ip - 1        \n",
    "\n",
    "s = np.array(s) "
   ]
  },
  {
   "cell_type": "code",
   "execution_count": 97,
   "id": "86b59aea",
   "metadata": {},
   "outputs": [],
   "source": [
    "eb_no_db = np.arange(1) "
   ]
  },
  {
   "cell_type": "code",
   "execution_count": 98,
   "id": "3279c2db",
   "metadata": {},
   "outputs": [],
   "source": [
    "bit_error_rate_zero = np.zeros(len(eb_no_db)) "
   ]
  },
  {
   "cell_type": "code",
   "execution_count": 99,
   "id": "4f424de0",
   "metadata": {},
   "outputs": [],
   "source": [
    "def Zero_Forcing():\n",
    "    \n",
    "    \n",
    "    \n",
    "    for jj in range(len(eb_no_db)):\n",
    "        \n",
    "        nErr = 0\n",
    "        \n",
    "        received_bits_list = []\n",
    "        \n",
    "        \n",
    "        for ii in range(N//2):\n",
    "            \n",
    "            h11 = (1 / np.sqrt(2)) * (np.random.rand() + 1j * np.random.rand())\n",
    "            \n",
    "            h12 = (1 / np.sqrt(2)) * (np.random.rand() + 1j * np.random.rand())\n",
    "            \n",
    "            h21 = (1 / np.sqrt(2)) * (np.random.rand() + 1j * np.random.rand())\n",
    "            \n",
    "            h22 = (1 / np.sqrt(2)) * (np.random.rand() + 1j * np.random.rand())\n",
    "            \n",
    "            n1 = (1 / np.sqrt(2)) * (np.random.rand() + 1j * np.random.rand())\n",
    "            \n",
    "            n2 = (1 / np.sqrt(2)) * (np.random.rand() + 1j * np.random.rand())\n",
    "            \n",
    "            x1 = s[2 * ii]\n",
    "            \n",
    "            x2 = s[2 * ii + 1]\n",
    "            \n",
    "            H = np.array([[h11, h12], [h21, h22]])\n",
    "            \n",
    "            n = np.array([[n1], [n2]])\n",
    "            \n",
    "            x = np.array([[x1], [x2]])\n",
    "            \n",
    "            Hx = np.matmul(H, x)\n",
    "            \n",
    "            y = (1 / np.sqrt(2)) * Hx + n * (10 ** (-eb_no_db[jj] / 20))\n",
    "            \n",
    "            H_conjugate = np.conjugate(H)\n",
    "            \n",
    "            H_Hermitian = np.transpose(H_conjugate)\n",
    "            \n",
    "            H_Hermitian_H = np.matmul(H_Hermitian, H)\n",
    "            \n",
    "            rank = np.linalg.matrix_rank(H_Hermitian_H)\n",
    "            \n",
    "            invertible = True if np.all(np.isfinite(np.linalg.inv(H_Hermitian_H))) else False\n",
    "            \n",
    "            H_inverse = np.linalg.inv(H_Hermitian_H)\n",
    "            \n",
    "            W = np.matmul(H_inverse, H_Hermitian)\n",
    "            \n",
    "            x_hat = np.matmul(W, y)\n",
    "            \n",
    "            \n",
    "            \n",
    "            Px1 = np.abs(h11)**2 + np.abs(h21)**2\n",
    "            \n",
    "            Px2 = np.abs(h12)**2 + np.abs(h22)**2\n",
    "            \n",
    "            if Px1 > Px2:\n",
    "                \n",
    "                h = np.array([[h11],[h12]])\n",
    "                \n",
    "                x1_hat = x_hat[0,0]\n",
    "                \n",
    "                hx = np.dot(h,x1_hat)\n",
    "                \n",
    "                r = y - hx\n",
    "                \n",
    "                h_hermitian = np.conjugate(h)\n",
    "                \n",
    "                h_hermitian = np.transpose(h)\n",
    "                \n",
    "                h_magnitude = np.dot(h_hermitian,h)\n",
    "                \n",
    "                x2_hat = np.dot(h_hermitian,r)\n",
    "                \n",
    "                x2_hat = x2_hat / h_magnitude\n",
    "                \n",
    "                received_bits = np.real(x2_hat > 0)\n",
    "                \n",
    "                m = received_bits[0, 0]\n",
    "                \n",
    "                received_bits_list.append(m)\n",
    "                \n",
    "                print(received_bits_list)\n",
    "\n",
    "                \n",
    "            else:\n",
    "                \n",
    "                h = np.array([[h12],[h22]])\n",
    "                \n",
    "                x2_hat = x_hat[1,0]\n",
    "                \n",
    "                hx = np.dot(h,x2_hat)\n",
    "                \n",
    "                r = y - hx\n",
    "                \n",
    "                h_hermitian = np.conjugate(h)\n",
    "                \n",
    "                h_hermitian = np.transpose(h)\n",
    "                \n",
    "                h_magnitude = np.dot(h_hermitian,h)\n",
    "                \n",
    "                x1_hat = np.dot(h_hermitian,r)\n",
    "                \n",
    "                x1_hat = x1_hat / h_magnitude\n",
    "                \n",
    "                received_bits = np.real(x1_hat > 0)\n",
    "                \n",
    "                \n",
    "                n = received_bits[0, 0]\n",
    "                \n",
    "                \n",
    "                \n",
    "                received_bits_list.append(n)\n",
    "                \n",
    "                \n",
    "            \n",
    "            nErr = np.sum(np.logical_not(np.array_equal(ip, received_bits_list)))\n",
    "            \n",
    "            bit_error_rate_zero[jj] = nErr / N\n",
    "\n",
    "    \n",
    "    return bit_error_rate_zero\n",
    "\n",
    "            \n",
    "            \n",
    "            "
   ]
  },
  {
   "cell_type": "code",
   "execution_count": 100,
   "id": "f97e45e6",
   "metadata": {},
   "outputs": [
    {
     "name": "stdout",
     "output_type": "stream",
     "text": [
      "[True]\n",
      "[True, True]\n",
      "[True, True, True]\n",
      "[True, True, True, False]\n",
      "[True, True, True, False, True]\n",
      "[0.1]\n"
     ]
    },
    {
     "data": {
      "image/png": "[encoded data removed]",
      "text/plain": [
       "<Figure size 432x288 with 1 Axes>"
      ]
     },
     "metadata": {
      "needs_background": "light"
     },
     "output_type": "display_data"
    }
   ],
   "source": [
    "result_zero = Zero_Forcing()\n",
    "print(result_zero)\n",
    "plt.figure()\n",
    "plt.semilogy(eb_no_db, result_zero, 'mo-', linewidth=2, markersize=8, label='nTx=2 nRx=2 (zero_forcing)')\n",
    "plt.grid(True)\n",
    "plt.legend()\n",
    "plt.xlabel('Eb/No, dB')\n",
    "plt.ylabel('Bit Error Rate')\n",
    "plt.title('BER for BPSK modulation with zero_forcing_algorithm')\n",
    "plt.show()"
   ]
  },
  {
   "cell_type": "code",
   "execution_count": null,
   "id": "26402f5a",
   "metadata": {},
   "outputs": [],
   "source": []
  },
  {
   "cell_type": "code",
   "execution_count": null,
   "id": "75452880",
   "metadata": {},
   "outputs": [],
   "source": []
  },
  {
   "cell_type": "code",
   "execution_count": null,
   "id": "baacd60d",
   "metadata": {},
   "outputs": [],
   "source": []
  },
  {
   "cell_type": "code",
   "execution_count": null,
   "id": "fd05211f",
   "metadata": {},
   "outputs": [],
   "source": []
  }
 ],
 "metadata": {
  "kernelspec": {
   "display_name": "Python 3 (ipykernel)",
   "language": "python",
   "name": "python3"
  },
  "language_info": {
   "codemirror_mode": {
    "name": "ipython",
    "version": 3
   },
   "file_extension": ".py",
   "mimetype": "text/x-python",
   "name": "python",
   "nbconvert_exporter": "python",
   "pygments_lexer": "ipython3",
   "version": "3.9.12"
  }
 },
 "nbformat": 4,
 "nbformat_minor": 5
}
