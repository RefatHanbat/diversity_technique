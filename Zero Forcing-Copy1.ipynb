{
 "cells": [
  {
   "cell_type": "code",
   "execution_count": 30,
   "id": "a34089af",
   "metadata": {},
   "outputs": [],
   "source": [
    "import numpy as np\n",
    "import matplotlib.pyplot as plt"
   ]
  },
  {
   "cell_type": "code",
   "execution_count": 31,
   "id": "b5f9e7cd",
   "metadata": {},
   "outputs": [],
   "source": [
    "N = 50000"
   ]
  },
  {
   "cell_type": "code",
   "execution_count": 32,
   "id": "b3670131",
   "metadata": {},
   "outputs": [],
   "source": [
    "ip = np.random.randn(N) > 0.5 \n",
    "ip = np.array(ip) "
   ]
  },
  {
   "cell_type": "code",
   "execution_count": 33,
   "id": "d793f21c",
   "metadata": {},
   "outputs": [],
   "source": [
    "s = 2 * ip - 1        \n",
    "\n",
    "s = np.array(s) \n"
   ]
  },
  {
   "cell_type": "code",
   "execution_count": 34,
   "id": "ed6e1cdc",
   "metadata": {},
   "outputs": [],
   "source": [
    "eb_no_db = np.arange(5,30) "
   ]
  },
  {
   "cell_type": "code",
   "execution_count": 35,
   "id": "dd0d1dcd",
   "metadata": {},
   "outputs": [],
   "source": [
    "bit_error_rate_zero = np.zeros(len(eb_no_db)) \n",
    "bit_error_rate_MMSE = np.zeros(len(eb_no_db))"
   ]
  },
  {
   "cell_type": "code",
   "execution_count": 36,
   "id": "92b43c6c",
   "metadata": {},
   "outputs": [],
   "source": [
    "def Zero_Forcing(): \n",
    "\n",
    "    for jj in range(len(eb_no_db)):  \n",
    "\n",
    "        nErr = 0 \n",
    "        \n",
    "        received_bits_list = [] \n",
    "\n",
    "        for ii in range(N//2): \n",
    "            \n",
    "            h11 = (1 / np.sqrt(2)) * (np.random.rand() + 1j * np.random.rand()) \n",
    "            \n",
    "            h12 = (1 / np.sqrt(2)) * (np.random.rand() + 1j * np.random.rand())\n",
    "            \n",
    "            h21 = (1 / np.sqrt(2)) * (np.random.rand() + 1j * np.random.rand())\n",
    "            \n",
    "            h22 = (1 / np.sqrt(2)) * (np.random.rand() + 1j * np.random.rand())\n",
    "            \n",
    "            n1 = (1 / np.sqrt(2)) * (np.random.rand() + 1j * np.random.rand()) \n",
    "            \n",
    "            n2 = (1 / np.sqrt(2)) * (np.random.rand() + 1j * np.random.rand()) \n",
    "            \n",
    "            x1 = s[2 * ii] \n",
    "            \n",
    "            x2 = s[2 * ii + 1] \n",
    "            \n",
    "\n",
    "            H = np.array([[h11, h12], [h21, h22]]) \n",
    "            \n",
    "            n = np.array([[n1], [n2]]) \n",
    "            \n",
    "            x = np.array([[x1], [x2]])  \n",
    "\n",
    "            Hx = np.matmul(H, x)    \n",
    "            \n",
    "            \n",
    "            y = (1 / np.sqrt(2)) * Hx + n * (10 ** (-eb_no_db[jj] / 20)) \n",
    "            \n",
    "           \n",
    "            # Forming the Zero Forcing equalization matrix W = inv(H^H*H)*H^H\n",
    "           \n",
    "            \n",
    "            H_conjugate = np.conjugate(H) \n",
    "            \n",
    "            H_Hermitian = np.transpose(H_conjugate)\n",
    "    \n",
    "            H_Hermitian_H = np.matmul(H_Hermitian,H) \n",
    "            \n",
    "            H_inverse = np.linalg.inv(H_Hermitian_H) \n",
    "            \n",
    "            W = np.matmul(H_inverse, H_Hermitian)\n",
    "            \n",
    "            x_hat = np.matmul(W, y)\n",
    "            \n",
    "            received_bits = np.real(x_hat > 0)\n",
    "            \n",
    "#             received_bits_list.extend(received_bits.ravel())\n",
    " \n",
    "            m = received_bits[0,0] \n",
    "                                   \n",
    "            n = received_bits[1,0]\n",
    "            received_bits_list.append(m) \n",
    "            received_bits_list.append(n)\n",
    "        \n",
    "        nErr = np.sum(ip != received_bits_list) \n",
    "        \n",
    "        bit_error_rate_zero[jj] = nErr / N \n",
    "        \n",
    "        \n",
    "        \n",
    "        \n",
    "\n",
    "    return  bit_error_rate_zero\n",
    "\n",
    "\n",
    "\n",
    "#     cnt=0\n",
    "#     for x in range(0,len(result),2):        \n",
    "#             if result[x] == ip[x] and result[x+1] == ip[x+1]:\n",
    "#                 continue\n",
    "#             cnt+=1\n",
    "            \n",
    "#     print(\"total error:\",cnt)\n",
    "    \n",
    "    "
   ]
  },
  {
   "cell_type": "code",
   "execution_count": 37,
   "id": "2846ed11",
   "metadata": {},
   "outputs": [],
   "source": [
    "def MMSE(): \n",
    "\n",
    "    for jj in range(len(eb_no_db)):  \n",
    "\n",
    "        nErr = 0 \n",
    "        \n",
    "        received_bits_list = [] \n",
    "\n",
    "        for ii in range(N//2): \n",
    "            \n",
    "            h11 = (1 / np.sqrt(2)) * (np.random.rand() + 1j * np.random.rand()) \n",
    "            \n",
    "            h12 = (1 / np.sqrt(2)) * (np.random.rand() + 1j * np.random.rand())\n",
    "            \n",
    "            h21 = (1 / np.sqrt(2)) * (np.random.rand() + 1j * np.random.rand())\n",
    "            \n",
    "            h22 = (1 / np.sqrt(2)) * (np.random.rand() + 1j * np.random.rand())\n",
    "            \n",
    "            n1 = (1 / np.sqrt(2)) * (np.random.rand() + 1j * np.random.rand()) \n",
    "            \n",
    "            n2 = (1 / np.sqrt(2)) * (np.random.rand() + 1j * np.random.rand()) \n",
    "            \n",
    "            x1 = s[2 * ii] \n",
    "            \n",
    "            x2 = s[2 * ii + 1] \n",
    "            \n",
    "\n",
    "            H = np.array([[h11, h12], [h21, h22]]) \n",
    "            \n",
    "            n = np.array([[n1], [n2]]) \n",
    "            \n",
    "            x = np.array([[x1], [x2]])  \n",
    "\n",
    "            Hx = np.matmul(H, x)    \n",
    "            \n",
    "            \n",
    "            y = (1 / np.sqrt(2)) * Hx + n * (10 ** (-eb_no_db[jj] / 20)) \n",
    "            \n",
    "           \n",
    "            # Forming the MMSE equalization matrix W = inv(H^H*H+(1/snr)I)*H^H\n",
    "           \n",
    "            \n",
    "            H_conjugate = np.conjugate(H) \n",
    "            \n",
    "            H_Hermitian = np.transpose(H_conjugate)\n",
    "    \n",
    "            H_Hermitian_H = np.matmul(H_Hermitian,H)\n",
    "            \n",
    "            identity_matrix = np.eye(2)\n",
    "            \n",
    "            snr_inverse = (1 / (10 ** (eb_no_db[jj] / 10)))\n",
    "            \n",
    "            H_Hermitian_H = H_Hermitian_H + snr_inverse * identity_matrix\n",
    "                               \n",
    "\n",
    "            H_inverse = np.linalg.inv(H_Hermitian_H) \n",
    "            \n",
    "            W = np.matmul(H_inverse, H_Hermitian)\n",
    "            \n",
    "            x_hat = np.matmul(W, y)\n",
    "            \n",
    "            received_bits = np.real(x_hat > 0)\n",
    "            \n",
    "#             received_bits_list.extend(received_bits.ravel())\n",
    " \n",
    "            m = received_bits[0,0] \n",
    "                                   \n",
    "            n = received_bits[1,0]\n",
    "            \n",
    "            received_bits_list.append(m) \n",
    "            received_bits_list.append(n)\n",
    "        \n",
    "        nErr = np.sum(ip != received_bits_list) \n",
    "        \n",
    "        bit_error_rate_MMSE[jj] = nErr / N \n",
    "        \n",
    "        \n",
    "        \n",
    "        \n",
    "\n",
    "    return bit_error_rate_MMSE"
   ]
  },
  {
   "cell_type": "code",
   "execution_count": null,
   "id": "79a986a4",
   "metadata": {},
   "outputs": [],
   "source": [
    "\n"
   ]
  },
  {
   "cell_type": "code",
   "execution_count": 38,
   "id": "613946d5",
   "metadata": {},
   "outputs": [
    {
     "name": "stdout",
     "output_type": "stream",
     "text": [
      "[0.132 0.084 0.09  0.077 0.057 0.05  0.045 0.03  0.025 0.018 0.019 0.014\n",
      " 0.011 0.01  0.003 0.006 0.007 0.006 0.001 0.002 0.001 0.001 0.    0.001\n",
      " 0.001]\n",
      "[0.135 0.1   0.079 0.078 0.066 0.04  0.033 0.023 0.025 0.013 0.011 0.007\n",
      " 0.007 0.006 0.013 0.001 0.001 0.001 0.002 0.    0.001 0.    0.    0.001\n",
      " 0.001]\n"
     ]
    },
    {
     "data": {
      "image/png": "[encoded data removed]",
      "text/plain": [
       "<Figure size 432x288 with 1 Axes>"
      ]
     },
     "metadata": {
      "needs_background": "light"
     },
     "output_type": "display_data"
    }
   ],
   "source": [
    "result_zero = Zero_Forcing()\n",
    "result_MMSE = MMSE()\n",
    "\n",
    "print(result_zero)\n",
    "\n",
    "print(result_MMSE)\n",
    "\n",
    "plt.figure()\n",
    "plt.semilogy(eb_no_db, result_zero, 'mo-', linewidth=2, markersize=4, label='nTx=2 nRx=2 (zero_forcing)')\n",
    "plt.semilogy(eb_no_db, result_MMSE, 'r*-.', linewidth=2, markersize=4, label='nTx=2 nRx=2 (MMSE)')\n",
    "\n",
    "# plt.axis([0, 30, 1e-5, 0.1])\n",
    "plt.grid(True)\n",
    "plt.legend()\n",
    "plt.xlabel('Eb/No, dB')\n",
    "plt.ylabel('Bit Error Rate')\n",
    "plt.title('BER for BPSK modulation with zero_forcing_algorithm')\n",
    "plt.show()"
   ]
  },
  {
   "cell_type": "code",
   "execution_count": null,
   "id": "1b221536",
   "metadata": {},
   "outputs": [],
   "source": []
  },
  {
   "cell_type": "code",
   "execution_count": null,
   "id": "d49e4a9e",
   "metadata": {},
   "outputs": [],
   "source": []
  }
 ],
 "metadata": {
  "kernelspec": {
   "display_name": "Python 3 (ipykernel)",
   "language": "python",
   "name": "python3"
  },
  "language_info": {
   "codemirror_mode": {
    "name": "ipython",
    "version": 3
   },
   "file_extension": ".py",
   "mimetype": "text/x-python",
   "name": "python",
   "nbconvert_exporter": "python",
   "pygments_lexer": "ipython3",
   "version": "3.9.12"
  }
 },
 "nbformat": 4,
 "nbformat_minor": 5
}
