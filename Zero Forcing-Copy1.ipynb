{
 "cells": [
  {
   "cell_type": "code",
   "execution_count": 1,
   "id": "a34089af",
   "metadata": {},
   "outputs": [],
   "source": [
    "import numpy as np\n",
    "import matplotlib.pyplot as plt"
   ]
  },
  {
   "cell_type": "code",
   "execution_count": 2,
   "id": "b5f9e7cd",
   "metadata": {},
   "outputs": [],
   "source": [
    "N = 10**6"
   ]
  },
  {
   "cell_type": "code",
   "execution_count": 3,
   "id": "b3670131",
   "metadata": {},
   "outputs": [],
   "source": [
    "ip = np.random.randn(N) > 0.5\n",
    "ip = np.array(ip) "
   ]
  },
  {
   "cell_type": "code",
   "execution_count": 4,
   "id": "d793f21c",
   "metadata": {},
   "outputs": [],
   "source": [
    "s = 2 * ip - 1            \n",
    "\n",
    "s = np.array(s)"
   ]
  },
  {
   "cell_type": "code",
   "execution_count": 5,
   "id": "ed6e1cdc",
   "metadata": {},
   "outputs": [],
   "source": [
    "eb_no_db = np.arange(5,25) "
   ]
  },
  {
   "cell_type": "code",
   "execution_count": 6,
   "id": "dd0d1dcd",
   "metadata": {},
   "outputs": [],
   "source": [
    "bit_error_rate = np.zeros(len(eb_no_db))"
   ]
  },
  {
   "cell_type": "code",
   "execution_count": 7,
   "id": "92b43c6c",
   "metadata": {},
   "outputs": [],
   "source": [
    "def Zero_Forcing():\n",
    "\n",
    "    for jj in range(len(eb_no_db)):\n",
    "\n",
    "        nErr = 0\n",
    "        \n",
    "        received_bits_list = []\n",
    "\n",
    "        for ii in range(N // 2):\n",
    "            \n",
    "            h11 = (1 / np.sqrt(2)) * (np.random.rand() + 1j * np.random.rand())\n",
    "            \n",
    "            h12 = (1 / np.sqrt(2)) * (np.random.rand() + 1j * np.random.rand())\n",
    "            \n",
    "            h21 = (1 / np.sqrt(2)) * (np.random.rand() + 1j * np.random.rand())\n",
    "            \n",
    "            h22 = (1 / np.sqrt(2)) * (np.random.rand() + 1j * np.random.rand())\n",
    "            \n",
    "            n1 = (1 / np.sqrt(2)) * (np.random.rand() + 1j * np.random.rand())\n",
    "            \n",
    "            n2 = (1 / np.sqrt(2)) * (np.random.rand() + 1j * np.random.rand())\n",
    "            \n",
    "            x1 = s[2 * ii]\n",
    "            \n",
    "            x2 = s[2 * ii + 1]\n",
    "\n",
    "            H = np.array([[h11, h12], [h21, h22]])\n",
    "            \n",
    "            n = np.array([[n1], [n2]])\n",
    "            \n",
    "            x = np.array([[x1], [x2]])\n",
    "\n",
    "            Hx = np.dot(H, x)\n",
    "            \n",
    "            y = Hx + n * 10 ** (-eb_no_db[jj] / 20)\n",
    "           \n",
    "            # Forming the Zero Forcing equalization matrix W = inv(H^H*H)*H^H\n",
    "            \n",
    "            H_Hermitian = np.conj(H.T) #H^H\n",
    "            H_Hermitian_H = np.dot(H_Hermitian, H) #H^H*H\n",
    "#             condition_number = np.linalg.cond(H_Hermitian_H)\n",
    "            H_Hermitian_H_inverse = np.linalg.pinv(H_Hermitian_H) #(H^H*H)^-1\n",
    "            W = np.dot(H_Hermitian_H_inverse, H_Hermitian) #(H^H*H)^-1 * H^H\n",
    "            x_hat = np.dot(W, y)\n",
    "            received_bits = np.real(x_hat > 0)\n",
    "            x = received_bits[0][0]\n",
    "            z = received_bits[1][0]\n",
    "\n",
    "            received_bits_list.append(x)\n",
    "            received_bits_list.append(z)\n",
    "\n",
    "        nErr = np.sum(ip != received_bits_list)\n",
    "        bit_error_rate[jj] = nErr / N\n",
    "        \n",
    "        \n",
    "\n",
    "    return bit_error_rate\n",
    "\n",
    "\n",
    "\n",
    "#     cnt=0\n",
    "#     for x in range(0,len(result),2):        \n",
    "#             if result[x] == ip[x] and result[x+1] == ip[x+1]:\n",
    "#                 continue\n",
    "#             cnt+=1\n",
    "            \n",
    "#     print(\"total error:\",cnt)\n",
    "    \n",
    "    "
   ]
  },
  {
   "cell_type": "code",
   "execution_count": 8,
   "id": "e1ed8696",
   "metadata": {},
   "outputs": [
    {
     "name": "stdout",
     "output_type": "stream",
     "text": [
      "[0.069204 0.055363 0.044167 0.035132 0.028345 0.022379 0.017698 0.014171\n",
      " 0.011559 0.008918 0.007203 0.0058   0.004511 0.003519 0.002834 0.002342\n",
      " 0.00174  0.001377 0.001131 0.000954]\n"
     ]
    },
    {
     "data": {
      "image/png": "[encoded data removed]",
      "text/plain": [
       "<Figure size 432x288 with 1 Axes>"
      ]
     },
     "metadata": {
      "needs_background": "light"
     },
     "output_type": "display_data"
    }
   ],
   "source": [
    "result = Zero_Forcing()\n",
    "print(result)\n",
    "plt.figure()\n",
    "plt.plot(eb_no_db, result, 'mo-', linewidth=2, label='nTx=2 nRx=2 (zero_forcing)')\n",
    "plt.grid(True)\n",
    "plt.legend()\n",
    "\n",
    "plt.xlabel('Eb/No, dB')\n",
    "plt.ylabel('Bit Error Rate')\n",
    "plt.title('BER for BPSK modulation with zero_forcing_algorithm')\n",
    "plt.show()"
   ]
  },
  {
   "cell_type": "code",
   "execution_count": null,
   "id": "32b54e7b",
   "metadata": {},
   "outputs": [],
   "source": []
  },
  {
   "cell_type": "code",
   "execution_count": null,
   "id": "f509b0a3",
   "metadata": {},
   "outputs": [],
   "source": []
  }
 ],
 "metadata": {
  "kernelspec": {
   "display_name": "Python 3 (ipykernel)",
   "language": "python",
   "name": "python3"
  },
  "language_info": {
   "codemirror_mode": {
    "name": "ipython",
    "version": 3
   },
   "file_extension": ".py",
   "mimetype": "text/x-python",
   "name": "python",
   "nbconvert_exporter": "python",
   "pygments_lexer": "ipython3",
   "version": "3.9.12"
  }
 },
 "nbformat": 4,
 "nbformat_minor": 5
}
